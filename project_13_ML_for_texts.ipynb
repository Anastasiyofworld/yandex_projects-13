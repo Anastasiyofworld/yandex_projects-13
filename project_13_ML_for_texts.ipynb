{
  "cells": [
    {
      "cell_type": "markdown",
      "metadata": {
        "id": "view-in-github",
        "colab_type": "text"
      },
      "source": [
        "<a href=\"https://colab.research.google.com/github/Anastasiyofworld/yandex_projects_13/blob/main/project_13_ML_for_texts.ipynb\" target=\"_parent\"><img src=\"https://colab.research.google.com/assets/colab-badge.svg\" alt=\"Open In Colab\"/></a>"
      ]
    },
    {
      "cell_type": "markdown",
      "metadata": {
        "id": "8IAl70tc4WK-"
      },
      "source": [
        "### Комментарии\n",
        "<div class=\"alert alert-info\">\n",
        "<b>Комментарий студента 1 итерация</b>\n",
        "    \n",
        "Привет, уважаемый ревьюер!\n",
        "\n",
        "Я, как могла, пыталась сократить время выполнения тетради, оставив в `GridSearch` только уже подобранные за кучу времени параметры, а вот как сократить время лемматизации не придумала. \n",
        "\n",
        "Для себя выгрузила уже лемматизированный `.csv` файл и работала с ним, подбирая гиперпараметры моделей. Но как отправить тебе не знаю, кажется, при получении иногда у ревьюеров перезапускается тетрадка (иначе как еще объяснить, что однажды я посылала отработавшую тетрадь, а у ревьюера она отработала только наполовину и вернулась обратно?), не уверена, что файл подтянется и из моего Гугл-диска, ведь на сервере Яндекса они подтягиваются со спец. папки с файлами. \n",
        "\n",
        "Будет круто, если расскажешь, как обходить такое и не тратить время ревьюеров)\n",
        "\n",
        "А пока добавляю ссылку на мой гитхабчик, по которой должно открыться сразу красивенько, если эта тетрадь закапризничает.\n",
        "\n",
        "[ссылка на Гитхабчик](https://nbviewer.org/github/Anastasiyofworld/yandex_projects_13/blob/main/project_13_ML_for_texts.ipynb)\n",
        "\n",
        "</div>"
      ]
    },
    {
      "cell_type": "markdown",
      "metadata": {
        "id": "fdl4_LCN2FZd"
      },
      "source": [
        "<div style=\"border-radius: 15px; border: 3px solid purple; padding: 15px;\">\n",
        "Привет, Анастасия!\n",
        "    \n",
        "<br/>    \n",
        "Меня зовут Сергей Комаров, я буду проверять твой проект по теме «Машинное обучение в текстах», постараемся вместе сделать его ещё лучше. Предлагаю обращаться к друг другу на «ты», если для тебя это будет комфортно. Иначе дай знать, и мы сразу перейдём на «вы».\n",
        "    \n",
        "<details>\n",
        "\t<summary><u>Инструкция по организационным мометнам (кликабельно)</u></summary>\n",
        "Чтобы тебе было легче найти мои комментарии в тексте, они выделены <font color='green'>зеленым</font>, <font color='gold'>жёлтым</font> и <font color='red'>красным</font> цветами, в зависимости от ситуации:\n",
        "\n",
        "<br/>\n",
        "\n",
        "<div class=\"alert alert-success\">\n",
        "<h2> Комментарий ревьюера <a class=\"tocSkip\"> </h2>\n",
        "<hr>\n",
        "<b>Верно!👍:</b> Так обозначены комментарии к полностью корректным решениям.\n",
        "</div>\n",
        "\n",
        "<br/>\n",
        "\n",
        "<div class=\"alert alert-warning\">\n",
        "    <h2> Комментарий ревьюера <a class=\"tocSkip\"> </h2>\n",
        "<hr>    \n",
        "<b>Совет💡:</b> Так будут обозначены рекомендации, следуя которым можно улучшить решение.\n",
        "</div>\n",
        "\n",
        "\n",
        "<br/>\n",
        "\n",
        "<div class=\"alert alert-block alert-danger\">\n",
        "<h2> Комментарий ревьюера <a class=\"tocSkip\"></h2>\n",
        "<hr>  \n",
        "<b>Обрати внимание🤔:</b> Так будут обозначены важные замечания, требующие доработки проекта. Без их устранения проект не может быть принят. \n",
        "</div>\n",
        "\n",
        "<br/>\n",
        "    \n",
        "Попрошу тебя придерживаться некоторых несложных правил, **всё это поможет нам работать над проектом оперативнее и с большей пользой для тебя**:\n",
        "\n",
        "Если ты вносишь какие-то правки в проект по результатам ревью, отвечаешь на мой комментарий или задаёшь вопрос, обозначай это в тексте любым способом, который тебе понравится, главное, чтобы твои комментарии визуально выделялись и при этом были хорошо отличимы от моих. Например, можешь делать это так:\n",
        "    \n",
        "<br/>\n",
        "    \n",
        "<div class=\"alert alert-info\">\n",
        "<h2> Комментарий студента<a class=\"tocSkip\"></h2>\n",
        "<hr>  \n",
        "    Здесь мог<s>ла быть Ваша реклама</s> быть твой комментарий :)\n",
        "</div>\n",
        "    \n",
        "<br/>\n",
        "    \n",
        "Пожалуйста, не удаляй и не перемещай ячейки с моими комментариями, а также не меняй их содержание;\n",
        "\n",
        "<br/>\n",
        "\n",
        "Помни, что у нас общая цель - подготовить тебя к успешной работе специалистом в науке о данных :)\n",
        "    \n",
        "<br/>\n",
        "    \n",
        "</details>    \n",
        "    </br>\n",
        "<hr>\n",
        "Спасибо за проявленную заботу в плане удобства проверки :) Молодец, что активно используешь GitHub :)\n",
        "\n",
        "По твоему вопросу. С GridSearch(CV)'ем хорошая практика, можно ещё скрин вставить с того момента, где подбираешь параметры первично, может по тюнингу тебе что можно подсказать в таком случае :)\n",
        "    \n",
        "С лемматизацией — да... Тобой выбрано очень хорошее решение, как-то раз у меня студент отдельно векторизированные данные после BERT'а выгружал в файл, очень удобно было! Конечно, к твоему Google Drive я подключиться не смогу. Я вообще на нём мало чего храню, иногда только для Colaba подгружаю файлы, ~~так как на Яндекс.Диске у меня существенно больше места для хранения~~, поэтому не могу точно сказать, но, вроде бы, можно разместить файл по ссылке в таком виде и его можно ловко считать <code>'https://drive.google.com/uc?id=ТУТБЫЛИДЕНТИФИКАТОР:)&export=download'</code>, тот студент делал так как раз.\n",
        "<hr>\n",
        "<font color='purple' style='font-size:20px; font-weight:bold'>Резюме по работе</font>\n",
        "    \n",
        "* Работа выполнена здорово, мне очень интересно было тебя проверять и читать её. Молодец, хороший результат получился в итоге. Сейчас стоит только убрать кодирование текстов в юникод, чтобы я мог зачесть работу, в остальном — очень хорошо, я в восторге. Больше всего понравился твой очень внимательный подход к деталям :)\n",
        "* Прошу тебя убрать кодирование в юникод (после этого я буду полностью готов принять проект), заодно будет возможность задать ещё какие-то вопросы/внести правки и получить по ним обратную связь (можно поэксперементировать с порогом классификации, попробовать собрать ансамбль :) только по твоему большому желанию, не наставиваю).\n",
        "</div>"
      ]
    },
    {
      "cell_type": "markdown",
      "metadata": {
        "id": "N4q3SxIF2FZi"
      },
      "source": [
        "### Комментарии\n",
        "<div class=\"alert alert-info\">\n",
        "<b>Комментарий студента 2 итерация</b>\n",
        "    \n",
        "Привет, Сергей! Очень приятно было получить твое ревью и читать твои комментарии, и спасибо огромное за интересную подборку материалов!!! :)\n",
        "\n",
        "    Ниже исправляю работу по твоим советам.\n",
        "\n",
        "</div>"
      ]
    },
    {
      "cell_type": "markdown",
      "metadata": {
        "id": "3aVB9HlfCTbq"
      },
      "source": [
        "# Проект для «Викишоп»"
      ]
    },
    {
      "cell_type": "markdown",
      "metadata": {
        "id": "UppYzUqDCTbs"
      },
      "source": [
        "Интернет-магазин «Викишоп» запускает новый сервис. Теперь пользователи могут редактировать и дополнять описания товаров, как в вики-сообществах. То есть клиенты предлагают свои правки и комментируют изменения других. Магазину нужен инструмент, который будет искать токсичные комментарии и отправлять их на модерацию. \n",
        "\n",
        "**Наша цель** - обучить модель классифицировать комментарии на позитивные и негативные. \n",
        "\n",
        "В нашем распоряжении **набор данных с разметкой о токсичности правок**.\n",
        "\n",
        "У нас есть строгое указание к метрике качества и ее значению:  `F1` **не меньше 0.75**. \n",
        "\n",
        "**Этапы выполнения проекта**\n",
        "\n",
        "1. Загрузить и подготовить данные.\n",
        "2. Обучить разные модели. \n",
        "3. Сделать выводы.\n",
        "\n",
        "**Описание данных**\n",
        "\n",
        "Данные находятся в файле `toxic_comments.csv`. Столбец *text* в нём содержит текст комментария, а *toxic* — целевой признак."
      ]
    },
    {
      "cell_type": "markdown",
      "metadata": {
        "id": "ztHPy8Nk2FZl"
      },
      "source": [
        "<div class=\"alert alert-success\">\n",
        "<h2> Комментарий ревьюера <a class=\"tocSkip\"> </h2>\n",
        "<hr>\n",
        "<b>Верно!👍:</b> Отличное введение, очень подробно и есть всё что нужно, ни убавить, ни добавить, молодец!\n",
        "</div>"
      ]
    },
    {
      "cell_type": "markdown",
      "metadata": {
        "id": "wO9EWerC2FZm"
      },
      "source": [
        "<div class=\"alert alert-warning\">\n",
        "    <h2> Комментарий ревьюера <a class=\"tocSkip\"> </h2>\n",
        "<hr>    \n",
        "<b>Совет💡:</b> Круто, что используешь интерактивное оглавление-план. Всегда советую своим студентам помещать его сразу после описания задачи: так знакомство с ним будет происходить уже в контексте задачи.\n",
        "</div></div>"
      ]
    },
    {
      "cell_type": "markdown",
      "metadata": {
        "id": "Fw8rkNGL2FZn"
      },
      "source": [
        "### Комментарии\n",
        "<div class=\"alert alert-info\">\n",
        "<b>Комментарий студента 2 итерация</b>\n",
        "\n",
        "Переместила оглавление.\n",
        "</div>"
      ]
    },
    {
      "cell_type": "markdown",
      "metadata": {
        "id": "_Adp80lABOtt",
        "toc": true
      },
      "source": [
        "<h1>Содержание<span class=\"tocSkip\"></span></h1>\n",
        "<div class=\"toc\"><ul class=\"toc-item\"><li><ul class=\"toc-item\"><li><span><a href=\"#Комментарии\" data-toc-modified-id=\"Комментарии-0.1\"><span class=\"toc-item-num\">0.1&nbsp;&nbsp;</span>Комментарии</a></span></li><li><span><a href=\"#Комментарии\" data-toc-modified-id=\"Комментарии-0.2\"><span class=\"toc-item-num\">0.2&nbsp;&nbsp;</span>Комментарии</a></span></li><li><span><a href=\"#Комментарии\" data-toc-modified-id=\"Комментарии-0.3\"><span class=\"toc-item-num\">0.3&nbsp;&nbsp;</span>Комментарии</a></span></li></ul></li><li><span><a href=\"#Подготовка\" data-toc-modified-id=\"Подготовка-1\"><span class=\"toc-item-num\">1&nbsp;&nbsp;</span>Подготовка</a></span><ul class=\"toc-item\"><li><ul class=\"toc-item\"><li><span><a href=\"#Комментарии\" data-toc-modified-id=\"Комментарии-1.0.1\"><span class=\"toc-item-num\">1.0.1&nbsp;&nbsp;</span>Комментарии</a></span></li><li><span><a href=\"#Комментарии\" data-toc-modified-id=\"Комментарии-1.0.2\"><span class=\"toc-item-num\">1.0.2&nbsp;&nbsp;</span>Комментарии</a></span></li><li><span><a href=\"#Комментарии\" data-toc-modified-id=\"Комментарии-1.0.3\"><span class=\"toc-item-num\">1.0.3&nbsp;&nbsp;</span>Комментарии</a></span></li></ul></li><li><span><a href=\"#Лемматизация\" data-toc-modified-id=\"Лемматизация-1.1\"><span class=\"toc-item-num\">1.1&nbsp;&nbsp;</span>Лемматизация</a></span><ul class=\"toc-item\"><li><span><a href=\"#Комментарии\" data-toc-modified-id=\"Комментарии-1.1.1\"><span class=\"toc-item-num\">1.1.1&nbsp;&nbsp;</span>Комментарии</a></span></li><li><span><a href=\"#Комментарии\" data-toc-modified-id=\"Комментарии-1.1.2\"><span class=\"toc-item-num\">1.1.2&nbsp;&nbsp;</span>Комментарии</a></span></li><li><span><a href=\"#Комментарии\" data-toc-modified-id=\"Комментарии-1.1.3\"><span class=\"toc-item-num\">1.1.3&nbsp;&nbsp;</span>Комментарии</a></span></li></ul></li><li><span><a href=\"#Масштабирование-данных-с-помощью-TF-IDF.\" data-toc-modified-id=\"Масштабирование-данных-с-помощью-TF-IDF.-1.2\"><span class=\"toc-item-num\">1.2&nbsp;&nbsp;</span>Масштабирование данных с помощью TF-IDF.</a></span></li></ul></li><li><span><a href=\"#Обучение\" data-toc-modified-id=\"Обучение-2\"><span class=\"toc-item-num\">2&nbsp;&nbsp;</span>Обучение</a></span><ul class=\"toc-item\"><li><span><a href=\"#Качество-прогноза\" data-toc-modified-id=\"Качество-прогноза-2.1\"><span class=\"toc-item-num\">2.1&nbsp;&nbsp;</span>Качество прогноза</a></span><ul class=\"toc-item\"><li><span><a href=\"#Комментарии\" data-toc-modified-id=\"Комментарии-2.1.1\"><span class=\"toc-item-num\">2.1.1&nbsp;&nbsp;</span>Комментарии</a></span></li></ul></li><li><span><a href=\"#Модель-логистической-регрессии\" data-toc-modified-id=\"Модель-логистической-регрессии-2.2\"><span class=\"toc-item-num\">2.2&nbsp;&nbsp;</span>Модель логистической регрессии</a></span><ul class=\"toc-item\"><li><span><a href=\"#Комментарии\" data-toc-modified-id=\"Комментарии-2.2.1\"><span class=\"toc-item-num\">2.2.1&nbsp;&nbsp;</span>Комментарии</a></span></li><li><span><a href=\"#Комментарии\" data-toc-modified-id=\"Комментарии-2.2.2\"><span class=\"toc-item-num\">2.2.2&nbsp;&nbsp;</span>Комментарии</a></span></li></ul></li><li><span><a href=\"#Модель-линейных-опорных-векторов\" data-toc-modified-id=\"Модель-линейных-опорных-векторов-2.3\"><span class=\"toc-item-num\">2.3&nbsp;&nbsp;</span>Модель линейных опорных векторов</a></span><ul class=\"toc-item\"><li><span><a href=\"#Комментарии\" data-toc-modified-id=\"Комментарии-2.3.1\"><span class=\"toc-item-num\">2.3.1&nbsp;&nbsp;</span>Комментарии</a></span></li><li><span><a href=\"#Комментарии\" data-toc-modified-id=\"Комментарии-2.3.2\"><span class=\"toc-item-num\">2.3.2&nbsp;&nbsp;</span>Комментарии</a></span></li></ul></li><li><span><a href=\"#Подбор-порога\" data-toc-modified-id=\"Подбор-порога-2.4\"><span class=\"toc-item-num\">2.4&nbsp;&nbsp;</span>Подбор порога</a></span><ul class=\"toc-item\"><li><span><a href=\"#Комментарии\" data-toc-modified-id=\"Комментарии-2.4.1\"><span class=\"toc-item-num\">2.4.1&nbsp;&nbsp;</span>Комментарии</a></span></li></ul></li><li><span><a href=\"#Ансамбль-смешивания\" data-toc-modified-id=\"Ансамбль-смешивания-2.5\"><span class=\"toc-item-num\">2.5&nbsp;&nbsp;</span>Ансамбль смешивания</a></span><ul class=\"toc-item\"><li><span><a href=\"#Комментарии\" data-toc-modified-id=\"Комментарии-2.5.1\"><span class=\"toc-item-num\">2.5.1&nbsp;&nbsp;</span>Комментарии</a></span></li></ul></li></ul></li><li><span><a href=\"#Тестирование\" data-toc-modified-id=\"Тестирование-3\"><span class=\"toc-item-num\">3&nbsp;&nbsp;</span>Тестирование</a></span><ul class=\"toc-item\"><li><ul class=\"toc-item\"><li><span><a href=\"#Комментарии\" data-toc-modified-id=\"Комментарии-3.0.1\"><span class=\"toc-item-num\">3.0.1&nbsp;&nbsp;</span>Комментарии</a></span></li></ul></li></ul></li><li><span><a href=\"#Выводы\" data-toc-modified-id=\"Выводы-4\"><span class=\"toc-item-num\">4&nbsp;&nbsp;</span>Выводы</a></span><ul class=\"toc-item\"><li><ul class=\"toc-item\"><li><span><a href=\"#Комментарии\" data-toc-modified-id=\"Комментарии-4.0.1\"><span class=\"toc-item-num\">4.0.1&nbsp;&nbsp;</span>Комментарии</a></span></li><li><span><a href=\"#Комментарии\" data-toc-modified-id=\"Комментарии-4.0.2\"><span class=\"toc-item-num\">4.0.2&nbsp;&nbsp;</span>Комментарии</a></span></li></ul></li><li><span><a href=\"#Комментарии\" data-toc-modified-id=\"Комментарии-4.1\"><span class=\"toc-item-num\">4.1&nbsp;&nbsp;</span>Комментарии</a></span></li><li><span><a href=\"#Комментарии\" data-toc-modified-id=\"Комментарии-4.2\"><span class=\"toc-item-num\">4.2&nbsp;&nbsp;</span>Комментарии</a></span></li></ul></li><li><span><a href=\"#Чек-лист-проверки\" data-toc-modified-id=\"Чек-лист-проверки-5\"><span class=\"toc-item-num\">5&nbsp;&nbsp;</span>Чек-лист проверки</a></span></li></ul></div>"
      ]
    },
    {
      "cell_type": "markdown",
      "metadata": {
        "id": "Tw9K-ExZCTbu"
      },
      "source": [
        "## Подготовка"
      ]
    },
    {
      "cell_type": "markdown",
      "metadata": {
        "id": "MJO6Hze4CTbx"
      },
      "source": [
        "Импортируем нужные библиотеки."
      ]
    },
    {
      "cell_type": "code",
      "execution_count": 1,
      "metadata": {
        "colab": {
          "base_uri": "https://localhost:8080/"
        },
        "id": "uzuEGXXDCTb2",
        "outputId": "3114053d-f28d-416c-e6da-5be7da7859ef"
      },
      "outputs": [
        {
          "output_type": "stream",
          "name": "stdout",
          "text": [
            "Requirement already satisfied: tqdm in /usr/local/lib/python3.7/dist-packages (4.64.0)\n",
            "Requirement already satisfied: en_core_web_sm in /usr/local/lib/python3.7/dist-packages (2.2.5)\n",
            "Requirement already satisfied: spacy>=2.2.2 in /usr/local/lib/python3.7/dist-packages (from en_core_web_sm) (2.2.4)\n",
            "Requirement already satisfied: preshed<3.1.0,>=3.0.2 in /usr/local/lib/python3.7/dist-packages (from spacy>=2.2.2->en_core_web_sm) (3.0.6)\n",
            "Requirement already satisfied: cymem<2.1.0,>=2.0.2 in /usr/local/lib/python3.7/dist-packages (from spacy>=2.2.2->en_core_web_sm) (2.0.6)\n",
            "Requirement already satisfied: srsly<1.1.0,>=1.0.2 in /usr/local/lib/python3.7/dist-packages (from spacy>=2.2.2->en_core_web_sm) (1.0.5)\n",
            "Requirement already satisfied: numpy>=1.15.0 in /usr/local/lib/python3.7/dist-packages (from spacy>=2.2.2->en_core_web_sm) (1.21.6)\n",
            "Requirement already satisfied: blis<0.5.0,>=0.4.0 in /usr/local/lib/python3.7/dist-packages (from spacy>=2.2.2->en_core_web_sm) (0.4.1)\n",
            "Requirement already satisfied: plac<1.2.0,>=0.9.6 in /usr/local/lib/python3.7/dist-packages (from spacy>=2.2.2->en_core_web_sm) (1.1.3)\n",
            "Requirement already satisfied: thinc==7.4.0 in /usr/local/lib/python3.7/dist-packages (from spacy>=2.2.2->en_core_web_sm) (7.4.0)\n",
            "Requirement already satisfied: wasabi<1.1.0,>=0.4.0 in /usr/local/lib/python3.7/dist-packages (from spacy>=2.2.2->en_core_web_sm) (0.9.1)\n",
            "Requirement already satisfied: setuptools in /usr/local/lib/python3.7/dist-packages (from spacy>=2.2.2->en_core_web_sm) (57.4.0)\n",
            "Requirement already satisfied: tqdm<5.0.0,>=4.38.0 in /usr/local/lib/python3.7/dist-packages (from spacy>=2.2.2->en_core_web_sm) (4.64.0)\n",
            "Requirement already satisfied: requests<3.0.0,>=2.13.0 in /usr/local/lib/python3.7/dist-packages (from spacy>=2.2.2->en_core_web_sm) (2.23.0)\n",
            "Requirement already satisfied: catalogue<1.1.0,>=0.0.7 in /usr/local/lib/python3.7/dist-packages (from spacy>=2.2.2->en_core_web_sm) (1.0.0)\n",
            "Requirement already satisfied: murmurhash<1.1.0,>=0.28.0 in /usr/local/lib/python3.7/dist-packages (from spacy>=2.2.2->en_core_web_sm) (1.0.7)\n",
            "Requirement already satisfied: importlib-metadata>=0.20 in /usr/local/lib/python3.7/dist-packages (from catalogue<1.1.0,>=0.0.7->spacy>=2.2.2->en_core_web_sm) (4.11.3)\n",
            "Requirement already satisfied: typing-extensions>=3.6.4 in /usr/local/lib/python3.7/dist-packages (from importlib-metadata>=0.20->catalogue<1.1.0,>=0.0.7->spacy>=2.2.2->en_core_web_sm) (4.2.0)\n",
            "Requirement already satisfied: zipp>=0.5 in /usr/local/lib/python3.7/dist-packages (from importlib-metadata>=0.20->catalogue<1.1.0,>=0.0.7->spacy>=2.2.2->en_core_web_sm) (3.8.0)\n",
            "Requirement already satisfied: idna<3,>=2.5 in /usr/local/lib/python3.7/dist-packages (from requests<3.0.0,>=2.13.0->spacy>=2.2.2->en_core_web_sm) (2.10)\n",
            "Requirement already satisfied: chardet<4,>=3.0.2 in /usr/local/lib/python3.7/dist-packages (from requests<3.0.0,>=2.13.0->spacy>=2.2.2->en_core_web_sm) (3.0.4)\n",
            "Requirement already satisfied: urllib3!=1.25.0,!=1.25.1,<1.26,>=1.21.1 in /usr/local/lib/python3.7/dist-packages (from requests<3.0.0,>=2.13.0->spacy>=2.2.2->en_core_web_sm) (1.24.3)\n",
            "Requirement already satisfied: certifi>=2017.4.17 in /usr/local/lib/python3.7/dist-packages (from requests<3.0.0,>=2.13.0->spacy>=2.2.2->en_core_web_sm) (2021.10.8)\n",
            "Collecting langdetect\n",
            "  Downloading langdetect-1.0.9.tar.gz (981 kB)\n",
            "\u001b[K     |████████████████████████████████| 981 kB 20.0 MB/s \n",
            "\u001b[?25hRequirement already satisfied: six in /usr/local/lib/python3.7/dist-packages (from langdetect) (1.15.0)\n",
            "Building wheels for collected packages: langdetect\n",
            "  Building wheel for langdetect (setup.py) ... \u001b[?25l\u001b[?25hdone\n",
            "  Created wheel for langdetect: filename=langdetect-1.0.9-py3-none-any.whl size=993242 sha256=3049703d27a1fc0fa0bd5930062091c2027e63f7b148637ea2a3da33dbaebb04\n",
            "  Stored in directory: /root/.cache/pip/wheels/c5/96/8a/f90c59ed25d75e50a8c10a1b1c2d4c402e4dacfa87f3aff36a\n",
            "Successfully built langdetect\n",
            "Installing collected packages: langdetect\n",
            "Successfully installed langdetect-1.0.9\n",
            "Collecting sidetable\n",
            "  Downloading sidetable-0.9.0-py3-none-any.whl (17 kB)\n",
            "Requirement already satisfied: pandas>=1.0 in /usr/local/lib/python3.7/dist-packages (from sidetable) (1.3.5)\n",
            "Requirement already satisfied: python-dateutil>=2.7.3 in /usr/local/lib/python3.7/dist-packages (from pandas>=1.0->sidetable) (2.8.2)\n",
            "Requirement already satisfied: pytz>=2017.3 in /usr/local/lib/python3.7/dist-packages (from pandas>=1.0->sidetable) (2022.1)\n",
            "Requirement already satisfied: numpy>=1.17.3 in /usr/local/lib/python3.7/dist-packages (from pandas>=1.0->sidetable) (1.21.6)\n",
            "Requirement already satisfied: six>=1.5 in /usr/local/lib/python3.7/dist-packages (from python-dateutil>=2.7.3->pandas>=1.0->sidetable) (1.15.0)\n",
            "Installing collected packages: sidetable\n",
            "Successfully installed sidetable-0.9.0\n"
          ]
        }
      ],
      "source": [
        "!pip install tqdm \n",
        "!pip install en_core_web_sm\n",
        "!pip install langdetect\n",
        "!pip install sidetable"
      ]
    },
    {
      "cell_type": "code",
      "execution_count": 2,
      "metadata": {
        "id": "_atkSUWHCTb7"
      },
      "outputs": [],
      "source": [
        "import pandas as pd\n",
        "import numpy as np\n",
        "from numpy import hstack\n",
        "\n",
        "\n",
        "from langdetect import detect\n",
        "\n",
        "from matplotlib import pyplot as plt\n",
        "\n",
        "from nltk.tokenize import sent_tokenize, word_tokenize\n",
        "from nltk.corpus import stopwords\n",
        "\n",
        "import re\n",
        "\n",
        "import sidetable\n",
        "\n",
        "import sklearn\n",
        "from sklearn.feature_extraction.text import CountVectorizer, TfidfVectorizer\n",
        "from sklearn.metrics import f1_score, precision_score, recall_score\n",
        "from sklearn.pipeline import Pipeline, make_pipeline\n",
        "\n",
        "from sklearn.dummy import DummyClassifier\n",
        "from sklearn.linear_model import LogisticRegression\n",
        "from sklearn.svm  import SVC, LinearSVC\n",
        "from sklearn.preprocessing import StandardScaler\n",
        "from sklearn.model_selection import train_test_split\n",
        "from sklearn.model_selection import cross_val_score, KFold, StratifiedKFold, GridSearchCV\n",
        "\n",
        "from tqdm import notebook\n",
        "\n",
        "import nltk\n",
        "from nltk.corpus import wordnet\n",
        "from nltk.stem import LancasterStemmer, WordNetLemmatizer"
      ]
    },
    {
      "cell_type": "code",
      "execution_count": 3,
      "metadata": {
        "colab": {
          "base_uri": "https://localhost:8080/"
        },
        "id": "rLGuL_U4CTb9",
        "outputId": "b422774f-a86b-403c-e63d-7141b518f116"
      },
      "outputs": [
        {
          "output_type": "stream",
          "name": "stdout",
          "text": [
            "Requirement already satisfied: nltk in /usr/local/lib/python3.7/dist-packages (3.2.5)\n",
            "Requirement already satisfied: six in /usr/local/lib/python3.7/dist-packages (from nltk) (1.15.0)\n",
            "[nltk_data] Downloading package stopwords to /root/nltk_data...\n",
            "[nltk_data]   Unzipping corpora/stopwords.zip.\n",
            "[nltk_data] Downloading package wordnet to /root/nltk_data...\n",
            "[nltk_data]   Unzipping corpora/wordnet.zip.\n",
            "[nltk_data] Downloading package averaged_perceptron_tagger to\n",
            "[nltk_data]     /root/nltk_data...\n",
            "[nltk_data]   Unzipping taggers/averaged_perceptron_tagger.zip.\n",
            "[nltk_data] Downloading package punkt to /root/nltk_data...\n",
            "[nltk_data]   Unzipping tokenizers/punkt.zip.\n"
          ]
        },
        {
          "output_type": "execute_result",
          "data": {
            "text/plain": [
              "True"
            ]
          },
          "metadata": {},
          "execution_count": 3
        }
      ],
      "source": [
        "!pip install nltk\n",
        "import nltk\n",
        "nltk.download('stopwords')\n",
        "nltk.download('wordnet')\n",
        "nltk.download('averaged_perceptron_tagger')\n",
        "nltk.download('punkt')"
      ]
    },
    {
      "cell_type": "markdown",
      "metadata": {
        "id": "o98l7XGO2FZs"
      },
      "source": [
        "<div class=\"alert alert-success\">\n",
        "<h2> Комментарий ревьюера <a class=\"tocSkip\"> </h2>\n",
        "<hr>\n",
        "<b>Верно!👍:</b> Правильное решение — выделять отдельную ячейку в начале проекта под подключение библиотек и настройки: так код легче поддерживать.\n",
        "    \n",
        "К тому же, так другим специалистам будет сразу ясно, какие инструменты ты используешь для решения. Сейчас я сразу вижу, что ты подгружаешь всё необходимое, используешь классификатор, который не входит за рамки курса (молодец, что изучаешь дополнительные источники!) и используешь корректный лемматизатор, работающий с английскими текстами. Вообще богатый набор инструментов, все ли используешь в работе?\n",
        "</div>"
      ]
    },
    {
      "cell_type": "markdown",
      "metadata": {
        "id": "-pkeZ5A-CTb-"
      },
      "source": [
        "Создаем путь к файлу с данными."
      ]
    },
    {
      "cell_type": "markdown",
      "metadata": {
        "id": "cY89VY1i2FZt"
      },
      "source": [
        "#### Комментарии\n",
        "<div class=\"alert alert-info\">\n",
        "<b>Комментарий студента 2 итерация</b>\n",
        "\n",
        "Добавила путь на свой Гугл диск, на нем же настроила доступ по ссылке, надеюсь, всё будет ОК...\n",
        "</div>"
      ]
    },
    {
      "cell_type": "code",
      "execution_count": 4,
      "metadata": {
        "id": "ZNTPyOcGCTb_"
      },
      "outputs": [],
      "source": [
        "path = '/datasets/toxic_comments.csv'\n",
        "path2 = '/content/drive/MyDrive/Colab Notebooks/project_13/toxic_comments.csv'\n",
        "path3 = '/content/drive/MyDrive/Colab Notebooks/project_13/LEMMAS_ALL_line.csv'\n",
        "path4 = 'LEMMAS_ALL_line.csv'\n",
        "path5 = 'https://drive.google.com/file/d/1pyS4fyZOSInhwbqOdHUcX0gYyr6LVFcL/view?usp=sharing'\n",
        "path5 = 'https://drive.google.com/uc?id=' + path5.split('/')[-2]\n",
        "\n",
        "url = 'https://drive.google.com/file/d/1_O_SwouzNv0YN8fyMilIL12LGI0rpeFt/view?usp=sharing'\n",
        "url = 'https://drive.google.com/uc?id=' + url.split('/')[-2]"
      ]
    },
    {
      "cell_type": "code",
      "execution_count": 5,
      "metadata": {
        "id": "sIxWpqopCTcA"
      },
      "outputs": [],
      "source": [
        "# # for working in Google Colab\n",
        "# from google.colab import drive\n",
        "# drive.mount('/content/drive')"
      ]
    },
    {
      "cell_type": "markdown",
      "metadata": {
        "id": "8sAQf-bgCTcB"
      },
      "source": [
        "Откроем файл с текстом комментариев и разметкой о токсичности правок."
      ]
    },
    {
      "cell_type": "code",
      "execution_count": 6,
      "metadata": {
        "id": "cYoqO8JBCTcE"
      },
      "outputs": [],
      "source": [
        "try:\n",
        "    df = pd.read_csv(path)\n",
        "except Exception as err:\n",
        "    try:\n",
        "        df = pd.read_csv(path[10:])\n",
        "    except Exception as err:\n",
        "        try:\n",
        "            from google.colab import drive\n",
        "            df = pd.read_csv(path2)\n",
        "        except Exception as err:\n",
        "            try:\n",
        "                df = pd.read_csv(path5)\n",
        "            except Exception as err:\n",
        "                print('Ошибка чтения файла df:', repr(err))"
      ]
    },
    {
      "cell_type": "markdown",
      "metadata": {
        "id": "bzBEb2dX2FZw"
      },
      "source": [
        "<div class=\"alert alert-success\">\n",
        "<h2> Комментарий ревьюера <a class=\"tocSkip\"> </h2>\n",
        "<hr>\n",
        "<b>Верно!👍:</b> Хороший способ загрузки, очень здорово, с проектом можно работать почти отовсюду :) без необходимости внесения правок в код.\n",
        "</div>"
      ]
    },
    {
      "cell_type": "code",
      "execution_count": 7,
      "metadata": {
        "id": "8pqX5_2fZrTQ"
      },
      "outputs": [],
      "source": [
        "# параметр для seed в random_state\n",
        "STATE = 12345"
      ]
    },
    {
      "cell_type": "markdown",
      "metadata": {
        "id": "9vPl1eyQ2FZw"
      },
      "source": [
        "<div class=\"alert alert-success\">\n",
        "<h2> Комментарий ревьюера <a class=\"tocSkip\"> </h2>\n",
        "<hr>\n",
        "<b>Верно!👍:</b> Константы в Python <a href='https://pythonworld.ru/osnovy/pep-8-rukovodstvo-po-napisaniyu-koda-na-python.html'>принято</a> обозначать в верхнем регистре, молодец! Применять константы в работе удобно, если нужно несколько раз ссылаться на одно и тоже значение, не нужно передавать его в явном виде постоянно, так код легче поддерживать: в случае необходимости исправить его нужно будет только в одном месте.\n",
        "</div>"
      ]
    },
    {
      "cell_type": "code",
      "execution_count": 8,
      "metadata": {
        "colab": {
          "base_uri": "https://localhost:8080/",
          "height": 461
        },
        "id": "wtC9pcMNCTcH",
        "outputId": "b982c609-3a18-4ad0-b4af-8623c06641d7"
      },
      "outputs": [
        {
          "output_type": "execute_result",
          "data": {
            "text/plain": [
              "                                                text  toxic\n",
              "0  Explanation\\nWhy the edits made under my usern...      0\n",
              "1  D'aww! He matches this background colour I'm s...      0\n",
              "2  Hey man, I'm really not trying to edit war. It...      0\n",
              "3  \"\\nMore\\nI can't make any real suggestions on ...      0\n",
              "4  You, sir, are my hero. Any chance you remember...      0"
            ],
            "text/html": [
              "\n",
              "  <div id=\"df-20c7d1c0-cd8c-4bc1-a4d5-409e80e9df8d\">\n",
              "    <div class=\"colab-df-container\">\n",
              "      <div>\n",
              "<style scoped>\n",
              "    .dataframe tbody tr th:only-of-type {\n",
              "        vertical-align: middle;\n",
              "    }\n",
              "\n",
              "    .dataframe tbody tr th {\n",
              "        vertical-align: top;\n",
              "    }\n",
              "\n",
              "    .dataframe thead th {\n",
              "        text-align: right;\n",
              "    }\n",
              "</style>\n",
              "<table border=\"1\" class=\"dataframe\">\n",
              "  <thead>\n",
              "    <tr style=\"text-align: right;\">\n",
              "      <th></th>\n",
              "      <th>text</th>\n",
              "      <th>toxic</th>\n",
              "    </tr>\n",
              "  </thead>\n",
              "  <tbody>\n",
              "    <tr>\n",
              "      <th>0</th>\n",
              "      <td>Explanation\\nWhy the edits made under my usern...</td>\n",
              "      <td>0</td>\n",
              "    </tr>\n",
              "    <tr>\n",
              "      <th>1</th>\n",
              "      <td>D'aww! He matches this background colour I'm s...</td>\n",
              "      <td>0</td>\n",
              "    </tr>\n",
              "    <tr>\n",
              "      <th>2</th>\n",
              "      <td>Hey man, I'm really not trying to edit war. It...</td>\n",
              "      <td>0</td>\n",
              "    </tr>\n",
              "    <tr>\n",
              "      <th>3</th>\n",
              "      <td>\"\\nMore\\nI can't make any real suggestions on ...</td>\n",
              "      <td>0</td>\n",
              "    </tr>\n",
              "    <tr>\n",
              "      <th>4</th>\n",
              "      <td>You, sir, are my hero. Any chance you remember...</td>\n",
              "      <td>0</td>\n",
              "    </tr>\n",
              "  </tbody>\n",
              "</table>\n",
              "</div>\n",
              "      <button class=\"colab-df-convert\" onclick=\"convertToInteractive('df-20c7d1c0-cd8c-4bc1-a4d5-409e80e9df8d')\"\n",
              "              title=\"Convert this dataframe to an interactive table.\"\n",
              "              style=\"display:none;\">\n",
              "        \n",
              "  <svg xmlns=\"http://www.w3.org/2000/svg\" height=\"24px\"viewBox=\"0 0 24 24\"\n",
              "       width=\"24px\">\n",
              "    <path d=\"M0 0h24v24H0V0z\" fill=\"none\"/>\n",
              "    <path d=\"M18.56 5.44l.94 2.06.94-2.06 2.06-.94-2.06-.94-.94-2.06-.94 2.06-2.06.94zm-11 1L8.5 8.5l.94-2.06 2.06-.94-2.06-.94L8.5 2.5l-.94 2.06-2.06.94zm10 10l.94 2.06.94-2.06 2.06-.94-2.06-.94-.94-2.06-.94 2.06-2.06.94z\"/><path d=\"M17.41 7.96l-1.37-1.37c-.4-.4-.92-.59-1.43-.59-.52 0-1.04.2-1.43.59L10.3 9.45l-7.72 7.72c-.78.78-.78 2.05 0 2.83L4 21.41c.39.39.9.59 1.41.59.51 0 1.02-.2 1.41-.59l7.78-7.78 2.81-2.81c.8-.78.8-2.07 0-2.86zM5.41 20L4 18.59l7.72-7.72 1.47 1.35L5.41 20z\"/>\n",
              "  </svg>\n",
              "      </button>\n",
              "      \n",
              "  <style>\n",
              "    .colab-df-container {\n",
              "      display:flex;\n",
              "      flex-wrap:wrap;\n",
              "      gap: 12px;\n",
              "    }\n",
              "\n",
              "    .colab-df-convert {\n",
              "      background-color: #E8F0FE;\n",
              "      border: none;\n",
              "      border-radius: 50%;\n",
              "      cursor: pointer;\n",
              "      display: none;\n",
              "      fill: #1967D2;\n",
              "      height: 32px;\n",
              "      padding: 0 0 0 0;\n",
              "      width: 32px;\n",
              "    }\n",
              "\n",
              "    .colab-df-convert:hover {\n",
              "      background-color: #E2EBFA;\n",
              "      box-shadow: 0px 1px 2px rgba(60, 64, 67, 0.3), 0px 1px 3px 1px rgba(60, 64, 67, 0.15);\n",
              "      fill: #174EA6;\n",
              "    }\n",
              "\n",
              "    [theme=dark] .colab-df-convert {\n",
              "      background-color: #3B4455;\n",
              "      fill: #D2E3FC;\n",
              "    }\n",
              "\n",
              "    [theme=dark] .colab-df-convert:hover {\n",
              "      background-color: #434B5C;\n",
              "      box-shadow: 0px 1px 3px 1px rgba(0, 0, 0, 0.15);\n",
              "      filter: drop-shadow(0px 1px 2px rgba(0, 0, 0, 0.3));\n",
              "      fill: #FFFFFF;\n",
              "    }\n",
              "  </style>\n",
              "\n",
              "      <script>\n",
              "        const buttonEl =\n",
              "          document.querySelector('#df-20c7d1c0-cd8c-4bc1-a4d5-409e80e9df8d button.colab-df-convert');\n",
              "        buttonEl.style.display =\n",
              "          google.colab.kernel.accessAllowed ? 'block' : 'none';\n",
              "\n",
              "        async function convertToInteractive(key) {\n",
              "          const element = document.querySelector('#df-20c7d1c0-cd8c-4bc1-a4d5-409e80e9df8d');\n",
              "          const dataTable =\n",
              "            await google.colab.kernel.invokeFunction('convertToInteractive',\n",
              "                                                     [key], {});\n",
              "          if (!dataTable) return;\n",
              "\n",
              "          const docLinkHtml = 'Like what you see? Visit the ' +\n",
              "            '<a target=\"_blank\" href=https://colab.research.google.com/notebooks/data_table.ipynb>data table notebook</a>'\n",
              "            + ' to learn more about interactive tables.';\n",
              "          element.innerHTML = '';\n",
              "          dataTable['output_type'] = 'display_data';\n",
              "          await google.colab.output.renderOutput(dataTable, element);\n",
              "          const docLink = document.createElement('div');\n",
              "          docLink.innerHTML = docLinkHtml;\n",
              "          element.appendChild(docLink);\n",
              "        }\n",
              "      </script>\n",
              "    </div>\n",
              "  </div>\n",
              "  "
            ]
          },
          "metadata": {},
          "execution_count": 8
        }
      ],
      "source": [
        "df.head()"
      ]
    },
    {
      "cell_type": "markdown",
      "metadata": {
        "id": "sLgRH3zh2FZx"
      },
      "source": [
        "<div class=\"alert alert-success\">\n",
        "<h2> Комментарий ревьюера <a class=\"tocSkip\"> </h2>\n",
        "<hr>\n",
        "<b>Верно!👍:</b> Обычно я не советую использовать <code>head</code>, но в задача <code>NLP</code> он более чем уместен: мы видим, что, по крайней мере, часть комментариев представлена на английском языке, молодец.\n",
        "</div>\n"
      ]
    },
    {
      "cell_type": "markdown",
      "metadata": {
        "id": "j28Q9U302FZy"
      },
      "source": [
        "#### Комментарии\n",
        "<div class=\"alert alert-info\">\n",
        "<b>Комментарий студента 2 итерация</b>\n",
        "    \n",
        "Ой, а я его всегда использую, подскажи, пожалуйста, почему не советуешь?\n",
        "</div>"
      ]
    },
    {
      "cell_type": "code",
      "execution_count": 9,
      "metadata": {
        "colab": {
          "base_uri": "https://localhost:8080/"
        },
        "id": "2k2oAT9qCTcH",
        "outputId": "d1dccddb-90bc-4184-cb81-c2b1a3ca38fc",
        "scrolled": true
      },
      "outputs": [
        {
          "output_type": "stream",
          "name": "stdout",
          "text": [
            "<class 'pandas.core.frame.DataFrame'>\n",
            "RangeIndex: 159571 entries, 0 to 159570\n",
            "Data columns (total 2 columns):\n",
            " #   Column  Non-Null Count   Dtype \n",
            "---  ------  --------------   ----- \n",
            " 0   text    159571 non-null  object\n",
            " 1   toxic   159571 non-null  int64 \n",
            "dtypes: int64(1), object(1)\n",
            "memory usage: 2.4+ MB\n"
          ]
        }
      ],
      "source": [
        "df.info()"
      ]
    },
    {
      "cell_type": "markdown",
      "metadata": {
        "id": "hOhjoFMWCTcI"
      },
      "source": [
        "В нашем распоряжении 159571 комментарий с разметкой о его токсичности. Первые строчки на английском языке. Проверим, все ли комментарии написаны на одном языке."
      ]
    },
    {
      "cell_type": "markdown",
      "metadata": {
        "id": "sp2Nc-Tf2FZz"
      },
      "source": [
        "<div class=\"alert alert-success\">\n",
        "<h2> Комментарий ревьюера <a class=\"tocSkip\"> </h2>\n",
        "<hr>\n",
        "<b>Верно!👍:</b> Хорошо. Вывели на экран информацию — прокомментировали свои наблюдения, верный подход.\n",
        "    \n",
        "По выводам всё тоже верно.\n",
        "</div>"
      ]
    },
    {
      "cell_type": "code",
      "execution_count": 10,
      "metadata": {
        "id": "iio8lt1CCTcI"
      },
      "outputs": [],
      "source": [
        "# def detect_language(row):\n",
        "#     try:\n",
        "#         language = detect(row) \n",
        "#     except Exception as error:\n",
        "#         language = 'error'\n",
        "#     return language\n",
        "        "
      ]
    },
    {
      "cell_type": "code",
      "execution_count": 11,
      "metadata": {
        "id": "3UvPhzcGCTcJ"
      },
      "outputs": [],
      "source": [
        "# df['language'] = df['text'].apply(detect_language)"
      ]
    },
    {
      "cell_type": "code",
      "execution_count": 12,
      "metadata": {
        "id": "iyW3sDgdCTcK",
        "scrolled": true
      },
      "outputs": [],
      "source": [
        "# df['language'].unique()"
      ]
    },
    {
      "cell_type": "code",
      "execution_count": 13,
      "metadata": {
        "id": "EYeL0z-cCTcK"
      },
      "outputs": [],
      "source": [
        "# detect(df.loc[159566, 'text'])"
      ]
    },
    {
      "cell_type": "markdown",
      "metadata": {
        "id": "YxJJ7HdqCTcK"
      },
      "source": [
        "**Код выше выполняется достаточно долго и после проверки на язык не имеет смысла, поэтому мы позволили себе его закомментировать для более быстрой отработки тетради**\n",
        "\n",
        "Мы потыкались и убедились, что несмотря на иногда присутствующие другие языки, основная масса отзывов написана на английском."
      ]
    },
    {
      "cell_type": "markdown",
      "metadata": {
        "id": "i47tAcSx2FZ2"
      },
      "source": [
        "<div class=\"alert alert-success\">\n",
        "<h2> Комментарий ревьюера <a class=\"tocSkip\"> </h2>\n",
        "<hr>\n",
        "<b>Верно!👍:</b> Интересная идея: проверить тексты на предмет того языка, на котором они написаны. Ведь мы пока видели только часть, и по ней нельзя делать выводы о всей совокупности. Только гипотезу можно поставить, а тут ты её проверяешь.\n",
        "</div>"
      ]
    },
    {
      "cell_type": "markdown",
      "metadata": {
        "id": "RQmSpXGVCTcL"
      },
      "source": [
        "Посмотрим на соотношение токсичных и нетоксичных комментариев."
      ]
    },
    {
      "cell_type": "markdown",
      "metadata": {
        "id": "ZATVlZXl2FZ2"
      },
      "source": [
        "<div class=\"alert alert-success\">\n",
        "<h2> Комментарий ревьюера <a class=\"tocSkip\"> </h2>\n",
        "<hr>\n",
        "<b>Верно!👍:</b> В задачах классификации всегда важно проверять баланс классов, так как это влияет на качество моделей, выбор подходящей метрики и не только.\n",
        "</div>\n"
      ]
    },
    {
      "cell_type": "code",
      "execution_count": 14,
      "metadata": {
        "colab": {
          "base_uri": "https://localhost:8080/",
          "height": 54
        },
        "id": "QEH8_YqhCTcL",
        "outputId": "3ea44984-cedf-4dc5-fdc5-6a0c56850444",
        "scrolled": true
      },
      "outputs": [
        {
          "output_type": "display_data",
          "data": {
            "text/plain": [
              "<Figure size 432x288 with 1 Axes>"
            ],
            "image/png": "[encoded data removed]"
          },
          "metadata": {
            "needs_background": "light"
          }
        }
      ],
      "source": [
        "df.groupby('toxic').text.count().sort_values(ascending=False).plot(kind='bar', rot=0)\n",
        "plt.title('Распределение комментариев по токсичноси')\n",
        "plt.ylabel('Количество комментариев')\n",
        "plt.xlabel('Токсичность')\n",
        "plt.xticks([0, 1], ['non toxic', 'toxic'])\n",
        "plt.show()"
      ]
    },
    {
      "cell_type": "code",
      "execution_count": 15,
      "metadata": {
        "colab": {
          "base_uri": "https://localhost:8080/"
        },
        "id": "RZ2RjwANCTcN",
        "outputId": "60c1acbb-79b1-44ba-c735-7a7caef9353d"
      },
      "outputs": [
        {
          "output_type": "execute_result",
          "data": {
            "text/plain": [
              "0.10167887648758234"
            ]
          },
          "metadata": {},
          "execution_count": 15
        }
      ],
      "source": [
        "df.toxic.mean()"
      ]
    },
    {
      "cell_type": "markdown",
      "metadata": {
        "id": "63ZhoXRTCTcN"
      },
      "source": [
        "Видим, что только 10% из комментариев помечены как токсичные. Нужно будет учесть это при разбиении выборок для обучения и предсказания моделей."
      ]
    },
    {
      "cell_type": "markdown",
      "metadata": {
        "id": "dNyW9NTt2FZ4"
      },
      "source": [
        "<div class=\"alert alert-success\">\n",
        "<h2> Комментарий ревьюера <a class=\"tocSkip\"> </h2>\n",
        "<hr>\n",
        "<b>Верно!👍:</b> Супер, график абсолютно корректно оформлен и наглядно иллюстрирует соотношение, ещё и оцененное количественно удобным способом. Молодец!\n",
        "</div>"
      ]
    },
    {
      "cell_type": "markdown",
      "metadata": {
        "id": "AqwEuCK9CTcN"
      },
      "source": [
        "Уберем из текста ссылки на страницы."
      ]
    },
    {
      "cell_type": "code",
      "execution_count": 16,
      "metadata": {
        "id": "bZosLY5ACTcO"
      },
      "outputs": [],
      "source": [
        "def delete_links(data):\n",
        "    data = re.sub(r'^https?:\\/\\/.*[\\r\\n]*', '', data, flags=re.MULTILINE)\n",
        "    return data"
      ]
    },
    {
      "cell_type": "markdown",
      "metadata": {
        "id": "CBgqf2pP2FZ6"
      },
      "source": [
        "<div class=\"alert alert-success\">\n",
        "<h2> Комментарий ревьюера <a class=\"tocSkip\"> </h2>\n",
        "<hr>\n",
        "<b>Верно!👍:</b> Хорошая идея :)\n",
        "</div>"
      ]
    },
    {
      "cell_type": "code",
      "execution_count": 17,
      "metadata": {
        "id": "C8pK7B86CTcQ"
      },
      "outputs": [],
      "source": [
        "df['text'] = df['text'].apply(delete_links)"
      ]
    },
    {
      "cell_type": "code",
      "execution_count": 18,
      "metadata": {
        "colab": {
          "base_uri": "https://localhost:8080/",
          "height": 1000
        },
        "id": "2KMQcUOjCTcQ",
        "outputId": "ac7ba3c6-82bb-439f-a26d-4db555ba5005"
      },
      "outputs": [
        {
          "output_type": "execute_result",
          "data": {
            "text/plain": [
              "                                                 text  toxic\n",
              "0   Explanation\\nWhy the edits made under my usern...      0\n",
              "1   D'aww! He matches this background colour I'm s...      0\n",
              "2   Hey man, I'm really not trying to edit war. It...      0\n",
              "3   \"\\nMore\\nI can't make any real suggestions on ...      0\n",
              "4   You, sir, are my hero. Any chance you remember...      0\n",
              "5   \"\\n\\nCongratulations from me as well, use the ...      0\n",
              "6        COCKSUCKER BEFORE YOU PISS AROUND ON MY WORK      1\n",
              "7   Your vandalism to the Matt Shirvington article...      0\n",
              "8   Sorry if the word 'nonsense' was offensive to ...      0\n",
              "9   alignment on this subject and which are contra...      0\n",
              "10  \"\\nFair use rationale for Image:Wonju.jpg\\n\\nT...      0\n",
              "11  bbq \\n\\nbe a man and lets discuss it-maybe ove...      0\n",
              "12  Hey... what is it..\\n@ | talk .\\nWhat is it......      1\n",
              "13  Before you start throwing accusations and warn...      0\n",
              "14  Oh, and the girl above started her arguments w...      0\n",
              "15  \"\\n\\nJuelz Santanas Age\\n\\nIn 2002, Juelz Sant...      0\n",
              "16  Bye! \\n\\nDon't look, come or think of comming ...      1\n",
              "17   REDIRECT Talk:Voydan Pop Georgiev- Chernodrinski      0\n",
              "18  The Mitsurugi point made no sense - why not ar...      0\n",
              "19  Don't mean to bother you \\n\\nI see that you're...      0"
            ],
            "text/html": [
              "\n",
              "  <div id=\"df-8504fdba-091b-4557-a1e8-79dbc7343e3c\">\n",
              "    <div class=\"colab-df-container\">\n",
              "      <div>\n",
              "<style scoped>\n",
              "    .dataframe tbody tr th:only-of-type {\n",
              "        vertical-align: middle;\n",
              "    }\n",
              "\n",
              "    .dataframe tbody tr th {\n",
              "        vertical-align: top;\n",
              "    }\n",
              "\n",
              "    .dataframe thead th {\n",
              "        text-align: right;\n",
              "    }\n",
              "</style>\n",
              "<table border=\"1\" class=\"dataframe\">\n",
              "  <thead>\n",
              "    <tr style=\"text-align: right;\">\n",
              "      <th></th>\n",
              "      <th>text</th>\n",
              "      <th>toxic</th>\n",
              "    </tr>\n",
              "  </thead>\n",
              "  <tbody>\n",
              "    <tr>\n",
              "      <th>0</th>\n",
              "      <td>Explanation\\nWhy the edits made under my usern...</td>\n",
              "      <td>0</td>\n",
              "    </tr>\n",
              "    <tr>\n",
              "      <th>1</th>\n",
              "      <td>D'aww! He matches this background colour I'm s...</td>\n",
              "      <td>0</td>\n",
              "    </tr>\n",
              "    <tr>\n",
              "      <th>2</th>\n",
              "      <td>Hey man, I'm really not trying to edit war. It...</td>\n",
              "      <td>0</td>\n",
              "    </tr>\n",
              "    <tr>\n",
              "      <th>3</th>\n",
              "      <td>\"\\nMore\\nI can't make any real suggestions on ...</td>\n",
              "      <td>0</td>\n",
              "    </tr>\n",
              "    <tr>\n",
              "      <th>4</th>\n",
              "      <td>You, sir, are my hero. Any chance you remember...</td>\n",
              "      <td>0</td>\n",
              "    </tr>\n",
              "    <tr>\n",
              "      <th>5</th>\n",
              "      <td>\"\\n\\nCongratulations from me as well, use the ...</td>\n",
              "      <td>0</td>\n",
              "    </tr>\n",
              "    <tr>\n",
              "      <th>6</th>\n",
              "      <td>COCKSUCKER BEFORE YOU PISS AROUND ON MY WORK</td>\n",
              "      <td>1</td>\n",
              "    </tr>\n",
              "    <tr>\n",
              "      <th>7</th>\n",
              "      <td>Your vandalism to the Matt Shirvington article...</td>\n",
              "      <td>0</td>\n",
              "    </tr>\n",
              "    <tr>\n",
              "      <th>8</th>\n",
              "      <td>Sorry if the word 'nonsense' was offensive to ...</td>\n",
              "      <td>0</td>\n",
              "    </tr>\n",
              "    <tr>\n",
              "      <th>9</th>\n",
              "      <td>alignment on this subject and which are contra...</td>\n",
              "      <td>0</td>\n",
              "    </tr>\n",
              "    <tr>\n",
              "      <th>10</th>\n",
              "      <td>\"\\nFair use rationale for Image:Wonju.jpg\\n\\nT...</td>\n",
              "      <td>0</td>\n",
              "    </tr>\n",
              "    <tr>\n",
              "      <th>11</th>\n",
              "      <td>bbq \\n\\nbe a man and lets discuss it-maybe ove...</td>\n",
              "      <td>0</td>\n",
              "    </tr>\n",
              "    <tr>\n",
              "      <th>12</th>\n",
              "      <td>Hey... what is it..\\n@ | talk .\\nWhat is it......</td>\n",
              "      <td>1</td>\n",
              "    </tr>\n",
              "    <tr>\n",
              "      <th>13</th>\n",
              "      <td>Before you start throwing accusations and warn...</td>\n",
              "      <td>0</td>\n",
              "    </tr>\n",
              "    <tr>\n",
              "      <th>14</th>\n",
              "      <td>Oh, and the girl above started her arguments w...</td>\n",
              "      <td>0</td>\n",
              "    </tr>\n",
              "    <tr>\n",
              "      <th>15</th>\n",
              "      <td>\"\\n\\nJuelz Santanas Age\\n\\nIn 2002, Juelz Sant...</td>\n",
              "      <td>0</td>\n",
              "    </tr>\n",
              "    <tr>\n",
              "      <th>16</th>\n",
              "      <td>Bye! \\n\\nDon't look, come or think of comming ...</td>\n",
              "      <td>1</td>\n",
              "    </tr>\n",
              "    <tr>\n",
              "      <th>17</th>\n",
              "      <td>REDIRECT Talk:Voydan Pop Georgiev- Chernodrinski</td>\n",
              "      <td>0</td>\n",
              "    </tr>\n",
              "    <tr>\n",
              "      <th>18</th>\n",
              "      <td>The Mitsurugi point made no sense - why not ar...</td>\n",
              "      <td>0</td>\n",
              "    </tr>\n",
              "    <tr>\n",
              "      <th>19</th>\n",
              "      <td>Don't mean to bother you \\n\\nI see that you're...</td>\n",
              "      <td>0</td>\n",
              "    </tr>\n",
              "  </tbody>\n",
              "</table>\n",
              "</div>\n",
              "      <button class=\"colab-df-convert\" onclick=\"convertToInteractive('df-8504fdba-091b-4557-a1e8-79dbc7343e3c')\"\n",
              "              title=\"Convert this dataframe to an interactive table.\"\n",
              "              style=\"display:none;\">\n",
              "        \n",
              "  <svg xmlns=\"http://www.w3.org/2000/svg\" height=\"24px\"viewBox=\"0 0 24 24\"\n",
              "       width=\"24px\">\n",
              "    <path d=\"M0 0h24v24H0V0z\" fill=\"none\"/>\n",
              "    <path d=\"M18.56 5.44l.94 2.06.94-2.06 2.06-.94-2.06-.94-.94-2.06-.94 2.06-2.06.94zm-11 1L8.5 8.5l.94-2.06 2.06-.94-2.06-.94L8.5 2.5l-.94 2.06-2.06.94zm10 10l.94 2.06.94-2.06 2.06-.94-2.06-.94-.94-2.06-.94 2.06-2.06.94z\"/><path d=\"M17.41 7.96l-1.37-1.37c-.4-.4-.92-.59-1.43-.59-.52 0-1.04.2-1.43.59L10.3 9.45l-7.72 7.72c-.78.78-.78 2.05 0 2.83L4 21.41c.39.39.9.59 1.41.59.51 0 1.02-.2 1.41-.59l7.78-7.78 2.81-2.81c.8-.78.8-2.07 0-2.86zM5.41 20L4 18.59l7.72-7.72 1.47 1.35L5.41 20z\"/>\n",
              "  </svg>\n",
              "      </button>\n",
              "      \n",
              "  <style>\n",
              "    .colab-df-container {\n",
              "      display:flex;\n",
              "      flex-wrap:wrap;\n",
              "      gap: 12px;\n",
              "    }\n",
              "\n",
              "    .colab-df-convert {\n",
              "      background-color: #E8F0FE;\n",
              "      border: none;\n",
              "      border-radius: 50%;\n",
              "      cursor: pointer;\n",
              "      display: none;\n",
              "      fill: #1967D2;\n",
              "      height: 32px;\n",
              "      padding: 0 0 0 0;\n",
              "      width: 32px;\n",
              "    }\n",
              "\n",
              "    .colab-df-convert:hover {\n",
              "      background-color: #E2EBFA;\n",
              "      box-shadow: 0px 1px 2px rgba(60, 64, 67, 0.3), 0px 1px 3px 1px rgba(60, 64, 67, 0.15);\n",
              "      fill: #174EA6;\n",
              "    }\n",
              "\n",
              "    [theme=dark] .colab-df-convert {\n",
              "      background-color: #3B4455;\n",
              "      fill: #D2E3FC;\n",
              "    }\n",
              "\n",
              "    [theme=dark] .colab-df-convert:hover {\n",
              "      background-color: #434B5C;\n",
              "      box-shadow: 0px 1px 3px 1px rgba(0, 0, 0, 0.15);\n",
              "      filter: drop-shadow(0px 1px 2px rgba(0, 0, 0, 0.3));\n",
              "      fill: #FFFFFF;\n",
              "    }\n",
              "  </style>\n",
              "\n",
              "      <script>\n",
              "        const buttonEl =\n",
              "          document.querySelector('#df-8504fdba-091b-4557-a1e8-79dbc7343e3c button.colab-df-convert');\n",
              "        buttonEl.style.display =\n",
              "          google.colab.kernel.accessAllowed ? 'block' : 'none';\n",
              "\n",
              "        async function convertToInteractive(key) {\n",
              "          const element = document.querySelector('#df-8504fdba-091b-4557-a1e8-79dbc7343e3c');\n",
              "          const dataTable =\n",
              "            await google.colab.kernel.invokeFunction('convertToInteractive',\n",
              "                                                     [key], {});\n",
              "          if (!dataTable) return;\n",
              "\n",
              "          const docLinkHtml = 'Like what you see? Visit the ' +\n",
              "            '<a target=\"_blank\" href=https://colab.research.google.com/notebooks/data_table.ipynb>data table notebook</a>'\n",
              "            + ' to learn more about interactive tables.';\n",
              "          element.innerHTML = '';\n",
              "          dataTable['output_type'] = 'display_data';\n",
              "          await google.colab.output.renderOutput(dataTable, element);\n",
              "          const docLink = document.createElement('div');\n",
              "          docLink.innerHTML = docLinkHtml;\n",
              "          element.appendChild(docLink);\n",
              "        }\n",
              "      </script>\n",
              "    </div>\n",
              "  </div>\n",
              "  "
            ]
          },
          "metadata": {},
          "execution_count": 18
        }
      ],
      "source": [
        "df.head(20)"
      ]
    },
    {
      "cell_type": "markdown",
      "metadata": {
        "id": "XB6NYHCvCTcR"
      },
      "source": [
        "Заменим основные сокращения английского языка."
      ]
    },
    {
      "cell_type": "code",
      "execution_count": 19,
      "metadata": {
        "id": "pWMukro-CTcR"
      },
      "outputs": [],
      "source": [
        "df['text'] = df['text'].transform(lambda x: x\\\n",
        ".replace(\" won't \", ' will not ')\\\n",
        ".replace(\"can't \", 'cannot ')\\\n",
        ".replace(\"n't \", ' not ')\\\n",
        ".replace(\"'s \", ' is ')\\\n",
        ".replace(\"'m \", ' am ')\\\n",
        ".replace(\"'ll \", ' will ')\\\n",
        ".replace(\"'d \", ' would ') \\\n",
        ".replace(\"'re \", ' are ')\\\n",
        ".replace(\"'ve \", ' have ')\\\n",
        ".replace(\"\\n\", \" \")\n",
        "                                 )\n",
        "# yes, \"'d\" it's a problem"
      ]
    },
    {
      "cell_type": "markdown",
      "metadata": {
        "id": "DgPGke-i2FZ8"
      },
      "source": [
        "<div class=\"alert alert-success\">\n",
        "<h2> Комментарий ревьюера <a class=\"tocSkip\"> </h2>\n",
        "<hr>\n",
        "<b>Верно!👍:</b> Интересная мысль!\n",
        "<hr>\n",
        "А ещё <code>'s</code> может быть <code>is/has</code> :)\n",
        "</div>\n"
      ]
    },
    {
      "cell_type": "code",
      "execution_count": 20,
      "metadata": {
        "colab": {
          "base_uri": "https://localhost:8080/",
          "height": 635
        },
        "id": "Rm65o3XlCTcR",
        "outputId": "f5e942a2-7505-4c96-d2c0-dc8feae0d04d"
      },
      "outputs": [
        {
          "output_type": "execute_result",
          "data": {
            "text/plain": [
              "                                                text  toxic\n",
              "0  Explanation Why the edits made under my userna...      0\n",
              "1  D'aww! He matches this background colour I am ...      0\n",
              "2  Hey man, I am really not trying to edit war. I...      0\n",
              "3  \" More I cannot make any real suggestions on i...      0\n",
              "4  You, sir, are my hero. Any chance you remember...      0"
            ],
            "text/html": [
              "\n",
              "  <div id=\"df-113343c6-29c3-424c-8997-83ec213db0ea\">\n",
              "    <div class=\"colab-df-container\">\n",
              "      <div>\n",
              "<style scoped>\n",
              "    .dataframe tbody tr th:only-of-type {\n",
              "        vertical-align: middle;\n",
              "    }\n",
              "\n",
              "    .dataframe tbody tr th {\n",
              "        vertical-align: top;\n",
              "    }\n",
              "\n",
              "    .dataframe thead th {\n",
              "        text-align: right;\n",
              "    }\n",
              "</style>\n",
              "<table border=\"1\" class=\"dataframe\">\n",
              "  <thead>\n",
              "    <tr style=\"text-align: right;\">\n",
              "      <th></th>\n",
              "      <th>text</th>\n",
              "      <th>toxic</th>\n",
              "    </tr>\n",
              "  </thead>\n",
              "  <tbody>\n",
              "    <tr>\n",
              "      <th>0</th>\n",
              "      <td>Explanation Why the edits made under my userna...</td>\n",
              "      <td>0</td>\n",
              "    </tr>\n",
              "    <tr>\n",
              "      <th>1</th>\n",
              "      <td>D'aww! He matches this background colour I am ...</td>\n",
              "      <td>0</td>\n",
              "    </tr>\n",
              "    <tr>\n",
              "      <th>2</th>\n",
              "      <td>Hey man, I am really not trying to edit war. I...</td>\n",
              "      <td>0</td>\n",
              "    </tr>\n",
              "    <tr>\n",
              "      <th>3</th>\n",
              "      <td>\" More I cannot make any real suggestions on i...</td>\n",
              "      <td>0</td>\n",
              "    </tr>\n",
              "    <tr>\n",
              "      <th>4</th>\n",
              "      <td>You, sir, are my hero. Any chance you remember...</td>\n",
              "      <td>0</td>\n",
              "    </tr>\n",
              "  </tbody>\n",
              "</table>\n",
              "</div>\n",
              "      <button class=\"colab-df-convert\" onclick=\"convertToInteractive('df-113343c6-29c3-424c-8997-83ec213db0ea')\"\n",
              "              title=\"Convert this dataframe to an interactive table.\"\n",
              "              style=\"display:none;\">\n",
              "        \n",
              "  <svg xmlns=\"http://www.w3.org/2000/svg\" height=\"24px\"viewBox=\"0 0 24 24\"\n",
              "       width=\"24px\">\n",
              "    <path d=\"M0 0h24v24H0V0z\" fill=\"none\"/>\n",
              "    <path d=\"M18.56 5.44l.94 2.06.94-2.06 2.06-.94-2.06-.94-.94-2.06-.94 2.06-2.06.94zm-11 1L8.5 8.5l.94-2.06 2.06-.94-2.06-.94L8.5 2.5l-.94 2.06-2.06.94zm10 10l.94 2.06.94-2.06 2.06-.94-2.06-.94-.94-2.06-.94 2.06-2.06.94z\"/><path d=\"M17.41 7.96l-1.37-1.37c-.4-.4-.92-.59-1.43-.59-.52 0-1.04.2-1.43.59L10.3 9.45l-7.72 7.72c-.78.78-.78 2.05 0 2.83L4 21.41c.39.39.9.59 1.41.59.51 0 1.02-.2 1.41-.59l7.78-7.78 2.81-2.81c.8-.78.8-2.07 0-2.86zM5.41 20L4 18.59l7.72-7.72 1.47 1.35L5.41 20z\"/>\n",
              "  </svg>\n",
              "      </button>\n",
              "      \n",
              "  <style>\n",
              "    .colab-df-container {\n",
              "      display:flex;\n",
              "      flex-wrap:wrap;\n",
              "      gap: 12px;\n",
              "    }\n",
              "\n",
              "    .colab-df-convert {\n",
              "      background-color: #E8F0FE;\n",
              "      border: none;\n",
              "      border-radius: 50%;\n",
              "      cursor: pointer;\n",
              "      display: none;\n",
              "      fill: #1967D2;\n",
              "      height: 32px;\n",
              "      padding: 0 0 0 0;\n",
              "      width: 32px;\n",
              "    }\n",
              "\n",
              "    .colab-df-convert:hover {\n",
              "      background-color: #E2EBFA;\n",
              "      box-shadow: 0px 1px 2px rgba(60, 64, 67, 0.3), 0px 1px 3px 1px rgba(60, 64, 67, 0.15);\n",
              "      fill: #174EA6;\n",
              "    }\n",
              "\n",
              "    [theme=dark] .colab-df-convert {\n",
              "      background-color: #3B4455;\n",
              "      fill: #D2E3FC;\n",
              "    }\n",
              "\n",
              "    [theme=dark] .colab-df-convert:hover {\n",
              "      background-color: #434B5C;\n",
              "      box-shadow: 0px 1px 3px 1px rgba(0, 0, 0, 0.15);\n",
              "      filter: drop-shadow(0px 1px 2px rgba(0, 0, 0, 0.3));\n",
              "      fill: #FFFFFF;\n",
              "    }\n",
              "  </style>\n",
              "\n",
              "      <script>\n",
              "        const buttonEl =\n",
              "          document.querySelector('#df-113343c6-29c3-424c-8997-83ec213db0ea button.colab-df-convert');\n",
              "        buttonEl.style.display =\n",
              "          google.colab.kernel.accessAllowed ? 'block' : 'none';\n",
              "\n",
              "        async function convertToInteractive(key) {\n",
              "          const element = document.querySelector('#df-113343c6-29c3-424c-8997-83ec213db0ea');\n",
              "          const dataTable =\n",
              "            await google.colab.kernel.invokeFunction('convertToInteractive',\n",
              "                                                     [key], {});\n",
              "          if (!dataTable) return;\n",
              "\n",
              "          const docLinkHtml = 'Like what you see? Visit the ' +\n",
              "            '<a target=\"_blank\" href=https://colab.research.google.com/notebooks/data_table.ipynb>data table notebook</a>'\n",
              "            + ' to learn more about interactive tables.';\n",
              "          element.innerHTML = '';\n",
              "          dataTable['output_type'] = 'display_data';\n",
              "          await google.colab.output.renderOutput(dataTable, element);\n",
              "          const docLink = document.createElement('div');\n",
              "          docLink.innerHTML = docLinkHtml;\n",
              "          element.appendChild(docLink);\n",
              "        }\n",
              "      </script>\n",
              "    </div>\n",
              "  </div>\n",
              "  "
            ]
          },
          "metadata": {},
          "execution_count": 20
        }
      ],
      "source": [
        "df.head()"
      ]
    },
    {
      "cell_type": "markdown",
      "metadata": {
        "id": "djQ6o2o62FZ9"
      },
      "source": [
        "<div class=\"alert alert-success\">\n",
        "<h2> Комментарий ревьюера <a class=\"tocSkip\"> </h2>\n",
        "<hr>\n",
        "<b>Верно!👍:</b> Молодец, что проверяешь результаты работы кода, если что-то пойдёт не так, то мы сможем это увидеть и отладить функцию.\n",
        "</div>"
      ]
    },
    {
      "cell_type": "markdown",
      "metadata": {
        "id": "AvPLG0LuCTcS"
      },
      "source": [
        "Переведем текст комментариев в нижний регистр и оставим только английские слова."
      ]
    },
    {
      "cell_type": "code",
      "execution_count": 21,
      "metadata": {
        "id": "XX9VEnfJCTcS"
      },
      "outputs": [],
      "source": [
        "df['text'] = df['text'].apply(str.lower)"
      ]
    },
    {
      "cell_type": "code",
      "execution_count": 22,
      "metadata": {
        "colab": {
          "base_uri": "https://localhost:8080/",
          "height": 635
        },
        "id": "92eGy_PP9T7K",
        "outputId": "f24dd6f3-9e6f-4b95-9345-b0b679b03d90"
      },
      "outputs": [
        {
          "output_type": "execute_result",
          "data": {
            "text/plain": [
              "                                                text  toxic\n",
              "0  explanation why the edits made under my userna...      0\n",
              "1  d'aww! he matches this background colour i am ...      0\n",
              "2  hey man, i am really not trying to edit war. i...      0\n",
              "3  \" more i cannot make any real suggestions on i...      0\n",
              "4  you, sir, are my hero. any chance you remember...      0"
            ],
            "text/html": [
              "\n",
              "  <div id=\"df-4f2c1c4f-eb3f-45ae-8a18-39b8de0a463c\">\n",
              "    <div class=\"colab-df-container\">\n",
              "      <div>\n",
              "<style scoped>\n",
              "    .dataframe tbody tr th:only-of-type {\n",
              "        vertical-align: middle;\n",
              "    }\n",
              "\n",
              "    .dataframe tbody tr th {\n",
              "        vertical-align: top;\n",
              "    }\n",
              "\n",
              "    .dataframe thead th {\n",
              "        text-align: right;\n",
              "    }\n",
              "</style>\n",
              "<table border=\"1\" class=\"dataframe\">\n",
              "  <thead>\n",
              "    <tr style=\"text-align: right;\">\n",
              "      <th></th>\n",
              "      <th>text</th>\n",
              "      <th>toxic</th>\n",
              "    </tr>\n",
              "  </thead>\n",
              "  <tbody>\n",
              "    <tr>\n",
              "      <th>0</th>\n",
              "      <td>explanation why the edits made under my userna...</td>\n",
              "      <td>0</td>\n",
              "    </tr>\n",
              "    <tr>\n",
              "      <th>1</th>\n",
              "      <td>d'aww! he matches this background colour i am ...</td>\n",
              "      <td>0</td>\n",
              "    </tr>\n",
              "    <tr>\n",
              "      <th>2</th>\n",
              "      <td>hey man, i am really not trying to edit war. i...</td>\n",
              "      <td>0</td>\n",
              "    </tr>\n",
              "    <tr>\n",
              "      <th>3</th>\n",
              "      <td>\" more i cannot make any real suggestions on i...</td>\n",
              "      <td>0</td>\n",
              "    </tr>\n",
              "    <tr>\n",
              "      <th>4</th>\n",
              "      <td>you, sir, are my hero. any chance you remember...</td>\n",
              "      <td>0</td>\n",
              "    </tr>\n",
              "  </tbody>\n",
              "</table>\n",
              "</div>\n",
              "      <button class=\"colab-df-convert\" onclick=\"convertToInteractive('df-4f2c1c4f-eb3f-45ae-8a18-39b8de0a463c')\"\n",
              "              title=\"Convert this dataframe to an interactive table.\"\n",
              "              style=\"display:none;\">\n",
              "        \n",
              "  <svg xmlns=\"http://www.w3.org/2000/svg\" height=\"24px\"viewBox=\"0 0 24 24\"\n",
              "       width=\"24px\">\n",
              "    <path d=\"M0 0h24v24H0V0z\" fill=\"none\"/>\n",
              "    <path d=\"M18.56 5.44l.94 2.06.94-2.06 2.06-.94-2.06-.94-.94-2.06-.94 2.06-2.06.94zm-11 1L8.5 8.5l.94-2.06 2.06-.94-2.06-.94L8.5 2.5l-.94 2.06-2.06.94zm10 10l.94 2.06.94-2.06 2.06-.94-2.06-.94-.94-2.06-.94 2.06-2.06.94z\"/><path d=\"M17.41 7.96l-1.37-1.37c-.4-.4-.92-.59-1.43-.59-.52 0-1.04.2-1.43.59L10.3 9.45l-7.72 7.72c-.78.78-.78 2.05 0 2.83L4 21.41c.39.39.9.59 1.41.59.51 0 1.02-.2 1.41-.59l7.78-7.78 2.81-2.81c.8-.78.8-2.07 0-2.86zM5.41 20L4 18.59l7.72-7.72 1.47 1.35L5.41 20z\"/>\n",
              "  </svg>\n",
              "      </button>\n",
              "      \n",
              "  <style>\n",
              "    .colab-df-container {\n",
              "      display:flex;\n",
              "      flex-wrap:wrap;\n",
              "      gap: 12px;\n",
              "    }\n",
              "\n",
              "    .colab-df-convert {\n",
              "      background-color: #E8F0FE;\n",
              "      border: none;\n",
              "      border-radius: 50%;\n",
              "      cursor: pointer;\n",
              "      display: none;\n",
              "      fill: #1967D2;\n",
              "      height: 32px;\n",
              "      padding: 0 0 0 0;\n",
              "      width: 32px;\n",
              "    }\n",
              "\n",
              "    .colab-df-convert:hover {\n",
              "      background-color: #E2EBFA;\n",
              "      box-shadow: 0px 1px 2px rgba(60, 64, 67, 0.3), 0px 1px 3px 1px rgba(60, 64, 67, 0.15);\n",
              "      fill: #174EA6;\n",
              "    }\n",
              "\n",
              "    [theme=dark] .colab-df-convert {\n",
              "      background-color: #3B4455;\n",
              "      fill: #D2E3FC;\n",
              "    }\n",
              "\n",
              "    [theme=dark] .colab-df-convert:hover {\n",
              "      background-color: #434B5C;\n",
              "      box-shadow: 0px 1px 3px 1px rgba(0, 0, 0, 0.15);\n",
              "      filter: drop-shadow(0px 1px 2px rgba(0, 0, 0, 0.3));\n",
              "      fill: #FFFFFF;\n",
              "    }\n",
              "  </style>\n",
              "\n",
              "      <script>\n",
              "        const buttonEl =\n",
              "          document.querySelector('#df-4f2c1c4f-eb3f-45ae-8a18-39b8de0a463c button.colab-df-convert');\n",
              "        buttonEl.style.display =\n",
              "          google.colab.kernel.accessAllowed ? 'block' : 'none';\n",
              "\n",
              "        async function convertToInteractive(key) {\n",
              "          const element = document.querySelector('#df-4f2c1c4f-eb3f-45ae-8a18-39b8de0a463c');\n",
              "          const dataTable =\n",
              "            await google.colab.kernel.invokeFunction('convertToInteractive',\n",
              "                                                     [key], {});\n",
              "          if (!dataTable) return;\n",
              "\n",
              "          const docLinkHtml = 'Like what you see? Visit the ' +\n",
              "            '<a target=\"_blank\" href=https://colab.research.google.com/notebooks/data_table.ipynb>data table notebook</a>'\n",
              "            + ' to learn more about interactive tables.';\n",
              "          element.innerHTML = '';\n",
              "          dataTable['output_type'] = 'display_data';\n",
              "          await google.colab.output.renderOutput(dataTable, element);\n",
              "          const docLink = document.createElement('div');\n",
              "          docLink.innerHTML = docLinkHtml;\n",
              "          element.appendChild(docLink);\n",
              "        }\n",
              "      </script>\n",
              "    </div>\n",
              "  </div>\n",
              "  "
            ]
          },
          "metadata": {},
          "execution_count": 22
        }
      ],
      "source": [
        "df.head()"
      ]
    },
    {
      "cell_type": "code",
      "execution_count": 23,
      "metadata": {
        "id": "4AqGpobvCTcT"
      },
      "outputs": [],
      "source": [
        "df['text'] = df['text'].transform(lambda x: re.sub(r'[^a-z ]', ' ', x))"
      ]
    },
    {
      "cell_type": "code",
      "execution_count": 24,
      "metadata": {
        "colab": {
          "base_uri": "https://localhost:8080/",
          "height": 635
        },
        "id": "omBNTbDIrmJE",
        "outputId": "08982623-4188-46ae-8433-cd4e2e68e000"
      },
      "outputs": [
        {
          "output_type": "execute_result",
          "data": {
            "text/plain": [
              "                                                text  toxic\n",
              "0  explanation why the edits made under my userna...      0\n",
              "1  d aww  he matches this background colour i am ...      0\n",
              "2  hey man  i am really not trying to edit war  i...      0\n",
              "3    more i cannot make any real suggestions on i...      0\n",
              "4  you  sir  are my hero  any chance you remember...      0"
            ],
            "text/html": [
              "\n",
              "  <div id=\"df-8c40f042-e55f-403d-a609-4b59433019b0\">\n",
              "    <div class=\"colab-df-container\">\n",
              "      <div>\n",
              "<style scoped>\n",
              "    .dataframe tbody tr th:only-of-type {\n",
              "        vertical-align: middle;\n",
              "    }\n",
              "\n",
              "    .dataframe tbody tr th {\n",
              "        vertical-align: top;\n",
              "    }\n",
              "\n",
              "    .dataframe thead th {\n",
              "        text-align: right;\n",
              "    }\n",
              "</style>\n",
              "<table border=\"1\" class=\"dataframe\">\n",
              "  <thead>\n",
              "    <tr style=\"text-align: right;\">\n",
              "      <th></th>\n",
              "      <th>text</th>\n",
              "      <th>toxic</th>\n",
              "    </tr>\n",
              "  </thead>\n",
              "  <tbody>\n",
              "    <tr>\n",
              "      <th>0</th>\n",
              "      <td>explanation why the edits made under my userna...</td>\n",
              "      <td>0</td>\n",
              "    </tr>\n",
              "    <tr>\n",
              "      <th>1</th>\n",
              "      <td>d aww  he matches this background colour i am ...</td>\n",
              "      <td>0</td>\n",
              "    </tr>\n",
              "    <tr>\n",
              "      <th>2</th>\n",
              "      <td>hey man  i am really not trying to edit war  i...</td>\n",
              "      <td>0</td>\n",
              "    </tr>\n",
              "    <tr>\n",
              "      <th>3</th>\n",
              "      <td>more i cannot make any real suggestions on i...</td>\n",
              "      <td>0</td>\n",
              "    </tr>\n",
              "    <tr>\n",
              "      <th>4</th>\n",
              "      <td>you  sir  are my hero  any chance you remember...</td>\n",
              "      <td>0</td>\n",
              "    </tr>\n",
              "  </tbody>\n",
              "</table>\n",
              "</div>\n",
              "      <button class=\"colab-df-convert\" onclick=\"convertToInteractive('df-8c40f042-e55f-403d-a609-4b59433019b0')\"\n",
              "              title=\"Convert this dataframe to an interactive table.\"\n",
              "              style=\"display:none;\">\n",
              "        \n",
              "  <svg xmlns=\"http://www.w3.org/2000/svg\" height=\"24px\"viewBox=\"0 0 24 24\"\n",
              "       width=\"24px\">\n",
              "    <path d=\"M0 0h24v24H0V0z\" fill=\"none\"/>\n",
              "    <path d=\"M18.56 5.44l.94 2.06.94-2.06 2.06-.94-2.06-.94-.94-2.06-.94 2.06-2.06.94zm-11 1L8.5 8.5l.94-2.06 2.06-.94-2.06-.94L8.5 2.5l-.94 2.06-2.06.94zm10 10l.94 2.06.94-2.06 2.06-.94-2.06-.94-.94-2.06-.94 2.06-2.06.94z\"/><path d=\"M17.41 7.96l-1.37-1.37c-.4-.4-.92-.59-1.43-.59-.52 0-1.04.2-1.43.59L10.3 9.45l-7.72 7.72c-.78.78-.78 2.05 0 2.83L4 21.41c.39.39.9.59 1.41.59.51 0 1.02-.2 1.41-.59l7.78-7.78 2.81-2.81c.8-.78.8-2.07 0-2.86zM5.41 20L4 18.59l7.72-7.72 1.47 1.35L5.41 20z\"/>\n",
              "  </svg>\n",
              "      </button>\n",
              "      \n",
              "  <style>\n",
              "    .colab-df-container {\n",
              "      display:flex;\n",
              "      flex-wrap:wrap;\n",
              "      gap: 12px;\n",
              "    }\n",
              "\n",
              "    .colab-df-convert {\n",
              "      background-color: #E8F0FE;\n",
              "      border: none;\n",
              "      border-radius: 50%;\n",
              "      cursor: pointer;\n",
              "      display: none;\n",
              "      fill: #1967D2;\n",
              "      height: 32px;\n",
              "      padding: 0 0 0 0;\n",
              "      width: 32px;\n",
              "    }\n",
              "\n",
              "    .colab-df-convert:hover {\n",
              "      background-color: #E2EBFA;\n",
              "      box-shadow: 0px 1px 2px rgba(60, 64, 67, 0.3), 0px 1px 3px 1px rgba(60, 64, 67, 0.15);\n",
              "      fill: #174EA6;\n",
              "    }\n",
              "\n",
              "    [theme=dark] .colab-df-convert {\n",
              "      background-color: #3B4455;\n",
              "      fill: #D2E3FC;\n",
              "    }\n",
              "\n",
              "    [theme=dark] .colab-df-convert:hover {\n",
              "      background-color: #434B5C;\n",
              "      box-shadow: 0px 1px 3px 1px rgba(0, 0, 0, 0.15);\n",
              "      filter: drop-shadow(0px 1px 2px rgba(0, 0, 0, 0.3));\n",
              "      fill: #FFFFFF;\n",
              "    }\n",
              "  </style>\n",
              "\n",
              "      <script>\n",
              "        const buttonEl =\n",
              "          document.querySelector('#df-8c40f042-e55f-403d-a609-4b59433019b0 button.colab-df-convert');\n",
              "        buttonEl.style.display =\n",
              "          google.colab.kernel.accessAllowed ? 'block' : 'none';\n",
              "\n",
              "        async function convertToInteractive(key) {\n",
              "          const element = document.querySelector('#df-8c40f042-e55f-403d-a609-4b59433019b0');\n",
              "          const dataTable =\n",
              "            await google.colab.kernel.invokeFunction('convertToInteractive',\n",
              "                                                     [key], {});\n",
              "          if (!dataTable) return;\n",
              "\n",
              "          const docLinkHtml = 'Like what you see? Visit the ' +\n",
              "            '<a target=\"_blank\" href=https://colab.research.google.com/notebooks/data_table.ipynb>data table notebook</a>'\n",
              "            + ' to learn more about interactive tables.';\n",
              "          element.innerHTML = '';\n",
              "          dataTable['output_type'] = 'display_data';\n",
              "          await google.colab.output.renderOutput(dataTable, element);\n",
              "          const docLink = document.createElement('div');\n",
              "          docLink.innerHTML = docLinkHtml;\n",
              "          element.appendChild(docLink);\n",
              "        }\n",
              "      </script>\n",
              "    </div>\n",
              "  </div>\n",
              "  "
            ]
          },
          "metadata": {},
          "execution_count": 24
        }
      ],
      "source": [
        "df.head()"
      ]
    },
    {
      "cell_type": "markdown",
      "metadata": {
        "id": "4yBLcssSCTcT"
      },
      "source": [
        "Не будем переводить данные в кодировку Юникод, так как у нас английский текст в ASCII."
      ]
    },
    {
      "cell_type": "code",
      "execution_count": 25,
      "metadata": {
        "id": "1TFt96DSCTcT"
      },
      "outputs": [],
      "source": [
        "# df['text'] = df['text'].astype('U')"
      ]
    },
    {
      "cell_type": "markdown",
      "metadata": {
        "id": "55SbCcMT2FZ_"
      },
      "source": [
        "<div class=\"alert alert-block alert-danger\">\n",
        "<h2> Комментарий ревьюера <a class=\"tocSkip\"></h2>\n",
        "<hr>  \n",
        "<b>Обрати внимание🤔:</b>  В теории и тренажере русский текст, там перевод оправдан. В нашем случае перевод в юникод увеличит количество потребляемой памяти, ядро в Практикуме может при этом падать, пожалуйста, не используй его.\n",
        "</div></div>"
      ]
    },
    {
      "cell_type": "markdown",
      "metadata": {
        "id": "KaJtmb-p2FZ_"
      },
      "source": [
        "#### Комментарии\n",
        "<div class=\"alert alert-info\">\n",
        "<b>Комментарий студента 2 итерация</b>\n",
        "\n",
        "Точно, я как-то на автомате перевела в Юникод и не задумалась, что оставила уже только ASCII в тексте.\n",
        "</div>"
      ]
    },
    {
      "cell_type": "markdown",
      "metadata": {
        "id": "ew2OvRu77g7X"
      },
      "source": [
        "### Лемматизация"
      ]
    },
    {
      "cell_type": "markdown",
      "metadata": {
        "id": "0QnmyM_hCTcU"
      },
      "source": [
        "Проведем лемматизацию комментариев [с соответствующим POS-тегом](https://webdevblog.ru/podhody-lemmatizacii-s-primerami-v-python/)."
      ]
    },
    {
      "cell_type": "markdown",
      "metadata": {
        "id": "VIS0nKGW2FaA"
      },
      "source": [
        "<div class=\"alert alert-success\">\n",
        "<h2> Комментарий ревьюера <a class=\"tocSkip\"> </h2>\n",
        "<hr>\n",
        "<b>Верно!👍:</b> Хороший материал выбран тобой для ознакомления :)\n",
        "</div>"
      ]
    },
    {
      "cell_type": "code",
      "execution_count": 26,
      "metadata": {
        "id": "tnYcrtwxCTcV"
      },
      "outputs": [],
      "source": [
        "def get_wordnet_pos(word):\n",
        "    \"\"\"Map POS tag to first character lemmatize() accepts\"\"\"\n",
        "    tag = nltk.pos_tag([word])[0][1][0].upper()\n",
        "    tag_dict = {\"J\": wordnet.ADJ,\n",
        "                \"N\": wordnet.NOUN,\n",
        "                \"V\": wordnet.VERB,\n",
        "                \"R\": wordnet.ADV}\n",
        "    return tag_dict.get(tag, wordnet.NOUN)"
      ]
    },
    {
      "cell_type": "code",
      "execution_count": 27,
      "metadata": {
        "id": "_HKGAjxiCTcV"
      },
      "outputs": [],
      "source": [
        "lemmatizer = WordNetLemmatizer()"
      ]
    },
    {
      "cell_type": "markdown",
      "metadata": {
        "id": "e6rYUalH2FaC"
      },
      "source": [
        "#### Комментарии\n",
        "<div class=\"alert alert-info\">\n",
        "<b>Комментарий студента 2 итерация</b>\n",
        "    \n",
        "Закомментила код лемматизации и добавила чтение файла с Гугл диска.\n",
        "</div>"
      ]
    },
    {
      "cell_type": "markdown",
      "metadata": {
        "id": "Kkjn0vzY2FaC"
      },
      "source": [
        "Лемматизация занимает примерно 22 минуты, поэтому мы однажды прогнали этот код и выгрузили новый `.csv` файл с уже лемматизированным текстом. Теперь мы код лемматизации закомментируем и подгрузим с Гугл диска уже готовый документ с лемматизацией."
      ]
    },
    {
      "cell_type": "code",
      "execution_count": 28,
      "metadata": {
        "id": "yhOKgV9gCTcV",
        "scrolled": true
      },
      "outputs": [],
      "source": [
        "# %%time\n",
        "# df['text'] = df['text'].transform(lambda x: ' '.join([lemmatizer.lemmatize(w, get_wordnet_pos(w)) for w in x.split()]))"
      ]
    },
    {
      "cell_type": "code",
      "execution_count": 29,
      "metadata": {
        "id": "801IZoaE2FaD"
      },
      "outputs": [],
      "source": [
        "try:\n",
        "    df = pd.read_csv(path4,\n",
        "                    index_col=0)\n",
        "except Exception as err:\n",
        "    try:\n",
        "        df = pd.read_csv(url, \n",
        "                         index_col=0\n",
        "#                          engine='python'\n",
        "                        )\n",
        "    except Exception as err:\n",
        "        print('Ошибка чтения файла df:', repr(err))"
      ]
    },
    {
      "cell_type": "code",
      "execution_count": 30,
      "metadata": {
        "scrolled": true,
        "colab": {
          "base_uri": "https://localhost:8080/",
          "height": 652
        },
        "id": "eihX_-an2FaD",
        "outputId": "6e4ab1d8-08fd-47b2-f7c5-b563912648b9"
      },
      "outputs": [
        {
          "output_type": "execute_result",
          "data": {
            "text/plain": [
              "                                                text  toxic\n",
              "0  explanation why the edits make under my userna...      0\n",
              "1  d aww he match this background colour i be see...      0\n",
              "2  hey man i be really not try to edit war it be ...      0\n",
              "3  more i cannot make any real suggestion on impr...      0\n",
              "4  you sir be my hero any chance you remember wha...      0"
            ],
            "text/html": [
              "\n",
              "  <div id=\"df-77c8f5a1-b1c8-4296-a76f-9385171dd768\">\n",
              "    <div class=\"colab-df-container\">\n",
              "      <div>\n",
              "<style scoped>\n",
              "    .dataframe tbody tr th:only-of-type {\n",
              "        vertical-align: middle;\n",
              "    }\n",
              "\n",
              "    .dataframe tbody tr th {\n",
              "        vertical-align: top;\n",
              "    }\n",
              "\n",
              "    .dataframe thead th {\n",
              "        text-align: right;\n",
              "    }\n",
              "</style>\n",
              "<table border=\"1\" class=\"dataframe\">\n",
              "  <thead>\n",
              "    <tr style=\"text-align: right;\">\n",
              "      <th></th>\n",
              "      <th>text</th>\n",
              "      <th>toxic</th>\n",
              "    </tr>\n",
              "  </thead>\n",
              "  <tbody>\n",
              "    <tr>\n",
              "      <th>0</th>\n",
              "      <td>explanation why the edits make under my userna...</td>\n",
              "      <td>0</td>\n",
              "    </tr>\n",
              "    <tr>\n",
              "      <th>1</th>\n",
              "      <td>d aww he match this background colour i be see...</td>\n",
              "      <td>0</td>\n",
              "    </tr>\n",
              "    <tr>\n",
              "      <th>2</th>\n",
              "      <td>hey man i be really not try to edit war it be ...</td>\n",
              "      <td>0</td>\n",
              "    </tr>\n",
              "    <tr>\n",
              "      <th>3</th>\n",
              "      <td>more i cannot make any real suggestion on impr...</td>\n",
              "      <td>0</td>\n",
              "    </tr>\n",
              "    <tr>\n",
              "      <th>4</th>\n",
              "      <td>you sir be my hero any chance you remember wha...</td>\n",
              "      <td>0</td>\n",
              "    </tr>\n",
              "  </tbody>\n",
              "</table>\n",
              "</div>\n",
              "      <button class=\"colab-df-convert\" onclick=\"convertToInteractive('df-77c8f5a1-b1c8-4296-a76f-9385171dd768')\"\n",
              "              title=\"Convert this dataframe to an interactive table.\"\n",
              "              style=\"display:none;\">\n",
              "        \n",
              "  <svg xmlns=\"http://www.w3.org/2000/svg\" height=\"24px\"viewBox=\"0 0 24 24\"\n",
              "       width=\"24px\">\n",
              "    <path d=\"M0 0h24v24H0V0z\" fill=\"none\"/>\n",
              "    <path d=\"M18.56 5.44l.94 2.06.94-2.06 2.06-.94-2.06-.94-.94-2.06-.94 2.06-2.06.94zm-11 1L8.5 8.5l.94-2.06 2.06-.94-2.06-.94L8.5 2.5l-.94 2.06-2.06.94zm10 10l.94 2.06.94-2.06 2.06-.94-2.06-.94-.94-2.06-.94 2.06-2.06.94z\"/><path d=\"M17.41 7.96l-1.37-1.37c-.4-.4-.92-.59-1.43-.59-.52 0-1.04.2-1.43.59L10.3 9.45l-7.72 7.72c-.78.78-.78 2.05 0 2.83L4 21.41c.39.39.9.59 1.41.59.51 0 1.02-.2 1.41-.59l7.78-7.78 2.81-2.81c.8-.78.8-2.07 0-2.86zM5.41 20L4 18.59l7.72-7.72 1.47 1.35L5.41 20z\"/>\n",
              "  </svg>\n",
              "      </button>\n",
              "      \n",
              "  <style>\n",
              "    .colab-df-container {\n",
              "      display:flex;\n",
              "      flex-wrap:wrap;\n",
              "      gap: 12px;\n",
              "    }\n",
              "\n",
              "    .colab-df-convert {\n",
              "      background-color: #E8F0FE;\n",
              "      border: none;\n",
              "      border-radius: 50%;\n",
              "      cursor: pointer;\n",
              "      display: none;\n",
              "      fill: #1967D2;\n",
              "      height: 32px;\n",
              "      padding: 0 0 0 0;\n",
              "      width: 32px;\n",
              "    }\n",
              "\n",
              "    .colab-df-convert:hover {\n",
              "      background-color: #E2EBFA;\n",
              "      box-shadow: 0px 1px 2px rgba(60, 64, 67, 0.3), 0px 1px 3px 1px rgba(60, 64, 67, 0.15);\n",
              "      fill: #174EA6;\n",
              "    }\n",
              "\n",
              "    [theme=dark] .colab-df-convert {\n",
              "      background-color: #3B4455;\n",
              "      fill: #D2E3FC;\n",
              "    }\n",
              "\n",
              "    [theme=dark] .colab-df-convert:hover {\n",
              "      background-color: #434B5C;\n",
              "      box-shadow: 0px 1px 3px 1px rgba(0, 0, 0, 0.15);\n",
              "      filter: drop-shadow(0px 1px 2px rgba(0, 0, 0, 0.3));\n",
              "      fill: #FFFFFF;\n",
              "    }\n",
              "  </style>\n",
              "\n",
              "      <script>\n",
              "        const buttonEl =\n",
              "          document.querySelector('#df-77c8f5a1-b1c8-4296-a76f-9385171dd768 button.colab-df-convert');\n",
              "        buttonEl.style.display =\n",
              "          google.colab.kernel.accessAllowed ? 'block' : 'none';\n",
              "\n",
              "        async function convertToInteractive(key) {\n",
              "          const element = document.querySelector('#df-77c8f5a1-b1c8-4296-a76f-9385171dd768');\n",
              "          const dataTable =\n",
              "            await google.colab.kernel.invokeFunction('convertToInteractive',\n",
              "                                                     [key], {});\n",
              "          if (!dataTable) return;\n",
              "\n",
              "          const docLinkHtml = 'Like what you see? Visit the ' +\n",
              "            '<a target=\"_blank\" href=https://colab.research.google.com/notebooks/data_table.ipynb>data table notebook</a>'\n",
              "            + ' to learn more about interactive tables.';\n",
              "          element.innerHTML = '';\n",
              "          dataTable['output_type'] = 'display_data';\n",
              "          await google.colab.output.renderOutput(dataTable, element);\n",
              "          const docLink = document.createElement('div');\n",
              "          docLink.innerHTML = docLinkHtml;\n",
              "          element.appendChild(docLink);\n",
              "        }\n",
              "      </script>\n",
              "    </div>\n",
              "  </div>\n",
              "  "
            ]
          },
          "metadata": {},
          "execution_count": 30
        }
      ],
      "source": [
        "df.head()"
      ]
    },
    {
      "cell_type": "markdown",
      "metadata": {
        "id": "tm3WjYcL2FaE"
      },
      "source": [
        "После предобработки проверим таблицу на пропуски."
      ]
    },
    {
      "cell_type": "code",
      "execution_count": 31,
      "metadata": {
        "id": "v3Ye1ODy2FaE"
      },
      "outputs": [],
      "source": [
        "def display_missing(data):\n",
        "    try:\n",
        "        display(data.stb.missing(style=True))\n",
        "    except Exception as err:\n",
        "        try:\n",
        "            display(data.isna().sum())\n",
        "        except Exception as err:\n",
        "            print('Ошибка чтения файла df:', repr(err))"
      ]
    },
    {
      "cell_type": "code",
      "execution_count": 32,
      "metadata": {
        "colab": {
          "base_uri": "https://localhost:8080/",
          "height": 132
        },
        "id": "-Hh4633d2FaE",
        "outputId": "169715cf-1d51-49d7-e08a-511b2bce45c4"
      },
      "outputs": [
        {
          "output_type": "display_data",
          "data": {
            "text/plain": [
              "<pandas.io.formats.style.Styler at 0x7ff5596ba8d0>"
            ],
            "text/html": [
              "<style type=\"text/css\">\n",
              "</style>\n",
              "<table id=\"T_f0857_\" class=\"dataframe\">\n",
              "  <thead>\n",
              "    <tr>\n",
              "      <th class=\"blank level0\" >&nbsp;</th>\n",
              "      <th class=\"col_heading level0 col0\" >missing</th>\n",
              "      <th class=\"col_heading level0 col1\" >total</th>\n",
              "      <th class=\"col_heading level0 col2\" >percent</th>\n",
              "    </tr>\n",
              "  </thead>\n",
              "  <tbody>\n",
              "    <tr>\n",
              "      <th id=\"T_f0857_level0_row0\" class=\"row_heading level0 row0\" >text</th>\n",
              "      <td id=\"T_f0857_row0_col0\" class=\"data row0 col0\" >93</td>\n",
              "      <td id=\"T_f0857_row0_col1\" class=\"data row0 col1\" >159,571</td>\n",
              "      <td id=\"T_f0857_row0_col2\" class=\"data row0 col2\" >0.06%</td>\n",
              "    </tr>\n",
              "    <tr>\n",
              "      <th id=\"T_f0857_level0_row1\" class=\"row_heading level0 row1\" >toxic</th>\n",
              "      <td id=\"T_f0857_row1_col0\" class=\"data row1 col0\" >0</td>\n",
              "      <td id=\"T_f0857_row1_col1\" class=\"data row1 col1\" >159,571</td>\n",
              "      <td id=\"T_f0857_row1_col2\" class=\"data row1 col2\" >0.00%</td>\n",
              "    </tr>\n",
              "  </tbody>\n",
              "</table>\n"
            ]
          },
          "metadata": {}
        }
      ],
      "source": [
        "display_missing(df)"
      ]
    },
    {
      "cell_type": "markdown",
      "metadata": {
        "id": "kxUTiOhBXqAi"
      },
      "source": [
        "Удалим образовавшиеся пропуски в данных после удаления ссылок и/или стоп-слов."
      ]
    },
    {
      "cell_type": "code",
      "execution_count": 33,
      "metadata": {
        "id": "2ERP8Dja9YFP",
        "scrolled": true
      },
      "outputs": [],
      "source": [
        "df.dropna(inplace=True)"
      ]
    },
    {
      "cell_type": "markdown",
      "metadata": {
        "id": "JM9TVBQ22FaG"
      },
      "source": [
        "<div class=\"alert alert-warning\">\n",
        "    <h2> Комментарий ревьюера <a class=\"tocSkip\"> </h2>\n",
        "<hr>    \n",
        "<b>Совет💡:</b> Обычно лучше долю пропусков в данных оценивать, чем абсолютное значение (тут понятно, что ожидаем 0 увидеть в любом случае, и проверяем 0/не 0): мы число строк подвыборки, как правило, анализируем в контексте размера всей выборки. Например, 100 пропущенных значений из 200 и 100 из 100 000 — две совершенно разные ситуации.\n",
        "</div></div>"
      ]
    },
    {
      "cell_type": "markdown",
      "metadata": {
        "id": "8k08-u4F2FaG"
      },
      "source": [
        "#### Комментарии\n",
        "<div class=\"alert alert-info\">\n",
        "<b>Комментарий студента 2 итерация</b>\n",
        "\n",
        "Исправила выше.\n",
        "</div>"
      ]
    },
    {
      "cell_type": "markdown",
      "metadata": {
        "id": "NpXKoHpy2FaH"
      },
      "source": [
        "Разделим данные на тренировочный, валидационный и тестовый набор."
      ]
    },
    {
      "cell_type": "code",
      "execution_count": 34,
      "metadata": {
        "id": "82A4N5NfXljf"
      },
      "outputs": [],
      "source": [
        "X_train_valid, X_test, target_train_valid, target_test = train_test_split(\n",
        "    df['text'],\n",
        "    df['toxic'],\n",
        "    test_size=0.2,\n",
        "    random_state=STATE,\n",
        "    stratify=df['toxic']\n",
        ") \n",
        "X_train, X_valid, target_train, target_valid = train_test_split(\n",
        "    X_train_valid,\n",
        "    target_train_valid,\n",
        "    test_size=0.25,\n",
        "    random_state=STATE,\n",
        "    stratify=target_train_valid\n",
        ") "
      ]
    },
    {
      "cell_type": "markdown",
      "metadata": {
        "id": "SrhT8NXm2FaH"
      },
      "source": [
        "<div class=\"alert alert-success\">\n",
        "<h2> Комментарий ревьюера <a class=\"tocSkip\"> </h2>\n",
        "<hr>\n",
        "<b>Верно!👍:</b> Когда какой-то класс представлен заметно реже, чем другой, есть вероятность, что в какую-то из выборок не попадут соответствующие объекты (или почти не попадут), что приведёт к проблемам при обучении или, скорее всего, контроль качества будет необъективным.\n",
        "</div>"
      ]
    },
    {
      "cell_type": "markdown",
      "metadata": {
        "id": "Z51gt_I42FaI"
      },
      "source": [
        "Проверим процентное содержание токсичных комментариев в каждой из выборок."
      ]
    },
    {
      "cell_type": "code",
      "execution_count": 35,
      "metadata": {
        "colab": {
          "base_uri": "https://localhost:8080/"
        },
        "id": "8A_vuVg8nFHo",
        "outputId": "8727d127-287f-4fcc-8a3a-262e0a5a3bf9",
        "scrolled": true
      },
      "outputs": [
        {
          "output_type": "execute_result",
          "data": {
            "text/plain": [
              "(0.10169146117790911,\n",
              " 0.10168676713416801,\n",
              " 0.10170554301479809,\n",
              " 0.10167419112114372)"
            ]
          },
          "metadata": {},
          "execution_count": 35
        }
      ],
      "source": [
        "target_train_valid.mean(), target_train.mean(), target_valid.mean(), target_test.mean()"
      ]
    },
    {
      "cell_type": "markdown",
      "metadata": {
        "id": "AeotYcXl2FaJ"
      },
      "source": [
        "В каждой выборке примерно по 10% токсичных комментариев, что согласуется с общей таблицей."
      ]
    },
    {
      "cell_type": "markdown",
      "metadata": {
        "id": "_GuySv342FaJ"
      },
      "source": [
        "<div class=\"alert alert-warning\">\n",
        "    <h2> Комментарий ревьюера <a class=\"tocSkip\"> </h2>\n",
        "<hr>    \n",
        "<b>Совет💡:</b> Тут мы выводим числа без пояснений каких либо в тексте/при печати на экран. Молодец, что проверяешь корректность работы кода, но сейчас эти цифры могут вызвать вопросы и придётся вникать в код, чтобы разобраться, что мы выводим.\n",
        "</div></div>"
      ]
    },
    {
      "cell_type": "markdown",
      "metadata": {
        "id": "A5pjqHeA2FaJ"
      },
      "source": [
        "#### Комментарии\n",
        "<div class=\"alert alert-info\">\n",
        "<b>Комментарий студента 2 итерация</b>\n",
        "Полностью согласна, мой косяк. Исправила выше.\n",
        "</div>"
      ]
    },
    {
      "cell_type": "markdown",
      "metadata": {
        "id": "CyeIIP5wpqn7"
      },
      "source": [
        "### Масштабирование данных с помощью TF-IDF."
      ]
    },
    {
      "cell_type": "markdown",
      "metadata": {
        "id": "zqpB7VCeCTcU"
      },
      "source": [
        "При построении пайплайна будем проводить токенизацию комментариев с построением словаря важности известных слов, использовав стоп-слова."
      ]
    },
    {
      "cell_type": "markdown",
      "metadata": {
        "id": "rTphIcHi2FaK"
      },
      "source": [
        "<div class=\"alert alert-success\">\n",
        "<h2> Комментарий ревьюера <a class=\"tocSkip\"> </h2>\n",
        "<hr>\n",
        "<b>Верно!👍:</b> Хороший метод кодирования, здорово, что планируешь использовать <code>pipeline</code>, это верный подход, чтобы для обучения векторизатора использовать только обучающие данные.\n",
        "    \n",
        "Если мы заранее трансформируем всю обучающую выборку, которую потом используем для кросс-валидации, получится не очень хорошо. Для мешков, например, это не страшно, для слов, которых нет в обучающих блоках, при обучении будут нули и мы ничего не подглядим, но TF-IDF при расчёте значимости «подсмотрит» в валидационные данные.\n",
        "</div>"
      ]
    },
    {
      "cell_type": "code",
      "execution_count": 36,
      "metadata": {
        "id": "ApK2AHUC_Ooi",
        "scrolled": false
      },
      "outputs": [],
      "source": [
        "stop_words = set(stopwords.words('english'))\n",
        "\n",
        "stop_words = set([lemmatizer.lemmatize(w, get_wordnet_pos(w)) for w in stop_words])"
      ]
    },
    {
      "cell_type": "code",
      "execution_count": 37,
      "metadata": {
        "id": "vJdj8zWApoyr"
      },
      "outputs": [],
      "source": [
        "count_tf_idf = TfidfVectorizer()"
      ]
    },
    {
      "cell_type": "markdown",
      "metadata": {
        "id": "YpkbX2g92FaL"
      },
      "source": [
        "Выведем размер получившихся выборок."
      ]
    },
    {
      "cell_type": "code",
      "execution_count": 38,
      "metadata": {
        "colab": {
          "base_uri": "https://localhost:8080/"
        },
        "id": "aghSIXA5tUX7",
        "outputId": "285a5157-b58e-4ad2-ccb6-7f667508bebb"
      },
      "outputs": [
        {
          "output_type": "execute_result",
          "data": {
            "text/plain": [
              "((95686,), (31896,), (127582,), (31896,))"
            ]
          },
          "metadata": {},
          "execution_count": 38
        }
      ],
      "source": [
        "X_train.shape, X_valid.shape, X_train_valid.shape, X_test.shape "
      ]
    },
    {
      "cell_type": "markdown",
      "metadata": {
        "id": "TWsII1KnCTcY"
      },
      "source": [
        "## Обучение"
      ]
    },
    {
      "cell_type": "markdown",
      "metadata": {
        "id": "S3jPLRaF0dyn"
      },
      "source": [
        "### Качество прогноза"
      ]
    },
    {
      "cell_type": "markdown",
      "metadata": {
        "id": "4OKsTER70fhb"
      },
      "source": [
        "Для обучения моделей нам понадобится оценить качество прогноза.\n",
        "\n",
        "У нас есть четкое требование к качеству: значение метрики качества `F1` не меньше 0.75. "
      ]
    },
    {
      "cell_type": "code",
      "execution_count": 39,
      "metadata": {
        "colab": {
          "base_uri": "https://localhost:8080/"
        },
        "id": "3IG6en4D02ve",
        "outputId": "02195a7a-0448-470e-ffee-acbf9905d8b3"
      },
      "outputs": [
        {
          "output_type": "stream",
          "name": "stdout",
          "text": [
            "Метрики на baseline-модели:\n",
            "F1: 0.108\n",
            "accuracy: 0.815\n"
          ]
        }
      ],
      "source": [
        "dummy = DummyClassifier(\n",
        "    strategy = 'stratified', \n",
        "    random_state = STATE\n",
        "    )\n",
        "dummy.fit(X_train, target_train)\n",
        "\n",
        "f1_dummy = f1_score(target_valid, dummy.predict(X_valid))\n",
        "\n",
        "score = dummy.score(X_valid, target_valid)\n",
        "print(f'Метрики на baseline-модели:\\nF1: {f1_dummy:.3f}\\naccuracy: {score:.3f}')"
      ]
    },
    {
      "cell_type": "markdown",
      "metadata": {
        "id": "pJ_9Ktku2FaO"
      },
      "source": [
        "Видим, что модель точно предсказала токсичность 82% комментариев, однако метрика F1 достаточно низкая, похоже, имеем дело с большим количеством ошибок первого и второго рода."
      ]
    },
    {
      "cell_type": "markdown",
      "metadata": {
        "id": "PxWFTYpz2FaP"
      },
      "source": [
        "<div class=\"alert alert-warning\">\n",
        "    <h2> Комментарий ревьюера <a class=\"tocSkip\"> </h2>\n",
        "<hr>    \n",
        "<b>Совет💡:</b> Тут точно надо бы прокомментировать вывод при печати на экран. Какая метрика выводится вторым числом? Почему значения так различаются, как ты думаешь?\n",
        "</div></div>"
      ]
    },
    {
      "cell_type": "markdown",
      "metadata": {
        "id": "izFyTeIb2FaP"
      },
      "source": [
        "#### Комментарии\n",
        "<div class=\"alert alert-info\">\n",
        "<b>Комментарий студента 2 итерация</b>\n",
        "Да, согласна) Исправила выше. Правильные рассуждения или их нужно как-то подробнее объяснить?\n",
        "</div>"
      ]
    },
    {
      "cell_type": "code",
      "execution_count": 40,
      "metadata": {
        "colab": {
          "base_uri": "https://localhost:8080/",
          "height": 145
        },
        "id": "Qmjmo4jz0aP3",
        "outputId": "8e3463f8-4cae-4cc0-c26c-e7d991854f58"
      },
      "outputs": [
        {
          "output_type": "execute_result",
          "data": {
            "text/plain": [
              "      valid_F1\n",
              "dummy    0.108"
            ],
            "text/html": [
              "\n",
              "  <div id=\"df-276fb0df-3af4-4d35-a216-bf055807c492\">\n",
              "    <div class=\"colab-df-container\">\n",
              "      <div>\n",
              "<style scoped>\n",
              "    .dataframe tbody tr th:only-of-type {\n",
              "        vertical-align: middle;\n",
              "    }\n",
              "\n",
              "    .dataframe tbody tr th {\n",
              "        vertical-align: top;\n",
              "    }\n",
              "\n",
              "    .dataframe thead th {\n",
              "        text-align: right;\n",
              "    }\n",
              "</style>\n",
              "<table border=\"1\" class=\"dataframe\">\n",
              "  <thead>\n",
              "    <tr style=\"text-align: right;\">\n",
              "      <th></th>\n",
              "      <th>valid_F1</th>\n",
              "    </tr>\n",
              "  </thead>\n",
              "  <tbody>\n",
              "    <tr>\n",
              "      <th>dummy</th>\n",
              "      <td>0.108</td>\n",
              "    </tr>\n",
              "  </tbody>\n",
              "</table>\n",
              "</div>\n",
              "      <button class=\"colab-df-convert\" onclick=\"convertToInteractive('df-276fb0df-3af4-4d35-a216-bf055807c492')\"\n",
              "              title=\"Convert this dataframe to an interactive table.\"\n",
              "              style=\"display:none;\">\n",
              "        \n",
              "  <svg xmlns=\"http://www.w3.org/2000/svg\" height=\"24px\"viewBox=\"0 0 24 24\"\n",
              "       width=\"24px\">\n",
              "    <path d=\"M0 0h24v24H0V0z\" fill=\"none\"/>\n",
              "    <path d=\"M18.56 5.44l.94 2.06.94-2.06 2.06-.94-2.06-.94-.94-2.06-.94 2.06-2.06.94zm-11 1L8.5 8.5l.94-2.06 2.06-.94-2.06-.94L8.5 2.5l-.94 2.06-2.06.94zm10 10l.94 2.06.94-2.06 2.06-.94-2.06-.94-.94-2.06-.94 2.06-2.06.94z\"/><path d=\"M17.41 7.96l-1.37-1.37c-.4-.4-.92-.59-1.43-.59-.52 0-1.04.2-1.43.59L10.3 9.45l-7.72 7.72c-.78.78-.78 2.05 0 2.83L4 21.41c.39.39.9.59 1.41.59.51 0 1.02-.2 1.41-.59l7.78-7.78 2.81-2.81c.8-.78.8-2.07 0-2.86zM5.41 20L4 18.59l7.72-7.72 1.47 1.35L5.41 20z\"/>\n",
              "  </svg>\n",
              "      </button>\n",
              "      \n",
              "  <style>\n",
              "    .colab-df-container {\n",
              "      display:flex;\n",
              "      flex-wrap:wrap;\n",
              "      gap: 12px;\n",
              "    }\n",
              "\n",
              "    .colab-df-convert {\n",
              "      background-color: #E8F0FE;\n",
              "      border: none;\n",
              "      border-radius: 50%;\n",
              "      cursor: pointer;\n",
              "      display: none;\n",
              "      fill: #1967D2;\n",
              "      height: 32px;\n",
              "      padding: 0 0 0 0;\n",
              "      width: 32px;\n",
              "    }\n",
              "\n",
              "    .colab-df-convert:hover {\n",
              "      background-color: #E2EBFA;\n",
              "      box-shadow: 0px 1px 2px rgba(60, 64, 67, 0.3), 0px 1px 3px 1px rgba(60, 64, 67, 0.15);\n",
              "      fill: #174EA6;\n",
              "    }\n",
              "\n",
              "    [theme=dark] .colab-df-convert {\n",
              "      background-color: #3B4455;\n",
              "      fill: #D2E3FC;\n",
              "    }\n",
              "\n",
              "    [theme=dark] .colab-df-convert:hover {\n",
              "      background-color: #434B5C;\n",
              "      box-shadow: 0px 1px 3px 1px rgba(0, 0, 0, 0.15);\n",
              "      filter: drop-shadow(0px 1px 2px rgba(0, 0, 0, 0.3));\n",
              "      fill: #FFFFFF;\n",
              "    }\n",
              "  </style>\n",
              "\n",
              "      <script>\n",
              "        const buttonEl =\n",
              "          document.querySelector('#df-276fb0df-3af4-4d35-a216-bf055807c492 button.colab-df-convert');\n",
              "        buttonEl.style.display =\n",
              "          google.colab.kernel.accessAllowed ? 'block' : 'none';\n",
              "\n",
              "        async function convertToInteractive(key) {\n",
              "          const element = document.querySelector('#df-276fb0df-3af4-4d35-a216-bf055807c492');\n",
              "          const dataTable =\n",
              "            await google.colab.kernel.invokeFunction('convertToInteractive',\n",
              "                                                     [key], {});\n",
              "          if (!dataTable) return;\n",
              "\n",
              "          const docLinkHtml = 'Like what you see? Visit the ' +\n",
              "            '<a target=\"_blank\" href=https://colab.research.google.com/notebooks/data_table.ipynb>data table notebook</a>'\n",
              "            + ' to learn more about interactive tables.';\n",
              "          element.innerHTML = '';\n",
              "          dataTable['output_type'] = 'display_data';\n",
              "          await google.colab.output.renderOutput(dataTable, element);\n",
              "          const docLink = document.createElement('div');\n",
              "          docLink.innerHTML = docLinkHtml;\n",
              "          element.appendChild(docLink);\n",
              "        }\n",
              "      </script>\n",
              "    </div>\n",
              "  </div>\n",
              "  "
            ]
          },
          "metadata": {},
          "execution_count": 40
        }
      ],
      "source": [
        "results = pd.DataFrame(columns=['valid_F1'])\n",
        "results.loc['dummy', 'valid_F1'] = round(f1_dummy, 3)\n",
        "results"
      ]
    },
    {
      "cell_type": "markdown",
      "metadata": {
        "id": "c-NBoffY2FaS"
      },
      "source": [
        "<div class=\"alert alert-success\">\n",
        "<h2> Комментарий ревьюера <a class=\"tocSkip\"> </h2>\n",
        "<hr>\n",
        "<b>Верно!👍:</b> baseline-модель есть. Здорово, что результат собран в красивую и наглядную таблицу :)\n",
        "</div>\n"
      ]
    },
    {
      "cell_type": "markdown",
      "metadata": {
        "id": "U6At3rfwwJtk"
      },
      "source": [
        "### Модель логистической регрессии"
      ]
    },
    {
      "cell_type": "markdown",
      "metadata": {
        "id": "kwnCBr305jkY"
      },
      "source": [
        "Построим пайплайн для модели логистической регрессии.\n",
        "\n",
        "Для модели будем использовать только те токены, которые встречаются по крайней мере в **трех документах** (токен, который встретился только в одном-двух документах, вряд ли встретится в тестовом наборе и поэтому бесполезен). С помощью параметра `min_df` мы можем задать минимальное количество документов, в котором должен появиться токен.\n",
        "\n"
      ]
    },
    {
      "cell_type": "code",
      "execution_count": 41,
      "metadata": {
        "id": "EB8PrDQrwIxU"
      },
      "outputs": [],
      "source": [
        "pipe_lr = Pipeline([\n",
        "    ('vectorizer', count_tf_idf),\n",
        "    ('model', LogisticRegression()),\n",
        "\n",
        "])\n",
        "\n",
        "params_lr = [\n",
        "    {\n",
        "        'vectorizer__stop_words': [stop_words],\n",
        "        'vectorizer__ngram_range': [(1, 2)],\n",
        "        'vectorizer__min_df': [3],\n",
        "        'vectorizer__max_df': [\n",
        "                               0.7, \n",
        "                              #  0.8\n",
        "                               ],\n",
        "        # 'vectorizer__max_features': [80000, None],\n",
        "        'model': [LogisticRegression()],\n",
        "        # 'model__solver': ['saga'],\n",
        "#         'model__class_weight': ['balanced', {0:1, 1:3}],\n",
        "        'model__class_weight': [{0:1, 1:3}],\n",
        "        'model__n_jobs': [-1],\n",
        "        'model__random_state': [STATE],\n",
        "        # 'model__C': np.logspace(-3,3,7), # before\n",
        "        # # 'model__C': [0.01], # after\n",
        "        # 'model__penalty': [\n",
        "                          #  'elasticnet', \n",
        "                          #  'l1', \n",
        "                          #  'l2', \n",
        "                          #  'none'\n",
        "                          #  ], # before\n",
        "        # # 'model__penalty': ['l1'], # after\n",
        "        'model__max_iter': [100000]\n",
        "\n",
        "    },\n",
        "]\n",
        "\n",
        "# cv = StratifiedKFold(n_splits=3, shuffle=True, random_state=STATE)\n",
        "cv = KFold(n_splits=3, shuffle=True, random_state=STATE)"
      ]
    },
    {
      "cell_type": "markdown",
      "metadata": {
        "id": "jrvUnO2J2FaT"
      },
      "source": [
        "#### Комментарии\n",
        "<div class=\"alert alert-info\">\n",
        "<b>Комментарий студента 2 итерация</b>\n",
        "Гиперпараметры, которые я подбирала или пыталась прикрутить-привентить, оставляю обычно закомментированными, чтобы можно было оценить, что я делала в рамках проекта.\n",
        "</div>"
      ]
    },
    {
      "cell_type": "code",
      "execution_count": 42,
      "metadata": {
        "id": "0Extt-tVBLKW"
      },
      "outputs": [],
      "source": [
        "grid_lr = GridSearchCV(pipe_lr, param_grid=params_lr, cv=cv, n_jobs=-1, scoring='f1', verbose=2)"
      ]
    },
    {
      "cell_type": "code",
      "execution_count": 43,
      "metadata": {
        "colab": {
          "base_uri": "https://localhost:8080/"
        },
        "id": "LdCKEP1kDb3F",
        "outputId": "98cb2c8e-8ba7-4322-de08-e932b9b4cece",
        "scrolled": false
      },
      "outputs": [
        {
          "output_type": "stream",
          "name": "stdout",
          "text": [
            "Fitting 3 folds for each of 1 candidates, totalling 3 fits\n",
            "CPU times: user 12.3 s, sys: 534 ms, total: 12.8 s\n",
            "Wall time: 44 s\n"
          ]
        },
        {
          "output_type": "execute_result",
          "data": {
            "text/plain": [
              "GridSearchCV(cv=KFold(n_splits=3, random_state=12345, shuffle=True),\n",
              "             estimator=Pipeline(steps=[('vectorizer', TfidfVectorizer()),\n",
              "                                       ('model', LogisticRegression())]),\n",
              "             n_jobs=-1,\n",
              "             param_grid=[{'model': [LogisticRegression(class_weight={0: 1,\n",
              "                                                                     1: 3},\n",
              "                                                       max_iter=100000,\n",
              "                                                       n_jobs=-1,\n",
              "                                                       random_state=12345)],\n",
              "                          'model__class_weight': [{0: 1, 1: 3}],\n",
              "                          'model__max_iter': [100000], 'model__n_...\n",
              "                          'vectorizer__max_df': [0.7],\n",
              "                          'vectorizer__min_df': [3],\n",
              "                          'vectorizer__ngram_range': [(1, 2)],\n",
              "                          'vectorizer__stop_words': [{'a', 'about', 'above',\n",
              "                                                      'after', 'again',\n",
              "                                                      'against', 'ain', 'all',\n",
              "                                                      'an', 'and', 'any',\n",
              "                                                      'aren', \"aren't\", 'at',\n",
              "                                                      'be', 'because', 'before',\n",
              "                                                      'below', 'between',\n",
              "                                                      'both', 'but', 'by',\n",
              "                                                      'can', 'couldn',\n",
              "                                                      \"couldn't\", 'd', 'didn',\n",
              "                                                      \"didn't\", 'do', 'doesn', ...}]}],\n",
              "             scoring='f1', verbose=2)"
            ]
          },
          "metadata": {},
          "execution_count": 43
        }
      ],
      "source": [
        "%%time\n",
        "grid_lr.fit(X_train_valid, target_train_valid)"
      ]
    },
    {
      "cell_type": "code",
      "execution_count": 44,
      "metadata": {
        "colab": {
          "base_uri": "https://localhost:8080/"
        },
        "id": "o8Qh4X9ZHYaf",
        "outputId": "1b471694-9bc7-4292-b99e-9401563f255c"
      },
      "outputs": [
        {
          "output_type": "stream",
          "name": "stdout",
          "text": [
            "Best Params: {'model': LogisticRegression(class_weight={0: 1, 1: 3}, max_iter=100000, n_jobs=-1,\n",
            "                   random_state=12345), 'model__class_weight': {0: 1, 1: 3}, 'model__max_iter': 100000, 'model__n_jobs': -1, 'model__random_state': 12345, 'vectorizer__max_df': 0.7, 'vectorizer__min_df': 3, 'vectorizer__ngram_range': (1, 2), 'vectorizer__stop_words': {'about', 'have', 'which', 'before', \"aren't\", \"isn't\", 'with', 'into', 'or', 'hasn', 'will', 'up', 'from', 'my', 'their', 'very', 'ours', 'yourselves', \"that'll\", 'when', 'some', \"you're\", 'couldn', 'how', 'her', 'won', 'should', 'd', 'it', 'too', 'himself', 'than', 'where', 'ma', 'most', 'll', \"you've\", 'haven', 'what', 'here', 'themselves', 'above', 'to', 'because', 'just', 'below', 'isn', \"you'll\", 'myself', 'who', 'between', 'in', 'until', 'me', 'and', 'aren', 'these', 'more', 'they', 'weren', 'again', 'whom', 'a', 'm', \"wouldn't\", 'after', 'no', 'theirs', 'under', 'our', \"doesn't\", 'shouldn', 'an', 're', 'out', 'yours', \"didn't\", 'be', 'we', \"you'd\", 'of', 'ain', 'doesn', 'he', \"won't\", 'wasn', 'but', \"mightn't\", 'only', 'yourself', 'needn', 'wouldn', 'for', \"it's\", 'don', 'why', \"mustn't\", 'you', 'o', 'do', 'if', 'nor', 'own', 'ourselves', 'few', 'against', 'shan', 'your', 'his', 'she', 'while', 'that', \"wasn't\", \"hasn't\", 'through', \"needn't\", 'hers', 'itself', 've', 'those', 'didn', 'down', 'can', 'off', 'there', 'now', 'at', 'y', 'mightn', 's', 'all', 'such', 'mustn', 'on', 'both', \"she's\", \"should've\", 'each', 'so', 'same', \"haven't\", \"couldn't\", 'far', 'any', 'i', 'then', 'hadn', 'this', 'by', 't', \"weren't\", \"shan't\", 'him', 'herself', \"shouldn't\", 'other', \"don't\", 'not', \"hadn't\", 'over', 'once', 'them', 'the', 'during'}}\n",
            "\n",
            "Best F1 Score: 0.7747429935614877\n"
          ]
        }
      ],
      "source": [
        "lr_f1 = grid_lr.best_score_\n",
        "print('Best Params:', grid_lr.best_params_)\n",
        "print()\n",
        "print('Best F1 Score:', lr_f1)"
      ]
    },
    {
      "cell_type": "markdown",
      "metadata": {
        "id": "lKPDJK-n2FaU"
      },
      "source": [
        "<div class=\"alert alert-warning\">\n",
        "    <h2> Комментарий ревьюера <a class=\"tocSkip\"> </h2>\n",
        "<hr>    \n",
        "<b>Совет💡:</b> Интересно получилось, вроде бы обрабатывали сокращения, а всё равно получили <code>needn't</code> в топе слов.\n",
        "</div></div>"
      ]
    },
    {
      "cell_type": "markdown",
      "metadata": {
        "id": "bAkTWQgN2FaU"
      },
      "source": [
        "#### Комментарии\n",
        "<div class=\"alert alert-info\">\n",
        "<b>Комментарий студента 2 итерация</b>\n",
        "Согласна, выглядит странно)) \n",
        "    \n",
        "Это не топ слов, это **список стоп-слов**, я их лемматизировала, но не все захотели это сделать - те, которые оказались в одинарных кавычках - после лемматизации, а те, которые в двойных - её не прошли. Так как я до этого данные предобработала и убрала слова с сокращениями и отрицаниями, то решила, что наличие подобных в стоп-словах можно допустить, ведь они никак не повлияют на работу модели.\n",
        "</div>"
      ]
    },
    {
      "cell_type": "markdown",
      "metadata": {
        "id": "JVitBWFLIAL4"
      },
      "source": [
        "Кросс-валидацией нашли лучшую модель, сохраним ее."
      ]
    },
    {
      "cell_type": "code",
      "execution_count": 45,
      "metadata": {
        "colab": {
          "base_uri": "https://localhost:8080/"
        },
        "id": "GE1tbNbAH_Y0",
        "outputId": "8c51f76b-140e-4f54-b9bb-963f66156976"
      },
      "outputs": [
        {
          "output_type": "stream",
          "name": "stdout",
          "text": [
            "F1 для модели логистической регрессии равно 0.774\n",
            "CPU times: user 11.3 s, sys: 220 ms, total: 11.5 s\n",
            "Wall time: 19.9 s\n"
          ]
        }
      ],
      "source": [
        "%%time\n",
        "lr_model = grid_lr.best_estimator_\n",
        "\n",
        "lr_model.fit(X_train, target_train)\n",
        "lr_predicts = lr_model.predict(X_valid)\n",
        "f1_lr = f1_score(target_valid, lr_predicts)\n",
        "print(f'F1 для модели логистической регрессии равно {f1_lr:.3f}')"
      ]
    },
    {
      "cell_type": "code",
      "execution_count": 46,
      "metadata": {
        "colab": {
          "base_uri": "https://localhost:8080/",
          "height": 193
        },
        "id": "sB2WwMwjJZOE",
        "outputId": "f16e66f5-eeef-4c2e-f15c-40844d67b494"
      },
      "outputs": [
        {
          "output_type": "execute_result",
          "data": {
            "text/plain": [
              "                    valid_F1\n",
              "dummy                  0.108\n",
              "logistic regression    0.774"
            ],
            "text/html": [
              "\n",
              "  <div id=\"df-74947528-2e0f-49ee-ace9-bc6d6d680fb1\">\n",
              "    <div class=\"colab-df-container\">\n",
              "      <div>\n",
              "<style scoped>\n",
              "    .dataframe tbody tr th:only-of-type {\n",
              "        vertical-align: middle;\n",
              "    }\n",
              "\n",
              "    .dataframe tbody tr th {\n",
              "        vertical-align: top;\n",
              "    }\n",
              "\n",
              "    .dataframe thead th {\n",
              "        text-align: right;\n",
              "    }\n",
              "</style>\n",
              "<table border=\"1\" class=\"dataframe\">\n",
              "  <thead>\n",
              "    <tr style=\"text-align: right;\">\n",
              "      <th></th>\n",
              "      <th>valid_F1</th>\n",
              "    </tr>\n",
              "  </thead>\n",
              "  <tbody>\n",
              "    <tr>\n",
              "      <th>dummy</th>\n",
              "      <td>0.108</td>\n",
              "    </tr>\n",
              "    <tr>\n",
              "      <th>logistic regression</th>\n",
              "      <td>0.774</td>\n",
              "    </tr>\n",
              "  </tbody>\n",
              "</table>\n",
              "</div>\n",
              "      <button class=\"colab-df-convert\" onclick=\"convertToInteractive('df-74947528-2e0f-49ee-ace9-bc6d6d680fb1')\"\n",
              "              title=\"Convert this dataframe to an interactive table.\"\n",
              "              style=\"display:none;\">\n",
              "        \n",
              "  <svg xmlns=\"http://www.w3.org/2000/svg\" height=\"24px\"viewBox=\"0 0 24 24\"\n",
              "       width=\"24px\">\n",
              "    <path d=\"M0 0h24v24H0V0z\" fill=\"none\"/>\n",
              "    <path d=\"M18.56 5.44l.94 2.06.94-2.06 2.06-.94-2.06-.94-.94-2.06-.94 2.06-2.06.94zm-11 1L8.5 8.5l.94-2.06 2.06-.94-2.06-.94L8.5 2.5l-.94 2.06-2.06.94zm10 10l.94 2.06.94-2.06 2.06-.94-2.06-.94-.94-2.06-.94 2.06-2.06.94z\"/><path d=\"M17.41 7.96l-1.37-1.37c-.4-.4-.92-.59-1.43-.59-.52 0-1.04.2-1.43.59L10.3 9.45l-7.72 7.72c-.78.78-.78 2.05 0 2.83L4 21.41c.39.39.9.59 1.41.59.51 0 1.02-.2 1.41-.59l7.78-7.78 2.81-2.81c.8-.78.8-2.07 0-2.86zM5.41 20L4 18.59l7.72-7.72 1.47 1.35L5.41 20z\"/>\n",
              "  </svg>\n",
              "      </button>\n",
              "      \n",
              "  <style>\n",
              "    .colab-df-container {\n",
              "      display:flex;\n",
              "      flex-wrap:wrap;\n",
              "      gap: 12px;\n",
              "    }\n",
              "\n",
              "    .colab-df-convert {\n",
              "      background-color: #E8F0FE;\n",
              "      border: none;\n",
              "      border-radius: 50%;\n",
              "      cursor: pointer;\n",
              "      display: none;\n",
              "      fill: #1967D2;\n",
              "      height: 32px;\n",
              "      padding: 0 0 0 0;\n",
              "      width: 32px;\n",
              "    }\n",
              "\n",
              "    .colab-df-convert:hover {\n",
              "      background-color: #E2EBFA;\n",
              "      box-shadow: 0px 1px 2px rgba(60, 64, 67, 0.3), 0px 1px 3px 1px rgba(60, 64, 67, 0.15);\n",
              "      fill: #174EA6;\n",
              "    }\n",
              "\n",
              "    [theme=dark] .colab-df-convert {\n",
              "      background-color: #3B4455;\n",
              "      fill: #D2E3FC;\n",
              "    }\n",
              "\n",
              "    [theme=dark] .colab-df-convert:hover {\n",
              "      background-color: #434B5C;\n",
              "      box-shadow: 0px 1px 3px 1px rgba(0, 0, 0, 0.15);\n",
              "      filter: drop-shadow(0px 1px 2px rgba(0, 0, 0, 0.3));\n",
              "      fill: #FFFFFF;\n",
              "    }\n",
              "  </style>\n",
              "\n",
              "      <script>\n",
              "        const buttonEl =\n",
              "          document.querySelector('#df-74947528-2e0f-49ee-ace9-bc6d6d680fb1 button.colab-df-convert');\n",
              "        buttonEl.style.display =\n",
              "          google.colab.kernel.accessAllowed ? 'block' : 'none';\n",
              "\n",
              "        async function convertToInteractive(key) {\n",
              "          const element = document.querySelector('#df-74947528-2e0f-49ee-ace9-bc6d6d680fb1');\n",
              "          const dataTable =\n",
              "            await google.colab.kernel.invokeFunction('convertToInteractive',\n",
              "                                                     [key], {});\n",
              "          if (!dataTable) return;\n",
              "\n",
              "          const docLinkHtml = 'Like what you see? Visit the ' +\n",
              "            '<a target=\"_blank\" href=https://colab.research.google.com/notebooks/data_table.ipynb>data table notebook</a>'\n",
              "            + ' to learn more about interactive tables.';\n",
              "          element.innerHTML = '';\n",
              "          dataTable['output_type'] = 'display_data';\n",
              "          await google.colab.output.renderOutput(dataTable, element);\n",
              "          const docLink = document.createElement('div');\n",
              "          docLink.innerHTML = docLinkHtml;\n",
              "          element.appendChild(docLink);\n",
              "        }\n",
              "      </script>\n",
              "    </div>\n",
              "  </div>\n",
              "  "
            ]
          },
          "metadata": {},
          "execution_count": 46
        }
      ],
      "source": [
        "results.loc['logistic regression', 'valid_F1'] = round(f1_lr, 3)\n",
        "results"
      ]
    },
    {
      "cell_type": "markdown",
      "metadata": {
        "id": "hBc5s1P22FaV"
      },
      "source": [
        "<div class=\"alert alert-success\">\n",
        "<h2> Комментарий ревьюера <a class=\"tocSkip\"> </h2>\n",
        "<hr>\n",
        "<b>Верно!👍:</b> Отлично, довольно наглядно.\n",
        "</div>"
      ]
    },
    {
      "cell_type": "markdown",
      "metadata": {
        "id": "vKYtmA5CIKSv"
      },
      "source": [
        "### Модель линейных опорных векторов\n"
      ]
    },
    {
      "cell_type": "markdown",
      "metadata": {
        "id": "-s7oFco8Pi1l"
      },
      "source": [
        "Построим пайплайн для модели линейных опорных векторов.\n",
        "\n",
        "<!-- Тут честно признаюсь, что терпения моего не хватило и воспользовалась помощью коллеги Захара с более мощным компом, спросив, что у него показали многочасовые расчеты. -->"
      ]
    },
    {
      "cell_type": "code",
      "execution_count": 47,
      "metadata": {
        "id": "qLYUhHkyPiD8"
      },
      "outputs": [],
      "source": [
        "pipe_svc = Pipeline([\n",
        "    ('vectorizer', count_tf_idf),\n",
        "    ('model', LinearSVC()),\n",
        "\n",
        "\n",
        "])\n",
        "\n",
        "params_svc = [\n",
        "    {\n",
        "        'vectorizer__stop_words': [stop_words],\n",
        "        'vectorizer__ngram_range': [(1, 2)],\n",
        "        'vectorizer__min_df': [3],\n",
        "        # 'vectorizer__max_df': [0.7, 0.8],\n",
        "        'vectorizer__max_df': [0.7],     \n",
        "        # 'vectorizer__max_features': [80000, None],\n",
        "        'vectorizer__max_features': [80000],     \n",
        "        # 'model': [SVC()],\n",
        "        'model': [LinearSVC()],\n",
        "        # 'model__class_weight': ['balanced', {0:1, 1:3}],\n",
        "        'model__class_weight': [{0:1, 1:3}],\n",
        "        # 'model__n_jobs': [-1],\n",
        "        'model__random_state': [STATE],\n",
        "        # 'model__C': np.logspace(-3,3,7),\n",
        "        'model__C': [0.1], # after\n",
        "        # 'model__penalty': ['l1', 'l2'],\n",
        "        'model__penalty': ['l2'],\n",
        "        'model__max_iter': [100000],\n",
        "        'model__tol': [1e-10]\n",
        "\n",
        "    },\n",
        "]"
      ]
    },
    {
      "cell_type": "code",
      "execution_count": 48,
      "metadata": {
        "id": "_FU7YZvephDT"
      },
      "outputs": [],
      "source": [
        "grid_svc = GridSearchCV(pipe_svc, param_grid=params_svc, cv=cv, n_jobs=-1, scoring='f1', verbose=2)"
      ]
    },
    {
      "cell_type": "code",
      "execution_count": 49,
      "metadata": {
        "colab": {
          "base_uri": "https://localhost:8080/"
        },
        "id": "6Fi6DYZkIJSK",
        "outputId": "12af4ae9-bc18-44b7-cecb-aba0a6cc276c",
        "scrolled": false
      },
      "outputs": [
        {
          "output_type": "stream",
          "name": "stdout",
          "text": [
            "Fitting 3 folds for each of 1 candidates, totalling 3 fits\n",
            "CPU times: user 19 s, sys: 272 ms, total: 19.3 s\n",
            "Wall time: 39.6 s\n"
          ]
        },
        {
          "output_type": "execute_result",
          "data": {
            "text/plain": [
              "GridSearchCV(cv=KFold(n_splits=3, random_state=12345, shuffle=True),\n",
              "             estimator=Pipeline(steps=[('vectorizer', TfidfVectorizer()),\n",
              "                                       ('model', LinearSVC())]),\n",
              "             n_jobs=-1,\n",
              "             param_grid=[{'model': [LinearSVC(C=0.1, class_weight={0: 1, 1: 3},\n",
              "                                              max_iter=100000,\n",
              "                                              random_state=12345, tol=1e-10)],\n",
              "                          'model__C': [0.1],\n",
              "                          'model__class_weight': [{0: 1, 1: 3}],\n",
              "                          'model__max_iter': [100000], 'mode...\n",
              "                          'vectorizer__max_features': [80000],\n",
              "                          'vectorizer__min_df': [3],\n",
              "                          'vectorizer__ngram_range': [(1, 2)],\n",
              "                          'vectorizer__stop_words': [{'a', 'about', 'above',\n",
              "                                                      'after', 'again',\n",
              "                                                      'against', 'ain', 'all',\n",
              "                                                      'an', 'and', 'any',\n",
              "                                                      'aren', \"aren't\", 'at',\n",
              "                                                      'be', 'because', 'before',\n",
              "                                                      'below', 'between',\n",
              "                                                      'both', 'but', 'by',\n",
              "                                                      'can', 'couldn',\n",
              "                                                      \"couldn't\", 'd', 'didn',\n",
              "                                                      \"didn't\", 'do', 'doesn', ...}]}],\n",
              "             scoring='f1', verbose=2)"
            ]
          },
          "metadata": {},
          "execution_count": 49
        }
      ],
      "source": [
        "%%time\n",
        "grid_svc.fit(X_train_valid, target_train_valid)"
      ]
    },
    {
      "cell_type": "code",
      "execution_count": 50,
      "metadata": {
        "colab": {
          "base_uri": "https://localhost:8080/"
        },
        "id": "LzCpkjmHqFmA",
        "outputId": "9e94f44a-4694-4847-b5af-5afb43172cb7"
      },
      "outputs": [
        {
          "output_type": "stream",
          "name": "stdout",
          "text": [
            "Best Params: {'model': LinearSVC(C=0.1, class_weight={0: 1, 1: 3}, max_iter=100000, random_state=12345,\n",
            "          tol=1e-10), 'model__C': 0.1, 'model__class_weight': {0: 1, 1: 3}, 'model__max_iter': 100000, 'model__penalty': 'l2', 'model__random_state': 12345, 'model__tol': 1e-10, 'vectorizer__max_df': 0.7, 'vectorizer__max_features': 80000, 'vectorizer__min_df': 3, 'vectorizer__ngram_range': (1, 2), 'vectorizer__stop_words': {'about', 'have', 'which', 'before', \"aren't\", \"isn't\", 'with', 'into', 'or', 'hasn', 'will', 'up', 'from', 'my', 'their', 'very', 'ours', 'yourselves', \"that'll\", 'when', 'some', \"you're\", 'couldn', 'how', 'her', 'won', 'should', 'd', 'it', 'too', 'himself', 'than', 'where', 'ma', 'most', 'll', \"you've\", 'haven', 'what', 'here', 'themselves', 'above', 'to', 'because', 'just', 'below', 'isn', \"you'll\", 'myself', 'who', 'between', 'in', 'until', 'me', 'and', 'aren', 'these', 'more', 'they', 'weren', 'again', 'whom', 'a', 'm', \"wouldn't\", 'after', 'no', 'theirs', 'under', 'our', \"doesn't\", 'shouldn', 'an', 're', 'out', 'yours', \"didn't\", 'be', 'we', \"you'd\", 'of', 'ain', 'doesn', 'he', \"won't\", 'wasn', 'but', \"mightn't\", 'only', 'yourself', 'needn', 'wouldn', 'for', \"it's\", 'don', 'why', \"mustn't\", 'you', 'o', 'do', 'if', 'nor', 'own', 'ourselves', 'few', 'against', 'shan', 'your', 'his', 'she', 'while', 'that', \"wasn't\", \"hasn't\", 'through', \"needn't\", 'hers', 'itself', 've', 'those', 'didn', 'down', 'can', 'off', 'there', 'now', 'at', 'y', 'mightn', 's', 'all', 'such', 'mustn', 'on', 'both', \"she's\", \"should've\", 'each', 'so', 'same', \"haven't\", \"couldn't\", 'far', 'any', 'i', 'then', 'hadn', 'this', 'by', 't', \"weren't\", \"shan't\", 'him', 'herself', \"shouldn't\", 'other', \"don't\", 'not', \"hadn't\", 'over', 'once', 'them', 'the', 'during'}}\n",
            "\n",
            "Best F1 Score: 0.7821902173320066\n"
          ]
        }
      ],
      "source": [
        "svc_f1 = grid_svc.best_score_\n",
        "print('Best Params:', grid_svc.best_params_)\n",
        "print()\n",
        "print('Best F1 Score:', svc_f1)"
      ]
    },
    {
      "cell_type": "markdown",
      "metadata": {
        "id": "WguhrcNn3ZAW"
      },
      "source": [
        "Кросс-валидацией нашли лучшую модель, сохраним ее."
      ]
    },
    {
      "cell_type": "code",
      "execution_count": 51,
      "metadata": {
        "colab": {
          "base_uri": "https://localhost:8080/"
        },
        "id": "AFMFeEwi3Xmt",
        "outputId": "36a87a82-66fd-4c5d-a85a-65a55ef93838"
      },
      "outputs": [
        {
          "output_type": "stream",
          "name": "stdout",
          "text": [
            "F1 для модели линейных опорных векторов равно 0.779\n",
            "CPU times: user 16.2 s, sys: 233 ms, total: 16.5 s\n",
            "Wall time: 16.4 s\n"
          ]
        }
      ],
      "source": [
        "%%time\n",
        "svc_model = grid_svc.best_estimator_\n",
        "\n",
        "svc_model.fit(X_train, target_train)\n",
        "svc_predicts = svc_model.predict(X_valid)\n",
        "f1_svc = f1_score(target_valid, svc_predicts)\n",
        "print(f'F1 для модели линейных опорных векторов равно {f1_svc:.3f}')"
      ]
    },
    {
      "cell_type": "markdown",
      "metadata": {
        "id": "8popMXbh2Faa"
      },
      "source": [
        "<div class=\"alert alert-warning\">\n",
        "    <h2> Комментарий ревьюера <a class=\"tocSkip\"> </h2>\n",
        "<hr>    \n",
        "<b>Совет💡:</b>\n",
        "        \n",
        "<a href='https://scikit-learn.org/stable/modules/generated/sklearn.model_selection.GridSearchCV.html'>![image.png](attachment:image.png)</a>\n",
        "        \n",
        "</div></div>"
      ]
    },
    {
      "cell_type": "markdown",
      "metadata": {
        "id": "mrRJPsre2Fab"
      },
      "source": [
        "#### Комментарии\n",
        "<div class=\"alert alert-info\">\n",
        "<b>Комментарий студента 2 итерация</b>\n",
        "Ни разу не использовала такой параметр)) Чуток можно будет сократить код в дальнейшей работе.\n",
        "</div>"
      ]
    },
    {
      "cell_type": "code",
      "execution_count": 52,
      "metadata": {
        "colab": {
          "base_uri": "https://localhost:8080/",
          "height": 225
        },
        "id": "ZmdemVBK34ht",
        "outputId": "83b86086-aeda-4184-e93b-415d6b270acf"
      },
      "outputs": [
        {
          "output_type": "execute_result",
          "data": {
            "text/plain": [
              "                    valid_F1\n",
              "dummy                  0.108\n",
              "logistic regression    0.774\n",
              "linear svc             0.779"
            ],
            "text/html": [
              "\n",
              "  <div id=\"df-ba120c7d-d5d5-49af-8335-2ebdb7cee725\">\n",
              "    <div class=\"colab-df-container\">\n",
              "      <div>\n",
              "<style scoped>\n",
              "    .dataframe tbody tr th:only-of-type {\n",
              "        vertical-align: middle;\n",
              "    }\n",
              "\n",
              "    .dataframe tbody tr th {\n",
              "        vertical-align: top;\n",
              "    }\n",
              "\n",
              "    .dataframe thead th {\n",
              "        text-align: right;\n",
              "    }\n",
              "</style>\n",
              "<table border=\"1\" class=\"dataframe\">\n",
              "  <thead>\n",
              "    <tr style=\"text-align: right;\">\n",
              "      <th></th>\n",
              "      <th>valid_F1</th>\n",
              "    </tr>\n",
              "  </thead>\n",
              "  <tbody>\n",
              "    <tr>\n",
              "      <th>dummy</th>\n",
              "      <td>0.108</td>\n",
              "    </tr>\n",
              "    <tr>\n",
              "      <th>logistic regression</th>\n",
              "      <td>0.774</td>\n",
              "    </tr>\n",
              "    <tr>\n",
              "      <th>linear svc</th>\n",
              "      <td>0.779</td>\n",
              "    </tr>\n",
              "  </tbody>\n",
              "</table>\n",
              "</div>\n",
              "      <button class=\"colab-df-convert\" onclick=\"convertToInteractive('df-ba120c7d-d5d5-49af-8335-2ebdb7cee725')\"\n",
              "              title=\"Convert this dataframe to an interactive table.\"\n",
              "              style=\"display:none;\">\n",
              "        \n",
              "  <svg xmlns=\"http://www.w3.org/2000/svg\" height=\"24px\"viewBox=\"0 0 24 24\"\n",
              "       width=\"24px\">\n",
              "    <path d=\"M0 0h24v24H0V0z\" fill=\"none\"/>\n",
              "    <path d=\"M18.56 5.44l.94 2.06.94-2.06 2.06-.94-2.06-.94-.94-2.06-.94 2.06-2.06.94zm-11 1L8.5 8.5l.94-2.06 2.06-.94-2.06-.94L8.5 2.5l-.94 2.06-2.06.94zm10 10l.94 2.06.94-2.06 2.06-.94-2.06-.94-.94-2.06-.94 2.06-2.06.94z\"/><path d=\"M17.41 7.96l-1.37-1.37c-.4-.4-.92-.59-1.43-.59-.52 0-1.04.2-1.43.59L10.3 9.45l-7.72 7.72c-.78.78-.78 2.05 0 2.83L4 21.41c.39.39.9.59 1.41.59.51 0 1.02-.2 1.41-.59l7.78-7.78 2.81-2.81c.8-.78.8-2.07 0-2.86zM5.41 20L4 18.59l7.72-7.72 1.47 1.35L5.41 20z\"/>\n",
              "  </svg>\n",
              "      </button>\n",
              "      \n",
              "  <style>\n",
              "    .colab-df-container {\n",
              "      display:flex;\n",
              "      flex-wrap:wrap;\n",
              "      gap: 12px;\n",
              "    }\n",
              "\n",
              "    .colab-df-convert {\n",
              "      background-color: #E8F0FE;\n",
              "      border: none;\n",
              "      border-radius: 50%;\n",
              "      cursor: pointer;\n",
              "      display: none;\n",
              "      fill: #1967D2;\n",
              "      height: 32px;\n",
              "      padding: 0 0 0 0;\n",
              "      width: 32px;\n",
              "    }\n",
              "\n",
              "    .colab-df-convert:hover {\n",
              "      background-color: #E2EBFA;\n",
              "      box-shadow: 0px 1px 2px rgba(60, 64, 67, 0.3), 0px 1px 3px 1px rgba(60, 64, 67, 0.15);\n",
              "      fill: #174EA6;\n",
              "    }\n",
              "\n",
              "    [theme=dark] .colab-df-convert {\n",
              "      background-color: #3B4455;\n",
              "      fill: #D2E3FC;\n",
              "    }\n",
              "\n",
              "    [theme=dark] .colab-df-convert:hover {\n",
              "      background-color: #434B5C;\n",
              "      box-shadow: 0px 1px 3px 1px rgba(0, 0, 0, 0.15);\n",
              "      filter: drop-shadow(0px 1px 2px rgba(0, 0, 0, 0.3));\n",
              "      fill: #FFFFFF;\n",
              "    }\n",
              "  </style>\n",
              "\n",
              "      <script>\n",
              "        const buttonEl =\n",
              "          document.querySelector('#df-ba120c7d-d5d5-49af-8335-2ebdb7cee725 button.colab-df-convert');\n",
              "        buttonEl.style.display =\n",
              "          google.colab.kernel.accessAllowed ? 'block' : 'none';\n",
              "\n",
              "        async function convertToInteractive(key) {\n",
              "          const element = document.querySelector('#df-ba120c7d-d5d5-49af-8335-2ebdb7cee725');\n",
              "          const dataTable =\n",
              "            await google.colab.kernel.invokeFunction('convertToInteractive',\n",
              "                                                     [key], {});\n",
              "          if (!dataTable) return;\n",
              "\n",
              "          const docLinkHtml = 'Like what you see? Visit the ' +\n",
              "            '<a target=\"_blank\" href=https://colab.research.google.com/notebooks/data_table.ipynb>data table notebook</a>'\n",
              "            + ' to learn more about interactive tables.';\n",
              "          element.innerHTML = '';\n",
              "          dataTable['output_type'] = 'display_data';\n",
              "          await google.colab.output.renderOutput(dataTable, element);\n",
              "          const docLink = document.createElement('div');\n",
              "          docLink.innerHTML = docLinkHtml;\n",
              "          element.appendChild(docLink);\n",
              "        }\n",
              "      </script>\n",
              "    </div>\n",
              "  </div>\n",
              "  "
            ]
          },
          "metadata": {},
          "execution_count": 52
        }
      ],
      "source": [
        "results.loc['linear svc', 'valid_F1'] = round(f1_svc, 3)\n",
        "results"
      ]
    },
    {
      "cell_type": "code",
      "execution_count": 53,
      "metadata": {
        "colab": {
          "base_uri": "https://localhost:8080/",
          "height": 54
        },
        "id": "-bnSGPil4DFx",
        "outputId": "19e74d78-ea61-41ea-d4d8-e70517174617",
        "scrolled": true
      },
      "outputs": [
        {
          "output_type": "display_data",
          "data": {
            "text/plain": [
              "<Figure size 864x288 with 1 Axes>"
            ],
            "image/png": "[encoded data removed]"
          },
          "metadata": {
            "needs_background": "light"
          }
        }
      ],
      "source": [
        "fig, ax = plt.subplots(figsize=(12, 4))\n",
        "plt.bar(results.index, results.valid_F1)\n",
        "plt.title('Проверка моделей на адекватность')\n",
        "plt.axhline(y=0.75, color='r', linestyle='--')\n",
        "plt.xlabel('Исследованные модели модели')\n",
        "plt.ylabel('Метрика качества F1')\n",
        "plt.show()"
      ]
    },
    {
      "cell_type": "markdown",
      "metadata": {
        "id": "dEfFjIDA2Fac"
      },
      "source": [
        "Пока максимальное качество показала модель линейных опорных векторов."
      ]
    },
    {
      "cell_type": "markdown",
      "metadata": {
        "id": "skPU7Pp32Fad"
      },
      "source": [
        "<div class=\"alert alert-success\">\n",
        "<h2> Комментарий ревьюера <a class=\"tocSkip\"> </h2>\n",
        "<hr>\n",
        "<b>Верно!👍:</b> Красотища :)\n",
        "</div>\n"
      ]
    },
    {
      "cell_type": "markdown",
      "metadata": {
        "id": "QX6x2TJI2Fad"
      },
      "source": [
        "#### Комментарии\n",
        "<div class=\"alert alert-info\">\n",
        "<b>Комментарий студента 2 итерация</b>\n",
        "Добавила подбор порога.\n",
        "</div>"
      ]
    },
    {
      "cell_type": "markdown",
      "metadata": {
        "id": "5QunitWN2Fad"
      },
      "source": [
        "### Подбор порога"
      ]
    },
    {
      "cell_type": "markdown",
      "metadata": {
        "id": "B67IGK_72Fad"
      },
      "source": [
        "Подобрать подходящий порог для наибольшей метрики качества мы сможем только для модели логистической регрессии, так как у модели линейных опорных векторов нет метода `.predict_proba()`."
      ]
    },
    {
      "cell_type": "markdown",
      "metadata": {
        "id": "vDAZ9yvR2Fae"
      },
      "source": [
        "Напишем функцию для подбора порога, при котором метрика качества F1 будет иметь максимальное значение."
      ]
    },
    {
      "cell_type": "code",
      "execution_count": 54,
      "metadata": {
        "id": "KEekiCEc2Fae"
      },
      "outputs": [],
      "source": [
        "def threshold_find(start, finish, step, probabilities_one, target, show=True):\n",
        "    '''функция перебирает указанные элементы диапазона для порога и возращает лучшее значение метрики F1\n",
        "    start, finish, step - начало, конец и шаг для перебора порога\n",
        "    probabilities_one_valid - вероятности положительного класса\n",
        "    target - значения целевого признака\n",
        "    show - выводить ли на экран значения всех метрик, по умолчанию - выводить'''\n",
        "    \n",
        "    f1 = 0\n",
        "    precision = 0\n",
        "    recall = 0\n",
        "    threshold = None\n",
        "    for step_threshold in np.arange(start, finish, step):\n",
        "        \n",
        "        predicted = probabilities_one > step_threshold\n",
        "        step_f1 = f1_score(target, predicted)\n",
        "        \n",
        "        if step_f1 > f1:\n",
        "            f1 = step_f1\n",
        "            precision = precision_score(target, predicted)\n",
        "            recall = recall_score(target, predicted)\n",
        "            threshold = step_threshold\n",
        "    if show == True:\n",
        "        print(\"Порог = {:.2f} | Полнота = {:.3f}, Точность = {:.3f}\".format(\n",
        "            threshold, recall, precision))\n",
        "        print('F1: {:.3f}'.format(f1))\n",
        "\n",
        "    return recall, precision, f1, threshold"
      ]
    },
    {
      "cell_type": "markdown",
      "metadata": {
        "id": "wAPeth392Faf"
      },
      "source": [
        "Подберем наиболее подходящий порог для модели логистической регрессии."
      ]
    },
    {
      "cell_type": "code",
      "execution_count": 55,
      "metadata": {
        "scrolled": true,
        "colab": {
          "base_uri": "https://localhost:8080/"
        },
        "id": "3Yk2QvTy2Faf",
        "outputId": "1e3ccb3a-3b57-450b-ac79-f735cae972bf"
      },
      "outputs": [
        {
          "output_type": "stream",
          "name": "stdout",
          "text": [
            "Порог = 0.52 | Полнота = 0.720, Точность = 0.843\n",
            "F1: 0.777\n"
          ]
        }
      ],
      "source": [
        "lr_probabilities_one_valid = lr_model.predict_proba(X_valid)[:, 1]\n",
        "\n",
        "recall_lr, precision_lr, f1_lr, threshold_lr = threshold_find(\n",
        "    0.1, \n",
        "    0.99, \n",
        "    0.01, \n",
        "    lr_probabilities_one_valid,\n",
        "    target_valid\n",
        ")"
      ]
    },
    {
      "cell_type": "code",
      "execution_count": 56,
      "metadata": {
        "scrolled": false,
        "colab": {
          "base_uri": "https://localhost:8080/",
          "height": 143
        },
        "id": "dDLUwuQJ2Fag",
        "outputId": "cc3830d9-e125-452e-8f73-764c0eff0fe2"
      },
      "outputs": [
        {
          "output_type": "execute_result",
          "data": {
            "text/plain": [
              "                    valid_F1\n",
              "dummy                  0.108\n",
              "logistic regression    0.777\n",
              "linear svc             0.779"
            ],
            "text/html": [
              "\n",
              "  <div id=\"df-e4846076-5389-427a-9f11-592043372a28\">\n",
              "    <div class=\"colab-df-container\">\n",
              "      <div>\n",
              "<style scoped>\n",
              "    .dataframe tbody tr th:only-of-type {\n",
              "        vertical-align: middle;\n",
              "    }\n",
              "\n",
              "    .dataframe tbody tr th {\n",
              "        vertical-align: top;\n",
              "    }\n",
              "\n",
              "    .dataframe thead th {\n",
              "        text-align: right;\n",
              "    }\n",
              "</style>\n",
              "<table border=\"1\" class=\"dataframe\">\n",
              "  <thead>\n",
              "    <tr style=\"text-align: right;\">\n",
              "      <th></th>\n",
              "      <th>valid_F1</th>\n",
              "    </tr>\n",
              "  </thead>\n",
              "  <tbody>\n",
              "    <tr>\n",
              "      <th>dummy</th>\n",
              "      <td>0.108</td>\n",
              "    </tr>\n",
              "    <tr>\n",
              "      <th>logistic regression</th>\n",
              "      <td>0.777</td>\n",
              "    </tr>\n",
              "    <tr>\n",
              "      <th>linear svc</th>\n",
              "      <td>0.779</td>\n",
              "    </tr>\n",
              "  </tbody>\n",
              "</table>\n",
              "</div>\n",
              "      <button class=\"colab-df-convert\" onclick=\"convertToInteractive('df-e4846076-5389-427a-9f11-592043372a28')\"\n",
              "              title=\"Convert this dataframe to an interactive table.\"\n",
              "              style=\"display:none;\">\n",
              "        \n",
              "  <svg xmlns=\"http://www.w3.org/2000/svg\" height=\"24px\"viewBox=\"0 0 24 24\"\n",
              "       width=\"24px\">\n",
              "    <path d=\"M0 0h24v24H0V0z\" fill=\"none\"/>\n",
              "    <path d=\"M18.56 5.44l.94 2.06.94-2.06 2.06-.94-2.06-.94-.94-2.06-.94 2.06-2.06.94zm-11 1L8.5 8.5l.94-2.06 2.06-.94-2.06-.94L8.5 2.5l-.94 2.06-2.06.94zm10 10l.94 2.06.94-2.06 2.06-.94-2.06-.94-.94-2.06-.94 2.06-2.06.94z\"/><path d=\"M17.41 7.96l-1.37-1.37c-.4-.4-.92-.59-1.43-.59-.52 0-1.04.2-1.43.59L10.3 9.45l-7.72 7.72c-.78.78-.78 2.05 0 2.83L4 21.41c.39.39.9.59 1.41.59.51 0 1.02-.2 1.41-.59l7.78-7.78 2.81-2.81c.8-.78.8-2.07 0-2.86zM5.41 20L4 18.59l7.72-7.72 1.47 1.35L5.41 20z\"/>\n",
              "  </svg>\n",
              "      </button>\n",
              "      \n",
              "  <style>\n",
              "    .colab-df-container {\n",
              "      display:flex;\n",
              "      flex-wrap:wrap;\n",
              "      gap: 12px;\n",
              "    }\n",
              "\n",
              "    .colab-df-convert {\n",
              "      background-color: #E8F0FE;\n",
              "      border: none;\n",
              "      border-radius: 50%;\n",
              "      cursor: pointer;\n",
              "      display: none;\n",
              "      fill: #1967D2;\n",
              "      height: 32px;\n",
              "      padding: 0 0 0 0;\n",
              "      width: 32px;\n",
              "    }\n",
              "\n",
              "    .colab-df-convert:hover {\n",
              "      background-color: #E2EBFA;\n",
              "      box-shadow: 0px 1px 2px rgba(60, 64, 67, 0.3), 0px 1px 3px 1px rgba(60, 64, 67, 0.15);\n",
              "      fill: #174EA6;\n",
              "    }\n",
              "\n",
              "    [theme=dark] .colab-df-convert {\n",
              "      background-color: #3B4455;\n",
              "      fill: #D2E3FC;\n",
              "    }\n",
              "\n",
              "    [theme=dark] .colab-df-convert:hover {\n",
              "      background-color: #434B5C;\n",
              "      box-shadow: 0px 1px 3px 1px rgba(0, 0, 0, 0.15);\n",
              "      filter: drop-shadow(0px 1px 2px rgba(0, 0, 0, 0.3));\n",
              "      fill: #FFFFFF;\n",
              "    }\n",
              "  </style>\n",
              "\n",
              "      <script>\n",
              "        const buttonEl =\n",
              "          document.querySelector('#df-e4846076-5389-427a-9f11-592043372a28 button.colab-df-convert');\n",
              "        buttonEl.style.display =\n",
              "          google.colab.kernel.accessAllowed ? 'block' : 'none';\n",
              "\n",
              "        async function convertToInteractive(key) {\n",
              "          const element = document.querySelector('#df-e4846076-5389-427a-9f11-592043372a28');\n",
              "          const dataTable =\n",
              "            await google.colab.kernel.invokeFunction('convertToInteractive',\n",
              "                                                     [key], {});\n",
              "          if (!dataTable) return;\n",
              "\n",
              "          const docLinkHtml = 'Like what you see? Visit the ' +\n",
              "            '<a target=\"_blank\" href=https://colab.research.google.com/notebooks/data_table.ipynb>data table notebook</a>'\n",
              "            + ' to learn more about interactive tables.';\n",
              "          element.innerHTML = '';\n",
              "          dataTable['output_type'] = 'display_data';\n",
              "          await google.colab.output.renderOutput(dataTable, element);\n",
              "          const docLink = document.createElement('div');\n",
              "          docLink.innerHTML = docLinkHtml;\n",
              "          element.appendChild(docLink);\n",
              "        }\n",
              "      </script>\n",
              "    </div>\n",
              "  </div>\n",
              "  "
            ]
          },
          "metadata": {},
          "execution_count": 56
        }
      ],
      "source": [
        "results.loc['logistic regression', 'valid_F1'] = round(f1_lr, 3)\n",
        "results"
      ]
    },
    {
      "cell_type": "code",
      "execution_count": 57,
      "metadata": {
        "colab": {
          "base_uri": "https://localhost:8080/",
          "height": 295
        },
        "id": "6DOUuAo-2Fag",
        "outputId": "6dfaf8d1-91b7-4243-92d3-3b40f4d04e27"
      },
      "outputs": [
        {
          "output_type": "display_data",
          "data": {
            "text/plain": [
              "<Figure size 864x288 with 1 Axes>"
            ],
            "image/png": "[encoded data removed]"
          },
          "metadata": {
            "needs_background": "light"
          }
        }
      ],
      "source": [
        "fig, ax = plt.subplots(figsize=(12, 4))\n",
        "plt.bar(results.index, results.valid_F1)\n",
        "plt.title('Проверка моделей на адекватность')\n",
        "plt.axhline(y=0.75, color='r', linestyle='--')\n",
        "plt.xlabel('Исследованные модели модели')\n",
        "plt.ylabel('Метрика качества F1')\n",
        "plt.show()"
      ]
    },
    {
      "cell_type": "markdown",
      "metadata": {
        "id": "JzHOkzPd2Fag"
      },
      "source": [
        "Даже с подобранным порогом модель линейной регрессии слегка уступает модели линейных опорных векторов."
      ]
    },
    {
      "cell_type": "markdown",
      "metadata": {
        "id": "Z0KZnbY62Fah"
      },
      "source": [
        "#### Комментарии\n",
        "<div class=\"alert alert-info\">\n",
        "<b>Комментарий студента 2 итерация</b>\n",
        "Эх, ревьюер Сергей, что ж ты делаешь)) Пробуем ансамбль!\n",
        "</div>"
      ]
    },
    {
      "cell_type": "markdown",
      "metadata": {
        "id": "fVaJ_vhz2Fai"
      },
      "source": [
        "### Ансамбль смешивания"
      ]
    },
    {
      "cell_type": "markdown",
      "metadata": {
        "id": "r6urURhu2Fai"
      },
      "source": [
        "Далее заинтересовала идея опробовать **ансамбль смешивания**, подробно описанный в [статье](https://habr.com/ru/company/skillfactory/blog/531416/). Для этого  используем две предыдущие модели с уже подобранными гиперпараметрами. Повторим за авторами статьи и будем использовать ансамбль типа пакетирования, где метамодель обучается на прогнозах, сделанных на независимом наборе данных.\n",
        "\n",
        "У нас на данный момент имеются следующие выборки: `тренировочная`, `валидационная` и `тестовая`, а так же набор выборок `тренировочная + валидационная`.\n",
        "\n",
        "`Тестовая` зарезервирована для финального тестирования, тогда как остальные - для выбора наиболее удачной модели для данного тестирования. \n",
        "\n",
        "Ансамбль смешивания требует наличия еще одной выборки для обучения метамоделей.\n",
        "\n",
        "Благо мы имеем достаточное количество данных и выделить из тренировочной еще одну выборку для обучения метамодели.\n",
        "\n",
        "Разделим тренировочную выборку `X_train` на обучающую и валидационную выборки для мета-модели `meta_X_train` и `meta_X_valid`, валидационную выборку не трогаем и сохраним для проверки качества предсказания перед финальным тестированием.\n",
        "\n",
        "Авторы статьи создавали синтетические данные для задачи бинарной классификации, не требующие предобработки. У нас же данные представлены в виде текста, и нам хотелось бы использовать предобработку данных в виде масштабирования данных с помощью `TF-IDF`. Таким образом, наилучшим вариантом было бы использование не отдельных моделей, а готовых пайплайнов со встроенной предобработкой.\n",
        "\n"
      ]
    },
    {
      "cell_type": "markdown",
      "metadata": {
        "id": "XKTfmiS02Fai"
      },
      "source": [
        "Разделим тестовую выборку на выборки для мета-модели."
      ]
    },
    {
      "cell_type": "code",
      "execution_count": 58,
      "metadata": {
        "id": "IJ0Z-zNi2Fai"
      },
      "outputs": [],
      "source": [
        "meta_X_train, meta_X_valid, meta_target_train, meta_target_valid = train_test_split(\n",
        "    X_train,\n",
        "    target_train,\n",
        "    test_size=0.33,\n",
        "    random_state=STATE,\n",
        "    stratify=target_train\n",
        ")"
      ]
    },
    {
      "cell_type": "markdown",
      "metadata": {
        "id": "Un6WnPPl2Faj"
      },
      "source": [
        "Далее в статье авторы определяли *функцию `get_models()`, которая возвращает список моделей, где каждая модель определяется как кортеж с названием и настроенным классификатором*\n",
        "\n",
        "Мы же в отличие от этого, создадим функцию не с моделями, а с пайплайнами с уже подобранными ранее параметрами."
      ]
    },
    {
      "cell_type": "code",
      "execution_count": 59,
      "metadata": {
        "id": "_UdW7Lvr2Faj"
      },
      "outputs": [],
      "source": [
        "pipe_lr = Pipeline([\n",
        "    ('vectorizer', TfidfVectorizer(\n",
        "        stop_words=stop_words,\n",
        "        ngram_range=(1, 2),\n",
        "        min_df=3,\n",
        "        max_df=0.7,\n",
        "        \n",
        "    )),\n",
        "    ('model', LinearSVC(\n",
        "        class_weight={0: 1, 1: 3}, \n",
        "        max_iter=100000, \n",
        "        random_state=STATE\n",
        "    ))\n",
        "])\n",
        "\n",
        "pipe_svc = Pipeline([\n",
        "    ('vectorizer', TfidfVectorizer(\n",
        "        stop_words=stop_words,\n",
        "        ngram_range=(1, 2),\n",
        "        min_df=3,\n",
        "        max_df=0.7,\n",
        "        max_features=80000,\n",
        "        \n",
        "    )),\n",
        "    ('model', LinearSVC(\n",
        "        class_weight={0: 1, 1: 3},\n",
        "        max_iter=100000,\n",
        "        random_state=STATE,\n",
        "        C=0.1,\n",
        "        penalty='l2',\n",
        "        tol=1e-10,\n",
        "    ))\n",
        "])\n",
        "\n",
        "\n",
        "pipes = [pipe_lr, pipe_svc]"
      ]
    },
    {
      "cell_type": "markdown",
      "metadata": {
        "id": "F-ZpF4JF2Fak"
      },
      "source": [
        "Авторы статьи пишут после создания моделей:\n",
        "\n",
        "*Далее нам нужно обучить смешивающую модель. Базовые модели обучаются на тренировочном наборе данных. Метамодель обучается на прогнозах, сделанных каждой базовой моделью на независимом наборе данных.*\n",
        "\n",
        "*Во-первых, мы можем в цикле перечислить модели в списке и обучить каждую из них по очереди на обучающем наборе данных. Кроме того, в этом цикле мы можем использовать обученную модель, чтобы сделать прогноз на независимом наборе данных (валидации) и сохранить прогнозы на будущее.*\n",
        "\n",
        "Модифицируем их функцию под нашу задачу."
      ]
    },
    {
      "cell_type": "code",
      "execution_count": 60,
      "metadata": {
        "id": "IJdfaaIB2Fak"
      },
      "outputs": [],
      "source": [
        "# fit the blending ensemble\n",
        "def fit_ensemble(pipes, X_train_meta, X_valid_meta, y_train_meta, y_valid_meta):\n",
        "# fit all pipes on the training set and predict on hold out set\n",
        "    meta_X = list()\n",
        "    for pipe in pipes:\n",
        "        # fit in training set\n",
        "        pipe.fit(X_train_meta, y_train_meta)\n",
        "        # predict on hold out set\n",
        "        yhat = pipe.predict(X_valid_meta)\n",
        "        # reshape predictions into a matrix with one column\n",
        "        yhat = yhat.reshape(len(yhat), 1)\n",
        "        # store predictions as input for blending\n",
        "        meta_X.append(yhat)\n",
        "        # create 2d array from predictions, each set is an input feature\n",
        "    meta_X = hstack(meta_X)\n",
        "    # define blending model\n",
        "    blender = LogisticRegression()\n",
        "    # fit on predictions from base models\n",
        "    blender.fit(meta_X, y_valid_meta)\n",
        "    return blender"
      ]
    },
    {
      "cell_type": "markdown",
      "metadata": {
        "id": "BrPPnvnV2Fal"
      },
      "source": [
        "Авторы пишут: \n",
        "\n",
        "*Теперь у нас есть `meta_X`, представляющий входные данные, которые могут использоваться для обучения метамодели.* \n",
        "\n",
        "*Каждый столбец или объект представляет выходные данные одной базовой модели. Каждая строка представляет собой один сэмпл из независимого набора данных.*\n",
        "\n",
        "*Мы можем применить функцию `hstack()` чтобы гарантировать, что этот набор данных представляет собой двумерный массив numpy, как и ожидалось моделью машинного обучения.*\n",
        "\n",
        "*Теперь мы можем тренировать нашу метамодель. Это может быть любая модель машинного обучения, которая нам нравится, например логистическая регрессия для задачи классификации.*\n"
      ]
    },
    {
      "cell_type": "markdown",
      "metadata": {
        "id": "SC7r4HG02Fam"
      },
      "source": [
        "*Следующий шаг — **использование смешивающего ансамбля для прогнозирования новых данных**. Это двухэтапный процесс. \n",
        "\n",
        "- Первый шаг — использование каждой базовой модели для прогнозирования. \n",
        "- Затем прогнозы собираются вместе и используются в качестве входных данных для модели смешивания, чтобы сделать окончательный прогноз.*\n",
        "\n",
        "*Мы можем использовать тот же цикл, что и при обучении модели. То есть собрать прогнозы каждой базовой модели в обучающий набор данных, сложить прогнозы вместе и вызвать `predict()` в смешивающей модели с этим набором данных метауровня. Функция `predict_ensemble()` ниже реализует эти действия.*\n",
        "\n",
        "*Учитывая обучение списка базовых моделей, обучение смешивателя ансамбля и набор данных (например, тестовый набор данных или новые данные), для набора данных она вернёт набор прогнозов.*"
      ]
    },
    {
      "cell_type": "code",
      "execution_count": 61,
      "metadata": {
        "id": "ZB9pLnrT2Fan"
      },
      "outputs": [],
      "source": [
        "# make a prediction with the blending ensemble\n",
        "def predict_ensemble(pipes, blender, X_test):\n",
        "# make predictions with base pipes\n",
        "    meta_X = list()\n",
        "    for pipe in pipes:\n",
        "        # predict with base model\n",
        "        yhat = pipe.predict(X_test)\n",
        "        # reshape predictions into a matrix with one column\n",
        "        yhat = yhat.reshape(len(yhat), 1)\n",
        "        # store prediction\n",
        "        meta_X.append(yhat)\n",
        "    # create 2d array from predictions, each set is an input feature\n",
        "    meta_X = hstack(meta_X)\n",
        "    # predict\n",
        "    return blender.predict(meta_X)"
      ]
    },
    {
      "cell_type": "markdown",
      "metadata": {
        "id": "s2Ofr8z42Fao"
      },
      "source": [
        "Теперь у нас есть все элементы, необходимые для реализации смешанного ансамбля."
      ]
    },
    {
      "cell_type": "markdown",
      "metadata": {
        "id": "bhEXyy6u2Fap"
      },
      "source": [
        "Оценим размер выборок."
      ]
    },
    {
      "cell_type": "code",
      "execution_count": 62,
      "metadata": {
        "colab": {
          "base_uri": "https://localhost:8080/"
        },
        "id": "TRmsrPAa2Faq",
        "outputId": "838b543d-b635-4351-c66a-90735b4d8a61"
      },
      "outputs": [
        {
          "output_type": "execute_result",
          "data": {
            "text/plain": [
              "((64109,), (31577,), (31896,))"
            ]
          },
          "metadata": {},
          "execution_count": 62
        }
      ],
      "source": [
        "meta_X_train.shape, meta_X_valid.shape, X_valid.shape"
      ]
    },
    {
      "cell_type": "markdown",
      "metadata": {
        "id": "0nzKH-3z2Faq"
      },
      "source": [
        "А так же содержание токсичных комментариев в новых выборках."
      ]
    },
    {
      "cell_type": "code",
      "execution_count": 63,
      "metadata": {
        "colab": {
          "base_uri": "https://localhost:8080/"
        },
        "id": "RyU3MzfG2Far",
        "outputId": "7f7dc943-0dab-4c2b-8d9f-d0b7992419fb"
      },
      "outputs": [
        {
          "output_type": "execute_result",
          "data": {
            "text/plain": [
              "(0.10168619070645307, 0.10168793742280774)"
            ]
          },
          "metadata": {},
          "execution_count": 63
        }
      ],
      "source": [
        "meta_target_train.mean(), meta_target_valid.mean()"
      ]
    },
    {
      "cell_type": "markdown",
      "metadata": {
        "id": "o8EF_r_v2Far"
      },
      "source": [
        "Содержание токсичных комментариев в районе 10%."
      ]
    },
    {
      "cell_type": "markdown",
      "metadata": {
        "id": "oqzEKE8A2Fas"
      },
      "source": [
        "Посмотрим, как справиться ансамбль с нашей задачей."
      ]
    },
    {
      "cell_type": "markdown",
      "metadata": {
        "id": "AVnyFKV32Fas"
      },
      "source": [
        "Обучим ансамбль."
      ]
    },
    {
      "cell_type": "code",
      "execution_count": 64,
      "metadata": {
        "colab": {
          "base_uri": "https://localhost:8080/"
        },
        "id": "PcWMjt_l2Fat",
        "outputId": "07b70a9c-dd5c-422b-95e2-1eaa872c4b40"
      },
      "outputs": [
        {
          "output_type": "stream",
          "name": "stdout",
          "text": [
            "CPU times: user 20.3 s, sys: 287 ms, total: 20.6 s\n",
            "Wall time: 20.4 s\n"
          ]
        }
      ],
      "source": [
        "%%time\n",
        "blender = fit_ensemble(pipes, meta_X_train, meta_X_valid, meta_target_train, meta_target_valid)"
      ]
    },
    {
      "cell_type": "markdown",
      "metadata": {
        "id": "0qaSd5_P2Fau"
      },
      "source": [
        "Получим предсказания на валидационной выборке (та самая выборка, на которой оценивались по отдельности модели линейной регрессии и линейных опорных векторов)."
      ]
    },
    {
      "cell_type": "code",
      "execution_count": 65,
      "metadata": {
        "id": "ZYIGNQJP2Fau"
      },
      "outputs": [],
      "source": [
        "ensemble_predicts = predict_ensemble(pipes, blender, X_valid)"
      ]
    },
    {
      "cell_type": "markdown",
      "metadata": {
        "id": "upyt7koX2Fav"
      },
      "source": [
        "Посчитаем метрику качества для предсказаний ансамбля."
      ]
    },
    {
      "cell_type": "code",
      "execution_count": 66,
      "metadata": {
        "scrolled": true,
        "colab": {
          "base_uri": "https://localhost:8080/"
        },
        "id": "QvT8F4ww2Fav",
        "outputId": "0efb4abc-6afc-4bd8-c06b-8568b0175875"
      },
      "outputs": [
        {
          "output_type": "stream",
          "name": "stdout",
          "text": [
            "F1 для ансамбля смешивания равно 0.765\n"
          ]
        }
      ],
      "source": [
        "f1_ensemble = f1_score(target_valid, ensemble_predicts)\n",
        "print(f'F1 для ансамбля смешивания равно {f1_ensemble:.3f}')"
      ]
    },
    {
      "cell_type": "markdown",
      "metadata": {
        "id": "fhb6HGZX2Faw"
      },
      "source": [
        "Качество от ансамбля получилось меньше ожидаемого и хуже, чем от использованных в нем моделей поотдельности."
      ]
    },
    {
      "cell_type": "code",
      "execution_count": 67,
      "metadata": {
        "scrolled": true,
        "colab": {
          "base_uri": "https://localhost:8080/",
          "height": 175
        },
        "id": "ACTHzRVw2Faw",
        "outputId": "c64b5ca0-9a79-4402-8a4d-12d22d52994f"
      },
      "outputs": [
        {
          "output_type": "execute_result",
          "data": {
            "text/plain": [
              "                    valid_F1\n",
              "dummy                  0.108\n",
              "logistic regression    0.777\n",
              "linear svc             0.779\n",
              "ensemble               0.765"
            ],
            "text/html": [
              "\n",
              "  <div id=\"df-8c0f8f37-1785-451a-983d-e2c577030751\">\n",
              "    <div class=\"colab-df-container\">\n",
              "      <div>\n",
              "<style scoped>\n",
              "    .dataframe tbody tr th:only-of-type {\n",
              "        vertical-align: middle;\n",
              "    }\n",
              "\n",
              "    .dataframe tbody tr th {\n",
              "        vertical-align: top;\n",
              "    }\n",
              "\n",
              "    .dataframe thead th {\n",
              "        text-align: right;\n",
              "    }\n",
              "</style>\n",
              "<table border=\"1\" class=\"dataframe\">\n",
              "  <thead>\n",
              "    <tr style=\"text-align: right;\">\n",
              "      <th></th>\n",
              "      <th>valid_F1</th>\n",
              "    </tr>\n",
              "  </thead>\n",
              "  <tbody>\n",
              "    <tr>\n",
              "      <th>dummy</th>\n",
              "      <td>0.108</td>\n",
              "    </tr>\n",
              "    <tr>\n",
              "      <th>logistic regression</th>\n",
              "      <td>0.777</td>\n",
              "    </tr>\n",
              "    <tr>\n",
              "      <th>linear svc</th>\n",
              "      <td>0.779</td>\n",
              "    </tr>\n",
              "    <tr>\n",
              "      <th>ensemble</th>\n",
              "      <td>0.765</td>\n",
              "    </tr>\n",
              "  </tbody>\n",
              "</table>\n",
              "</div>\n",
              "      <button class=\"colab-df-convert\" onclick=\"convertToInteractive('df-8c0f8f37-1785-451a-983d-e2c577030751')\"\n",
              "              title=\"Convert this dataframe to an interactive table.\"\n",
              "              style=\"display:none;\">\n",
              "        \n",
              "  <svg xmlns=\"http://www.w3.org/2000/svg\" height=\"24px\"viewBox=\"0 0 24 24\"\n",
              "       width=\"24px\">\n",
              "    <path d=\"M0 0h24v24H0V0z\" fill=\"none\"/>\n",
              "    <path d=\"M18.56 5.44l.94 2.06.94-2.06 2.06-.94-2.06-.94-.94-2.06-.94 2.06-2.06.94zm-11 1L8.5 8.5l.94-2.06 2.06-.94-2.06-.94L8.5 2.5l-.94 2.06-2.06.94zm10 10l.94 2.06.94-2.06 2.06-.94-2.06-.94-.94-2.06-.94 2.06-2.06.94z\"/><path d=\"M17.41 7.96l-1.37-1.37c-.4-.4-.92-.59-1.43-.59-.52 0-1.04.2-1.43.59L10.3 9.45l-7.72 7.72c-.78.78-.78 2.05 0 2.83L4 21.41c.39.39.9.59 1.41.59.51 0 1.02-.2 1.41-.59l7.78-7.78 2.81-2.81c.8-.78.8-2.07 0-2.86zM5.41 20L4 18.59l7.72-7.72 1.47 1.35L5.41 20z\"/>\n",
              "  </svg>\n",
              "      </button>\n",
              "      \n",
              "  <style>\n",
              "    .colab-df-container {\n",
              "      display:flex;\n",
              "      flex-wrap:wrap;\n",
              "      gap: 12px;\n",
              "    }\n",
              "\n",
              "    .colab-df-convert {\n",
              "      background-color: #E8F0FE;\n",
              "      border: none;\n",
              "      border-radius: 50%;\n",
              "      cursor: pointer;\n",
              "      display: none;\n",
              "      fill: #1967D2;\n",
              "      height: 32px;\n",
              "      padding: 0 0 0 0;\n",
              "      width: 32px;\n",
              "    }\n",
              "\n",
              "    .colab-df-convert:hover {\n",
              "      background-color: #E2EBFA;\n",
              "      box-shadow: 0px 1px 2px rgba(60, 64, 67, 0.3), 0px 1px 3px 1px rgba(60, 64, 67, 0.15);\n",
              "      fill: #174EA6;\n",
              "    }\n",
              "\n",
              "    [theme=dark] .colab-df-convert {\n",
              "      background-color: #3B4455;\n",
              "      fill: #D2E3FC;\n",
              "    }\n",
              "\n",
              "    [theme=dark] .colab-df-convert:hover {\n",
              "      background-color: #434B5C;\n",
              "      box-shadow: 0px 1px 3px 1px rgba(0, 0, 0, 0.15);\n",
              "      filter: drop-shadow(0px 1px 2px rgba(0, 0, 0, 0.3));\n",
              "      fill: #FFFFFF;\n",
              "    }\n",
              "  </style>\n",
              "\n",
              "      <script>\n",
              "        const buttonEl =\n",
              "          document.querySelector('#df-8c0f8f37-1785-451a-983d-e2c577030751 button.colab-df-convert');\n",
              "        buttonEl.style.display =\n",
              "          google.colab.kernel.accessAllowed ? 'block' : 'none';\n",
              "\n",
              "        async function convertToInteractive(key) {\n",
              "          const element = document.querySelector('#df-8c0f8f37-1785-451a-983d-e2c577030751');\n",
              "          const dataTable =\n",
              "            await google.colab.kernel.invokeFunction('convertToInteractive',\n",
              "                                                     [key], {});\n",
              "          if (!dataTable) return;\n",
              "\n",
              "          const docLinkHtml = 'Like what you see? Visit the ' +\n",
              "            '<a target=\"_blank\" href=https://colab.research.google.com/notebooks/data_table.ipynb>data table notebook</a>'\n",
              "            + ' to learn more about interactive tables.';\n",
              "          element.innerHTML = '';\n",
              "          dataTable['output_type'] = 'display_data';\n",
              "          await google.colab.output.renderOutput(dataTable, element);\n",
              "          const docLink = document.createElement('div');\n",
              "          docLink.innerHTML = docLinkHtml;\n",
              "          element.appendChild(docLink);\n",
              "        }\n",
              "      </script>\n",
              "    </div>\n",
              "  </div>\n",
              "  "
            ]
          },
          "metadata": {},
          "execution_count": 67
        }
      ],
      "source": [
        "results.loc['ensemble', 'valid_F1'] = round(f1_ensemble, 3)\n",
        "results"
      ]
    },
    {
      "cell_type": "code",
      "execution_count": 68,
      "metadata": {
        "colab": {
          "base_uri": "https://localhost:8080/",
          "height": 295
        },
        "id": "jTXnYf1r2Fay",
        "outputId": "b2c09c1b-bc65-4d97-8c1c-3692a70bc43e"
      },
      "outputs": [
        {
          "output_type": "display_data",
          "data": {
            "text/plain": [
              "<Figure size 864x288 with 1 Axes>"
            ],
            "image/png": "[encoded data removed]"
          },
          "metadata": {
            "needs_background": "light"
          }
        }
      ],
      "source": [
        "fig, ax = plt.subplots(figsize=(12, 4))\n",
        "plt.bar(results.index, results.valid_F1)\n",
        "plt.title('Проверка моделей на адекватность')\n",
        "plt.axhline(y=0.75, color='r', linestyle='--')\n",
        "plt.xlabel('Исследованные модели модели')\n",
        "plt.ylabel('Метрика качества F1')\n",
        "plt.show()"
      ]
    },
    {
      "cell_type": "markdown",
      "metadata": {
        "id": "CjF8Emp44vhC"
      },
      "source": [
        "- Модели обучаются достаточно долго, обучать некоторые модели не поднялась рука (например, случайного леса и градиентного бустинга).\n",
        "- Для финального тестирования выбрана **модель линейных опорных векторов**."
      ]
    },
    {
      "cell_type": "markdown",
      "metadata": {
        "id": "fZnJ7zIf2Fa0"
      },
      "source": [
        "#### Комментарии\n",
        "<div class=\"alert alert-info\">\n",
        "<b>Комментарий студента 2 итерация</b>\n",
        "    Я попробовала ансамблевый метод и довольна, но результаты вышли хуже, чем у любой отдельной модели. Это нормально или где-то я что-то упустила? Я решила использовать не отдельные модели, как советовали авторы статьи, а закинула сразу готовые пайплайны, может где-то перемудрила...\n",
        "</div>"
      ]
    },
    {
      "cell_type": "markdown",
      "metadata": {
        "id": "1VSAY_6N5bdV"
      },
      "source": [
        "## Тестирование"
      ]
    },
    {
      "cell_type": "markdown",
      "metadata": {
        "id": "bmGP3Mo15l_V"
      },
      "source": [
        "Обучим модель линейных опорных векторов на `тренировочной + валидационная` выборках и проверим на `тестировочной`."
      ]
    },
    {
      "cell_type": "markdown",
      "metadata": {
        "id": "6RbMg73H2Fa1"
      },
      "source": [
        "<div class=\"alert alert-warning\">\n",
        "    <h2> Комментарий ревьюера <a class=\"tocSkip\"> </h2>\n",
        "<hr>    \n",
        "<b>Совет💡:</b> Наверное, имелись ввиду <code>тренировочная + валидационная</code> выборки.\n",
        "</div></div>"
      ]
    },
    {
      "cell_type": "markdown",
      "metadata": {
        "id": "UY-o2WQQ2Fa1"
      },
      "source": [
        "#### Комментарии\n",
        "<div class=\"alert alert-info\">\n",
        "<b>Комментарий студента 2 итерация</b>\n",
        "Конечно х) Исправила выше.\n",
        "</div>"
      ]
    },
    {
      "cell_type": "code",
      "execution_count": 69,
      "metadata": {
        "colab": {
          "base_uri": "https://localhost:8080/"
        },
        "id": "GuTHcxgs5V3R",
        "outputId": "358ca0e2-6f75-410b-a929-f952b9f08316"
      },
      "outputs": [
        {
          "output_type": "stream",
          "name": "stdout",
          "text": [
            "F1 на тестовой выборке для модели линейных опорных векторов равно 0.794\n",
            "\n",
            "CPU times: user 22.9 s, sys: 344 ms, total: 23.3 s\n",
            "Wall time: 23.3 s\n"
          ]
        }
      ],
      "source": [
        "%%time\n",
        "svc_model.fit(X_train_valid, target_train_valid)\n",
        "svc_predicts_final = svc_model.predict(X_test)\n",
        "f1_svc_final = f1_score(target_test, svc_predicts_final)\n",
        "print(f'F1 на тестовой выборке для модели линейных опорных векторов равно {f1_svc_final:.3f}')\n",
        "print()"
      ]
    },
    {
      "cell_type": "markdown",
      "metadata": {
        "id": "5TUX2bqOCTcZ"
      },
      "source": [
        "## Выводы"
      ]
    },
    {
      "cell_type": "markdown",
      "metadata": {
        "id": "vjJxu0Np6R4v"
      },
      "source": [
        "Данный проект был посвященн **поиску токсичных комментариев для интернет-магазина**. \n",
        "\n",
        "Интернет-магазин «Викишоп» запускает новый сервис. Теперь пользователи могут редактировать и дополнять описания товаров, как в вики-сообществах. То есть клиенты предлагают свои правки и комментируют изменения других. \n",
        "\n",
        "Магазину нужен инструмент, который будет искать токсичные комментарии и отправлять их на модерацию.\n",
        "\n",
        "Нашей **задачей** являлось обучить модель **классифицировать комментарии на позитивные и негативные**.\n",
        "\n",
        "Необходимым условием было построить модель со значением метрики качества **F1 не меньше 0.75**.\n",
        "\n",
        "В рамках данной работы была проведена **предобработка текста** с приведением комментариев к нижнему регистру, удалению ссылок и лемматизацией. \n",
        "\n",
        "Для обучения моделей классифицировать комментарии была применена техника масштабирования данных с помощью **TF-IDF**.\n",
        "\n",
        "В рамках проекта были обучены модели логистической регрессии и линейных опорных векторов. \n",
        "\n",
        "\n",
        "Ввиду ресурсозатратности проекта, приходилось предварительно уменьшать датасет до 5 тысяч строк и на них тестировать, работает ли всё как задуманно. Самый убийственный проект, я думала, у меня загорится комп. И даже оплата Гугл Колаба не особо ускорила процесс, хотя надеюсь, что ускорила. \n",
        "\n",
        "Для финального **тестирования** была выбрана **модель линейных опорных векторов**, лучше показавшая себя на кросс-валидации.\n",
        "\n",
        "**Метрика качества F1** на тестовой выборке равна **0.79**, что согласуется с целью исследования, а так же показывает то, что модель не переобучилась.\n",
        "\n"
      ]
    },
    {
      "cell_type": "markdown",
      "metadata": {
        "id": "2Y5zdifE2FbE"
      },
      "source": [
        "#### Комментарии\n",
        "<div class=\"alert alert-info\">\n",
        "<b>Комментарий студента 2 итерация</b>\n",
        "    \n",
        "Вроде везде стоит один и тот же `random_state`, а в первую отправку тебе получилось у GridSearchCV для модели опорных векторов метрика F1 0.8 и на тесте тоже 0.8, теперь - 0.78 и 0.79 соответственно. Сижу, не понимаю. \n",
        "    \n",
        "Поняла. В документации об этом сказано, что \"Базовая реализация использует генератор случайных чисел для выбора объектов при подгонке модели. Таким образом, нередко можно получить несколько разные результаты для одних и тех же входных данных.\" \n",
        "\n",
        "Постаралась подогнать параметр `tol` (Tolerance for stopping criteria), чтобы этого не произошло, но при перезапуске тетради данные в выводе и тестовой выборке могут не совпадать на сотую долю. \n",
        "</div>"
      ]
    },
    {
      "cell_type": "markdown",
      "metadata": {
        "id": "pguLY6q92FbE"
      },
      "source": [
        "<div class=\"alert alert-success\">\n",
        "<h2> Комментарий ревьюера v2<a class=\"tocSkip\"> </h2>\n",
        "<hr>\n",
        "<b>Верно!👍:</b> Да, задачи NLP и CV довольно требовательны к ресурсам, иногда приходится набраться терпения, даже с большими мощностями :)\n",
        "</div>"
      ]
    },
    {
      "cell_type": "markdown",
      "metadata": {
        "id": "GykpJLsb2FbF"
      },
      "source": [
        "#### Комментарии\n",
        "<div class=\"alert alert-info\">\n",
        "<b>Комментарий студента 2 итерация</b>\n",
        "Дело было не только в терпении, а в том, что я не знала, что некоторые модели будут стоять вечность. Думала, что так и надо и чуть не улетела в академ))\n",
        "</div>"
      ]
    },
    {
      "cell_type": "markdown",
      "metadata": {
        "id": "awaZoEs-2ehN"
      },
      "source": [
        "### Комментарии\n",
        "<div class=\"alert alert-info\">\n",
        "<b>Комментарий студента 1 итерация</b>\n",
        "    \n",
        "Уважаемый ревьюер!\n",
        "\n",
        "В рамках данной работы пыталась прикрутить `StratifiedKFold`, так как у нас есть дисбаланс классов и мне показалось это хорошей идеей. Но ни одна кросс-валидация с ним не пошла (по крайней мере расчет стоял несколько часов и ничего). Можешь подсказать, когда такое используется или я может что-то не так поняла? (Я реально несколько дней думала, что это просто проект такой медленный, а оказалось, что некоторые модели просто не планируют рассчитываться, взяла самые быстрые) Буду рада любым советам, а еще если есть возможность, посоветуй пожалуйста, что хорошего можно посмотреть или почитать по данной теме.\n",
        "\n",
        "</div>"
      ]
    },
    {
      "cell_type": "markdown",
      "metadata": {
        "id": "kR2sugaT2FbG"
      },
      "source": [
        "<div class=\"alert alert-success\">\n",
        "<h2> Комментарий ревьюера <a class=\"tocSkip\"> </h2>\n",
        "<hr>\n",
        "<b>Верно!👍:</b> Идея правда хорошая. Вообще довольно странно, выглядит всё корректно. В sklearn много где по умолчанию прописана стратификация, на самом деле. Насколько помню, у GridSearchCV в том числе, если в качестве аргумента cv передаёшь integer, то будет использоваться как раз-таки StratifiedKFold. Из важных и особенных вариантов, в голову приходит разбиение для задач временных рядов, оно должно быть несколько иным. Можешь почитать <a href='https://scikit-learn.org/stable/modules/cross_validation.html#stratification'>в официальной документации</a> разные примеры, там довольно неплохо написано.\n",
        "    \n",
        "Можно попробовать экстремально уменьшить выборки, и отладить работу на них, чтобы обучение длилось минимально возможное время, проверить работоспособность, как вариант. На вид всё вполне хорошо. Это на полной выборке сложности?\n",
        "    \n",
        "Если хочешь ещё увеличить качество, можно поэксперементировать с порогом классификации, пример есть в спринте «Обучение с учителем», в теме «Несбалансированная классификация», урок «Порог классификации». \n",
        "    \n",
        "На сорвевнованиях вообще часто используют <a href='https://ml-handbook.ru/chapters/ensembles/intro'>ансамбли</a> моделей. Как тобой ранее могло быть замечено, ансамбли (лес, бустинги) обычно справляются с задачами машинного обучения лучше, чем простые модели (но не всегда, правило не строгое, если есть простая зависимость, то обычные модели могут работать лучше :) )\n",
        "    \n",
        "* <a href='https://habr.com/ru/company/skillfactory/blog/531416/'>Машинное обучение: ансамбль смешивания на Python</a>;\n",
        "* <a href='https://habr.com/ru/company/yandex/blog/414993/'>Выявление и классификация токсичных комментариев. Лекция в Яндексе</a>\n",
        "    \n",
        "Полезные статьи про метрики, очень полезно в контексте несбалансированной классификации почитать, да и вообще:\n",
        "* <a href='https://habr.com/ru/company/ods/blog/328372/'>«Метрики в задачах машинного обучения»</a>\n",
        "* <a href='https://habr.com/ru/company/jetinfosystems/blog/420261/'>«В чём мерить будем? Как выбрать правильные ML-метрики под задачи бизнеса»</a>\n",
        "* <a href='https://github.com/esokolov/ml-course-msu/blob/master/ML15/lecture-notes/Sem05_metrics.pdf'>«Выбор моделей и критерии качества»</a>. Евгений читает лекции по машинному обучению в уважаемых ВУЗах, является преподавателем на специализации Яндекса и МФТИ на coursera, а на его GitHub в репозиториях можно найти курсы, которые он читает в ВУЗах.\n",
        "    \n",
        "</div>\n"
      ]
    },
    {
      "cell_type": "markdown",
      "metadata": {
        "id": "lneP07jm2FbG"
      },
      "source": [
        "### Комментарии\n",
        "<div class=\"alert alert-info\">\n",
        "<b>Комментарий студента 2 итерация</b>\n",
        "    \n",
        "Сергей, по поводу `StratifiedKFold` ты прав, он отработал на полной выборке с моими параметрами и почему-то не показал лучшее качество при обучении. Видать не запускалось потому, что я с ним запускала какие-то еще гиперпараметры, от которых ввиду их длительности решила отказаться.\n",
        "    \n",
        "Спасибо, что напомнил про \"...GridSearchCV в том числе, если в качестве аргумента cv передаёшь integer, то будет использоваться как раз-таки StratifiedKFold...\", а то я изобретала велосипед)) Больше не буду)\n",
        "</div>"
      ]
    },
    {
      "cell_type": "markdown",
      "metadata": {
        "id": "SIJvcdzICTca"
      },
      "source": [
        "## Чек-лист проверки"
      ]
    },
    {
      "cell_type": "markdown",
      "metadata": {
        "id": "LZHMBABgCTca"
      },
      "source": [
        "- [x]  Jupyter Notebook открыт\n",
        "- [x]  Весь код выполняется без ошибок\n",
        "- [x]  Ячейки с кодом расположены в порядке исполнения\n",
        "- [x]  Данные загружены и подготовлены\n",
        "- [x]  Модели обучены\n",
        "- [x]  Значение метрики *F1* не меньше 0.75\n",
        "- [x]  Выводы написаны"
      ]
    }
  ],
  "metadata": {
    "ExecuteTimeLog": [
      {
        "duration": 7401,
        "start_time": "2022-04-30T15:31:04.203Z"
      },
      {
        "duration": 3,
        "start_time": "2022-04-30T15:32:13.089Z"
      },
      {
        "duration": 2,
        "start_time": "2022-04-30T15:34:33.191Z"
      },
      {
        "duration": 777,
        "start_time": "2022-04-30T15:36:10.751Z"
      },
      {
        "duration": 17,
        "start_time": "2022-04-30T15:36:18.908Z"
      },
      {
        "duration": 33,
        "start_time": "2022-04-30T15:36:50.821Z"
      },
      {
        "duration": 12,
        "start_time": "2022-04-30T15:38:00.248Z"
      },
      {
        "duration": 13,
        "start_time": "2022-04-30T15:38:46.823Z"
      },
      {
        "duration": 9,
        "start_time": "2022-04-30T15:38:58.647Z"
      },
      {
        "duration": 100,
        "start_time": "2022-04-30T15:41:27.708Z"
      },
      {
        "duration": 9,
        "start_time": "2022-04-30T15:41:42.929Z"
      },
      {
        "duration": 96301,
        "start_time": "2022-04-30T15:41:56.194Z"
      },
      {
        "duration": 21786,
        "start_time": "2022-04-30T15:43:37.425Z"
      },
      {
        "duration": 1300,
        "start_time": "2022-04-30T15:43:59.213Z"
      },
      {
        "duration": 3,
        "start_time": "2022-04-30T15:44:00.514Z"
      },
      {
        "duration": 839,
        "start_time": "2022-04-30T15:44:00.519Z"
      },
      {
        "duration": 15,
        "start_time": "2022-04-30T15:44:01.359Z"
      },
      {
        "duration": 38,
        "start_time": "2022-04-30T15:44:01.375Z"
      },
      {
        "duration": 7416,
        "start_time": "2022-04-30T15:44:01.415Z"
      },
      {
        "duration": 6772,
        "start_time": "2022-04-30T15:45:12.449Z"
      },
      {
        "duration": 5,
        "start_time": "2022-04-30T15:45:55.120Z"
      },
      {
        "duration": 9,
        "start_time": "2022-04-30T15:46:23.783Z"
      },
      {
        "duration": 4,
        "start_time": "2022-04-30T15:46:28.934Z"
      },
      {
        "duration": 6804,
        "start_time": "2022-04-30T15:46:41.375Z"
      },
      {
        "duration": 12,
        "start_time": "2022-04-30T15:46:53.365Z"
      },
      {
        "duration": 6714,
        "start_time": "2022-04-30T15:47:06.690Z"
      },
      {
        "duration": 26,
        "start_time": "2022-04-30T15:47:31.686Z"
      },
      {
        "duration": 232,
        "start_time": "2022-04-30T15:47:44.536Z"
      },
      {
        "duration": 209,
        "start_time": "2022-04-30T15:47:50.894Z"
      },
      {
        "duration": 212,
        "start_time": "2022-04-30T15:47:53.267Z"
      },
      {
        "duration": 56,
        "start_time": "2022-04-30T15:48:15.353Z"
      },
      {
        "duration": 12,
        "start_time": "2022-04-30T15:48:18.176Z"
      },
      {
        "duration": 6,
        "start_time": "2022-04-30T15:48:35.416Z"
      },
      {
        "duration": 17,
        "start_time": "2022-04-30T15:48:44.420Z"
      },
      {
        "duration": 12,
        "start_time": "2022-04-30T15:49:15.699Z"
      },
      {
        "duration": 8,
        "start_time": "2022-04-30T15:49:22.097Z"
      },
      {
        "duration": 46,
        "start_time": "2022-04-30T15:50:21.182Z"
      },
      {
        "duration": 14,
        "start_time": "2022-04-30T15:50:32.177Z"
      },
      {
        "duration": 58,
        "start_time": "2022-04-30T15:50:44.377Z"
      },
      {
        "duration": 57,
        "start_time": "2022-04-30T15:50:53.622Z"
      },
      {
        "duration": 58,
        "start_time": "2022-04-30T15:50:59.087Z"
      },
      {
        "duration": 61,
        "start_time": "2022-04-30T15:51:06.526Z"
      },
      {
        "duration": 58,
        "start_time": "2022-04-30T15:51:13.320Z"
      },
      {
        "duration": 59,
        "start_time": "2022-04-30T15:51:21.350Z"
      },
      {
        "duration": 71,
        "start_time": "2022-04-30T15:51:31.947Z"
      },
      {
        "duration": 10,
        "start_time": "2022-04-30T15:51:45.051Z"
      },
      {
        "duration": 50722,
        "start_time": "2022-04-30T15:54:27.007Z"
      },
      {
        "duration": 52,
        "start_time": "2022-04-30T18:20:03.970Z"
      },
      {
        "duration": 143545,
        "start_time": "2022-04-30T18:20:11.651Z"
      },
      {
        "duration": 518,
        "start_time": "2022-04-30T18:22:35.199Z"
      },
      {
        "duration": 0,
        "start_time": "2022-04-30T18:22:35.719Z"
      },
      {
        "duration": 0,
        "start_time": "2022-04-30T18:22:35.720Z"
      },
      {
        "duration": 0,
        "start_time": "2022-04-30T18:22:35.721Z"
      },
      {
        "duration": 0,
        "start_time": "2022-04-30T18:22:35.722Z"
      },
      {
        "duration": 0,
        "start_time": "2022-04-30T18:22:35.723Z"
      },
      {
        "duration": 0,
        "start_time": "2022-04-30T18:22:35.725Z"
      },
      {
        "duration": 99038,
        "start_time": "2022-04-30T18:22:54.941Z"
      },
      {
        "duration": 853,
        "start_time": "2022-04-30T18:24:55.900Z"
      },
      {
        "duration": 3,
        "start_time": "2022-04-30T18:25:02.435Z"
      },
      {
        "duration": 967,
        "start_time": "2022-04-30T18:25:03.778Z"
      },
      {
        "duration": 15,
        "start_time": "2022-04-30T18:25:05.909Z"
      },
      {
        "duration": 36,
        "start_time": "2022-04-30T18:25:06.792Z"
      },
      {
        "duration": 440,
        "start_time": "2022-04-30T18:25:25.703Z"
      },
      {
        "duration": 53,
        "start_time": "2022-04-30T18:25:45.238Z"
      },
      {
        "duration": 13,
        "start_time": "2022-04-30T18:25:53.293Z"
      },
      {
        "duration": 9,
        "start_time": "2022-04-30T18:26:05.162Z"
      },
      {
        "duration": 7427,
        "start_time": "2022-04-30T18:27:59.900Z"
      },
      {
        "duration": 3,
        "start_time": "2022-04-30T18:34:09.942Z"
      },
      {
        "duration": 7332,
        "start_time": "2022-04-30T18:34:24.989Z"
      },
      {
        "duration": 3,
        "start_time": "2022-04-30T18:35:51.502Z"
      },
      {
        "duration": 5,
        "start_time": "2022-04-30T18:35:56.096Z"
      },
      {
        "duration": 295887,
        "start_time": "2022-04-30T18:36:00.545Z"
      },
      {
        "duration": 9,
        "start_time": "2022-04-30T18:41:04.119Z"
      },
      {
        "duration": 13,
        "start_time": "2022-04-30T18:41:07.767Z"
      },
      {
        "duration": 6,
        "start_time": "2022-04-30T18:41:11.296Z"
      },
      {
        "duration": 406988,
        "start_time": "2022-04-30T18:41:13.511Z"
      },
      {
        "duration": 3,
        "start_time": "2022-04-30T18:49:22.302Z"
      },
      {
        "duration": 10,
        "start_time": "2022-04-30T18:49:42.406Z"
      },
      {
        "duration": 4,
        "start_time": "2022-04-30T18:49:54.898Z"
      },
      {
        "duration": 3,
        "start_time": "2022-04-30T18:49:58.238Z"
      },
      {
        "duration": 164074,
        "start_time": "2022-04-30T18:50:08.121Z"
      },
      {
        "duration": 90196,
        "start_time": "2022-04-30T18:53:03.938Z"
      },
      {
        "duration": 52064,
        "start_time": "2022-04-30T18:56:43.988Z"
      },
      {
        "duration": 104296,
        "start_time": "2022-04-30T18:59:02.131Z"
      },
      {
        "duration": 40,
        "start_time": "2022-04-30T19:00:46.430Z"
      },
      {
        "duration": 3,
        "start_time": "2022-04-30T19:00:46.472Z"
      },
      {
        "duration": 769,
        "start_time": "2022-04-30T19:00:46.477Z"
      },
      {
        "duration": 8,
        "start_time": "2022-04-30T19:00:47.248Z"
      },
      {
        "duration": 46,
        "start_time": "2022-04-30T19:00:47.257Z"
      },
      {
        "duration": 3,
        "start_time": "2022-04-30T19:00:47.305Z"
      },
      {
        "duration": 669113,
        "start_time": "2022-04-30T19:00:47.310Z"
      },
      {
        "duration": 14,
        "start_time": "2022-04-30T19:11:56.425Z"
      },
      {
        "duration": 40,
        "start_time": "2022-04-30T19:15:12.477Z"
      },
      {
        "duration": 3,
        "start_time": "2022-04-30T19:15:27.028Z"
      },
      {
        "duration": 7159,
        "start_time": "2022-04-30T19:15:29.042Z"
      },
      {
        "duration": 649282,
        "start_time": "2022-04-30T19:15:44.652Z"
      },
      {
        "duration": 13,
        "start_time": "2022-04-30T19:26:53.125Z"
      },
      {
        "duration": 11,
        "start_time": "2022-04-30T19:27:43.528Z"
      },
      {
        "duration": 37,
        "start_time": "2022-04-30T19:32:53.356Z"
      },
      {
        "duration": 17,
        "start_time": "2022-04-30T19:33:35.135Z"
      },
      {
        "duration": 14,
        "start_time": "2022-04-30T19:34:25.232Z"
      },
      {
        "duration": 48,
        "start_time": "2022-04-30T19:37:07.639Z"
      },
      {
        "duration": 14,
        "start_time": "2022-04-30T19:56:54.758Z"
      },
      {
        "duration": 15,
        "start_time": "2022-04-30T20:00:19.338Z"
      },
      {
        "duration": 16,
        "start_time": "2022-04-30T20:00:31.179Z"
      },
      {
        "duration": 17,
        "start_time": "2022-04-30T20:00:47.134Z"
      },
      {
        "duration": 17,
        "start_time": "2022-04-30T20:02:08.587Z"
      },
      {
        "duration": 16,
        "start_time": "2022-04-30T20:02:17.488Z"
      },
      {
        "duration": 16,
        "start_time": "2022-04-30T20:02:27.016Z"
      },
      {
        "duration": 17,
        "start_time": "2022-04-30T20:03:25.679Z"
      },
      {
        "duration": 15,
        "start_time": "2022-04-30T20:03:35.651Z"
      },
      {
        "duration": 15,
        "start_time": "2022-04-30T20:03:43.273Z"
      },
      {
        "duration": 17,
        "start_time": "2022-04-30T20:03:54.644Z"
      },
      {
        "duration": 16,
        "start_time": "2022-04-30T20:04:03.274Z"
      },
      {
        "duration": 16,
        "start_time": "2022-04-30T20:04:13.802Z"
      },
      {
        "duration": 15,
        "start_time": "2022-04-30T20:04:19.437Z"
      },
      {
        "duration": 15,
        "start_time": "2022-04-30T20:04:28.464Z"
      },
      {
        "duration": 15,
        "start_time": "2022-04-30T20:04:34.691Z"
      },
      {
        "duration": 20,
        "start_time": "2022-04-30T20:04:44.126Z"
      },
      {
        "duration": 1543,
        "start_time": "2022-04-30T20:05:03.588Z"
      },
      {
        "duration": 27,
        "start_time": "2022-04-30T20:05:15.022Z"
      },
      {
        "duration": 22,
        "start_time": "2022-04-30T20:05:34.103Z"
      },
      {
        "duration": 24,
        "start_time": "2022-04-30T20:05:37.351Z"
      },
      {
        "duration": 23,
        "start_time": "2022-04-30T20:05:47.086Z"
      },
      {
        "duration": 20,
        "start_time": "2022-04-30T20:05:55.257Z"
      },
      {
        "duration": 16,
        "start_time": "2022-04-30T20:06:04.708Z"
      },
      {
        "duration": 16,
        "start_time": "2022-04-30T20:06:08.971Z"
      },
      {
        "duration": 16,
        "start_time": "2022-04-30T20:06:14.478Z"
      },
      {
        "duration": 16,
        "start_time": "2022-04-30T20:06:22.082Z"
      },
      {
        "duration": 17,
        "start_time": "2022-04-30T20:06:30.624Z"
      },
      {
        "duration": 18,
        "start_time": "2022-04-30T20:06:39.636Z"
      },
      {
        "duration": 15,
        "start_time": "2022-04-30T20:06:50.929Z"
      },
      {
        "duration": 17,
        "start_time": "2022-04-30T20:07:01.085Z"
      },
      {
        "duration": 17,
        "start_time": "2022-04-30T20:07:17.291Z"
      },
      {
        "duration": 15,
        "start_time": "2022-04-30T20:07:26.214Z"
      },
      {
        "duration": 16,
        "start_time": "2022-04-30T20:07:34.792Z"
      },
      {
        "duration": 2,
        "start_time": "2022-04-30T20:14:29.011Z"
      },
      {
        "duration": 6,
        "start_time": "2022-04-30T20:14:36.903Z"
      },
      {
        "duration": 194,
        "start_time": "2022-04-30T20:17:45.949Z"
      },
      {
        "duration": 54492,
        "start_time": "2022-04-30T20:18:04.186Z"
      },
      {
        "duration": 1480,
        "start_time": "2022-04-30T20:18:58.681Z"
      },
      {
        "duration": 3,
        "start_time": "2022-04-30T20:19:00.163Z"
      },
      {
        "duration": 823,
        "start_time": "2022-04-30T20:19:00.172Z"
      },
      {
        "duration": 15,
        "start_time": "2022-04-30T20:19:00.998Z"
      },
      {
        "duration": 35,
        "start_time": "2022-04-30T20:19:01.015Z"
      },
      {
        "duration": 12,
        "start_time": "2022-04-30T20:19:01.052Z"
      },
      {
        "duration": 25,
        "start_time": "2022-04-30T20:19:01.074Z"
      },
      {
        "duration": 40,
        "start_time": "2022-04-30T20:19:01.101Z"
      },
      {
        "duration": 16,
        "start_time": "2022-04-30T20:19:01.142Z"
      },
      {
        "duration": 25,
        "start_time": "2022-04-30T20:19:01.160Z"
      },
      {
        "duration": 1449,
        "start_time": "2022-04-30T20:19:01.187Z"
      },
      {
        "duration": 0,
        "start_time": "2022-04-30T20:19:02.639Z"
      },
      {
        "duration": 0,
        "start_time": "2022-04-30T20:19:02.640Z"
      },
      {
        "duration": 7089,
        "start_time": "2022-04-30T20:19:07.737Z"
      },
      {
        "duration": 4,
        "start_time": "2022-04-30T20:19:20.686Z"
      },
      {
        "duration": 6,
        "start_time": "2022-04-30T20:19:20.692Z"
      },
      {
        "duration": 822,
        "start_time": "2022-04-30T20:19:20.700Z"
      },
      {
        "duration": 8,
        "start_time": "2022-04-30T20:19:21.524Z"
      },
      {
        "duration": 47,
        "start_time": "2022-04-30T20:19:21.534Z"
      },
      {
        "duration": 3,
        "start_time": "2022-04-30T20:19:21.583Z"
      },
      {
        "duration": 7,
        "start_time": "2022-04-30T20:19:21.588Z"
      },
      {
        "duration": 6,
        "start_time": "2022-04-30T20:19:21.596Z"
      },
      {
        "duration": 5,
        "start_time": "2022-04-30T20:19:21.604Z"
      },
      {
        "duration": 6,
        "start_time": "2022-04-30T20:19:21.611Z"
      },
      {
        "duration": 1250,
        "start_time": "2022-04-30T20:19:21.619Z"
      },
      {
        "duration": 0,
        "start_time": "2022-04-30T20:19:22.870Z"
      },
      {
        "duration": 36,
        "start_time": "2022-04-30T20:19:32.232Z"
      },
      {
        "duration": 4,
        "start_time": "2022-04-30T20:20:27.925Z"
      },
      {
        "duration": 40216,
        "start_time": "2022-04-30T20:20:50.453Z"
      },
      {
        "duration": 0,
        "start_time": "2022-04-30T20:21:30.671Z"
      },
      {
        "duration": 7,
        "start_time": "2022-04-30T20:21:36.673Z"
      },
      {
        "duration": 83,
        "start_time": "2022-04-30T20:21:59.672Z"
      },
      {
        "duration": 17,
        "start_time": "2022-04-30T20:22:03.004Z"
      },
      {
        "duration": 20,
        "start_time": "2022-04-30T20:22:15.401Z"
      },
      {
        "duration": 14,
        "start_time": "2022-04-30T20:22:32.669Z"
      },
      {
        "duration": 17,
        "start_time": "2022-04-30T20:22:36.690Z"
      },
      {
        "duration": 19,
        "start_time": "2022-04-30T20:22:44.342Z"
      },
      {
        "duration": 8,
        "start_time": "2022-04-30T20:22:53.575Z"
      },
      {
        "duration": 13,
        "start_time": "2022-04-30T20:23:07.297Z"
      },
      {
        "duration": 17,
        "start_time": "2022-04-30T20:23:56.342Z"
      },
      {
        "duration": 18,
        "start_time": "2022-04-30T20:24:00.938Z"
      },
      {
        "duration": 5,
        "start_time": "2022-04-30T20:24:23.616Z"
      },
      {
        "duration": 5,
        "start_time": "2022-04-30T20:24:36.664Z"
      },
      {
        "duration": 5,
        "start_time": "2022-04-30T20:24:41.378Z"
      },
      {
        "duration": 84645,
        "start_time": "2022-04-30T20:26:02.748Z"
      },
      {
        "duration": 8,
        "start_time": "2022-04-30T20:27:37.516Z"
      },
      {
        "duration": 307,
        "start_time": "2022-04-30T20:28:52.324Z"
      },
      {
        "duration": 10,
        "start_time": "2022-04-30T20:28:56.906Z"
      },
      {
        "duration": 80454,
        "start_time": "2022-04-30T20:31:36.638Z"
      },
      {
        "duration": 16,
        "start_time": "2022-04-30T20:33:06.528Z"
      },
      {
        "duration": 249,
        "start_time": "2022-04-30T20:33:19.609Z"
      },
      {
        "duration": 12,
        "start_time": "2022-04-30T20:33:22.498Z"
      },
      {
        "duration": 352,
        "start_time": "2022-04-30T20:33:39.263Z"
      },
      {
        "duration": 81619,
        "start_time": "2022-04-30T20:33:47.069Z"
      },
      {
        "duration": 12,
        "start_time": "2022-04-30T20:42:21.582Z"
      },
      {
        "duration": 599,
        "start_time": "2022-04-30T20:42:36.693Z"
      },
      {
        "duration": 4,
        "start_time": "2022-04-30T20:43:13.303Z"
      },
      {
        "duration": 156,
        "start_time": "2022-04-30T20:43:21.845Z"
      },
      {
        "duration": 3,
        "start_time": "2022-04-30T20:43:56.273Z"
      },
      {
        "duration": 145,
        "start_time": "2022-04-30T20:44:00.649Z"
      },
      {
        "duration": 141,
        "start_time": "2022-04-30T20:44:40.209Z"
      },
      {
        "duration": 146,
        "start_time": "2022-04-30T20:44:49.029Z"
      },
      {
        "duration": 13,
        "start_time": "2022-04-30T20:45:08.873Z"
      },
      {
        "duration": 6,
        "start_time": "2022-04-30T20:45:13.427Z"
      },
      {
        "duration": 16,
        "start_time": "2022-04-30T20:46:17.116Z"
      },
      {
        "duration": 558,
        "start_time": "2022-04-30T20:46:29.818Z"
      },
      {
        "duration": 12,
        "start_time": "2022-04-30T20:47:39.108Z"
      },
      {
        "duration": 3888,
        "start_time": "2022-04-30T20:48:07.704Z"
      },
      {
        "duration": 28,
        "start_time": "2022-04-30T20:48:12.449Z"
      },
      {
        "duration": 374,
        "start_time": "2022-04-30T20:50:53.419Z"
      },
      {
        "duration": 8826,
        "start_time": "2022-04-30T20:51:37.616Z"
      },
      {
        "duration": 24,
        "start_time": "2022-04-30T20:51:56.190Z"
      },
      {
        "duration": 3099,
        "start_time": "2022-04-30T20:53:33.819Z"
      },
      {
        "duration": 440,
        "start_time": "2022-04-30T20:53:43.951Z"
      },
      {
        "duration": 130815,
        "start_time": "2022-04-30T20:54:31.852Z"
      },
      {
        "duration": 5,
        "start_time": "2022-04-30T20:57:10.925Z"
      },
      {
        "duration": 25,
        "start_time": "2022-04-30T20:57:13.064Z"
      },
      {
        "duration": 356,
        "start_time": "2022-04-30T20:58:40.211Z"
      },
      {
        "duration": 7406,
        "start_time": "2022-04-30T20:58:59.188Z"
      },
      {
        "duration": 3300,
        "start_time": "2022-04-30T20:59:06.597Z"
      },
      {
        "duration": 3,
        "start_time": "2022-04-30T20:59:09.898Z"
      },
      {
        "duration": 819,
        "start_time": "2022-04-30T20:59:09.903Z"
      },
      {
        "duration": 12,
        "start_time": "2022-04-30T20:59:10.724Z"
      },
      {
        "duration": 43,
        "start_time": "2022-04-30T20:59:10.738Z"
      },
      {
        "duration": 2,
        "start_time": "2022-04-30T20:59:10.783Z"
      },
      {
        "duration": 5,
        "start_time": "2022-04-30T20:59:10.786Z"
      },
      {
        "duration": 5,
        "start_time": "2022-04-30T20:59:10.793Z"
      },
      {
        "duration": 3,
        "start_time": "2022-04-30T20:59:10.800Z"
      },
      {
        "duration": 308,
        "start_time": "2022-04-30T20:59:10.805Z"
      },
      {
        "duration": 4,
        "start_time": "2022-04-30T20:59:11.115Z"
      },
      {
        "duration": 12,
        "start_time": "2022-04-30T20:59:11.120Z"
      },
      {
        "duration": 3105,
        "start_time": "2022-04-30T20:59:11.133Z"
      },
      {
        "duration": 0,
        "start_time": "2022-04-30T20:59:14.240Z"
      },
      {
        "duration": 0,
        "start_time": "2022-04-30T20:59:14.241Z"
      },
      {
        "duration": 0,
        "start_time": "2022-04-30T20:59:14.242Z"
      },
      {
        "duration": 0,
        "start_time": "2022-04-30T20:59:14.243Z"
      },
      {
        "duration": 0,
        "start_time": "2022-04-30T20:59:14.244Z"
      },
      {
        "duration": 0,
        "start_time": "2022-04-30T20:59:14.245Z"
      },
      {
        "duration": 0,
        "start_time": "2022-04-30T20:59:14.246Z"
      },
      {
        "duration": 0,
        "start_time": "2022-04-30T20:59:14.247Z"
      },
      {
        "duration": 222,
        "start_time": "2022-04-30T20:59:42.730Z"
      },
      {
        "duration": 11,
        "start_time": "2022-04-30T20:59:52.839Z"
      },
      {
        "duration": 1413,
        "start_time": "2022-04-30T21:00:02.180Z"
      },
      {
        "duration": 13,
        "start_time": "2022-04-30T21:00:05.747Z"
      },
      {
        "duration": 45366,
        "start_time": "2022-04-30T21:00:37.375Z"
      },
      {
        "duration": 18,
        "start_time": "2022-04-30T21:01:41.129Z"
      },
      {
        "duration": 158,
        "start_time": "2022-04-30T21:11:27.064Z"
      },
      {
        "duration": 17,
        "start_time": "2022-04-30T21:11:29.549Z"
      },
      {
        "duration": 16,
        "start_time": "2022-04-30T21:12:30.789Z"
      },
      {
        "duration": 144,
        "start_time": "2022-04-30T21:14:10.654Z"
      },
      {
        "duration": 6,
        "start_time": "2022-04-30T21:15:10.382Z"
      },
      {
        "duration": 143,
        "start_time": "2022-04-30T21:15:49.122Z"
      },
      {
        "duration": 17,
        "start_time": "2022-04-30T21:15:51.245Z"
      },
      {
        "duration": 1008,
        "start_time": "2022-04-30T21:16:33.925Z"
      },
      {
        "duration": 20,
        "start_time": "2022-04-30T21:16:36.719Z"
      },
      {
        "duration": 17,
        "start_time": "2022-04-30T21:17:22.517Z"
      },
      {
        "duration": 238,
        "start_time": "2022-04-30T21:17:33.893Z"
      },
      {
        "duration": 16,
        "start_time": "2022-04-30T21:17:38.571Z"
      },
      {
        "duration": 1353,
        "start_time": "2022-04-30T21:17:52.776Z"
      },
      {
        "duration": 16,
        "start_time": "2022-04-30T21:17:58.028Z"
      },
      {
        "duration": 45635,
        "start_time": "2022-04-30T21:18:07.790Z"
      },
      {
        "duration": 18,
        "start_time": "2022-04-30T21:20:13.737Z"
      },
      {
        "duration": 849,
        "start_time": "2022-04-30T21:20:57.973Z"
      },
      {
        "duration": 748,
        "start_time": "2022-04-30T21:21:10.613Z"
      },
      {
        "duration": 1002,
        "start_time": "2022-04-30T21:21:17.208Z"
      },
      {
        "duration": 12,
        "start_time": "2022-04-30T21:21:20.450Z"
      },
      {
        "duration": 243,
        "start_time": "2022-04-30T21:21:30.242Z"
      },
      {
        "duration": 12,
        "start_time": "2022-04-30T21:21:34.107Z"
      },
      {
        "duration": 1343,
        "start_time": "2022-04-30T21:21:39.683Z"
      },
      {
        "duration": 14,
        "start_time": "2022-04-30T21:21:45.222Z"
      },
      {
        "duration": 44852,
        "start_time": "2022-04-30T21:22:22.431Z"
      },
      {
        "duration": 18,
        "start_time": "2022-04-30T21:24:51.583Z"
      },
      {
        "duration": 18,
        "start_time": "2022-04-30T21:25:17.321Z"
      },
      {
        "duration": 10,
        "start_time": "2022-04-30T21:25:24.472Z"
      },
      {
        "duration": 80,
        "start_time": "2022-04-30T21:27:04.966Z"
      },
      {
        "duration": 111,
        "start_time": "2022-04-30T21:27:22.617Z"
      },
      {
        "duration": 78,
        "start_time": "2022-04-30T21:27:42.631Z"
      },
      {
        "duration": 953,
        "start_time": "2022-04-30T21:28:18.042Z"
      },
      {
        "duration": 764,
        "start_time": "2022-04-30T21:28:24.073Z"
      },
      {
        "duration": 1092,
        "start_time": "2022-04-30T21:28:32.570Z"
      },
      {
        "duration": 11,
        "start_time": "2022-04-30T21:28:35.490Z"
      },
      {
        "duration": 218,
        "start_time": "2022-04-30T21:28:38.575Z"
      },
      {
        "duration": 12,
        "start_time": "2022-04-30T21:28:42.349Z"
      },
      {
        "duration": 8,
        "start_time": "2022-04-30T21:28:48.215Z"
      },
      {
        "duration": 9,
        "start_time": "2022-04-30T21:28:51.732Z"
      },
      {
        "duration": 1349,
        "start_time": "2022-04-30T21:29:21.062Z"
      },
      {
        "duration": 10,
        "start_time": "2022-04-30T21:29:25.115Z"
      },
      {
        "duration": 45838,
        "start_time": "2022-04-30T21:29:38.991Z"
      },
      {
        "duration": 9,
        "start_time": "2022-04-30T21:30:37.251Z"
      },
      {
        "duration": 949,
        "start_time": "2022-04-30T21:31:09.829Z"
      },
      {
        "duration": 17,
        "start_time": "2022-04-30T21:31:13.693Z"
      },
      {
        "duration": 722,
        "start_time": "2022-04-30T21:31:19.756Z"
      },
      {
        "duration": 1119,
        "start_time": "2022-04-30T21:31:24.924Z"
      },
      {
        "duration": 9,
        "start_time": "2022-04-30T21:31:27.521Z"
      },
      {
        "duration": 217,
        "start_time": "2022-04-30T21:31:31.166Z"
      },
      {
        "duration": 1331,
        "start_time": "2022-04-30T21:31:32.181Z"
      },
      {
        "duration": 6895,
        "start_time": "2022-04-30T21:33:00.170Z"
      },
      {
        "duration": 2007,
        "start_time": "2022-04-30T21:33:07.067Z"
      },
      {
        "duration": 3,
        "start_time": "2022-04-30T21:33:09.076Z"
      },
      {
        "duration": 840,
        "start_time": "2022-04-30T21:33:09.081Z"
      },
      {
        "duration": 12,
        "start_time": "2022-04-30T21:33:09.922Z"
      },
      {
        "duration": 46,
        "start_time": "2022-04-30T21:33:09.936Z"
      },
      {
        "duration": 3,
        "start_time": "2022-04-30T21:33:09.983Z"
      },
      {
        "duration": 5,
        "start_time": "2022-04-30T21:33:09.987Z"
      },
      {
        "duration": 5,
        "start_time": "2022-04-30T21:33:09.994Z"
      },
      {
        "duration": 6,
        "start_time": "2022-04-30T21:33:10.002Z"
      },
      {
        "duration": 274,
        "start_time": "2022-04-30T21:33:10.010Z"
      },
      {
        "duration": 5,
        "start_time": "2022-04-30T21:33:10.285Z"
      },
      {
        "duration": 1103,
        "start_time": "2022-04-30T21:33:10.292Z"
      },
      {
        "duration": 10,
        "start_time": "2022-04-30T21:33:11.398Z"
      },
      {
        "duration": 224,
        "start_time": "2022-04-30T21:33:11.409Z"
      },
      {
        "duration": 1354,
        "start_time": "2022-04-30T21:33:11.635Z"
      },
      {
        "duration": 44560,
        "start_time": "2022-04-30T21:33:12.991Z"
      },
      {
        "duration": 9,
        "start_time": "2022-04-30T21:33:57.553Z"
      },
      {
        "duration": 86140,
        "start_time": "2022-04-30T21:33:57.564Z"
      },
      {
        "duration": 0,
        "start_time": "2022-04-30T21:35:23.706Z"
      },
      {
        "duration": 0,
        "start_time": "2022-04-30T21:35:23.707Z"
      },
      {
        "duration": 0,
        "start_time": "2022-04-30T21:35:23.708Z"
      },
      {
        "duration": 0,
        "start_time": "2022-04-30T21:35:23.709Z"
      },
      {
        "duration": 10,
        "start_time": "2022-04-30T21:35:39.048Z"
      },
      {
        "duration": 11,
        "start_time": "2022-04-30T21:45:37.739Z"
      },
      {
        "duration": 10,
        "start_time": "2022-04-30T21:45:39.876Z"
      },
      {
        "duration": 816,
        "start_time": "2022-04-30T21:45:53.992Z"
      },
      {
        "duration": 6760,
        "start_time": "2022-04-30T21:49:19.811Z"
      },
      {
        "duration": 1584,
        "start_time": "2022-04-30T21:49:26.574Z"
      },
      {
        "duration": 2,
        "start_time": "2022-04-30T21:49:28.160Z"
      },
      {
        "duration": 831,
        "start_time": "2022-04-30T21:49:28.164Z"
      },
      {
        "duration": 13,
        "start_time": "2022-04-30T21:49:28.997Z"
      },
      {
        "duration": 39,
        "start_time": "2022-04-30T21:49:29.011Z"
      },
      {
        "duration": 2,
        "start_time": "2022-04-30T21:49:29.052Z"
      },
      {
        "duration": 18,
        "start_time": "2022-04-30T21:49:29.055Z"
      },
      {
        "duration": 2,
        "start_time": "2022-04-30T21:49:29.075Z"
      },
      {
        "duration": 6,
        "start_time": "2022-04-30T21:49:29.078Z"
      },
      {
        "duration": 268,
        "start_time": "2022-04-30T21:49:29.085Z"
      },
      {
        "duration": 4,
        "start_time": "2022-04-30T21:49:29.355Z"
      },
      {
        "duration": 1150,
        "start_time": "2022-04-30T21:49:29.361Z"
      },
      {
        "duration": 10,
        "start_time": "2022-04-30T21:49:30.515Z"
      },
      {
        "duration": 247,
        "start_time": "2022-04-30T21:49:30.527Z"
      },
      {
        "duration": 1337,
        "start_time": "2022-04-30T21:49:30.776Z"
      },
      {
        "duration": 2095,
        "start_time": "2022-04-30T21:49:32.115Z"
      },
      {
        "duration": 8,
        "start_time": "2022-04-30T21:49:34.211Z"
      },
      {
        "duration": 8592,
        "start_time": "2022-04-30T21:51:02.507Z"
      },
      {
        "duration": 1549,
        "start_time": "2022-04-30T21:51:11.101Z"
      },
      {
        "duration": 3,
        "start_time": "2022-04-30T21:51:12.652Z"
      },
      {
        "duration": 829,
        "start_time": "2022-04-30T21:51:12.657Z"
      },
      {
        "duration": 11,
        "start_time": "2022-04-30T21:51:13.489Z"
      },
      {
        "duration": 35,
        "start_time": "2022-04-30T21:51:13.502Z"
      },
      {
        "duration": 3,
        "start_time": "2022-04-30T21:51:13.538Z"
      },
      {
        "duration": 6,
        "start_time": "2022-04-30T21:51:13.542Z"
      },
      {
        "duration": 24,
        "start_time": "2022-04-30T21:51:13.549Z"
      },
      {
        "duration": 7,
        "start_time": "2022-04-30T21:51:13.575Z"
      },
      {
        "duration": 252,
        "start_time": "2022-04-30T21:51:13.584Z"
      },
      {
        "duration": 4,
        "start_time": "2022-04-30T21:51:13.837Z"
      },
      {
        "duration": 1110,
        "start_time": "2022-04-30T21:51:13.843Z"
      },
      {
        "duration": 9,
        "start_time": "2022-04-30T21:51:14.957Z"
      },
      {
        "duration": 239,
        "start_time": "2022-04-30T21:51:14.967Z"
      },
      {
        "duration": 1327,
        "start_time": "2022-04-30T21:51:15.208Z"
      },
      {
        "duration": 2094,
        "start_time": "2022-04-30T21:51:16.537Z"
      },
      {
        "duration": 9,
        "start_time": "2022-04-30T21:51:18.633Z"
      },
      {
        "duration": 6729,
        "start_time": "2022-04-30T21:52:58.273Z"
      },
      {
        "duration": 1558,
        "start_time": "2022-04-30T21:53:05.005Z"
      },
      {
        "duration": 2,
        "start_time": "2022-04-30T21:53:06.565Z"
      },
      {
        "duration": 822,
        "start_time": "2022-04-30T21:53:06.574Z"
      },
      {
        "duration": 12,
        "start_time": "2022-04-30T21:53:07.397Z"
      },
      {
        "duration": 35,
        "start_time": "2022-04-30T21:53:07.411Z"
      },
      {
        "duration": 2,
        "start_time": "2022-04-30T21:53:07.448Z"
      },
      {
        "duration": 26,
        "start_time": "2022-04-30T21:53:07.452Z"
      },
      {
        "duration": 4,
        "start_time": "2022-04-30T21:53:07.480Z"
      },
      {
        "duration": 3,
        "start_time": "2022-04-30T21:53:07.487Z"
      },
      {
        "duration": 257,
        "start_time": "2022-04-30T21:53:07.492Z"
      },
      {
        "duration": 5,
        "start_time": "2022-04-30T21:53:07.750Z"
      },
      {
        "duration": 1105,
        "start_time": "2022-04-30T21:53:07.756Z"
      },
      {
        "duration": 15,
        "start_time": "2022-04-30T21:53:08.863Z"
      },
      {
        "duration": 231,
        "start_time": "2022-04-30T21:53:08.879Z"
      },
      {
        "duration": 1327,
        "start_time": "2022-04-30T21:53:09.112Z"
      },
      {
        "duration": 36,
        "start_time": "2022-04-30T21:53:10.441Z"
      },
      {
        "duration": 43833,
        "start_time": "2022-04-30T21:53:10.479Z"
      },
      {
        "duration": 10,
        "start_time": "2022-04-30T21:53:54.314Z"
      },
      {
        "duration": 875,
        "start_time": "2022-04-30T21:53:54.325Z"
      },
      {
        "duration": 0,
        "start_time": "2022-04-30T21:53:55.202Z"
      },
      {
        "duration": 0,
        "start_time": "2022-04-30T21:53:55.203Z"
      },
      {
        "duration": 804,
        "start_time": "2022-04-30T21:58:15.898Z"
      },
      {
        "duration": 1102,
        "start_time": "2022-04-30T21:58:21.820Z"
      },
      {
        "duration": 9,
        "start_time": "2022-04-30T21:58:24.087Z"
      },
      {
        "duration": 251,
        "start_time": "2022-04-30T21:58:27.290Z"
      },
      {
        "duration": 11,
        "start_time": "2022-04-30T21:58:30.541Z"
      },
      {
        "duration": 1369,
        "start_time": "2022-04-30T21:58:35.197Z"
      },
      {
        "duration": 8,
        "start_time": "2022-04-30T21:58:39.577Z"
      },
      {
        "duration": 37,
        "start_time": "2022-04-30T21:58:44.095Z"
      },
      {
        "duration": 8,
        "start_time": "2022-04-30T21:58:47.890Z"
      },
      {
        "duration": 44959,
        "start_time": "2022-04-30T21:58:54.973Z"
      },
      {
        "duration": 14,
        "start_time": "2022-04-30T21:59:44.158Z"
      },
      {
        "duration": 10,
        "start_time": "2022-04-30T22:00:03.816Z"
      },
      {
        "duration": 7,
        "start_time": "2022-04-30T22:00:09.561Z"
      },
      {
        "duration": 9,
        "start_time": "2022-04-30T22:00:13.323Z"
      },
      {
        "duration": 8798,
        "start_time": "2022-04-30T22:54:13.837Z"
      },
      {
        "duration": 63274,
        "start_time": "2022-04-30T22:54:39.668Z"
      },
      {
        "duration": 0,
        "start_time": "2022-04-30T22:55:42.944Z"
      },
      {
        "duration": 8992,
        "start_time": "2022-04-30T22:55:44.849Z"
      },
      {
        "duration": 81007,
        "start_time": "2022-04-30T22:56:08.955Z"
      },
      {
        "duration": 873,
        "start_time": "2022-04-30T22:58:48.299Z"
      },
      {
        "duration": 95,
        "start_time": "2022-04-30T23:00:55.083Z"
      },
      {
        "duration": 74,
        "start_time": "2022-04-30T23:03:08.535Z"
      },
      {
        "duration": 212552,
        "start_time": "2022-04-30T23:04:27.306Z"
      },
      {
        "duration": 302322,
        "start_time": "2022-04-30T23:08:02.216Z"
      },
      {
        "duration": 1259,
        "start_time": "2022-04-30T23:13:21.911Z"
      },
      {
        "duration": 1256,
        "start_time": "2022-04-30T23:13:46.224Z"
      },
      {
        "duration": 2374,
        "start_time": "2022-04-30T23:14:28.566Z"
      },
      {
        "duration": 57206,
        "start_time": "2022-04-30T23:14:50.802Z"
      },
      {
        "duration": 1,
        "start_time": "2022-04-30T23:15:48.009Z"
      },
      {
        "duration": 449,
        "start_time": "2022-04-30T23:15:51.174Z"
      },
      {
        "duration": 411,
        "start_time": "2022-04-30T23:16:36.583Z"
      },
      {
        "duration": 408,
        "start_time": "2022-04-30T23:16:53.795Z"
      },
      {
        "duration": 412,
        "start_time": "2022-04-30T23:17:27.525Z"
      },
      {
        "duration": 570424,
        "start_time": "2022-04-30T23:17:48.316Z"
      },
      {
        "duration": 38,
        "start_time": "2022-04-30T23:27:18.742Z"
      },
      {
        "duration": 0,
        "start_time": "2022-04-30T23:27:18.782Z"
      },
      {
        "duration": 108433,
        "start_time": "2022-04-30T23:27:24.011Z"
      },
      {
        "duration": 139,
        "start_time": "2022-04-30T23:29:12.447Z"
      },
      {
        "duration": 4,
        "start_time": "2022-04-30T23:30:40.718Z"
      },
      {
        "duration": 36,
        "start_time": "2022-04-30T23:35:01.593Z"
      },
      {
        "duration": 196,
        "start_time": "2022-04-30T23:35:30.131Z"
      },
      {
        "duration": 3,
        "start_time": "2022-04-30T23:36:56.730Z"
      },
      {
        "duration": 788,
        "start_time": "2022-04-30T23:36:56.737Z"
      },
      {
        "duration": 10,
        "start_time": "2022-04-30T23:36:57.527Z"
      },
      {
        "duration": 48,
        "start_time": "2022-04-30T23:36:57.539Z"
      },
      {
        "duration": 4,
        "start_time": "2022-04-30T23:36:57.590Z"
      },
      {
        "duration": 17,
        "start_time": "2022-04-30T23:36:57.596Z"
      },
      {
        "duration": 12,
        "start_time": "2022-04-30T23:36:57.614Z"
      },
      {
        "duration": 4,
        "start_time": "2022-04-30T23:36:57.627Z"
      },
      {
        "duration": 151,
        "start_time": "2022-04-30T23:36:57.633Z"
      },
      {
        "duration": 4,
        "start_time": "2022-04-30T23:36:57.786Z"
      },
      {
        "duration": 1103,
        "start_time": "2022-04-30T23:36:57.793Z"
      },
      {
        "duration": 25,
        "start_time": "2022-04-30T23:36:58.898Z"
      },
      {
        "duration": 0,
        "start_time": "2022-04-30T23:36:58.925Z"
      },
      {
        "duration": 0,
        "start_time": "2022-04-30T23:36:58.926Z"
      },
      {
        "duration": 0,
        "start_time": "2022-04-30T23:36:58.927Z"
      },
      {
        "duration": 0,
        "start_time": "2022-04-30T23:36:58.928Z"
      },
      {
        "duration": 0,
        "start_time": "2022-04-30T23:36:58.930Z"
      },
      {
        "duration": 0,
        "start_time": "2022-04-30T23:36:58.931Z"
      },
      {
        "duration": 0,
        "start_time": "2022-04-30T23:36:58.931Z"
      },
      {
        "duration": 0,
        "start_time": "2022-04-30T23:36:58.932Z"
      },
      {
        "duration": 0,
        "start_time": "2022-04-30T23:36:58.933Z"
      },
      {
        "duration": 0,
        "start_time": "2022-04-30T23:36:58.934Z"
      },
      {
        "duration": 4,
        "start_time": "2022-04-30T23:37:23.242Z"
      },
      {
        "duration": 11,
        "start_time": "2022-04-30T23:37:32.310Z"
      },
      {
        "duration": 135325,
        "start_time": "2022-04-30T23:38:06.373Z"
      },
      {
        "duration": 2,
        "start_time": "2022-04-30T23:40:28.484Z"
      },
      {
        "duration": 766,
        "start_time": "2022-04-30T23:40:28.489Z"
      },
      {
        "duration": 7,
        "start_time": "2022-04-30T23:40:29.257Z"
      },
      {
        "duration": 38,
        "start_time": "2022-04-30T23:40:29.274Z"
      },
      {
        "duration": 15,
        "start_time": "2022-04-30T23:40:29.313Z"
      },
      {
        "duration": 12,
        "start_time": "2022-04-30T23:40:29.329Z"
      },
      {
        "duration": 15,
        "start_time": "2022-04-30T23:40:29.342Z"
      },
      {
        "duration": 17,
        "start_time": "2022-04-30T23:40:29.359Z"
      },
      {
        "duration": 153,
        "start_time": "2022-04-30T23:40:29.378Z"
      },
      {
        "duration": 4,
        "start_time": "2022-04-30T23:40:29.534Z"
      },
      {
        "duration": 16,
        "start_time": "2022-04-30T23:40:29.540Z"
      },
      {
        "duration": 176182,
        "start_time": "2022-04-30T23:40:29.558Z"
      },
      {
        "duration": 0,
        "start_time": "2022-04-30T23:43:25.741Z"
      },
      {
        "duration": 0,
        "start_time": "2022-04-30T23:43:25.743Z"
      },
      {
        "duration": 0,
        "start_time": "2022-04-30T23:43:25.744Z"
      },
      {
        "duration": 0,
        "start_time": "2022-04-30T23:43:25.745Z"
      },
      {
        "duration": 0,
        "start_time": "2022-04-30T23:43:25.747Z"
      },
      {
        "duration": 0,
        "start_time": "2022-04-30T23:43:25.748Z"
      },
      {
        "duration": 0,
        "start_time": "2022-04-30T23:43:25.749Z"
      },
      {
        "duration": 0,
        "start_time": "2022-04-30T23:43:25.750Z"
      },
      {
        "duration": 0,
        "start_time": "2022-04-30T23:43:25.752Z"
      },
      {
        "duration": 0,
        "start_time": "2022-04-30T23:43:25.753Z"
      },
      {
        "duration": 0,
        "start_time": "2022-04-30T23:43:25.753Z"
      },
      {
        "duration": 0,
        "start_time": "2022-04-30T23:43:25.755Z"
      },
      {
        "duration": 457,
        "start_time": "2022-04-30T23:43:34.749Z"
      },
      {
        "duration": 39,
        "start_time": "2022-04-30T23:44:07.823Z"
      },
      {
        "duration": 5,
        "start_time": "2022-04-30T23:44:22.225Z"
      },
      {
        "duration": 40,
        "start_time": "2022-04-30T23:44:29.394Z"
      },
      {
        "duration": 4,
        "start_time": "2022-04-30T23:46:59.642Z"
      },
      {
        "duration": 2,
        "start_time": "2022-04-30T23:48:32.016Z"
      },
      {
        "duration": 2,
        "start_time": "2022-04-30T23:48:47.438Z"
      },
      {
        "duration": 762,
        "start_time": "2022-04-30T23:48:59.370Z"
      },
      {
        "duration": 8,
        "start_time": "2022-04-30T23:49:03.164Z"
      },
      {
        "duration": 3,
        "start_time": "2022-04-30T23:49:22.356Z"
      },
      {
        "duration": 764,
        "start_time": "2022-04-30T23:49:28.677Z"
      },
      {
        "duration": 9,
        "start_time": "2022-04-30T23:49:30.813Z"
      },
      {
        "duration": 8,
        "start_time": "2022-04-30T23:49:35.853Z"
      },
      {
        "duration": 9,
        "start_time": "2022-04-30T23:49:48.315Z"
      },
      {
        "duration": 8,
        "start_time": "2022-04-30T23:50:00.343Z"
      },
      {
        "duration": 749,
        "start_time": "2022-04-30T23:50:16.354Z"
      },
      {
        "duration": 8,
        "start_time": "2022-04-30T23:50:18.534Z"
      },
      {
        "duration": 8,
        "start_time": "2022-04-30T23:51:20.470Z"
      },
      {
        "duration": 1132,
        "start_time": "2022-04-30T23:51:23.533Z"
      },
      {
        "duration": 9,
        "start_time": "2022-04-30T23:51:26.481Z"
      },
      {
        "duration": 242,
        "start_time": "2022-04-30T23:51:29.246Z"
      },
      {
        "duration": 1334,
        "start_time": "2022-04-30T23:51:32.996Z"
      },
      {
        "duration": 9,
        "start_time": "2022-04-30T23:51:37.701Z"
      },
      {
        "duration": 37,
        "start_time": "2022-04-30T23:51:42.237Z"
      },
      {
        "duration": 4,
        "start_time": "2022-04-30T23:51:44.724Z"
      },
      {
        "duration": 630788,
        "start_time": "2022-04-30T23:51:47.898Z"
      },
      {
        "duration": 0,
        "start_time": "2022-05-01T00:02:18.688Z"
      },
      {
        "duration": 3,
        "start_time": "2022-05-01T00:03:05.495Z"
      },
      {
        "duration": 725,
        "start_time": "2022-05-01T00:03:15.117Z"
      },
      {
        "duration": 781,
        "start_time": "2022-05-01T00:03:18.871Z"
      },
      {
        "duration": 3,
        "start_time": "2022-05-01T00:03:19.657Z"
      },
      {
        "duration": 16,
        "start_time": "2022-05-01T00:03:19.661Z"
      },
      {
        "duration": 17,
        "start_time": "2022-05-01T00:03:19.679Z"
      },
      {
        "duration": 6,
        "start_time": "2022-05-01T00:03:19.697Z"
      },
      {
        "duration": 9,
        "start_time": "2022-05-01T00:03:19.705Z"
      },
      {
        "duration": 5,
        "start_time": "2022-05-01T00:03:19.716Z"
      },
      {
        "duration": 5,
        "start_time": "2022-05-01T00:03:19.722Z"
      },
      {
        "duration": 129,
        "start_time": "2022-05-01T00:03:19.729Z"
      },
      {
        "duration": 5,
        "start_time": "2022-05-01T00:03:19.860Z"
      },
      {
        "duration": 4,
        "start_time": "2022-05-01T00:03:19.873Z"
      },
      {
        "duration": 7,
        "start_time": "2022-05-01T00:03:19.878Z"
      },
      {
        "duration": 23,
        "start_time": "2022-05-01T00:03:19.887Z"
      },
      {
        "duration": 0,
        "start_time": "2022-05-01T00:03:19.912Z"
      },
      {
        "duration": 0,
        "start_time": "2022-05-01T00:03:19.914Z"
      },
      {
        "duration": 0,
        "start_time": "2022-05-01T00:03:19.915Z"
      },
      {
        "duration": 0,
        "start_time": "2022-05-01T00:03:19.917Z"
      },
      {
        "duration": 0,
        "start_time": "2022-05-01T00:03:19.918Z"
      },
      {
        "duration": 0,
        "start_time": "2022-05-01T00:03:19.920Z"
      },
      {
        "duration": 0,
        "start_time": "2022-05-01T00:03:19.921Z"
      },
      {
        "duration": 0,
        "start_time": "2022-05-01T00:03:19.922Z"
      },
      {
        "duration": 0,
        "start_time": "2022-05-01T00:03:19.923Z"
      },
      {
        "duration": 0,
        "start_time": "2022-05-01T00:03:19.925Z"
      },
      {
        "duration": 0,
        "start_time": "2022-05-01T00:03:19.927Z"
      },
      {
        "duration": 0,
        "start_time": "2022-05-01T00:03:19.928Z"
      },
      {
        "duration": 0,
        "start_time": "2022-05-01T00:03:19.929Z"
      },
      {
        "duration": 0,
        "start_time": "2022-05-01T00:03:19.931Z"
      },
      {
        "duration": 50,
        "start_time": "2022-05-01T00:03:39.768Z"
      },
      {
        "duration": 31,
        "start_time": "2022-05-01T00:03:46.347Z"
      },
      {
        "duration": 9,
        "start_time": "2022-05-01T00:03:55.936Z"
      },
      {
        "duration": 45,
        "start_time": "2022-05-01T00:03:55.947Z"
      },
      {
        "duration": 7,
        "start_time": "2022-05-01T00:03:55.994Z"
      },
      {
        "duration": 17,
        "start_time": "2022-05-01T00:03:56.003Z"
      },
      {
        "duration": 62,
        "start_time": "2022-05-01T00:03:56.022Z"
      },
      {
        "duration": 3,
        "start_time": "2022-05-01T00:03:56.087Z"
      },
      {
        "duration": 5,
        "start_time": "2022-05-01T00:03:56.092Z"
      },
      {
        "duration": 5,
        "start_time": "2022-05-01T00:03:56.099Z"
      },
      {
        "duration": 38138,
        "start_time": "2022-05-01T00:03:56.106Z"
      },
      {
        "duration": 0,
        "start_time": "2022-05-01T00:04:34.246Z"
      },
      {
        "duration": 0,
        "start_time": "2022-05-01T00:04:34.247Z"
      },
      {
        "duration": 0,
        "start_time": "2022-05-01T00:04:34.248Z"
      },
      {
        "duration": 51722,
        "start_time": "2022-05-01T00:04:35.977Z"
      },
      {
        "duration": 0,
        "start_time": "2022-05-01T00:05:27.701Z"
      },
      {
        "duration": 0,
        "start_time": "2022-05-01T00:05:27.704Z"
      },
      {
        "duration": 0,
        "start_time": "2022-05-01T00:05:27.706Z"
      },
      {
        "duration": 782,
        "start_time": "2022-05-01T00:05:29.124Z"
      },
      {
        "duration": 0,
        "start_time": "2022-05-01T00:11:13.424Z"
      },
      {
        "duration": 109374,
        "start_time": "2022-05-01T00:11:16.094Z"
      },
      {
        "duration": 6041,
        "start_time": "2022-05-01T00:14:11.950Z"
      },
      {
        "duration": 2739,
        "start_time": "2022-05-01T00:16:33.376Z"
      },
      {
        "duration": 4,
        "start_time": "2022-05-01T00:17:07.166Z"
      },
      {
        "duration": 2540,
        "start_time": "2022-05-01T00:17:09.106Z"
      },
      {
        "duration": 4,
        "start_time": "2022-05-01T00:20:40.711Z"
      },
      {
        "duration": 4,
        "start_time": "2022-05-01T00:22:19.815Z"
      },
      {
        "duration": 3,
        "start_time": "2022-05-01T00:23:15.891Z"
      },
      {
        "duration": 3,
        "start_time": "2022-05-01T00:25:43.298Z"
      },
      {
        "duration": 810,
        "start_time": "2022-05-01T00:25:43.303Z"
      },
      {
        "duration": 2,
        "start_time": "2022-05-01T00:25:44.116Z"
      },
      {
        "duration": 13,
        "start_time": "2022-05-01T00:25:44.120Z"
      },
      {
        "duration": 17,
        "start_time": "2022-05-01T00:25:44.135Z"
      },
      {
        "duration": 20,
        "start_time": "2022-05-01T00:25:44.154Z"
      },
      {
        "duration": 14,
        "start_time": "2022-05-01T00:25:44.175Z"
      },
      {
        "duration": 9,
        "start_time": "2022-05-01T00:25:44.191Z"
      },
      {
        "duration": 6,
        "start_time": "2022-05-01T00:25:44.203Z"
      },
      {
        "duration": 119,
        "start_time": "2022-05-01T00:25:44.210Z"
      },
      {
        "duration": 5,
        "start_time": "2022-05-01T00:25:44.331Z"
      },
      {
        "duration": 6,
        "start_time": "2022-05-01T00:25:44.338Z"
      },
      {
        "duration": 28,
        "start_time": "2022-05-01T00:25:44.345Z"
      },
      {
        "duration": 17,
        "start_time": "2022-05-01T00:25:44.375Z"
      },
      {
        "duration": 46,
        "start_time": "2022-05-01T00:25:44.394Z"
      },
      {
        "duration": 32,
        "start_time": "2022-05-01T00:25:44.442Z"
      },
      {
        "duration": 11,
        "start_time": "2022-05-01T00:25:44.476Z"
      },
      {
        "duration": 45,
        "start_time": "2022-05-01T00:25:44.488Z"
      },
      {
        "duration": 7,
        "start_time": "2022-05-01T00:25:44.535Z"
      },
      {
        "duration": 14,
        "start_time": "2022-05-01T00:25:44.543Z"
      },
      {
        "duration": 53,
        "start_time": "2022-05-01T00:25:44.573Z"
      },
      {
        "duration": 3,
        "start_time": "2022-05-01T00:25:44.628Z"
      },
      {
        "duration": 1419,
        "start_time": "2022-05-01T00:25:44.633Z"
      },
      {
        "duration": 3,
        "start_time": "2022-05-01T00:25:46.054Z"
      },
      {
        "duration": 9,
        "start_time": "2022-05-01T00:25:46.059Z"
      },
      {
        "duration": 477,
        "start_time": "2022-05-01T00:25:46.073Z"
      },
      {
        "duration": 0,
        "start_time": "2022-05-01T00:25:46.552Z"
      },
      {
        "duration": 0,
        "start_time": "2022-05-01T00:25:46.553Z"
      },
      {
        "duration": 0,
        "start_time": "2022-05-01T00:25:46.555Z"
      },
      {
        "duration": 39925,
        "start_time": "2022-05-01T00:27:11.105Z"
      },
      {
        "duration": 54168,
        "start_time": "2022-05-01T00:27:52.866Z"
      },
      {
        "duration": 68944,
        "start_time": "2022-05-01T00:29:01.237Z"
      },
      {
        "duration": 0,
        "start_time": "2022-05-01T00:30:10.183Z"
      },
      {
        "duration": 7,
        "start_time": "2022-05-06T07:30:21.896Z"
      },
      {
        "duration": 2,
        "start_time": "2022-05-06T07:42:11.730Z"
      },
      {
        "duration": 10148,
        "start_time": "2022-05-06T07:51:37.704Z"
      },
      {
        "duration": 1593,
        "start_time": "2022-05-06T07:52:43.717Z"
      },
      {
        "duration": 4,
        "start_time": "2022-05-06T07:54:44.117Z"
      },
      {
        "duration": 111,
        "start_time": "2022-05-06T07:55:02.203Z"
      },
      {
        "duration": 3,
        "start_time": "2022-05-06T07:55:25.982Z"
      },
      {
        "duration": 695,
        "start_time": "2022-05-06T07:55:30.811Z"
      },
      {
        "duration": 87,
        "start_time": "2022-05-06T07:55:45.565Z"
      },
      {
        "duration": 721,
        "start_time": "2022-05-06T08:00:45.680Z"
      },
      {
        "duration": 3,
        "start_time": "2022-05-06T08:01:43.990Z"
      },
      {
        "duration": 883,
        "start_time": "2022-05-06T08:01:52.641Z"
      },
      {
        "duration": 1382,
        "start_time": "2022-05-06T08:03:41.334Z"
      },
      {
        "duration": 3,
        "start_time": "2022-05-06T08:05:19.827Z"
      },
      {
        "duration": 391,
        "start_time": "2022-05-06T08:05:25.191Z"
      },
      {
        "duration": 2,
        "start_time": "2022-05-06T08:05:51.687Z"
      },
      {
        "duration": 36,
        "start_time": "2022-05-06T08:05:56.807Z"
      },
      {
        "duration": 3,
        "start_time": "2022-05-06T08:09:30.697Z"
      },
      {
        "duration": 6381,
        "start_time": "2022-05-06T08:09:53.776Z"
      },
      {
        "duration": 12,
        "start_time": "2022-05-06T08:10:04.361Z"
      },
      {
        "duration": 5347,
        "start_time": "2022-05-06T08:11:57.243Z"
      },
      {
        "duration": 6986,
        "start_time": "2022-05-06T08:12:06.181Z"
      },
      {
        "duration": 9,
        "start_time": "2022-05-06T08:12:14.599Z"
      },
      {
        "duration": 5,
        "start_time": "2022-05-06T08:12:37.137Z"
      },
      {
        "duration": 7,
        "start_time": "2022-05-06T08:12:45.346Z"
      },
      {
        "duration": 10,
        "start_time": "2022-05-06T08:15:44.718Z"
      },
      {
        "duration": 7,
        "start_time": "2022-05-06T08:16:02.213Z"
      },
      {
        "duration": 4,
        "start_time": "2022-05-06T08:16:06.407Z"
      },
      {
        "duration": 53,
        "start_time": "2022-05-06T08:16:09.311Z"
      },
      {
        "duration": 17,
        "start_time": "2022-05-06T08:21:49.339Z"
      },
      {
        "duration": 8,
        "start_time": "2022-05-06T08:22:24.535Z"
      },
      {
        "duration": 14,
        "start_time": "2022-05-06T08:22:38.602Z"
      },
      {
        "duration": 4,
        "start_time": "2022-05-06T08:22:58.765Z"
      },
      {
        "duration": 3,
        "start_time": "2022-05-06T08:23:01.535Z"
      },
      {
        "duration": 43,
        "start_time": "2022-05-06T08:23:11.995Z"
      },
      {
        "duration": 3321,
        "start_time": "2022-05-06T08:23:40.117Z"
      },
      {
        "duration": 1556,
        "start_time": "2022-05-06T08:23:52.172Z"
      },
      {
        "duration": 12,
        "start_time": "2022-05-06T08:25:33.332Z"
      },
      {
        "duration": 11,
        "start_time": "2022-05-06T08:26:40.291Z"
      },
      {
        "duration": 6,
        "start_time": "2022-05-06T08:28:46.342Z"
      },
      {
        "duration": 3,
        "start_time": "2022-05-06T08:28:55.136Z"
      },
      {
        "duration": 21,
        "start_time": "2022-05-06T08:29:05.711Z"
      },
      {
        "duration": 22,
        "start_time": "2022-05-06T08:29:22.831Z"
      },
      {
        "duration": 12,
        "start_time": "2022-05-06T08:29:42.181Z"
      },
      {
        "duration": 9142,
        "start_time": "2022-05-06T08:29:50.382Z"
      },
      {
        "duration": 5,
        "start_time": "2022-05-06T08:29:59.527Z"
      },
      {
        "duration": 2362,
        "start_time": "2022-05-06T08:29:59.533Z"
      },
      {
        "duration": 4,
        "start_time": "2022-05-06T08:30:01.898Z"
      },
      {
        "duration": 18,
        "start_time": "2022-05-06T08:30:01.904Z"
      },
      {
        "duration": 807,
        "start_time": "2022-05-06T08:30:01.924Z"
      },
      {
        "duration": 2,
        "start_time": "2022-05-06T08:30:02.733Z"
      },
      {
        "duration": 21,
        "start_time": "2022-05-06T08:30:02.737Z"
      },
      {
        "duration": 53,
        "start_time": "2022-05-06T08:30:02.760Z"
      },
      {
        "duration": 3,
        "start_time": "2022-05-06T08:30:02.816Z"
      },
      {
        "duration": 12,
        "start_time": "2022-05-06T08:30:02.820Z"
      },
      {
        "duration": 4,
        "start_time": "2022-05-06T08:30:02.835Z"
      },
      {
        "duration": 9,
        "start_time": "2022-05-06T08:30:02.841Z"
      },
      {
        "duration": 200,
        "start_time": "2022-05-06T08:30:02.853Z"
      },
      {
        "duration": 8,
        "start_time": "2022-05-06T08:30:03.058Z"
      },
      {
        "duration": 22,
        "start_time": "2022-05-06T08:30:03.068Z"
      },
      {
        "duration": 918,
        "start_time": "2022-05-06T08:30:03.092Z"
      },
      {
        "duration": 8,
        "start_time": "2022-05-06T08:30:04.012Z"
      },
      {
        "duration": 1212,
        "start_time": "2022-05-06T08:30:04.021Z"
      },
      {
        "duration": 16,
        "start_time": "2022-05-06T08:30:05.236Z"
      },
      {
        "duration": 296,
        "start_time": "2022-05-06T08:30:05.253Z"
      },
      {
        "duration": 8,
        "start_time": "2022-05-06T08:30:05.554Z"
      },
      {
        "duration": 1697,
        "start_time": "2022-05-06T08:30:05.565Z"
      },
      {
        "duration": 12,
        "start_time": "2022-05-06T08:30:07.266Z"
      },
      {
        "duration": 6,
        "start_time": "2022-05-06T08:30:07.281Z"
      },
      {
        "duration": 9,
        "start_time": "2022-05-06T08:30:07.289Z"
      },
      {
        "duration": 23,
        "start_time": "2022-05-06T08:30:07.300Z"
      },
      {
        "duration": 4,
        "start_time": "2022-05-06T08:30:07.327Z"
      },
      {
        "duration": 4896,
        "start_time": "2022-05-06T08:30:07.333Z"
      },
      {
        "duration": 7,
        "start_time": "2022-05-06T08:30:12.231Z"
      },
      {
        "duration": 4,
        "start_time": "2022-05-06T08:30:12.248Z"
      },
      {
        "duration": 81,
        "start_time": "2022-05-06T08:30:12.254Z"
      },
      {
        "duration": 48,
        "start_time": "2022-05-06T08:30:12.337Z"
      },
      {
        "duration": 215,
        "start_time": "2022-05-06T08:30:12.388Z"
      },
      {
        "duration": 6,
        "start_time": "2022-05-06T08:30:29.367Z"
      },
      {
        "duration": 35,
        "start_time": "2022-05-06T08:33:23.838Z"
      },
      {
        "duration": 26,
        "start_time": "2022-05-06T08:33:37.733Z"
      },
      {
        "duration": 18,
        "start_time": "2022-05-06T08:33:46.900Z"
      },
      {
        "duration": 10677,
        "start_time": "2022-05-06T09:08:57.657Z"
      },
      {
        "duration": 1554,
        "start_time": "2022-05-06T09:09:08.336Z"
      },
      {
        "duration": 2391,
        "start_time": "2022-05-06T09:09:09.892Z"
      },
      {
        "duration": 4,
        "start_time": "2022-05-06T09:09:12.286Z"
      },
      {
        "duration": 6,
        "start_time": "2022-05-06T09:09:12.291Z"
      },
      {
        "duration": 841,
        "start_time": "2022-05-06T09:09:12.298Z"
      },
      {
        "duration": 8,
        "start_time": "2022-05-06T09:09:13.141Z"
      },
      {
        "duration": 24,
        "start_time": "2022-05-06T09:09:13.150Z"
      },
      {
        "duration": 33,
        "start_time": "2022-05-06T09:09:13.175Z"
      },
      {
        "duration": 3,
        "start_time": "2022-05-06T09:09:13.210Z"
      },
      {
        "duration": 9,
        "start_time": "2022-05-06T09:09:13.214Z"
      },
      {
        "duration": 7,
        "start_time": "2022-05-06T09:09:13.224Z"
      },
      {
        "duration": 6,
        "start_time": "2022-05-06T09:09:13.232Z"
      },
      {
        "duration": 245,
        "start_time": "2022-05-06T09:09:13.240Z"
      },
      {
        "duration": 5,
        "start_time": "2022-05-06T09:09:13.487Z"
      },
      {
        "duration": 4,
        "start_time": "2022-05-06T09:09:13.493Z"
      },
      {
        "duration": 826,
        "start_time": "2022-05-06T09:09:13.498Z"
      },
      {
        "duration": 8,
        "start_time": "2022-05-06T09:09:14.326Z"
      },
      {
        "duration": 1170,
        "start_time": "2022-05-06T09:09:14.335Z"
      },
      {
        "duration": 7,
        "start_time": "2022-05-06T09:09:15.507Z"
      },
      {
        "duration": 244,
        "start_time": "2022-05-06T09:09:15.515Z"
      },
      {
        "duration": 7,
        "start_time": "2022-05-06T09:09:15.761Z"
      },
      {
        "duration": 1372,
        "start_time": "2022-05-06T09:09:15.770Z"
      },
      {
        "duration": 8,
        "start_time": "2022-05-06T09:09:17.145Z"
      },
      {
        "duration": 15,
        "start_time": "2022-05-06T09:09:17.155Z"
      },
      {
        "duration": 5,
        "start_time": "2022-05-06T09:09:17.171Z"
      },
      {
        "duration": 5,
        "start_time": "2022-05-06T09:09:17.177Z"
      },
      {
        "duration": 2,
        "start_time": "2022-05-06T09:09:17.185Z"
      },
      {
        "duration": 6303,
        "start_time": "2022-05-06T09:09:17.189Z"
      },
      {
        "duration": 9,
        "start_time": "2022-05-06T09:09:23.494Z"
      },
      {
        "duration": 5,
        "start_time": "2022-05-06T09:09:23.505Z"
      },
      {
        "duration": 142,
        "start_time": "2022-05-06T09:09:23.512Z"
      },
      {
        "duration": 49,
        "start_time": "2022-05-06T09:09:23.656Z"
      },
      {
        "duration": 199,
        "start_time": "2022-05-06T09:09:23.707Z"
      },
      {
        "duration": 6,
        "start_time": "2022-05-06T09:09:23.909Z"
      },
      {
        "duration": 2268,
        "start_time": "2022-05-06T09:09:23.916Z"
      },
      {
        "duration": 3,
        "start_time": "2022-05-06T09:09:26.185Z"
      },
      {
        "duration": 6,
        "start_time": "2022-05-06T09:09:26.190Z"
      },
      {
        "duration": 28,
        "start_time": "2022-05-06T09:09:26.198Z"
      },
      {
        "duration": 13,
        "start_time": "2022-05-06T09:09:26.247Z"
      },
      {
        "duration": 10,
        "start_time": "2022-05-06T09:09:26.262Z"
      },
      {
        "duration": 8,
        "start_time": "2022-05-06T09:09:26.273Z"
      },
      {
        "duration": 200692,
        "start_time": "2022-05-06T09:09:26.282Z"
      },
      {
        "duration": 5,
        "start_time": "2022-05-06T09:12:46.984Z"
      },
      {
        "duration": 33097,
        "start_time": "2022-05-06T09:12:46.992Z"
      },
      {
        "duration": 8,
        "start_time": "2022-05-06T09:13:20.091Z"
      },
      {
        "duration": 6,
        "start_time": "2022-05-06T09:13:20.101Z"
      },
      {
        "duration": 10,
        "start_time": "2022-05-06T09:13:20.108Z"
      },
      {
        "duration": 78033,
        "start_time": "2022-05-06T09:13:20.119Z"
      },
      {
        "duration": 9,
        "start_time": "2022-05-06T09:14:38.155Z"
      },
      {
        "duration": 21956,
        "start_time": "2022-05-06T09:14:38.166Z"
      },
      {
        "duration": 7,
        "start_time": "2022-05-06T09:15:00.124Z"
      },
      {
        "duration": 242,
        "start_time": "2022-05-06T09:15:00.150Z"
      },
      {
        "duration": 25359,
        "start_time": "2022-05-06T09:15:00.393Z"
      },
      {
        "duration": 3,
        "start_time": "2022-05-06T09:17:58.190Z"
      },
      {
        "duration": 10,
        "start_time": "2022-05-06T09:18:03.620Z"
      },
      {
        "duration": 4033,
        "start_time": "2022-05-06T09:18:31.595Z"
      },
      {
        "duration": 6,
        "start_time": "2022-05-06T09:18:35.630Z"
      },
      {
        "duration": 24,
        "start_time": "2022-05-06T09:18:35.638Z"
      },
      {
        "duration": 25,
        "start_time": "2022-05-06T09:18:35.668Z"
      },
      {
        "duration": 13,
        "start_time": "2022-05-06T09:18:35.694Z"
      },
      {
        "duration": 6,
        "start_time": "2022-05-06T09:18:35.708Z"
      },
      {
        "duration": 17,
        "start_time": "2022-05-06T09:18:35.716Z"
      },
      {
        "duration": 4,
        "start_time": "2022-05-06T09:18:35.735Z"
      },
      {
        "duration": 37,
        "start_time": "2022-05-06T09:18:35.753Z"
      },
      {
        "duration": 5,
        "start_time": "2022-05-06T09:18:35.795Z"
      },
      {
        "duration": 10,
        "start_time": "2022-05-06T09:18:35.801Z"
      },
      {
        "duration": 8,
        "start_time": "2022-05-06T09:18:35.812Z"
      },
      {
        "duration": 10,
        "start_time": "2022-05-06T09:18:35.822Z"
      },
      {
        "duration": 8,
        "start_time": "2022-05-06T09:18:35.833Z"
      },
      {
        "duration": 45,
        "start_time": "2022-05-06T09:18:35.843Z"
      },
      {
        "duration": 93,
        "start_time": "2022-05-06T09:18:35.890Z"
      },
      {
        "duration": 5,
        "start_time": "2022-05-06T09:18:35.984Z"
      },
      {
        "duration": 26,
        "start_time": "2022-05-06T09:18:35.991Z"
      },
      {
        "duration": 7,
        "start_time": "2022-05-06T09:18:36.019Z"
      },
      {
        "duration": 35,
        "start_time": "2022-05-06T09:18:36.027Z"
      },
      {
        "duration": 26,
        "start_time": "2022-05-06T09:18:36.064Z"
      },
      {
        "duration": 74,
        "start_time": "2022-05-06T09:18:36.092Z"
      },
      {
        "duration": 6,
        "start_time": "2022-05-06T09:18:36.168Z"
      },
      {
        "duration": 34,
        "start_time": "2022-05-06T09:18:36.175Z"
      },
      {
        "duration": 7,
        "start_time": "2022-05-06T09:18:36.211Z"
      },
      {
        "duration": 230,
        "start_time": "2022-05-06T09:18:36.219Z"
      },
      {
        "duration": 29,
        "start_time": "2022-05-06T09:18:36.457Z"
      },
      {
        "duration": 8889,
        "start_time": "2022-05-06T09:21:11.188Z"
      },
      {
        "duration": 1456,
        "start_time": "2022-05-06T09:21:20.080Z"
      },
      {
        "duration": 2431,
        "start_time": "2022-05-06T09:21:21.537Z"
      },
      {
        "duration": 4,
        "start_time": "2022-05-06T09:21:23.970Z"
      },
      {
        "duration": 6,
        "start_time": "2022-05-06T09:21:23.976Z"
      },
      {
        "duration": 825,
        "start_time": "2022-05-06T09:21:23.983Z"
      },
      {
        "duration": 3,
        "start_time": "2022-05-06T09:21:24.809Z"
      },
      {
        "duration": 12,
        "start_time": "2022-05-06T09:21:24.813Z"
      },
      {
        "duration": 44,
        "start_time": "2022-05-06T09:21:24.827Z"
      },
      {
        "duration": 6,
        "start_time": "2022-05-06T09:21:24.875Z"
      },
      {
        "duration": 5,
        "start_time": "2022-05-06T09:21:24.883Z"
      },
      {
        "duration": 4,
        "start_time": "2022-05-06T09:21:24.890Z"
      },
      {
        "duration": 7,
        "start_time": "2022-05-06T09:21:24.896Z"
      },
      {
        "duration": 248,
        "start_time": "2022-05-06T09:21:24.905Z"
      },
      {
        "duration": 13,
        "start_time": "2022-05-06T09:21:25.154Z"
      },
      {
        "duration": 7,
        "start_time": "2022-05-06T09:21:25.169Z"
      },
      {
        "duration": 854,
        "start_time": "2022-05-06T09:21:25.177Z"
      },
      {
        "duration": 8,
        "start_time": "2022-05-06T09:21:26.032Z"
      },
      {
        "duration": 1186,
        "start_time": "2022-05-06T09:21:26.048Z"
      },
      {
        "duration": 15,
        "start_time": "2022-05-06T09:21:27.236Z"
      },
      {
        "duration": 235,
        "start_time": "2022-05-06T09:21:27.253Z"
      },
      {
        "duration": 7,
        "start_time": "2022-05-06T09:21:27.490Z"
      },
      {
        "duration": 1452,
        "start_time": "2022-05-06T09:21:27.498Z"
      },
      {
        "duration": 7,
        "start_time": "2022-05-06T09:21:28.953Z"
      },
      {
        "duration": 21,
        "start_time": "2022-05-06T09:21:28.961Z"
      },
      {
        "duration": 8,
        "start_time": "2022-05-06T09:21:28.984Z"
      },
      {
        "duration": 5,
        "start_time": "2022-05-06T09:21:28.993Z"
      },
      {
        "duration": 7,
        "start_time": "2022-05-06T09:21:29.002Z"
      },
      {
        "duration": 5041,
        "start_time": "2022-05-06T09:21:29.010Z"
      },
      {
        "duration": 7,
        "start_time": "2022-05-06T09:21:34.054Z"
      },
      {
        "duration": 18,
        "start_time": "2022-05-06T09:21:34.063Z"
      },
      {
        "duration": 98,
        "start_time": "2022-05-06T09:21:34.083Z"
      },
      {
        "duration": 36,
        "start_time": "2022-05-06T09:21:34.183Z"
      },
      {
        "duration": 124,
        "start_time": "2022-05-06T09:21:34.221Z"
      },
      {
        "duration": 5,
        "start_time": "2022-05-06T09:21:34.350Z"
      },
      {
        "duration": 1367,
        "start_time": "2022-05-06T09:21:34.356Z"
      },
      {
        "duration": 3,
        "start_time": "2022-05-06T09:21:35.725Z"
      },
      {
        "duration": 7,
        "start_time": "2022-05-06T09:21:35.729Z"
      },
      {
        "duration": 27,
        "start_time": "2022-05-06T09:21:35.749Z"
      },
      {
        "duration": 11,
        "start_time": "2022-05-06T09:21:35.778Z"
      },
      {
        "duration": 5,
        "start_time": "2022-05-06T09:21:35.791Z"
      },
      {
        "duration": 6,
        "start_time": "2022-05-06T09:21:35.798Z"
      },
      {
        "duration": 170667,
        "start_time": "2022-05-06T09:21:35.805Z"
      },
      {
        "duration": 78,
        "start_time": "2022-05-06T09:24:26.477Z"
      },
      {
        "duration": 32577,
        "start_time": "2022-05-06T09:24:26.561Z"
      },
      {
        "duration": 14,
        "start_time": "2022-05-06T09:24:59.140Z"
      },
      {
        "duration": 24,
        "start_time": "2022-05-06T09:24:59.155Z"
      },
      {
        "duration": 6,
        "start_time": "2022-05-06T09:24:59.181Z"
      },
      {
        "duration": 74305,
        "start_time": "2022-05-06T09:24:59.189Z"
      },
      {
        "duration": 4,
        "start_time": "2022-05-06T09:26:13.496Z"
      },
      {
        "duration": 19691,
        "start_time": "2022-05-06T09:26:13.502Z"
      },
      {
        "duration": 8,
        "start_time": "2022-05-06T09:26:33.195Z"
      },
      {
        "duration": 293,
        "start_time": "2022-05-06T09:26:33.205Z"
      },
      {
        "duration": 24841,
        "start_time": "2022-05-06T09:26:33.500Z"
      },
      {
        "duration": 6,
        "start_time": "2022-05-06T09:27:21.675Z"
      },
      {
        "duration": 6,
        "start_time": "2022-05-06T09:27:21.684Z"
      },
      {
        "duration": 191763,
        "start_time": "2022-05-06T09:27:21.692Z"
      },
      {
        "duration": 13,
        "start_time": "2022-05-06T09:30:33.457Z"
      },
      {
        "duration": 35625,
        "start_time": "2022-05-06T09:30:33.473Z"
      },
      {
        "duration": 7,
        "start_time": "2022-05-06T09:31:09.100Z"
      },
      {
        "duration": 5,
        "start_time": "2022-05-06T09:31:09.109Z"
      },
      {
        "duration": 5,
        "start_time": "2022-05-06T09:31:09.116Z"
      },
      {
        "duration": 80353,
        "start_time": "2022-05-06T09:31:09.122Z"
      },
      {
        "duration": 4,
        "start_time": "2022-05-06T09:32:29.477Z"
      },
      {
        "duration": 18549,
        "start_time": "2022-05-06T09:32:29.483Z"
      },
      {
        "duration": 7,
        "start_time": "2022-05-06T09:32:48.033Z"
      },
      {
        "duration": 251,
        "start_time": "2022-05-06T09:32:48.041Z"
      },
      {
        "duration": 23707,
        "start_time": "2022-05-06T09:32:48.295Z"
      },
      {
        "duration": 23633,
        "start_time": "2022-05-06T09:33:48.389Z"
      },
      {
        "duration": 8911,
        "start_time": "2022-05-06T09:34:28.626Z"
      },
      {
        "duration": 1518,
        "start_time": "2022-05-06T09:34:37.540Z"
      },
      {
        "duration": 2468,
        "start_time": "2022-05-06T09:34:39.060Z"
      },
      {
        "duration": 5,
        "start_time": "2022-05-06T09:34:41.530Z"
      },
      {
        "duration": 4,
        "start_time": "2022-05-06T09:34:41.536Z"
      },
      {
        "duration": 863,
        "start_time": "2022-05-06T09:34:41.542Z"
      },
      {
        "duration": 3,
        "start_time": "2022-05-06T09:34:42.406Z"
      },
      {
        "duration": 11,
        "start_time": "2022-05-06T09:34:42.410Z"
      },
      {
        "duration": 47,
        "start_time": "2022-05-06T09:34:42.423Z"
      },
      {
        "duration": 7,
        "start_time": "2022-05-06T09:34:42.474Z"
      },
      {
        "duration": 6,
        "start_time": "2022-05-06T09:34:42.483Z"
      },
      {
        "duration": 4,
        "start_time": "2022-05-06T09:34:42.491Z"
      },
      {
        "duration": 4,
        "start_time": "2022-05-06T09:34:42.496Z"
      },
      {
        "duration": 253,
        "start_time": "2022-05-06T09:34:42.501Z"
      },
      {
        "duration": 15,
        "start_time": "2022-05-06T09:34:42.756Z"
      },
      {
        "duration": 6,
        "start_time": "2022-05-06T09:34:42.773Z"
      },
      {
        "duration": 851,
        "start_time": "2022-05-06T09:34:42.780Z"
      },
      {
        "duration": 8,
        "start_time": "2022-05-06T09:34:43.633Z"
      },
      {
        "duration": 1193,
        "start_time": "2022-05-06T09:34:43.642Z"
      },
      {
        "duration": 12,
        "start_time": "2022-05-06T09:34:44.838Z"
      },
      {
        "duration": 262,
        "start_time": "2022-05-06T09:34:44.852Z"
      },
      {
        "duration": 8,
        "start_time": "2022-05-06T09:34:45.116Z"
      },
      {
        "duration": 1489,
        "start_time": "2022-05-06T09:34:45.125Z"
      },
      {
        "duration": 6,
        "start_time": "2022-05-06T09:34:46.617Z"
      },
      {
        "duration": 6,
        "start_time": "2022-05-06T09:34:46.625Z"
      },
      {
        "duration": 18,
        "start_time": "2022-05-06T09:34:46.633Z"
      },
      {
        "duration": 23,
        "start_time": "2022-05-06T09:34:46.656Z"
      },
      {
        "duration": 2,
        "start_time": "2022-05-06T09:34:46.683Z"
      },
      {
        "duration": 7922,
        "start_time": "2022-05-06T09:34:46.687Z"
      },
      {
        "duration": 7,
        "start_time": "2022-05-06T09:34:54.611Z"
      },
      {
        "duration": 3,
        "start_time": "2022-05-06T09:34:54.620Z"
      },
      {
        "duration": 110,
        "start_time": "2022-05-06T09:34:54.625Z"
      },
      {
        "duration": 49,
        "start_time": "2022-05-06T09:34:54.736Z"
      },
      {
        "duration": 121,
        "start_time": "2022-05-06T09:34:54.787Z"
      },
      {
        "duration": 5,
        "start_time": "2022-05-06T09:34:54.909Z"
      },
      {
        "duration": 1395,
        "start_time": "2022-05-06T09:34:54.915Z"
      },
      {
        "duration": 3,
        "start_time": "2022-05-06T09:34:56.311Z"
      },
      {
        "duration": 8,
        "start_time": "2022-05-06T09:34:56.315Z"
      },
      {
        "duration": 37,
        "start_time": "2022-05-06T09:34:56.324Z"
      },
      {
        "duration": 10,
        "start_time": "2022-05-06T09:34:56.363Z"
      },
      {
        "duration": 9,
        "start_time": "2022-05-06T09:34:56.374Z"
      },
      {
        "duration": 8,
        "start_time": "2022-05-06T09:34:56.384Z"
      },
      {
        "duration": 174172,
        "start_time": "2022-05-06T09:34:56.393Z"
      },
      {
        "duration": 4,
        "start_time": "2022-05-06T09:37:50.567Z"
      },
      {
        "duration": 33356,
        "start_time": "2022-05-06T09:37:50.576Z"
      },
      {
        "duration": 6,
        "start_time": "2022-05-06T09:38:23.934Z"
      },
      {
        "duration": 12,
        "start_time": "2022-05-06T09:38:23.949Z"
      },
      {
        "duration": 17,
        "start_time": "2022-05-06T09:38:23.963Z"
      },
      {
        "duration": 76944,
        "start_time": "2022-05-06T09:38:23.981Z"
      },
      {
        "duration": 4,
        "start_time": "2022-05-06T09:39:40.927Z"
      },
      {
        "duration": 20376,
        "start_time": "2022-05-06T09:39:40.933Z"
      },
      {
        "duration": 9,
        "start_time": "2022-05-06T09:40:01.310Z"
      },
      {
        "duration": 286,
        "start_time": "2022-05-06T09:40:01.320Z"
      },
      {
        "duration": 25211,
        "start_time": "2022-05-06T09:40:01.608Z"
      },
      {
        "duration": 131,
        "start_time": "2022-05-06T09:44:38.468Z"
      },
      {
        "duration": 7,
        "start_time": "2022-05-06T09:44:47.936Z"
      },
      {
        "duration": 3,
        "start_time": "2022-05-06T09:45:20.980Z"
      },
      {
        "duration": 5,
        "start_time": "2022-05-06T09:53:11.840Z"
      },
      {
        "duration": 15,
        "start_time": "2022-05-06T09:58:10.037Z"
      },
      {
        "duration": 3729,
        "start_time": "2022-05-06T09:58:53.697Z"
      },
      {
        "duration": 5,
        "start_time": "2022-05-06T09:59:23.397Z"
      },
      {
        "duration": 7,
        "start_time": "2022-05-06T10:00:06.082Z"
      },
      {
        "duration": 8,
        "start_time": "2022-05-06T10:00:13.165Z"
      },
      {
        "duration": 4383,
        "start_time": "2022-05-06T10:00:15.034Z"
      },
      {
        "duration": 6410,
        "start_time": "2022-05-06T10:06:14.585Z"
      },
      {
        "duration": 7,
        "start_time": "2022-05-06T10:06:48.009Z"
      },
      {
        "duration": 7,
        "start_time": "2022-05-06T10:06:57.030Z"
      },
      {
        "duration": 7,
        "start_time": "2022-05-06T10:07:13.514Z"
      },
      {
        "duration": 5,
        "start_time": "2022-05-06T10:09:43.683Z"
      },
      {
        "duration": 3,
        "start_time": "2022-05-06T10:09:45.516Z"
      },
      {
        "duration": 181744,
        "start_time": "2022-05-06T10:09:48.159Z"
      },
      {
        "duration": 4,
        "start_time": "2022-05-06T10:13:20.436Z"
      },
      {
        "duration": 5,
        "start_time": "2022-05-06T10:13:53.173Z"
      },
      {
        "duration": 4,
        "start_time": "2022-05-06T10:13:54.248Z"
      },
      {
        "duration": 74676,
        "start_time": "2022-05-06T10:13:56.010Z"
      },
      {
        "duration": 5,
        "start_time": "2022-05-06T10:15:10.687Z"
      },
      {
        "duration": 5,
        "start_time": "2022-05-06T10:15:16.373Z"
      },
      {
        "duration": 7,
        "start_time": "2022-05-06T10:15:23.688Z"
      },
      {
        "duration": 4,
        "start_time": "2022-05-06T10:15:35.471Z"
      },
      {
        "duration": 2,
        "start_time": "2022-05-06T10:15:36.572Z"
      },
      {
        "duration": 77693,
        "start_time": "2022-05-06T10:15:36.864Z"
      },
      {
        "duration": 6,
        "start_time": "2022-05-06T10:16:54.560Z"
      },
      {
        "duration": 5,
        "start_time": "2022-05-06T10:17:05.778Z"
      },
      {
        "duration": 3,
        "start_time": "2022-05-06T10:17:08.085Z"
      },
      {
        "duration": 0,
        "start_time": "2022-05-06T10:17:30.564Z"
      },
      {
        "duration": 0,
        "start_time": "2022-05-06T10:17:30.565Z"
      },
      {
        "duration": 0,
        "start_time": "2022-05-06T10:17:30.566Z"
      },
      {
        "duration": 0,
        "start_time": "2022-05-06T10:17:30.567Z"
      },
      {
        "duration": 6,
        "start_time": "2022-05-06T10:17:34.761Z"
      },
      {
        "duration": 3,
        "start_time": "2022-05-06T10:17:37.979Z"
      },
      {
        "duration": 72529,
        "start_time": "2022-05-06T10:17:38.501Z"
      },
      {
        "duration": 5,
        "start_time": "2022-05-06T10:18:51.032Z"
      },
      {
        "duration": 19208,
        "start_time": "2022-05-06T10:19:00.093Z"
      },
      {
        "duration": 7,
        "start_time": "2022-05-06T10:20:31.882Z"
      },
      {
        "duration": 8427,
        "start_time": "2022-05-06T11:03:37.387Z"
      },
      {
        "duration": 3165,
        "start_time": "2022-05-06T11:03:45.817Z"
      },
      {
        "duration": 2318,
        "start_time": "2022-05-06T11:03:48.984Z"
      },
      {
        "duration": 4,
        "start_time": "2022-05-06T11:03:51.305Z"
      },
      {
        "duration": 9,
        "start_time": "2022-05-06T11:03:51.311Z"
      },
      {
        "duration": 1116,
        "start_time": "2022-05-06T11:03:51.322Z"
      },
      {
        "duration": 8,
        "start_time": "2022-05-06T11:03:52.440Z"
      },
      {
        "duration": 13,
        "start_time": "2022-05-06T11:03:52.450Z"
      },
      {
        "duration": 42,
        "start_time": "2022-05-06T11:03:52.465Z"
      },
      {
        "duration": 3,
        "start_time": "2022-05-06T11:03:52.510Z"
      },
      {
        "duration": 12,
        "start_time": "2022-05-06T11:03:52.515Z"
      },
      {
        "duration": 19,
        "start_time": "2022-05-06T11:03:52.530Z"
      },
      {
        "duration": 5,
        "start_time": "2022-05-06T11:03:52.551Z"
      },
      {
        "duration": 347,
        "start_time": "2022-05-06T11:03:52.558Z"
      },
      {
        "duration": 5,
        "start_time": "2022-05-06T11:03:52.907Z"
      },
      {
        "duration": 4,
        "start_time": "2022-05-06T11:03:52.913Z"
      },
      {
        "duration": 1347,
        "start_time": "2022-05-06T11:03:52.919Z"
      },
      {
        "duration": 11,
        "start_time": "2022-05-06T11:03:54.268Z"
      },
      {
        "duration": 1170,
        "start_time": "2022-05-06T11:03:54.280Z"
      },
      {
        "duration": 7,
        "start_time": "2022-05-06T11:03:55.453Z"
      },
      {
        "duration": 221,
        "start_time": "2022-05-06T11:03:55.461Z"
      },
      {
        "duration": 7,
        "start_time": "2022-05-06T11:03:55.684Z"
      },
      {
        "duration": 1315,
        "start_time": "2022-05-06T11:03:55.692Z"
      },
      {
        "duration": 6,
        "start_time": "2022-05-06T11:03:57.010Z"
      },
      {
        "duration": 5,
        "start_time": "2022-05-06T11:03:57.018Z"
      },
      {
        "duration": 5,
        "start_time": "2022-05-06T11:03:57.024Z"
      },
      {
        "duration": 5,
        "start_time": "2022-05-06T11:03:57.030Z"
      },
      {
        "duration": 3,
        "start_time": "2022-05-06T11:03:57.049Z"
      },
      {
        "duration": 6300,
        "start_time": "2022-05-06T11:03:57.053Z"
      },
      {
        "duration": 10,
        "start_time": "2022-05-06T11:04:03.355Z"
      },
      {
        "duration": 4,
        "start_time": "2022-05-06T11:04:03.367Z"
      },
      {
        "duration": 143,
        "start_time": "2022-05-06T11:04:03.373Z"
      },
      {
        "duration": 58,
        "start_time": "2022-05-06T11:04:03.518Z"
      },
      {
        "duration": 200,
        "start_time": "2022-05-06T11:04:03.578Z"
      },
      {
        "duration": 6,
        "start_time": "2022-05-06T11:04:03.781Z"
      },
      {
        "duration": 2064,
        "start_time": "2022-05-06T11:04:03.789Z"
      },
      {
        "duration": 3,
        "start_time": "2022-05-06T11:04:05.855Z"
      },
      {
        "duration": 6,
        "start_time": "2022-05-06T11:04:05.860Z"
      },
      {
        "duration": 27,
        "start_time": "2022-05-06T11:04:05.868Z"
      },
      {
        "duration": 9,
        "start_time": "2022-05-06T11:04:05.897Z"
      },
      {
        "duration": 9,
        "start_time": "2022-05-06T11:04:05.908Z"
      },
      {
        "duration": 8,
        "start_time": "2022-05-06T11:04:05.918Z"
      },
      {
        "duration": 65938,
        "start_time": "2022-05-06T11:04:05.949Z"
      },
      {
        "duration": 182,
        "start_time": "2022-05-06T11:05:11.889Z"
      },
      {
        "duration": 0,
        "start_time": "2022-05-06T11:05:12.073Z"
      },
      {
        "duration": 0,
        "start_time": "2022-05-06T11:05:12.074Z"
      },
      {
        "duration": 0,
        "start_time": "2022-05-06T11:05:12.075Z"
      },
      {
        "duration": 0,
        "start_time": "2022-05-06T11:05:12.076Z"
      },
      {
        "duration": 0,
        "start_time": "2022-05-06T11:05:12.077Z"
      },
      {
        "duration": 0,
        "start_time": "2022-05-06T11:05:12.078Z"
      },
      {
        "duration": 0,
        "start_time": "2022-05-06T11:05:12.079Z"
      },
      {
        "duration": 0,
        "start_time": "2022-05-06T11:05:12.080Z"
      },
      {
        "duration": 0,
        "start_time": "2022-05-06T11:05:12.081Z"
      },
      {
        "duration": 0,
        "start_time": "2022-05-06T11:05:12.082Z"
      },
      {
        "duration": 0,
        "start_time": "2022-05-06T11:05:12.083Z"
      },
      {
        "duration": 0,
        "start_time": "2022-05-06T11:05:12.084Z"
      },
      {
        "duration": 0,
        "start_time": "2022-05-06T11:05:12.085Z"
      },
      {
        "duration": 32811,
        "start_time": "2022-05-06T11:05:24.768Z"
      },
      {
        "duration": 167314,
        "start_time": "2022-05-06T11:06:14.645Z"
      },
      {
        "duration": 5,
        "start_time": "2022-05-06T11:09:01.961Z"
      },
      {
        "duration": 31021,
        "start_time": "2022-05-06T11:09:01.968Z"
      },
      {
        "duration": 7,
        "start_time": "2022-05-06T11:09:32.991Z"
      },
      {
        "duration": 7,
        "start_time": "2022-05-06T11:09:33.000Z"
      },
      {
        "duration": 5,
        "start_time": "2022-05-06T11:09:33.008Z"
      },
      {
        "duration": 72934,
        "start_time": "2022-05-06T11:09:33.014Z"
      },
      {
        "duration": 4,
        "start_time": "2022-05-06T11:10:45.950Z"
      },
      {
        "duration": 17774,
        "start_time": "2022-05-06T11:10:45.956Z"
      },
      {
        "duration": 15,
        "start_time": "2022-05-06T11:11:03.733Z"
      },
      {
        "duration": 237,
        "start_time": "2022-05-06T11:11:03.749Z"
      },
      {
        "duration": 5,
        "start_time": "2022-05-06T11:11:03.988Z"
      },
      {
        "duration": 3777,
        "start_time": "2022-05-06T11:11:03.994Z"
      },
      {
        "duration": 7,
        "start_time": "2022-05-06T11:11:07.773Z"
      },
      {
        "duration": 23578,
        "start_time": "2022-05-06T11:11:07.782Z"
      },
      {
        "duration": 8,
        "start_time": "2022-05-06T11:44:57.695Z"
      },
      {
        "duration": 7,
        "start_time": "2022-05-06T11:45:17.170Z"
      },
      {
        "duration": 8,
        "start_time": "2022-05-06T11:45:33.924Z"
      },
      {
        "duration": 8,
        "start_time": "2022-05-06T11:45:40.106Z"
      },
      {
        "duration": 8,
        "start_time": "2022-05-06T11:45:46.896Z"
      },
      {
        "duration": 10,
        "start_time": "2022-05-06T11:45:57.231Z"
      },
      {
        "duration": 232,
        "start_time": "2022-05-06T11:46:00.455Z"
      },
      {
        "duration": 12351,
        "start_time": "2022-05-06T20:25:42.081Z"
      },
      {
        "duration": 1815,
        "start_time": "2022-05-06T20:25:54.435Z"
      },
      {
        "duration": 3300,
        "start_time": "2022-05-06T20:25:56.251Z"
      },
      {
        "duration": 5,
        "start_time": "2022-05-06T20:25:59.555Z"
      },
      {
        "duration": 5,
        "start_time": "2022-05-06T20:25:59.562Z"
      },
      {
        "duration": 986,
        "start_time": "2022-05-06T20:25:59.569Z"
      },
      {
        "duration": 3,
        "start_time": "2022-05-06T20:26:00.557Z"
      },
      {
        "duration": 113,
        "start_time": "2022-05-06T20:26:00.561Z"
      },
      {
        "duration": 42,
        "start_time": "2022-05-06T20:26:00.676Z"
      },
      {
        "duration": 4,
        "start_time": "2022-05-06T20:26:00.723Z"
      },
      {
        "duration": 7,
        "start_time": "2022-05-06T20:26:00.729Z"
      },
      {
        "duration": 9,
        "start_time": "2022-05-06T20:26:00.737Z"
      },
      {
        "duration": 17,
        "start_time": "2022-05-06T20:26:00.747Z"
      },
      {
        "duration": 182,
        "start_time": "2022-05-06T20:26:00.766Z"
      },
      {
        "duration": 5,
        "start_time": "2022-05-06T20:26:00.950Z"
      },
      {
        "duration": 23,
        "start_time": "2022-05-06T20:26:00.956Z"
      },
      {
        "duration": 1014,
        "start_time": "2022-05-06T20:26:00.981Z"
      },
      {
        "duration": 17,
        "start_time": "2022-05-06T20:26:01.997Z"
      },
      {
        "duration": 1353,
        "start_time": "2022-05-06T20:26:02.017Z"
      },
      {
        "duration": 7,
        "start_time": "2022-05-06T20:26:03.373Z"
      },
      {
        "duration": 269,
        "start_time": "2022-05-06T20:26:03.382Z"
      },
      {
        "duration": 7,
        "start_time": "2022-05-06T20:26:03.654Z"
      },
      {
        "duration": 1709,
        "start_time": "2022-05-06T20:26:03.663Z"
      },
      {
        "duration": 8,
        "start_time": "2022-05-06T20:26:05.374Z"
      },
      {
        "duration": 8,
        "start_time": "2022-05-06T20:26:05.383Z"
      },
      {
        "duration": 22,
        "start_time": "2022-05-06T20:26:05.393Z"
      },
      {
        "duration": 15,
        "start_time": "2022-05-06T20:26:05.421Z"
      },
      {
        "duration": 3,
        "start_time": "2022-05-06T20:26:05.441Z"
      },
      {
        "duration": 6042,
        "start_time": "2022-05-06T20:26:05.445Z"
      },
      {
        "duration": 7,
        "start_time": "2022-05-06T20:26:11.489Z"
      },
      {
        "duration": 15,
        "start_time": "2022-05-06T20:26:11.498Z"
      },
      {
        "duration": 124,
        "start_time": "2022-05-06T20:26:11.516Z"
      },
      {
        "duration": 37,
        "start_time": "2022-05-06T20:26:11.642Z"
      },
      {
        "duration": 158,
        "start_time": "2022-05-06T20:26:11.681Z"
      },
      {
        "duration": 7,
        "start_time": "2022-05-06T20:26:11.841Z"
      },
      {
        "duration": 1569,
        "start_time": "2022-05-06T20:26:11.850Z"
      },
      {
        "duration": 6,
        "start_time": "2022-05-06T20:26:13.421Z"
      },
      {
        "duration": 6,
        "start_time": "2022-05-06T20:26:13.430Z"
      },
      {
        "duration": 23,
        "start_time": "2022-05-06T20:26:13.439Z"
      },
      {
        "duration": 12,
        "start_time": "2022-05-06T20:26:13.464Z"
      },
      {
        "duration": 6,
        "start_time": "2022-05-06T20:26:13.477Z"
      },
      {
        "duration": 32,
        "start_time": "2022-05-06T20:26:13.485Z"
      },
      {
        "duration": 193807,
        "start_time": "2022-05-06T20:26:13.519Z"
      },
      {
        "duration": 6,
        "start_time": "2022-05-06T20:29:27.328Z"
      },
      {
        "duration": 36884,
        "start_time": "2022-05-06T20:29:27.335Z"
      },
      {
        "duration": 11,
        "start_time": "2022-05-06T20:30:04.223Z"
      },
      {
        "duration": 7,
        "start_time": "2022-05-06T20:30:04.236Z"
      },
      {
        "duration": 15,
        "start_time": "2022-05-06T20:30:04.248Z"
      },
      {
        "duration": 89242,
        "start_time": "2022-05-06T20:30:04.264Z"
      },
      {
        "duration": 5,
        "start_time": "2022-05-06T20:31:33.511Z"
      },
      {
        "duration": 21273,
        "start_time": "2022-05-06T20:31:33.517Z"
      },
      {
        "duration": 8,
        "start_time": "2022-05-06T20:31:54.792Z"
      },
      {
        "duration": 271,
        "start_time": "2022-05-06T20:31:54.807Z"
      },
      {
        "duration": 6,
        "start_time": "2022-05-06T20:31:55.080Z"
      },
      {
        "duration": 4651,
        "start_time": "2022-05-06T20:31:55.088Z"
      },
      {
        "duration": 9,
        "start_time": "2022-05-06T20:31:59.741Z"
      },
      {
        "duration": 256,
        "start_time": "2022-05-06T20:31:59.752Z"
      },
      {
        "duration": 18118,
        "start_time": "2022-05-06T20:32:00.010Z"
      },
      {
        "duration": 5,
        "start_time": "2022-05-06T20:32:23.204Z"
      },
      {
        "duration": 8,
        "start_time": "2022-05-06T20:32:23.212Z"
      },
      {
        "duration": 79804,
        "start_time": "2022-05-06T20:32:23.223Z"
      },
      {
        "duration": 6,
        "start_time": "2022-05-06T20:33:43.032Z"
      },
      {
        "duration": 19637,
        "start_time": "2022-05-06T20:33:43.040Z"
      },
      {
        "duration": 10,
        "start_time": "2022-05-06T20:34:02.679Z"
      },
      {
        "duration": 301,
        "start_time": "2022-05-06T20:34:02.690Z"
      },
      {
        "duration": 23,
        "start_time": "2022-05-06T20:34:02.993Z"
      },
      {
        "duration": 4788,
        "start_time": "2022-05-06T20:34:03.018Z"
      },
      {
        "duration": 20,
        "start_time": "2022-05-06T20:34:07.808Z"
      },
      {
        "duration": 241,
        "start_time": "2022-05-06T20:34:07.834Z"
      },
      {
        "duration": 26326,
        "start_time": "2022-05-06T20:34:08.077Z"
      },
      {
        "duration": 27333,
        "start_time": "2022-05-06T20:38:52.110Z"
      },
      {
        "duration": 8,
        "start_time": "2022-05-06T20:41:47.721Z"
      },
      {
        "duration": 18,
        "start_time": "2022-05-06T20:42:38.920Z"
      },
      {
        "duration": 865,
        "start_time": "2022-05-06T20:43:14.391Z"
      },
      {
        "duration": 10,
        "start_time": "2022-05-06T20:43:27.487Z"
      },
      {
        "duration": 12,
        "start_time": "2022-05-06T20:43:33.578Z"
      },
      {
        "duration": 14,
        "start_time": "2022-05-06T20:44:24.183Z"
      },
      {
        "duration": 5,
        "start_time": "2022-05-06T20:47:13.959Z"
      },
      {
        "duration": 4,
        "start_time": "2022-05-06T20:47:17.157Z"
      },
      {
        "duration": 439256,
        "start_time": "2022-05-06T20:47:18.165Z"
      },
      {
        "duration": 8,
        "start_time": "2022-05-06T20:54:37.424Z"
      },
      {
        "duration": 85,
        "start_time": "2022-05-06T20:54:37.434Z"
      },
      {
        "duration": 8,
        "start_time": "2022-05-06T20:57:24.229Z"
      },
      {
        "duration": 3,
        "start_time": "2022-05-06T20:57:30.286Z"
      },
      {
        "duration": 298535,
        "start_time": "2022-05-06T20:57:33.622Z"
      },
      {
        "duration": 10,
        "start_time": "2022-05-06T21:02:44.904Z"
      },
      {
        "duration": 103917,
        "start_time": "2022-05-06T21:02:59.278Z"
      },
      {
        "duration": 14,
        "start_time": "2022-05-06T21:04:56.328Z"
      },
      {
        "duration": 10,
        "start_time": "2022-05-06T21:05:10.312Z"
      },
      {
        "duration": 4756,
        "start_time": "2022-05-06T21:05:16.577Z"
      },
      {
        "duration": 7,
        "start_time": "2022-05-06T21:06:09.684Z"
      },
      {
        "duration": 87,
        "start_time": "2022-05-06T21:06:52.284Z"
      },
      {
        "duration": 96,
        "start_time": "2022-05-06T21:06:56.602Z"
      },
      {
        "duration": 8,
        "start_time": "2022-05-06T21:07:05.227Z"
      },
      {
        "duration": 6,
        "start_time": "2022-05-06T22:04:23.009Z"
      },
      {
        "duration": 4,
        "start_time": "2022-05-06T22:11:34.867Z"
      },
      {
        "duration": 4,
        "start_time": "2022-05-06T22:14:31.254Z"
      },
      {
        "duration": 3,
        "start_time": "2022-05-06T22:15:31.457Z"
      },
      {
        "duration": 25,
        "start_time": "2022-05-06T22:17:39.014Z"
      },
      {
        "duration": 6,
        "start_time": "2022-05-06T22:20:11.034Z"
      },
      {
        "duration": 6,
        "start_time": "2022-05-06T22:20:14.168Z"
      },
      {
        "duration": 4,
        "start_time": "2022-05-06T22:20:17.539Z"
      },
      {
        "duration": 22,
        "start_time": "2022-05-06T22:20:20.474Z"
      },
      {
        "duration": 4,
        "start_time": "2022-05-06T22:27:44.429Z"
      },
      {
        "duration": 14,
        "start_time": "2022-05-06T22:28:20.988Z"
      },
      {
        "duration": 8,
        "start_time": "2022-05-06T22:28:59.511Z"
      },
      {
        "duration": 490,
        "start_time": "2022-05-06T22:29:10.819Z"
      },
      {
        "duration": 17466,
        "start_time": "2022-05-07T07:25:45.714Z"
      },
      {
        "duration": 2417,
        "start_time": "2022-05-07T07:26:03.183Z"
      },
      {
        "duration": 5012,
        "start_time": "2022-05-07T07:26:05.603Z"
      },
      {
        "duration": 5,
        "start_time": "2022-05-07T07:26:10.619Z"
      },
      {
        "duration": 12,
        "start_time": "2022-05-07T07:26:10.626Z"
      },
      {
        "duration": 1455,
        "start_time": "2022-05-07T07:26:10.651Z"
      },
      {
        "duration": 4,
        "start_time": "2022-05-07T07:26:12.109Z"
      },
      {
        "duration": 35,
        "start_time": "2022-05-07T07:26:12.117Z"
      },
      {
        "duration": 41,
        "start_time": "2022-05-07T07:26:12.154Z"
      },
      {
        "duration": 3,
        "start_time": "2022-05-07T07:26:12.199Z"
      },
      {
        "duration": 6,
        "start_time": "2022-05-07T07:26:12.204Z"
      },
      {
        "duration": 6,
        "start_time": "2022-05-07T07:26:12.213Z"
      },
      {
        "duration": 4,
        "start_time": "2022-05-07T07:26:12.251Z"
      },
      {
        "duration": 357,
        "start_time": "2022-05-07T07:26:12.257Z"
      },
      {
        "duration": 7,
        "start_time": "2022-05-07T07:26:12.618Z"
      },
      {
        "duration": 6,
        "start_time": "2022-05-07T07:26:12.628Z"
      },
      {
        "duration": 1965,
        "start_time": "2022-05-07T07:26:12.653Z"
      },
      {
        "duration": 14,
        "start_time": "2022-05-07T07:26:14.621Z"
      },
      {
        "duration": 1598,
        "start_time": "2022-05-07T07:26:14.637Z"
      },
      {
        "duration": 15,
        "start_time": "2022-05-07T07:26:16.239Z"
      },
      {
        "duration": 320,
        "start_time": "2022-05-07T07:26:16.257Z"
      },
      {
        "duration": 10,
        "start_time": "2022-05-07T07:26:16.580Z"
      },
      {
        "duration": 2291,
        "start_time": "2022-05-07T07:26:16.593Z"
      },
      {
        "duration": 10,
        "start_time": "2022-05-07T07:26:18.887Z"
      },
      {
        "duration": 53,
        "start_time": "2022-05-07T07:26:18.899Z"
      },
      {
        "duration": 7,
        "start_time": "2022-05-07T07:26:18.954Z"
      },
      {
        "duration": 9,
        "start_time": "2022-05-07T07:26:18.963Z"
      },
      {
        "duration": 3,
        "start_time": "2022-05-07T07:26:18.978Z"
      },
      {
        "duration": 4132,
        "start_time": "2022-05-07T07:26:18.983Z"
      },
      {
        "duration": 10,
        "start_time": "2022-05-07T07:26:23.118Z"
      },
      {
        "duration": 5,
        "start_time": "2022-05-07T07:26:23.130Z"
      },
      {
        "duration": 144,
        "start_time": "2022-05-07T07:26:23.152Z"
      },
      {
        "duration": 55,
        "start_time": "2022-05-07T07:26:23.298Z"
      },
      {
        "duration": 152,
        "start_time": "2022-05-07T07:26:23.355Z"
      },
      {
        "duration": 6,
        "start_time": "2022-05-07T07:26:23.510Z"
      },
      {
        "duration": 2041,
        "start_time": "2022-05-07T07:26:23.518Z"
      },
      {
        "duration": 4,
        "start_time": "2022-05-07T07:26:25.561Z"
      },
      {
        "duration": 14,
        "start_time": "2022-05-07T07:26:25.567Z"
      },
      {
        "duration": 30,
        "start_time": "2022-05-07T07:26:25.583Z"
      },
      {
        "duration": 43,
        "start_time": "2022-05-07T07:26:25.615Z"
      },
      {
        "duration": 10,
        "start_time": "2022-05-07T07:26:25.661Z"
      },
      {
        "duration": 6,
        "start_time": "2022-05-07T07:26:25.673Z"
      },
      {
        "duration": 337899,
        "start_time": "2022-05-07T07:26:25.682Z"
      },
      {
        "duration": 7,
        "start_time": "2022-05-07T07:32:03.583Z"
      },
      {
        "duration": 131107,
        "start_time": "2022-05-07T07:32:03.592Z"
      },
      {
        "duration": 9,
        "start_time": "2022-05-07T07:34:14.701Z"
      },
      {
        "duration": 8,
        "start_time": "2022-05-07T07:34:14.712Z"
      },
      {
        "duration": 6,
        "start_time": "2022-05-07T07:34:14.722Z"
      },
      {
        "duration": 110279,
        "start_time": "2022-05-07T07:34:14.752Z"
      },
      {
        "duration": 20,
        "start_time": "2022-05-07T07:36:05.034Z"
      },
      {
        "duration": 26877,
        "start_time": "2022-05-07T07:36:05.057Z"
      },
      {
        "duration": 18,
        "start_time": "2022-05-07T07:36:31.936Z"
      },
      {
        "duration": 352,
        "start_time": "2022-05-07T07:36:31.957Z"
      },
      {
        "duration": 7,
        "start_time": "2022-05-07T07:36:32.311Z"
      },
      {
        "duration": 5495,
        "start_time": "2022-05-07T07:36:32.321Z"
      },
      {
        "duration": 10,
        "start_time": "2022-05-07T07:36:37.818Z"
      },
      {
        "duration": 343,
        "start_time": "2022-05-07T07:36:37.830Z"
      },
      {
        "duration": 4,
        "start_time": "2022-05-07T07:36:38.175Z"
      },
      {
        "duration": 13,
        "start_time": "2022-05-07T07:36:38.181Z"
      },
      {
        "duration": 460,
        "start_time": "2022-05-07T07:36:38.197Z"
      },
      {
        "duration": 92,
        "start_time": "2022-05-07T07:36:38.660Z"
      },
      {
        "duration": 4,
        "start_time": "2022-05-07T07:36:38.756Z"
      },
      {
        "duration": 40066,
        "start_time": "2022-05-07T07:36:38.762Z"
      },
      {
        "duration": 53,
        "start_time": "2022-05-07T12:49:15.654Z"
      },
      {
        "duration": 13047,
        "start_time": "2022-05-07T12:49:44.234Z"
      },
      {
        "duration": 2967,
        "start_time": "2022-05-07T12:49:57.284Z"
      },
      {
        "duration": 3623,
        "start_time": "2022-05-07T12:50:00.253Z"
      },
      {
        "duration": 3,
        "start_time": "2022-05-07T12:50:03.879Z"
      },
      {
        "duration": 5,
        "start_time": "2022-05-07T12:50:03.883Z"
      },
      {
        "duration": 900,
        "start_time": "2022-05-07T12:50:03.890Z"
      },
      {
        "duration": 3,
        "start_time": "2022-05-07T12:50:04.792Z"
      },
      {
        "duration": 27,
        "start_time": "2022-05-07T12:50:04.797Z"
      },
      {
        "duration": 33,
        "start_time": "2022-05-07T12:50:04.826Z"
      },
      {
        "duration": 2,
        "start_time": "2022-05-07T12:50:04.863Z"
      },
      {
        "duration": 4,
        "start_time": "2022-05-07T12:50:04.867Z"
      },
      {
        "duration": 3,
        "start_time": "2022-05-07T12:50:04.873Z"
      },
      {
        "duration": 4,
        "start_time": "2022-05-07T12:50:04.878Z"
      },
      {
        "duration": 191,
        "start_time": "2022-05-07T12:50:04.884Z"
      },
      {
        "duration": 5,
        "start_time": "2022-05-07T12:50:05.077Z"
      },
      {
        "duration": 5,
        "start_time": "2022-05-07T12:50:05.083Z"
      },
      {
        "duration": 848,
        "start_time": "2022-05-07T12:50:05.089Z"
      },
      {
        "duration": 8,
        "start_time": "2022-05-07T12:50:05.939Z"
      },
      {
        "duration": 1276,
        "start_time": "2022-05-07T12:50:05.949Z"
      },
      {
        "duration": 7,
        "start_time": "2022-05-07T12:50:07.228Z"
      },
      {
        "duration": 228,
        "start_time": "2022-05-07T12:50:07.236Z"
      },
      {
        "duration": 7,
        "start_time": "2022-05-07T12:50:07.466Z"
      },
      {
        "duration": 1419,
        "start_time": "2022-05-07T12:50:07.475Z"
      },
      {
        "duration": 6,
        "start_time": "2022-05-07T12:50:08.897Z"
      },
      {
        "duration": 18,
        "start_time": "2022-05-07T12:50:08.905Z"
      },
      {
        "duration": 10,
        "start_time": "2022-05-07T12:50:08.924Z"
      },
      {
        "duration": 12,
        "start_time": "2022-05-07T12:50:08.936Z"
      },
      {
        "duration": 9,
        "start_time": "2022-05-07T12:50:08.952Z"
      },
      {
        "duration": 4695,
        "start_time": "2022-05-07T12:50:08.963Z"
      },
      {
        "duration": 7,
        "start_time": "2022-05-07T12:50:13.660Z"
      },
      {
        "duration": 4,
        "start_time": "2022-05-07T12:50:13.669Z"
      },
      {
        "duration": 120,
        "start_time": "2022-05-07T12:50:13.675Z"
      },
      {
        "duration": 41,
        "start_time": "2022-05-07T12:50:13.797Z"
      },
      {
        "duration": 123,
        "start_time": "2022-05-07T12:50:13.840Z"
      },
      {
        "duration": 6,
        "start_time": "2022-05-07T12:50:13.965Z"
      },
      {
        "duration": 1509,
        "start_time": "2022-05-07T12:50:13.973Z"
      },
      {
        "duration": 3,
        "start_time": "2022-05-07T12:50:15.484Z"
      },
      {
        "duration": 7,
        "start_time": "2022-05-07T12:50:15.489Z"
      },
      {
        "duration": 25,
        "start_time": "2022-05-07T12:50:15.498Z"
      },
      {
        "duration": 11,
        "start_time": "2022-05-07T12:50:15.525Z"
      },
      {
        "duration": 7,
        "start_time": "2022-05-07T12:50:15.538Z"
      },
      {
        "duration": 5,
        "start_time": "2022-05-07T12:50:15.547Z"
      },
      {
        "duration": 263082,
        "start_time": "2022-05-07T12:50:15.553Z"
      },
      {
        "duration": 5,
        "start_time": "2022-05-07T12:54:38.637Z"
      },
      {
        "duration": 103062,
        "start_time": "2022-05-07T12:54:38.644Z"
      },
      {
        "duration": 14,
        "start_time": "2022-05-07T12:56:21.708Z"
      },
      {
        "duration": 5,
        "start_time": "2022-05-07T12:56:21.724Z"
      },
      {
        "duration": 5,
        "start_time": "2022-05-07T12:56:21.731Z"
      },
      {
        "duration": 78215,
        "start_time": "2022-05-07T12:56:21.738Z"
      },
      {
        "duration": 4,
        "start_time": "2022-05-07T12:57:39.955Z"
      },
      {
        "duration": 21131,
        "start_time": "2022-05-07T12:57:39.960Z"
      },
      {
        "duration": 7,
        "start_time": "2022-05-07T12:58:01.093Z"
      },
      {
        "duration": 355,
        "start_time": "2022-05-07T12:58:01.102Z"
      },
      {
        "duration": 5,
        "start_time": "2022-05-07T12:58:01.459Z"
      },
      {
        "duration": 3818,
        "start_time": "2022-05-07T12:58:01.467Z"
      },
      {
        "duration": 8,
        "start_time": "2022-05-07T12:58:05.287Z"
      },
      {
        "duration": 297,
        "start_time": "2022-05-07T12:58:05.297Z"
      },
      {
        "duration": 147,
        "start_time": "2022-05-07T12:58:05.596Z"
      },
      {
        "duration": 0,
        "start_time": "2022-05-07T12:58:05.745Z"
      },
      {
        "duration": 0,
        "start_time": "2022-05-07T12:58:05.746Z"
      },
      {
        "duration": 0,
        "start_time": "2022-05-07T12:58:05.747Z"
      },
      {
        "duration": 0,
        "start_time": "2022-05-07T12:58:05.748Z"
      },
      {
        "duration": 0,
        "start_time": "2022-05-07T12:58:05.749Z"
      },
      {
        "duration": 0,
        "start_time": "2022-05-07T12:58:05.750Z"
      },
      {
        "duration": 43,
        "start_time": "2022-05-07T12:58:38.357Z"
      },
      {
        "duration": 13,
        "start_time": "2022-05-07T13:06:10.610Z"
      },
      {
        "duration": 14,
        "start_time": "2022-05-07T13:06:21.430Z"
      },
      {
        "duration": 5,
        "start_time": "2022-05-07T13:06:32.028Z"
      },
      {
        "duration": 14,
        "start_time": "2022-05-07T13:06:50.762Z"
      },
      {
        "duration": 4,
        "start_time": "2022-05-07T13:11:54.479Z"
      },
      {
        "duration": 4,
        "start_time": "2022-05-07T13:20:33.682Z"
      },
      {
        "duration": 3,
        "start_time": "2022-05-07T13:22:07.126Z"
      },
      {
        "duration": 4,
        "start_time": "2022-05-07T13:23:26.568Z"
      },
      {
        "duration": 5,
        "start_time": "2022-05-07T13:27:12.082Z"
      },
      {
        "duration": 4,
        "start_time": "2022-05-07T13:29:21.535Z"
      },
      {
        "duration": 16616,
        "start_time": "2022-05-07T13:35:11.103Z"
      },
      {
        "duration": 24074,
        "start_time": "2022-05-07T13:35:34.357Z"
      },
      {
        "duration": 5098,
        "start_time": "2022-05-07T13:37:09.125Z"
      },
      {
        "duration": 5092,
        "start_time": "2022-05-07T13:38:15.975Z"
      },
      {
        "duration": 13,
        "start_time": "2022-05-07T13:39:03.040Z"
      },
      {
        "duration": 5084,
        "start_time": "2022-05-07T13:40:03.969Z"
      },
      {
        "duration": 12,
        "start_time": "2022-05-07T13:40:31.909Z"
      },
      {
        "duration": 8,
        "start_time": "2022-05-07T13:40:55.865Z"
      },
      {
        "duration": 334,
        "start_time": "2022-05-07T13:41:16.471Z"
      },
      {
        "duration": 9964,
        "start_time": "2022-05-07T13:49:08.628Z"
      },
      {
        "duration": 1786,
        "start_time": "2022-05-07T13:49:18.595Z"
      },
      {
        "duration": 2575,
        "start_time": "2022-05-07T13:49:20.383Z"
      },
      {
        "duration": 3,
        "start_time": "2022-05-07T13:49:22.961Z"
      },
      {
        "duration": 5,
        "start_time": "2022-05-07T13:49:22.966Z"
      },
      {
        "duration": 983,
        "start_time": "2022-05-07T13:49:22.973Z"
      },
      {
        "duration": 3,
        "start_time": "2022-05-07T13:49:23.957Z"
      },
      {
        "duration": 15,
        "start_time": "2022-05-07T13:49:23.962Z"
      },
      {
        "duration": 47,
        "start_time": "2022-05-07T13:49:23.979Z"
      },
      {
        "duration": 3,
        "start_time": "2022-05-07T13:49:24.029Z"
      },
      {
        "duration": 6,
        "start_time": "2022-05-07T13:49:24.033Z"
      },
      {
        "duration": 5,
        "start_time": "2022-05-07T13:49:24.041Z"
      },
      {
        "duration": 5,
        "start_time": "2022-05-07T13:49:24.047Z"
      },
      {
        "duration": 274,
        "start_time": "2022-05-07T13:49:24.054Z"
      },
      {
        "duration": 5,
        "start_time": "2022-05-07T13:49:24.329Z"
      },
      {
        "duration": 7,
        "start_time": "2022-05-07T13:49:24.336Z"
      },
      {
        "duration": 823,
        "start_time": "2022-05-07T13:49:24.344Z"
      },
      {
        "duration": 9,
        "start_time": "2022-05-07T13:49:25.170Z"
      },
      {
        "duration": 1281,
        "start_time": "2022-05-07T13:49:25.181Z"
      },
      {
        "duration": 8,
        "start_time": "2022-05-07T13:49:26.466Z"
      },
      {
        "duration": 237,
        "start_time": "2022-05-07T13:49:26.476Z"
      },
      {
        "duration": 8,
        "start_time": "2022-05-07T13:49:26.715Z"
      },
      {
        "duration": 1468,
        "start_time": "2022-05-07T13:49:26.725Z"
      },
      {
        "duration": 8,
        "start_time": "2022-05-07T13:49:28.196Z"
      },
      {
        "duration": 6,
        "start_time": "2022-05-07T13:49:28.206Z"
      },
      {
        "duration": 4,
        "start_time": "2022-05-07T13:49:28.223Z"
      },
      {
        "duration": 8,
        "start_time": "2022-05-07T13:49:28.230Z"
      },
      {
        "duration": 4,
        "start_time": "2022-05-07T13:49:28.242Z"
      },
      {
        "duration": 4745,
        "start_time": "2022-05-07T13:49:28.247Z"
      },
      {
        "duration": 8,
        "start_time": "2022-05-07T13:49:32.994Z"
      },
      {
        "duration": 6,
        "start_time": "2022-05-07T13:49:33.003Z"
      },
      {
        "duration": 113,
        "start_time": "2022-05-07T13:49:33.011Z"
      },
      {
        "duration": 37,
        "start_time": "2022-05-07T13:49:33.126Z"
      },
      {
        "duration": 128,
        "start_time": "2022-05-07T13:49:33.165Z"
      },
      {
        "duration": 6,
        "start_time": "2022-05-07T13:49:33.294Z"
      },
      {
        "duration": 1377,
        "start_time": "2022-05-07T13:49:33.301Z"
      },
      {
        "duration": 3,
        "start_time": "2022-05-07T13:49:34.680Z"
      },
      {
        "duration": 7,
        "start_time": "2022-05-07T13:49:34.685Z"
      },
      {
        "duration": 38,
        "start_time": "2022-05-07T13:49:34.693Z"
      },
      {
        "duration": 10,
        "start_time": "2022-05-07T13:49:34.733Z"
      },
      {
        "duration": 8,
        "start_time": "2022-05-07T13:49:34.744Z"
      },
      {
        "duration": 4,
        "start_time": "2022-05-07T13:49:34.754Z"
      },
      {
        "duration": 274078,
        "start_time": "2022-05-07T13:49:34.760Z"
      },
      {
        "duration": 4,
        "start_time": "2022-05-07T13:54:08.840Z"
      },
      {
        "duration": 102336,
        "start_time": "2022-05-07T13:54:08.846Z"
      },
      {
        "duration": 8,
        "start_time": "2022-05-07T13:55:51.184Z"
      },
      {
        "duration": 14,
        "start_time": "2022-05-07T13:55:51.193Z"
      },
      {
        "duration": 17,
        "start_time": "2022-05-07T13:55:51.208Z"
      },
      {
        "duration": 77740,
        "start_time": "2022-05-07T13:55:51.227Z"
      },
      {
        "duration": 5,
        "start_time": "2022-05-07T13:57:08.969Z"
      },
      {
        "duration": 19665,
        "start_time": "2022-05-07T13:57:08.975Z"
      },
      {
        "duration": 8,
        "start_time": "2022-05-07T13:57:28.642Z"
      },
      {
        "duration": 229,
        "start_time": "2022-05-07T13:57:28.651Z"
      },
      {
        "duration": 5,
        "start_time": "2022-05-07T13:57:28.882Z"
      },
      {
        "duration": 3617,
        "start_time": "2022-05-07T13:57:28.889Z"
      },
      {
        "duration": 8,
        "start_time": "2022-05-07T13:57:32.508Z"
      },
      {
        "duration": 274,
        "start_time": "2022-05-07T13:57:32.523Z"
      },
      {
        "duration": 59,
        "start_time": "2022-05-07T13:57:32.798Z"
      },
      {
        "duration": 6,
        "start_time": "2022-05-07T13:57:32.858Z"
      },
      {
        "duration": 13,
        "start_time": "2022-05-07T13:57:32.865Z"
      },
      {
        "duration": 21,
        "start_time": "2022-05-07T13:57:32.880Z"
      },
      {
        "duration": 13,
        "start_time": "2022-05-07T13:57:32.903Z"
      },
      {
        "duration": 29,
        "start_time": "2022-05-07T13:57:32.917Z"
      },
      {
        "duration": 23876,
        "start_time": "2022-05-07T13:57:32.948Z"
      },
      {
        "duration": 4943,
        "start_time": "2022-05-07T13:57:56.826Z"
      },
      {
        "duration": 152,
        "start_time": "2022-05-07T13:58:01.771Z"
      },
      {
        "duration": 10,
        "start_time": "2022-05-07T13:58:01.925Z"
      },
      {
        "duration": 266,
        "start_time": "2022-05-07T13:58:01.937Z"
      },
      {
        "duration": 25393,
        "start_time": "2022-05-07T13:58:02.206Z"
      },
      {
        "duration": 4,
        "start_time": "2022-05-07T14:06:05.524Z"
      },
      {
        "duration": 739,
        "start_time": "2022-05-07T14:06:07.666Z"
      }
    ],
    "accelerator": "GPU",
    "colab": {
      "machine_shape": "hm",
      "name": "22 ансамбль.ipynb",
      "provenance": [],
      "toc_visible": true,
      "include_colab_link": true
    },
    "kernelspec": {
      "display_name": "Python 3 (ipykernel)",
      "language": "python",
      "name": "python3"
    },
    "language_info": {
      "codemirror_mode": {
        "name": "ipython",
        "version": 3
      },
      "file_extension": ".py",
      "mimetype": "text/x-python",
      "name": "python",
      "nbconvert_exporter": "python",
      "pygments_lexer": "ipython3",
      "version": "3.9.5"
    },
    "toc": {
      "base_numbering": 1,
      "nav_menu": {},
      "number_sections": true,
      "sideBar": true,
      "skip_h1_title": true,
      "title_cell": "Содержание",
      "title_sidebar": "Contents",
      "toc_cell": true,
      "toc_position": {
        "height": "calc(100% - 180px)",
        "left": "10px",
        "top": "150px",
        "width": "270px"
      },
      "toc_section_display": true,
      "toc_window_display": true
    }
  },
  "nbformat": 4,
  "nbformat_minor": 0
}