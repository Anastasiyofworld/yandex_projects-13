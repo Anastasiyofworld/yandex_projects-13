{
  "cells": [
    {
      "cell_type": "markdown",
      "metadata": {
        "id": "view-in-github",
        "colab_type": "text"
      },
      "source": [
        "<a href=\"https://colab.research.google.com/github/Anastasiyofworld/yandex_projects_13/blob/main/project_13_ML_for_texts.ipynb\" target=\"_parent\"><img src=\"https://colab.research.google.com/assets/colab-badge.svg\" alt=\"Open In Colab\"/></a>"
      ]
    },
    {
      "cell_type": "markdown",
      "metadata": {
        "toc": true,
        "id": "_Adp80lABOtt"
      },
      "source": [
        "<h1>Содержание<span class=\"tocSkip\"></span></h1>\n",
        "<div class=\"toc\"><ul class=\"toc-item\"><li><ul class=\"toc-item\"><li><span><a href=\"#Комментарии\" data-toc-modified-id=\"Комментарии-0.1\"><span class=\"toc-item-num\">0.1&nbsp;&nbsp;</span>Комментарии</a></span></li></ul></li><li><span><a href=\"#Подготовка\" data-toc-modified-id=\"Подготовка-1\"><span class=\"toc-item-num\">1&nbsp;&nbsp;</span>Подготовка</a></span><ul class=\"toc-item\"><li><span><a href=\"#Лемматизация\" data-toc-modified-id=\"Лемматизация-1.1\"><span class=\"toc-item-num\">1.1&nbsp;&nbsp;</span>Лемматизация</a></span></li><li><span><a href=\"#Масштабирование-данных-с-помощью-TF-IDF.\" data-toc-modified-id=\"Масштабирование-данных-с-помощью-TF-IDF.-1.2\"><span class=\"toc-item-num\">1.2&nbsp;&nbsp;</span>Масштабирование данных с помощью TF-IDF.</a></span></li></ul></li><li><span><a href=\"#Обучение\" data-toc-modified-id=\"Обучение-2\"><span class=\"toc-item-num\">2&nbsp;&nbsp;</span>Обучение</a></span><ul class=\"toc-item\"><li><span><a href=\"#Качество-прогноза\" data-toc-modified-id=\"Качество-прогноза-2.1\"><span class=\"toc-item-num\">2.1&nbsp;&nbsp;</span>Качество прогноза</a></span></li><li><span><a href=\"#Модель-логистической-регрессии\" data-toc-modified-id=\"Модель-логистической-регрессии-2.2\"><span class=\"toc-item-num\">2.2&nbsp;&nbsp;</span>Модель логистической регрессии</a></span></li><li><span><a href=\"#Модель-линейных-опорных-векторов\" data-toc-modified-id=\"Модель-линейных-опорных-векторов-2.3\"><span class=\"toc-item-num\">2.3&nbsp;&nbsp;</span>Модель линейных опорных векторов</a></span></li></ul></li><li><span><a href=\"#Тестирование\" data-toc-modified-id=\"Тестирование-3\"><span class=\"toc-item-num\">3&nbsp;&nbsp;</span>Тестирование</a></span></li><li><span><a href=\"#Выводы\" data-toc-modified-id=\"Выводы-4\"><span class=\"toc-item-num\">4&nbsp;&nbsp;</span>Выводы</a></span><ul class=\"toc-item\"><li><span><a href=\"#Комментарии\" data-toc-modified-id=\"Комментарии-4.1\"><span class=\"toc-item-num\">4.1&nbsp;&nbsp;</span>Комментарии</a></span></li></ul></li><li><span><a href=\"#Чек-лист-проверки\" data-toc-modified-id=\"Чек-лист-проверки-5\"><span class=\"toc-item-num\">5&nbsp;&nbsp;</span>Чек-лист проверки</a></span></li></ul></div>"
      ]
    },
    {
      "cell_type": "markdown",
      "metadata": {
        "id": "8IAl70tc4WK-"
      },
      "source": [
        "### Комментарии\n",
        "<div class=\"alert alert-info\">\n",
        "<b>Комментарий студента 1 итерация</b>\n",
        "    \n",
        "Привет, уважаемый ревьюер!\n",
        "\n",
        "Я, как могла, пыталась сократить время выполнения тетради, оставив в `GridSearch` только уже подобранные за кучу времени параметры, а вот как сократить время лемматизации не придумала. \n",
        "\n",
        "Для себя выгрузила уже лемматизированный `.csv` файл и работала с ним, подбирая гиперпараметры моделей. Но как отправить тебе не знаю, кажется, при получении иногда у ревьюеров перезапускается тетрадка (иначе как еще объяснить, что однажды я посылала отработавшую тетрадь, а у ревьюера она отработала только наполовину и вернулась обратно?), не уверена, что файл подтянется и из моего Гугл-диска, ведь на сервере Яндекса они подтягиваются со спец. папки с файлами. \n",
        "\n",
        "Будет круто, если расскажешь, как обходить такое и не тратить время ревьюеров)\n",
        "\n",
        "А пока добавляю ссылку на мой гитхабчик, по которой должно открыться сразу красивенько, если эта тетрадь закапризничает.\n",
        "\n",
        "[ссылка на Гитхабчик](https://nbviewer.org/github/Anastasiyofworld/yandex_projects_13/blob/main/project_13_ML_for_texts.ipynb)\n",
        "\n",
        "</div>"
      ]
    },
    {
      "cell_type": "markdown",
      "metadata": {
        "id": "3aVB9HlfCTbq"
      },
      "source": [
        "# Проект для «Викишоп»"
      ]
    },
    {
      "cell_type": "markdown",
      "metadata": {
        "id": "UppYzUqDCTbs"
      },
      "source": [
        "Интернет-магазин «Викишоп» запускает новый сервис. Теперь пользователи могут редактировать и дополнять описания товаров, как в вики-сообществах. То есть клиенты предлагают свои правки и комментируют изменения других. Магазину нужен инструмент, который будет искать токсичные комментарии и отправлять их на модерацию. \n",
        "\n",
        "**Наша цель** - обучить модель классифицировать комментарии на позитивные и негативные. \n",
        "\n",
        "В нашем распоряжении **набор данных с разметкой о токсичности правок**.\n",
        "\n",
        "У нас есть строгое указание к метрике качества и ее значению:  `F1` **не меньше 0.75**. \n",
        "\n",
        "**Этапы выполнения проекта**\n",
        "\n",
        "1. Загрузить и подготовить данные.\n",
        "2. Обучить разные модели. \n",
        "3. Сделать выводы.\n",
        "\n",
        "**Описание данных**\n",
        "\n",
        "Данные находятся в файле `toxic_comments.csv`. Столбец *text* в нём содержит текст комментария, а *toxic* — целевой признак."
      ]
    },
    {
      "cell_type": "markdown",
      "metadata": {
        "id": "Tw9K-ExZCTbu"
      },
      "source": [
        "## Подготовка"
      ]
    },
    {
      "cell_type": "markdown",
      "metadata": {
        "id": "MJO6Hze4CTbx"
      },
      "source": [
        "Импортируем нужные библиотеки."
      ]
    },
    {
      "cell_type": "code",
      "execution_count": 1,
      "metadata": {
        "colab": {
          "base_uri": "https://localhost:8080/"
        },
        "id": "uzuEGXXDCTb2",
        "outputId": "740e128d-e095-465e-900d-bd5780be97c6"
      },
      "outputs": [
        {
          "output_type": "stream",
          "name": "stdout",
          "text": [
            "Requirement already satisfied: tqdm in /usr/local/lib/python3.7/dist-packages (4.64.0)\n",
            "Requirement already satisfied: en_core_web_sm in /usr/local/lib/python3.7/dist-packages (2.2.5)\n",
            "Requirement already satisfied: spacy>=2.2.2 in /usr/local/lib/python3.7/dist-packages (from en_core_web_sm) (2.2.4)\n",
            "Requirement already satisfied: blis<0.5.0,>=0.4.0 in /usr/local/lib/python3.7/dist-packages (from spacy>=2.2.2->en_core_web_sm) (0.4.1)\n",
            "Requirement already satisfied: numpy>=1.15.0 in /usr/local/lib/python3.7/dist-packages (from spacy>=2.2.2->en_core_web_sm) (1.21.6)\n",
            "Requirement already satisfied: catalogue<1.1.0,>=0.0.7 in /usr/local/lib/python3.7/dist-packages (from spacy>=2.2.2->en_core_web_sm) (1.0.0)\n",
            "Requirement already satisfied: plac<1.2.0,>=0.9.6 in /usr/local/lib/python3.7/dist-packages (from spacy>=2.2.2->en_core_web_sm) (1.1.3)\n",
            "Requirement already satisfied: preshed<3.1.0,>=3.0.2 in /usr/local/lib/python3.7/dist-packages (from spacy>=2.2.2->en_core_web_sm) (3.0.6)\n",
            "Requirement already satisfied: murmurhash<1.1.0,>=0.28.0 in /usr/local/lib/python3.7/dist-packages (from spacy>=2.2.2->en_core_web_sm) (1.0.7)\n",
            "Requirement already satisfied: setuptools in /usr/local/lib/python3.7/dist-packages (from spacy>=2.2.2->en_core_web_sm) (57.4.0)\n",
            "Requirement already satisfied: wasabi<1.1.0,>=0.4.0 in /usr/local/lib/python3.7/dist-packages (from spacy>=2.2.2->en_core_web_sm) (0.9.1)\n",
            "Requirement already satisfied: thinc==7.4.0 in /usr/local/lib/python3.7/dist-packages (from spacy>=2.2.2->en_core_web_sm) (7.4.0)\n",
            "Requirement already satisfied: srsly<1.1.0,>=1.0.2 in /usr/local/lib/python3.7/dist-packages (from spacy>=2.2.2->en_core_web_sm) (1.0.5)\n",
            "Requirement already satisfied: tqdm<5.0.0,>=4.38.0 in /usr/local/lib/python3.7/dist-packages (from spacy>=2.2.2->en_core_web_sm) (4.64.0)\n",
            "Requirement already satisfied: cymem<2.1.0,>=2.0.2 in /usr/local/lib/python3.7/dist-packages (from spacy>=2.2.2->en_core_web_sm) (2.0.6)\n",
            "Requirement already satisfied: requests<3.0.0,>=2.13.0 in /usr/local/lib/python3.7/dist-packages (from spacy>=2.2.2->en_core_web_sm) (2.23.0)\n",
            "Requirement already satisfied: importlib-metadata>=0.20 in /usr/local/lib/python3.7/dist-packages (from catalogue<1.1.0,>=0.0.7->spacy>=2.2.2->en_core_web_sm) (4.11.3)\n",
            "Requirement already satisfied: zipp>=0.5 in /usr/local/lib/python3.7/dist-packages (from importlib-metadata>=0.20->catalogue<1.1.0,>=0.0.7->spacy>=2.2.2->en_core_web_sm) (3.8.0)\n",
            "Requirement already satisfied: typing-extensions>=3.6.4 in /usr/local/lib/python3.7/dist-packages (from importlib-metadata>=0.20->catalogue<1.1.0,>=0.0.7->spacy>=2.2.2->en_core_web_sm) (4.2.0)\n",
            "Requirement already satisfied: idna<3,>=2.5 in /usr/local/lib/python3.7/dist-packages (from requests<3.0.0,>=2.13.0->spacy>=2.2.2->en_core_web_sm) (2.10)\n",
            "Requirement already satisfied: chardet<4,>=3.0.2 in /usr/local/lib/python3.7/dist-packages (from requests<3.0.0,>=2.13.0->spacy>=2.2.2->en_core_web_sm) (3.0.4)\n",
            "Requirement already satisfied: urllib3!=1.25.0,!=1.25.1,<1.26,>=1.21.1 in /usr/local/lib/python3.7/dist-packages (from requests<3.0.0,>=2.13.0->spacy>=2.2.2->en_core_web_sm) (1.24.3)\n",
            "Requirement already satisfied: certifi>=2017.4.17 in /usr/local/lib/python3.7/dist-packages (from requests<3.0.0,>=2.13.0->spacy>=2.2.2->en_core_web_sm) (2021.10.8)\n",
            "Collecting langdetect\n",
            "  Downloading langdetect-1.0.9.tar.gz (981 kB)\n",
            "\u001b[K     |████████████████████████████████| 981 kB 13.2 MB/s \n",
            "\u001b[?25hRequirement already satisfied: six in /usr/local/lib/python3.7/dist-packages (from langdetect) (1.15.0)\n",
            "Building wheels for collected packages: langdetect\n",
            "  Building wheel for langdetect (setup.py) ... \u001b[?25l\u001b[?25hdone\n",
            "  Created wheel for langdetect: filename=langdetect-1.0.9-py3-none-any.whl size=993242 sha256=62504c6e5245a01aa62592bca3e43bdaaa3c70d489dd288363babf07e4b4e926\n",
            "  Stored in directory: /root/.cache/pip/wheels/c5/96/8a/f90c59ed25d75e50a8c10a1b1c2d4c402e4dacfa87f3aff36a\n",
            "Successfully built langdetect\n",
            "Installing collected packages: langdetect\n",
            "Successfully installed langdetect-1.0.9\n"
          ]
        }
      ],
      "source": [
        "!pip install tqdm \n",
        "!pip install en_core_web_sm\n",
        "!pip install langdetect"
      ]
    },
    {
      "cell_type": "code",
      "execution_count": 2,
      "metadata": {
        "id": "_atkSUWHCTb7"
      },
      "outputs": [],
      "source": [
        "import pandas as pd\n",
        "import numpy as np\n",
        "\n",
        "from langdetect import detect\n",
        "\n",
        "from matplotlib import pyplot as plt\n",
        "\n",
        "from nltk.tokenize import sent_tokenize, word_tokenize\n",
        "from nltk.corpus import stopwords\n",
        "\n",
        "import re\n",
        "\n",
        "import sklearn\n",
        "from sklearn.feature_extraction.text import CountVectorizer, TfidfVectorizer\n",
        "from sklearn.metrics import f1_score\n",
        "from sklearn.pipeline import Pipeline, make_pipeline\n",
        "\n",
        "from sklearn.dummy import DummyClassifier\n",
        "from sklearn.linear_model import LogisticRegression\n",
        "from sklearn.svm  import SVC, LinearSVC\n",
        "from sklearn.preprocessing import StandardScaler\n",
        "from sklearn.model_selection import train_test_split\n",
        "from sklearn.model_selection import cross_val_score, KFold, StratifiedKFold, GridSearchCV\n",
        "\n",
        "from tqdm import notebook\n",
        "\n",
        "import nltk\n",
        "from nltk.corpus import wordnet\n",
        "from nltk.stem import LancasterStemmer, WordNetLemmatizer"
      ]
    },
    {
      "cell_type": "code",
      "execution_count": 3,
      "metadata": {
        "colab": {
          "base_uri": "https://localhost:8080/"
        },
        "id": "rLGuL_U4CTb9",
        "outputId": "10e01c87-e6b3-40bf-bc9a-e32ce59a1287"
      },
      "outputs": [
        {
          "output_type": "stream",
          "name": "stdout",
          "text": [
            "Requirement already satisfied: nltk in /usr/local/lib/python3.7/dist-packages (3.2.5)\n",
            "Requirement already satisfied: six in /usr/local/lib/python3.7/dist-packages (from nltk) (1.15.0)\n",
            "[nltk_data] Downloading package stopwords to /root/nltk_data...\n",
            "[nltk_data]   Unzipping corpora/stopwords.zip.\n",
            "[nltk_data] Downloading package wordnet to /root/nltk_data...\n",
            "[nltk_data]   Unzipping corpora/wordnet.zip.\n",
            "[nltk_data] Downloading package averaged_perceptron_tagger to\n",
            "[nltk_data]     /root/nltk_data...\n",
            "[nltk_data]   Unzipping taggers/averaged_perceptron_tagger.zip.\n",
            "[nltk_data] Downloading package punkt to /root/nltk_data...\n",
            "[nltk_data]   Unzipping tokenizers/punkt.zip.\n"
          ]
        },
        {
          "output_type": "execute_result",
          "data": {
            "text/plain": [
              "True"
            ]
          },
          "metadata": {},
          "execution_count": 3
        }
      ],
      "source": [
        "!pip install nltk\n",
        "import nltk\n",
        "nltk.download('stopwords')\n",
        "nltk.download('wordnet')\n",
        "nltk.download('averaged_perceptron_tagger')\n",
        "nltk.download('punkt')"
      ]
    },
    {
      "cell_type": "markdown",
      "metadata": {
        "id": "-pkeZ5A-CTb-"
      },
      "source": [
        "Создаем путь к файлу с данными."
      ]
    },
    {
      "cell_type": "code",
      "execution_count": 4,
      "metadata": {
        "id": "ZNTPyOcGCTb_"
      },
      "outputs": [],
      "source": [
        "path = '/datasets/toxic_comments.csv'\n",
        "path2 = '/content/drive/MyDrive/Colab Notebooks/project_13/toxic_comments.csv'\n",
        "path3 = '/content/drive/MyDrive/Colab Notebooks/project_13/LEMMAS_ALL_line.csv'\n",
        "path4 = 'LEMMAS_ALL_line.csv'"
      ]
    },
    {
      "cell_type": "code",
      "execution_count": 5,
      "metadata": {
        "colab": {
          "base_uri": "https://localhost:8080/"
        },
        "id": "sIxWpqopCTcA",
        "outputId": "d6a59ec4-8b83-41d5-fa74-dbe4cc6c16a3"
      },
      "outputs": [
        {
          "output_type": "stream",
          "name": "stdout",
          "text": [
            "Mounted at /content/drive\n"
          ]
        }
      ],
      "source": [
        "# for working in Google Colab\n",
        "from google.colab import drive\n",
        "drive.mount('/content/drive')"
      ]
    },
    {
      "cell_type": "markdown",
      "metadata": {
        "id": "8sAQf-bgCTcB"
      },
      "source": [
        "Откроем файл с текстом комментариев и разметкой о токсичности правок."
      ]
    },
    {
      "cell_type": "code",
      "execution_count": 6,
      "metadata": {
        "id": "cYoqO8JBCTcE"
      },
      "outputs": [],
      "source": [
        "try:\n",
        "    df = pd.read_csv(path)\n",
        "except Exception as err:\n",
        "    try:\n",
        "        df = pd.read_csv(path[10:])\n",
        "    except Exception as err:\n",
        "        try:\n",
        "            from google.colab import drive\n",
        "            df = pd.read_csv(path2)\n",
        "        except Exception as err:\n",
        "            print('Ошибка чтения файла df:', repr(err))"
      ]
    },
    {
      "cell_type": "code",
      "execution_count": 7,
      "metadata": {
        "id": "8pqX5_2fZrTQ"
      },
      "outputs": [],
      "source": [
        "# параметр для seed в random_state\n",
        "STATE = 12345"
      ]
    },
    {
      "cell_type": "code",
      "execution_count": 8,
      "metadata": {
        "colab": {
          "base_uri": "https://localhost:8080/",
          "height": 206
        },
        "id": "wtC9pcMNCTcH",
        "outputId": "f28924a1-902b-4367-e0a2-351f41d75a2d"
      },
      "outputs": [
        {
          "output_type": "execute_result",
          "data": {
            "text/plain": [
              "                                                text  toxic\n",
              "0  Explanation\\nWhy the edits made under my usern...      0\n",
              "1  D'aww! He matches this background colour I'm s...      0\n",
              "2  Hey man, I'm really not trying to edit war. It...      0\n",
              "3  \"\\nMore\\nI can't make any real suggestions on ...      0\n",
              "4  You, sir, are my hero. Any chance you remember...      0"
            ],
            "text/html": [
              "\n",
              "  <div id=\"df-560dcfd5-da2a-4aa5-8a94-6711ea8c8fdc\">\n",
              "    <div class=\"colab-df-container\">\n",
              "      <div>\n",
              "<style scoped>\n",
              "    .dataframe tbody tr th:only-of-type {\n",
              "        vertical-align: middle;\n",
              "    }\n",
              "\n",
              "    .dataframe tbody tr th {\n",
              "        vertical-align: top;\n",
              "    }\n",
              "\n",
              "    .dataframe thead th {\n",
              "        text-align: right;\n",
              "    }\n",
              "</style>\n",
              "<table border=\"1\" class=\"dataframe\">\n",
              "  <thead>\n",
              "    <tr style=\"text-align: right;\">\n",
              "      <th></th>\n",
              "      <th>text</th>\n",
              "      <th>toxic</th>\n",
              "    </tr>\n",
              "  </thead>\n",
              "  <tbody>\n",
              "    <tr>\n",
              "      <th>0</th>\n",
              "      <td>Explanation\\nWhy the edits made under my usern...</td>\n",
              "      <td>0</td>\n",
              "    </tr>\n",
              "    <tr>\n",
              "      <th>1</th>\n",
              "      <td>D'aww! He matches this background colour I'm s...</td>\n",
              "      <td>0</td>\n",
              "    </tr>\n",
              "    <tr>\n",
              "      <th>2</th>\n",
              "      <td>Hey man, I'm really not trying to edit war. It...</td>\n",
              "      <td>0</td>\n",
              "    </tr>\n",
              "    <tr>\n",
              "      <th>3</th>\n",
              "      <td>\"\\nMore\\nI can't make any real suggestions on ...</td>\n",
              "      <td>0</td>\n",
              "    </tr>\n",
              "    <tr>\n",
              "      <th>4</th>\n",
              "      <td>You, sir, are my hero. Any chance you remember...</td>\n",
              "      <td>0</td>\n",
              "    </tr>\n",
              "  </tbody>\n",
              "</table>\n",
              "</div>\n",
              "      <button class=\"colab-df-convert\" onclick=\"convertToInteractive('df-560dcfd5-da2a-4aa5-8a94-6711ea8c8fdc')\"\n",
              "              title=\"Convert this dataframe to an interactive table.\"\n",
              "              style=\"display:none;\">\n",
              "        \n",
              "  <svg xmlns=\"http://www.w3.org/2000/svg\" height=\"24px\"viewBox=\"0 0 24 24\"\n",
              "       width=\"24px\">\n",
              "    <path d=\"M0 0h24v24H0V0z\" fill=\"none\"/>\n",
              "    <path d=\"M18.56 5.44l.94 2.06.94-2.06 2.06-.94-2.06-.94-.94-2.06-.94 2.06-2.06.94zm-11 1L8.5 8.5l.94-2.06 2.06-.94-2.06-.94L8.5 2.5l-.94 2.06-2.06.94zm10 10l.94 2.06.94-2.06 2.06-.94-2.06-.94-.94-2.06-.94 2.06-2.06.94z\"/><path d=\"M17.41 7.96l-1.37-1.37c-.4-.4-.92-.59-1.43-.59-.52 0-1.04.2-1.43.59L10.3 9.45l-7.72 7.72c-.78.78-.78 2.05 0 2.83L4 21.41c.39.39.9.59 1.41.59.51 0 1.02-.2 1.41-.59l7.78-7.78 2.81-2.81c.8-.78.8-2.07 0-2.86zM5.41 20L4 18.59l7.72-7.72 1.47 1.35L5.41 20z\"/>\n",
              "  </svg>\n",
              "      </button>\n",
              "      \n",
              "  <style>\n",
              "    .colab-df-container {\n",
              "      display:flex;\n",
              "      flex-wrap:wrap;\n",
              "      gap: 12px;\n",
              "    }\n",
              "\n",
              "    .colab-df-convert {\n",
              "      background-color: #E8F0FE;\n",
              "      border: none;\n",
              "      border-radius: 50%;\n",
              "      cursor: pointer;\n",
              "      display: none;\n",
              "      fill: #1967D2;\n",
              "      height: 32px;\n",
              "      padding: 0 0 0 0;\n",
              "      width: 32px;\n",
              "    }\n",
              "\n",
              "    .colab-df-convert:hover {\n",
              "      background-color: #E2EBFA;\n",
              "      box-shadow: 0px 1px 2px rgba(60, 64, 67, 0.3), 0px 1px 3px 1px rgba(60, 64, 67, 0.15);\n",
              "      fill: #174EA6;\n",
              "    }\n",
              "\n",
              "    [theme=dark] .colab-df-convert {\n",
              "      background-color: #3B4455;\n",
              "      fill: #D2E3FC;\n",
              "    }\n",
              "\n",
              "    [theme=dark] .colab-df-convert:hover {\n",
              "      background-color: #434B5C;\n",
              "      box-shadow: 0px 1px 3px 1px rgba(0, 0, 0, 0.15);\n",
              "      filter: drop-shadow(0px 1px 2px rgba(0, 0, 0, 0.3));\n",
              "      fill: #FFFFFF;\n",
              "    }\n",
              "  </style>\n",
              "\n",
              "      <script>\n",
              "        const buttonEl =\n",
              "          document.querySelector('#df-560dcfd5-da2a-4aa5-8a94-6711ea8c8fdc button.colab-df-convert');\n",
              "        buttonEl.style.display =\n",
              "          google.colab.kernel.accessAllowed ? 'block' : 'none';\n",
              "\n",
              "        async function convertToInteractive(key) {\n",
              "          const element = document.querySelector('#df-560dcfd5-da2a-4aa5-8a94-6711ea8c8fdc');\n",
              "          const dataTable =\n",
              "            await google.colab.kernel.invokeFunction('convertToInteractive',\n",
              "                                                     [key], {});\n",
              "          if (!dataTable) return;\n",
              "\n",
              "          const docLinkHtml = 'Like what you see? Visit the ' +\n",
              "            '<a target=\"_blank\" href=https://colab.research.google.com/notebooks/data_table.ipynb>data table notebook</a>'\n",
              "            + ' to learn more about interactive tables.';\n",
              "          element.innerHTML = '';\n",
              "          dataTable['output_type'] = 'display_data';\n",
              "          await google.colab.output.renderOutput(dataTable, element);\n",
              "          const docLink = document.createElement('div');\n",
              "          docLink.innerHTML = docLinkHtml;\n",
              "          element.appendChild(docLink);\n",
              "        }\n",
              "      </script>\n",
              "    </div>\n",
              "  </div>\n",
              "  "
            ]
          },
          "metadata": {},
          "execution_count": 8
        }
      ],
      "source": [
        "df.head()"
      ]
    },
    {
      "cell_type": "code",
      "execution_count": 9,
      "metadata": {
        "colab": {
          "base_uri": "https://localhost:8080/"
        },
        "id": "2k2oAT9qCTcH",
        "outputId": "4d036be6-285c-44c8-a583-c1f10e79b593",
        "scrolled": true
      },
      "outputs": [
        {
          "output_type": "stream",
          "name": "stdout",
          "text": [
            "<class 'pandas.core.frame.DataFrame'>\n",
            "RangeIndex: 159571 entries, 0 to 159570\n",
            "Data columns (total 2 columns):\n",
            " #   Column  Non-Null Count   Dtype \n",
            "---  ------  --------------   ----- \n",
            " 0   text    159571 non-null  object\n",
            " 1   toxic   159571 non-null  int64 \n",
            "dtypes: int64(1), object(1)\n",
            "memory usage: 2.4+ MB\n"
          ]
        }
      ],
      "source": [
        "df.info()"
      ]
    },
    {
      "cell_type": "markdown",
      "metadata": {
        "id": "hOhjoFMWCTcI"
      },
      "source": [
        "В нашем распоряжении 159571 комментарий с разметкой о его токсичности. Первые строчки на английском языке. Проверим, все ли комментарии написаны на одном языке."
      ]
    },
    {
      "cell_type": "code",
      "execution_count": 10,
      "metadata": {
        "id": "iio8lt1CCTcI"
      },
      "outputs": [],
      "source": [
        "# def detect_language(row):\n",
        "#     try:\n",
        "#         language = detect(row) \n",
        "#     except Exception as error:\n",
        "#         language = 'error'\n",
        "#     return language\n",
        "        "
      ]
    },
    {
      "cell_type": "code",
      "execution_count": 11,
      "metadata": {
        "id": "3UvPhzcGCTcJ"
      },
      "outputs": [],
      "source": [
        "# df['language'] = df['text'].apply(detect_language)"
      ]
    },
    {
      "cell_type": "code",
      "execution_count": 12,
      "metadata": {
        "id": "iyW3sDgdCTcK",
        "scrolled": true
      },
      "outputs": [],
      "source": [
        "# df['language'].unique()"
      ]
    },
    {
      "cell_type": "code",
      "execution_count": 13,
      "metadata": {
        "id": "EYeL0z-cCTcK"
      },
      "outputs": [],
      "source": [
        "# detect(df.loc[159566, 'text'])"
      ]
    },
    {
      "cell_type": "markdown",
      "metadata": {
        "id": "YxJJ7HdqCTcK"
      },
      "source": [
        "**Код выше выполняется достаточно долго и после проверки на язык не имеет смысла, поэтому мы позволили себе его закомментировать для более быстрой отработки тетради**\n",
        "\n",
        "Мы потыкались и убедились, что несмотря на иногда присутствующие другие языки, основная масса отзывов написана на английском."
      ]
    },
    {
      "cell_type": "markdown",
      "metadata": {
        "id": "RQmSpXGVCTcL"
      },
      "source": [
        "Посмотрим на соотношение токсичных и нетоксичных комментариев."
      ]
    },
    {
      "cell_type": "code",
      "execution_count": 14,
      "metadata": {
        "colab": {
          "base_uri": "https://localhost:8080/",
          "height": 295
        },
        "id": "QEH8_YqhCTcL",
        "outputId": "fc03e586-c498-42ef-8570-8ce6d300536f",
        "scrolled": true
      },
      "outputs": [
        {
          "output_type": "display_data",
          "data": {
            "text/plain": [
              "<Figure size 432x288 with 1 Axes>"
            ],
            "image/png": "[encoded data removed]"
          },
          "metadata": {
            "needs_background": "light"
          }
        }
      ],
      "source": [
        "df.groupby('toxic').text.count().sort_values(ascending=False).plot(kind='bar', rot=0)\n",
        "plt.title('Распределение комментариев по токсичноси')\n",
        "plt.ylabel('Количество комментариев')\n",
        "plt.xlabel('Токсичность')\n",
        "plt.xticks([0, 1], ['non toxic', 'toxic'])\n",
        "plt.show()"
      ]
    },
    {
      "cell_type": "code",
      "execution_count": 15,
      "metadata": {
        "colab": {
          "base_uri": "https://localhost:8080/"
        },
        "id": "RZ2RjwANCTcN",
        "outputId": "71b7fca9-eb77-43d1-e717-6feb23b28004"
      },
      "outputs": [
        {
          "output_type": "execute_result",
          "data": {
            "text/plain": [
              "0.10167887648758234"
            ]
          },
          "metadata": {},
          "execution_count": 15
        }
      ],
      "source": [
        "df.toxic.mean()"
      ]
    },
    {
      "cell_type": "markdown",
      "metadata": {
        "id": "63ZhoXRTCTcN"
      },
      "source": [
        "Видим, что только 10% из комментариев помечены как токсичные. Нужно будет учесть это при разбиении выборок для обучения и предсказания моделей."
      ]
    },
    {
      "cell_type": "markdown",
      "metadata": {
        "id": "AqwEuCK9CTcN"
      },
      "source": [
        "Уберем из текста ссылки на страницы."
      ]
    },
    {
      "cell_type": "code",
      "execution_count": 16,
      "metadata": {
        "id": "bZosLY5ACTcO"
      },
      "outputs": [],
      "source": [
        "def delete_links(data):\n",
        "    data = re.sub(r'^https?:\\/\\/.*[\\r\\n]*', '', data, flags=re.MULTILINE)\n",
        "    return data"
      ]
    },
    {
      "cell_type": "code",
      "execution_count": 17,
      "metadata": {
        "id": "C8pK7B86CTcQ"
      },
      "outputs": [],
      "source": [
        "df['text'] = df['text'].apply(delete_links)"
      ]
    },
    {
      "cell_type": "code",
      "execution_count": 18,
      "metadata": {
        "colab": {
          "base_uri": "https://localhost:8080/",
          "height": 677
        },
        "id": "2KMQcUOjCTcQ",
        "outputId": "658f90fd-bc80-4923-bb85-9515824c81ab"
      },
      "outputs": [
        {
          "output_type": "execute_result",
          "data": {
            "text/plain": [
              "                                                 text  toxic\n",
              "0   Explanation\\nWhy the edits made under my usern...      0\n",
              "1   D'aww! He matches this background colour I'm s...      0\n",
              "2   Hey man, I'm really not trying to edit war. It...      0\n",
              "3   \"\\nMore\\nI can't make any real suggestions on ...      0\n",
              "4   You, sir, are my hero. Any chance you remember...      0\n",
              "5   \"\\n\\nCongratulations from me as well, use the ...      0\n",
              "6        COCKSUCKER BEFORE YOU PISS AROUND ON MY WORK      1\n",
              "7   Your vandalism to the Matt Shirvington article...      0\n",
              "8   Sorry if the word 'nonsense' was offensive to ...      0\n",
              "9   alignment on this subject and which are contra...      0\n",
              "10  \"\\nFair use rationale for Image:Wonju.jpg\\n\\nT...      0\n",
              "11  bbq \\n\\nbe a man and lets discuss it-maybe ove...      0\n",
              "12  Hey... what is it..\\n@ | talk .\\nWhat is it......      1\n",
              "13  Before you start throwing accusations and warn...      0\n",
              "14  Oh, and the girl above started her arguments w...      0\n",
              "15  \"\\n\\nJuelz Santanas Age\\n\\nIn 2002, Juelz Sant...      0\n",
              "16  Bye! \\n\\nDon't look, come or think of comming ...      1\n",
              "17   REDIRECT Talk:Voydan Pop Georgiev- Chernodrinski      0\n",
              "18  The Mitsurugi point made no sense - why not ar...      0\n",
              "19  Don't mean to bother you \\n\\nI see that you're...      0"
            ],
            "text/html": [
              "\n",
              "  <div id=\"df-2a9d0e83-99d0-4359-9a1f-809b8b1d494e\">\n",
              "    <div class=\"colab-df-container\">\n",
              "      <div>\n",
              "<style scoped>\n",
              "    .dataframe tbody tr th:only-of-type {\n",
              "        vertical-align: middle;\n",
              "    }\n",
              "\n",
              "    .dataframe tbody tr th {\n",
              "        vertical-align: top;\n",
              "    }\n",
              "\n",
              "    .dataframe thead th {\n",
              "        text-align: right;\n",
              "    }\n",
              "</style>\n",
              "<table border=\"1\" class=\"dataframe\">\n",
              "  <thead>\n",
              "    <tr style=\"text-align: right;\">\n",
              "      <th></th>\n",
              "      <th>text</th>\n",
              "      <th>toxic</th>\n",
              "    </tr>\n",
              "  </thead>\n",
              "  <tbody>\n",
              "    <tr>\n",
              "      <th>0</th>\n",
              "      <td>Explanation\\nWhy the edits made under my usern...</td>\n",
              "      <td>0</td>\n",
              "    </tr>\n",
              "    <tr>\n",
              "      <th>1</th>\n",
              "      <td>D'aww! He matches this background colour I'm s...</td>\n",
              "      <td>0</td>\n",
              "    </tr>\n",
              "    <tr>\n",
              "      <th>2</th>\n",
              "      <td>Hey man, I'm really not trying to edit war. It...</td>\n",
              "      <td>0</td>\n",
              "    </tr>\n",
              "    <tr>\n",
              "      <th>3</th>\n",
              "      <td>\"\\nMore\\nI can't make any real suggestions on ...</td>\n",
              "      <td>0</td>\n",
              "    </tr>\n",
              "    <tr>\n",
              "      <th>4</th>\n",
              "      <td>You, sir, are my hero. Any chance you remember...</td>\n",
              "      <td>0</td>\n",
              "    </tr>\n",
              "    <tr>\n",
              "      <th>5</th>\n",
              "      <td>\"\\n\\nCongratulations from me as well, use the ...</td>\n",
              "      <td>0</td>\n",
              "    </tr>\n",
              "    <tr>\n",
              "      <th>6</th>\n",
              "      <td>COCKSUCKER BEFORE YOU PISS AROUND ON MY WORK</td>\n",
              "      <td>1</td>\n",
              "    </tr>\n",
              "    <tr>\n",
              "      <th>7</th>\n",
              "      <td>Your vandalism to the Matt Shirvington article...</td>\n",
              "      <td>0</td>\n",
              "    </tr>\n",
              "    <tr>\n",
              "      <th>8</th>\n",
              "      <td>Sorry if the word 'nonsense' was offensive to ...</td>\n",
              "      <td>0</td>\n",
              "    </tr>\n",
              "    <tr>\n",
              "      <th>9</th>\n",
              "      <td>alignment on this subject and which are contra...</td>\n",
              "      <td>0</td>\n",
              "    </tr>\n",
              "    <tr>\n",
              "      <th>10</th>\n",
              "      <td>\"\\nFair use rationale for Image:Wonju.jpg\\n\\nT...</td>\n",
              "      <td>0</td>\n",
              "    </tr>\n",
              "    <tr>\n",
              "      <th>11</th>\n",
              "      <td>bbq \\n\\nbe a man and lets discuss it-maybe ove...</td>\n",
              "      <td>0</td>\n",
              "    </tr>\n",
              "    <tr>\n",
              "      <th>12</th>\n",
              "      <td>Hey... what is it..\\n@ | talk .\\nWhat is it......</td>\n",
              "      <td>1</td>\n",
              "    </tr>\n",
              "    <tr>\n",
              "      <th>13</th>\n",
              "      <td>Before you start throwing accusations and warn...</td>\n",
              "      <td>0</td>\n",
              "    </tr>\n",
              "    <tr>\n",
              "      <th>14</th>\n",
              "      <td>Oh, and the girl above started her arguments w...</td>\n",
              "      <td>0</td>\n",
              "    </tr>\n",
              "    <tr>\n",
              "      <th>15</th>\n",
              "      <td>\"\\n\\nJuelz Santanas Age\\n\\nIn 2002, Juelz Sant...</td>\n",
              "      <td>0</td>\n",
              "    </tr>\n",
              "    <tr>\n",
              "      <th>16</th>\n",
              "      <td>Bye! \\n\\nDon't look, come or think of comming ...</td>\n",
              "      <td>1</td>\n",
              "    </tr>\n",
              "    <tr>\n",
              "      <th>17</th>\n",
              "      <td>REDIRECT Talk:Voydan Pop Georgiev- Chernodrinski</td>\n",
              "      <td>0</td>\n",
              "    </tr>\n",
              "    <tr>\n",
              "      <th>18</th>\n",
              "      <td>The Mitsurugi point made no sense - why not ar...</td>\n",
              "      <td>0</td>\n",
              "    </tr>\n",
              "    <tr>\n",
              "      <th>19</th>\n",
              "      <td>Don't mean to bother you \\n\\nI see that you're...</td>\n",
              "      <td>0</td>\n",
              "    </tr>\n",
              "  </tbody>\n",
              "</table>\n",
              "</div>\n",
              "      <button class=\"colab-df-convert\" onclick=\"convertToInteractive('df-2a9d0e83-99d0-4359-9a1f-809b8b1d494e')\"\n",
              "              title=\"Convert this dataframe to an interactive table.\"\n",
              "              style=\"display:none;\">\n",
              "        \n",
              "  <svg xmlns=\"http://www.w3.org/2000/svg\" height=\"24px\"viewBox=\"0 0 24 24\"\n",
              "       width=\"24px\">\n",
              "    <path d=\"M0 0h24v24H0V0z\" fill=\"none\"/>\n",
              "    <path d=\"M18.56 5.44l.94 2.06.94-2.06 2.06-.94-2.06-.94-.94-2.06-.94 2.06-2.06.94zm-11 1L8.5 8.5l.94-2.06 2.06-.94-2.06-.94L8.5 2.5l-.94 2.06-2.06.94zm10 10l.94 2.06.94-2.06 2.06-.94-2.06-.94-.94-2.06-.94 2.06-2.06.94z\"/><path d=\"M17.41 7.96l-1.37-1.37c-.4-.4-.92-.59-1.43-.59-.52 0-1.04.2-1.43.59L10.3 9.45l-7.72 7.72c-.78.78-.78 2.05 0 2.83L4 21.41c.39.39.9.59 1.41.59.51 0 1.02-.2 1.41-.59l7.78-7.78 2.81-2.81c.8-.78.8-2.07 0-2.86zM5.41 20L4 18.59l7.72-7.72 1.47 1.35L5.41 20z\"/>\n",
              "  </svg>\n",
              "      </button>\n",
              "      \n",
              "  <style>\n",
              "    .colab-df-container {\n",
              "      display:flex;\n",
              "      flex-wrap:wrap;\n",
              "      gap: 12px;\n",
              "    }\n",
              "\n",
              "    .colab-df-convert {\n",
              "      background-color: #E8F0FE;\n",
              "      border: none;\n",
              "      border-radius: 50%;\n",
              "      cursor: pointer;\n",
              "      display: none;\n",
              "      fill: #1967D2;\n",
              "      height: 32px;\n",
              "      padding: 0 0 0 0;\n",
              "      width: 32px;\n",
              "    }\n",
              "\n",
              "    .colab-df-convert:hover {\n",
              "      background-color: #E2EBFA;\n",
              "      box-shadow: 0px 1px 2px rgba(60, 64, 67, 0.3), 0px 1px 3px 1px rgba(60, 64, 67, 0.15);\n",
              "      fill: #174EA6;\n",
              "    }\n",
              "\n",
              "    [theme=dark] .colab-df-convert {\n",
              "      background-color: #3B4455;\n",
              "      fill: #D2E3FC;\n",
              "    }\n",
              "\n",
              "    [theme=dark] .colab-df-convert:hover {\n",
              "      background-color: #434B5C;\n",
              "      box-shadow: 0px 1px 3px 1px rgba(0, 0, 0, 0.15);\n",
              "      filter: drop-shadow(0px 1px 2px rgba(0, 0, 0, 0.3));\n",
              "      fill: #FFFFFF;\n",
              "    }\n",
              "  </style>\n",
              "\n",
              "      <script>\n",
              "        const buttonEl =\n",
              "          document.querySelector('#df-2a9d0e83-99d0-4359-9a1f-809b8b1d494e button.colab-df-convert');\n",
              "        buttonEl.style.display =\n",
              "          google.colab.kernel.accessAllowed ? 'block' : 'none';\n",
              "\n",
              "        async function convertToInteractive(key) {\n",
              "          const element = document.querySelector('#df-2a9d0e83-99d0-4359-9a1f-809b8b1d494e');\n",
              "          const dataTable =\n",
              "            await google.colab.kernel.invokeFunction('convertToInteractive',\n",
              "                                                     [key], {});\n",
              "          if (!dataTable) return;\n",
              "\n",
              "          const docLinkHtml = 'Like what you see? Visit the ' +\n",
              "            '<a target=\"_blank\" href=https://colab.research.google.com/notebooks/data_table.ipynb>data table notebook</a>'\n",
              "            + ' to learn more about interactive tables.';\n",
              "          element.innerHTML = '';\n",
              "          dataTable['output_type'] = 'display_data';\n",
              "          await google.colab.output.renderOutput(dataTable, element);\n",
              "          const docLink = document.createElement('div');\n",
              "          docLink.innerHTML = docLinkHtml;\n",
              "          element.appendChild(docLink);\n",
              "        }\n",
              "      </script>\n",
              "    </div>\n",
              "  </div>\n",
              "  "
            ]
          },
          "metadata": {},
          "execution_count": 18
        }
      ],
      "source": [
        "df.head(20)"
      ]
    },
    {
      "cell_type": "markdown",
      "metadata": {
        "id": "XB6NYHCvCTcR"
      },
      "source": [
        "Заменим основные сокращения английского языка."
      ]
    },
    {
      "cell_type": "code",
      "execution_count": 19,
      "metadata": {
        "id": "pWMukro-CTcR"
      },
      "outputs": [],
      "source": [
        "df['text'] = df['text'].transform(lambda x: x\\\n",
        ".replace(\" won't \", ' will not ')\\\n",
        ".replace(\"can't \", 'cannot ')\\\n",
        ".replace(\"n't \", ' not ')\\\n",
        ".replace(\"'s \", ' is ')\\\n",
        ".replace(\"'m \", ' am ')\\\n",
        ".replace(\"'ll \", ' will ')\\\n",
        ".replace(\"'d \", ' would ') \\\n",
        ".replace(\"'re \", ' are ')\\\n",
        ".replace(\"'ve \", ' have ')\\\n",
        ".replace(\"\\n\", \" \")\n",
        "                                 )\n",
        "# yes, \"'d\" it's a problem"
      ]
    },
    {
      "cell_type": "code",
      "execution_count": 20,
      "metadata": {
        "colab": {
          "base_uri": "https://localhost:8080/",
          "height": 206
        },
        "id": "Rm65o3XlCTcR",
        "outputId": "8edeee53-2e56-4393-e363-f45d3448c91b"
      },
      "outputs": [
        {
          "output_type": "execute_result",
          "data": {
            "text/plain": [
              "                                                text  toxic\n",
              "0  Explanation Why the edits made under my userna...      0\n",
              "1  D'aww! He matches this background colour I am ...      0\n",
              "2  Hey man, I am really not trying to edit war. I...      0\n",
              "3  \" More I cannot make any real suggestions on i...      0\n",
              "4  You, sir, are my hero. Any chance you remember...      0"
            ],
            "text/html": [
              "\n",
              "  <div id=\"df-63454f86-b67d-4089-a0ac-fb1cb572d68e\">\n",
              "    <div class=\"colab-df-container\">\n",
              "      <div>\n",
              "<style scoped>\n",
              "    .dataframe tbody tr th:only-of-type {\n",
              "        vertical-align: middle;\n",
              "    }\n",
              "\n",
              "    .dataframe tbody tr th {\n",
              "        vertical-align: top;\n",
              "    }\n",
              "\n",
              "    .dataframe thead th {\n",
              "        text-align: right;\n",
              "    }\n",
              "</style>\n",
              "<table border=\"1\" class=\"dataframe\">\n",
              "  <thead>\n",
              "    <tr style=\"text-align: right;\">\n",
              "      <th></th>\n",
              "      <th>text</th>\n",
              "      <th>toxic</th>\n",
              "    </tr>\n",
              "  </thead>\n",
              "  <tbody>\n",
              "    <tr>\n",
              "      <th>0</th>\n",
              "      <td>Explanation Why the edits made under my userna...</td>\n",
              "      <td>0</td>\n",
              "    </tr>\n",
              "    <tr>\n",
              "      <th>1</th>\n",
              "      <td>D'aww! He matches this background colour I am ...</td>\n",
              "      <td>0</td>\n",
              "    </tr>\n",
              "    <tr>\n",
              "      <th>2</th>\n",
              "      <td>Hey man, I am really not trying to edit war. I...</td>\n",
              "      <td>0</td>\n",
              "    </tr>\n",
              "    <tr>\n",
              "      <th>3</th>\n",
              "      <td>\" More I cannot make any real suggestions on i...</td>\n",
              "      <td>0</td>\n",
              "    </tr>\n",
              "    <tr>\n",
              "      <th>4</th>\n",
              "      <td>You, sir, are my hero. Any chance you remember...</td>\n",
              "      <td>0</td>\n",
              "    </tr>\n",
              "  </tbody>\n",
              "</table>\n",
              "</div>\n",
              "      <button class=\"colab-df-convert\" onclick=\"convertToInteractive('df-63454f86-b67d-4089-a0ac-fb1cb572d68e')\"\n",
              "              title=\"Convert this dataframe to an interactive table.\"\n",
              "              style=\"display:none;\">\n",
              "        \n",
              "  <svg xmlns=\"http://www.w3.org/2000/svg\" height=\"24px\"viewBox=\"0 0 24 24\"\n",
              "       width=\"24px\">\n",
              "    <path d=\"M0 0h24v24H0V0z\" fill=\"none\"/>\n",
              "    <path d=\"M18.56 5.44l.94 2.06.94-2.06 2.06-.94-2.06-.94-.94-2.06-.94 2.06-2.06.94zm-11 1L8.5 8.5l.94-2.06 2.06-.94-2.06-.94L8.5 2.5l-.94 2.06-2.06.94zm10 10l.94 2.06.94-2.06 2.06-.94-2.06-.94-.94-2.06-.94 2.06-2.06.94z\"/><path d=\"M17.41 7.96l-1.37-1.37c-.4-.4-.92-.59-1.43-.59-.52 0-1.04.2-1.43.59L10.3 9.45l-7.72 7.72c-.78.78-.78 2.05 0 2.83L4 21.41c.39.39.9.59 1.41.59.51 0 1.02-.2 1.41-.59l7.78-7.78 2.81-2.81c.8-.78.8-2.07 0-2.86zM5.41 20L4 18.59l7.72-7.72 1.47 1.35L5.41 20z\"/>\n",
              "  </svg>\n",
              "      </button>\n",
              "      \n",
              "  <style>\n",
              "    .colab-df-container {\n",
              "      display:flex;\n",
              "      flex-wrap:wrap;\n",
              "      gap: 12px;\n",
              "    }\n",
              "\n",
              "    .colab-df-convert {\n",
              "      background-color: #E8F0FE;\n",
              "      border: none;\n",
              "      border-radius: 50%;\n",
              "      cursor: pointer;\n",
              "      display: none;\n",
              "      fill: #1967D2;\n",
              "      height: 32px;\n",
              "      padding: 0 0 0 0;\n",
              "      width: 32px;\n",
              "    }\n",
              "\n",
              "    .colab-df-convert:hover {\n",
              "      background-color: #E2EBFA;\n",
              "      box-shadow: 0px 1px 2px rgba(60, 64, 67, 0.3), 0px 1px 3px 1px rgba(60, 64, 67, 0.15);\n",
              "      fill: #174EA6;\n",
              "    }\n",
              "\n",
              "    [theme=dark] .colab-df-convert {\n",
              "      background-color: #3B4455;\n",
              "      fill: #D2E3FC;\n",
              "    }\n",
              "\n",
              "    [theme=dark] .colab-df-convert:hover {\n",
              "      background-color: #434B5C;\n",
              "      box-shadow: 0px 1px 3px 1px rgba(0, 0, 0, 0.15);\n",
              "      filter: drop-shadow(0px 1px 2px rgba(0, 0, 0, 0.3));\n",
              "      fill: #FFFFFF;\n",
              "    }\n",
              "  </style>\n",
              "\n",
              "      <script>\n",
              "        const buttonEl =\n",
              "          document.querySelector('#df-63454f86-b67d-4089-a0ac-fb1cb572d68e button.colab-df-convert');\n",
              "        buttonEl.style.display =\n",
              "          google.colab.kernel.accessAllowed ? 'block' : 'none';\n",
              "\n",
              "        async function convertToInteractive(key) {\n",
              "          const element = document.querySelector('#df-63454f86-b67d-4089-a0ac-fb1cb572d68e');\n",
              "          const dataTable =\n",
              "            await google.colab.kernel.invokeFunction('convertToInteractive',\n",
              "                                                     [key], {});\n",
              "          if (!dataTable) return;\n",
              "\n",
              "          const docLinkHtml = 'Like what you see? Visit the ' +\n",
              "            '<a target=\"_blank\" href=https://colab.research.google.com/notebooks/data_table.ipynb>data table notebook</a>'\n",
              "            + ' to learn more about interactive tables.';\n",
              "          element.innerHTML = '';\n",
              "          dataTable['output_type'] = 'display_data';\n",
              "          await google.colab.output.renderOutput(dataTable, element);\n",
              "          const docLink = document.createElement('div');\n",
              "          docLink.innerHTML = docLinkHtml;\n",
              "          element.appendChild(docLink);\n",
              "        }\n",
              "      </script>\n",
              "    </div>\n",
              "  </div>\n",
              "  "
            ]
          },
          "metadata": {},
          "execution_count": 20
        }
      ],
      "source": [
        "df.head()"
      ]
    },
    {
      "cell_type": "markdown",
      "metadata": {
        "id": "AvPLG0LuCTcS"
      },
      "source": [
        "Переведем текст комментариев в нижний регистр и оставим только английские слова."
      ]
    },
    {
      "cell_type": "code",
      "execution_count": 21,
      "metadata": {
        "id": "XX9VEnfJCTcS"
      },
      "outputs": [],
      "source": [
        "df['text'] = df['text'].apply(str.lower)"
      ]
    },
    {
      "cell_type": "code",
      "execution_count": 22,
      "metadata": {
        "colab": {
          "base_uri": "https://localhost:8080/",
          "height": 206
        },
        "id": "92eGy_PP9T7K",
        "outputId": "5c8c984f-ac89-4d48-e2fb-c53001b4e106"
      },
      "outputs": [
        {
          "output_type": "execute_result",
          "data": {
            "text/plain": [
              "                                                text  toxic\n",
              "0  explanation why the edits made under my userna...      0\n",
              "1  d'aww! he matches this background colour i am ...      0\n",
              "2  hey man, i am really not trying to edit war. i...      0\n",
              "3  \" more i cannot make any real suggestions on i...      0\n",
              "4  you, sir, are my hero. any chance you remember...      0"
            ],
            "text/html": [
              "\n",
              "  <div id=\"df-c56d50be-0d7e-4f4a-8769-2d80d824b46e\">\n",
              "    <div class=\"colab-df-container\">\n",
              "      <div>\n",
              "<style scoped>\n",
              "    .dataframe tbody tr th:only-of-type {\n",
              "        vertical-align: middle;\n",
              "    }\n",
              "\n",
              "    .dataframe tbody tr th {\n",
              "        vertical-align: top;\n",
              "    }\n",
              "\n",
              "    .dataframe thead th {\n",
              "        text-align: right;\n",
              "    }\n",
              "</style>\n",
              "<table border=\"1\" class=\"dataframe\">\n",
              "  <thead>\n",
              "    <tr style=\"text-align: right;\">\n",
              "      <th></th>\n",
              "      <th>text</th>\n",
              "      <th>toxic</th>\n",
              "    </tr>\n",
              "  </thead>\n",
              "  <tbody>\n",
              "    <tr>\n",
              "      <th>0</th>\n",
              "      <td>explanation why the edits made under my userna...</td>\n",
              "      <td>0</td>\n",
              "    </tr>\n",
              "    <tr>\n",
              "      <th>1</th>\n",
              "      <td>d'aww! he matches this background colour i am ...</td>\n",
              "      <td>0</td>\n",
              "    </tr>\n",
              "    <tr>\n",
              "      <th>2</th>\n",
              "      <td>hey man, i am really not trying to edit war. i...</td>\n",
              "      <td>0</td>\n",
              "    </tr>\n",
              "    <tr>\n",
              "      <th>3</th>\n",
              "      <td>\" more i cannot make any real suggestions on i...</td>\n",
              "      <td>0</td>\n",
              "    </tr>\n",
              "    <tr>\n",
              "      <th>4</th>\n",
              "      <td>you, sir, are my hero. any chance you remember...</td>\n",
              "      <td>0</td>\n",
              "    </tr>\n",
              "  </tbody>\n",
              "</table>\n",
              "</div>\n",
              "      <button class=\"colab-df-convert\" onclick=\"convertToInteractive('df-c56d50be-0d7e-4f4a-8769-2d80d824b46e')\"\n",
              "              title=\"Convert this dataframe to an interactive table.\"\n",
              "              style=\"display:none;\">\n",
              "        \n",
              "  <svg xmlns=\"http://www.w3.org/2000/svg\" height=\"24px\"viewBox=\"0 0 24 24\"\n",
              "       width=\"24px\">\n",
              "    <path d=\"M0 0h24v24H0V0z\" fill=\"none\"/>\n",
              "    <path d=\"M18.56 5.44l.94 2.06.94-2.06 2.06-.94-2.06-.94-.94-2.06-.94 2.06-2.06.94zm-11 1L8.5 8.5l.94-2.06 2.06-.94-2.06-.94L8.5 2.5l-.94 2.06-2.06.94zm10 10l.94 2.06.94-2.06 2.06-.94-2.06-.94-.94-2.06-.94 2.06-2.06.94z\"/><path d=\"M17.41 7.96l-1.37-1.37c-.4-.4-.92-.59-1.43-.59-.52 0-1.04.2-1.43.59L10.3 9.45l-7.72 7.72c-.78.78-.78 2.05 0 2.83L4 21.41c.39.39.9.59 1.41.59.51 0 1.02-.2 1.41-.59l7.78-7.78 2.81-2.81c.8-.78.8-2.07 0-2.86zM5.41 20L4 18.59l7.72-7.72 1.47 1.35L5.41 20z\"/>\n",
              "  </svg>\n",
              "      </button>\n",
              "      \n",
              "  <style>\n",
              "    .colab-df-container {\n",
              "      display:flex;\n",
              "      flex-wrap:wrap;\n",
              "      gap: 12px;\n",
              "    }\n",
              "\n",
              "    .colab-df-convert {\n",
              "      background-color: #E8F0FE;\n",
              "      border: none;\n",
              "      border-radius: 50%;\n",
              "      cursor: pointer;\n",
              "      display: none;\n",
              "      fill: #1967D2;\n",
              "      height: 32px;\n",
              "      padding: 0 0 0 0;\n",
              "      width: 32px;\n",
              "    }\n",
              "\n",
              "    .colab-df-convert:hover {\n",
              "      background-color: #E2EBFA;\n",
              "      box-shadow: 0px 1px 2px rgba(60, 64, 67, 0.3), 0px 1px 3px 1px rgba(60, 64, 67, 0.15);\n",
              "      fill: #174EA6;\n",
              "    }\n",
              "\n",
              "    [theme=dark] .colab-df-convert {\n",
              "      background-color: #3B4455;\n",
              "      fill: #D2E3FC;\n",
              "    }\n",
              "\n",
              "    [theme=dark] .colab-df-convert:hover {\n",
              "      background-color: #434B5C;\n",
              "      box-shadow: 0px 1px 3px 1px rgba(0, 0, 0, 0.15);\n",
              "      filter: drop-shadow(0px 1px 2px rgba(0, 0, 0, 0.3));\n",
              "      fill: #FFFFFF;\n",
              "    }\n",
              "  </style>\n",
              "\n",
              "      <script>\n",
              "        const buttonEl =\n",
              "          document.querySelector('#df-c56d50be-0d7e-4f4a-8769-2d80d824b46e button.colab-df-convert');\n",
              "        buttonEl.style.display =\n",
              "          google.colab.kernel.accessAllowed ? 'block' : 'none';\n",
              "\n",
              "        async function convertToInteractive(key) {\n",
              "          const element = document.querySelector('#df-c56d50be-0d7e-4f4a-8769-2d80d824b46e');\n",
              "          const dataTable =\n",
              "            await google.colab.kernel.invokeFunction('convertToInteractive',\n",
              "                                                     [key], {});\n",
              "          if (!dataTable) return;\n",
              "\n",
              "          const docLinkHtml = 'Like what you see? Visit the ' +\n",
              "            '<a target=\"_blank\" href=https://colab.research.google.com/notebooks/data_table.ipynb>data table notebook</a>'\n",
              "            + ' to learn more about interactive tables.';\n",
              "          element.innerHTML = '';\n",
              "          dataTable['output_type'] = 'display_data';\n",
              "          await google.colab.output.renderOutput(dataTable, element);\n",
              "          const docLink = document.createElement('div');\n",
              "          docLink.innerHTML = docLinkHtml;\n",
              "          element.appendChild(docLink);\n",
              "        }\n",
              "      </script>\n",
              "    </div>\n",
              "  </div>\n",
              "  "
            ]
          },
          "metadata": {},
          "execution_count": 22
        }
      ],
      "source": [
        "df.head()"
      ]
    },
    {
      "cell_type": "code",
      "execution_count": 23,
      "metadata": {
        "id": "4AqGpobvCTcT"
      },
      "outputs": [],
      "source": [
        "df['text'] = df['text'].transform(lambda x: re.sub(r'[^a-z ]', ' ', x))"
      ]
    },
    {
      "cell_type": "code",
      "execution_count": 24,
      "metadata": {
        "colab": {
          "base_uri": "https://localhost:8080/",
          "height": 206
        },
        "id": "omBNTbDIrmJE",
        "outputId": "f43a7602-e300-44c4-e590-197195f18014"
      },
      "outputs": [
        {
          "output_type": "execute_result",
          "data": {
            "text/plain": [
              "                                                text  toxic\n",
              "0  explanation why the edits made under my userna...      0\n",
              "1  d aww  he matches this background colour i am ...      0\n",
              "2  hey man  i am really not trying to edit war  i...      0\n",
              "3    more i cannot make any real suggestions on i...      0\n",
              "4  you  sir  are my hero  any chance you remember...      0"
            ],
            "text/html": [
              "\n",
              "  <div id=\"df-a3b6867b-0464-4d25-9554-0f5a1a6f5976\">\n",
              "    <div class=\"colab-df-container\">\n",
              "      <div>\n",
              "<style scoped>\n",
              "    .dataframe tbody tr th:only-of-type {\n",
              "        vertical-align: middle;\n",
              "    }\n",
              "\n",
              "    .dataframe tbody tr th {\n",
              "        vertical-align: top;\n",
              "    }\n",
              "\n",
              "    .dataframe thead th {\n",
              "        text-align: right;\n",
              "    }\n",
              "</style>\n",
              "<table border=\"1\" class=\"dataframe\">\n",
              "  <thead>\n",
              "    <tr style=\"text-align: right;\">\n",
              "      <th></th>\n",
              "      <th>text</th>\n",
              "      <th>toxic</th>\n",
              "    </tr>\n",
              "  </thead>\n",
              "  <tbody>\n",
              "    <tr>\n",
              "      <th>0</th>\n",
              "      <td>explanation why the edits made under my userna...</td>\n",
              "      <td>0</td>\n",
              "    </tr>\n",
              "    <tr>\n",
              "      <th>1</th>\n",
              "      <td>d aww  he matches this background colour i am ...</td>\n",
              "      <td>0</td>\n",
              "    </tr>\n",
              "    <tr>\n",
              "      <th>2</th>\n",
              "      <td>hey man  i am really not trying to edit war  i...</td>\n",
              "      <td>0</td>\n",
              "    </tr>\n",
              "    <tr>\n",
              "      <th>3</th>\n",
              "      <td>more i cannot make any real suggestions on i...</td>\n",
              "      <td>0</td>\n",
              "    </tr>\n",
              "    <tr>\n",
              "      <th>4</th>\n",
              "      <td>you  sir  are my hero  any chance you remember...</td>\n",
              "      <td>0</td>\n",
              "    </tr>\n",
              "  </tbody>\n",
              "</table>\n",
              "</div>\n",
              "      <button class=\"colab-df-convert\" onclick=\"convertToInteractive('df-a3b6867b-0464-4d25-9554-0f5a1a6f5976')\"\n",
              "              title=\"Convert this dataframe to an interactive table.\"\n",
              "              style=\"display:none;\">\n",
              "        \n",
              "  <svg xmlns=\"http://www.w3.org/2000/svg\" height=\"24px\"viewBox=\"0 0 24 24\"\n",
              "       width=\"24px\">\n",
              "    <path d=\"M0 0h24v24H0V0z\" fill=\"none\"/>\n",
              "    <path d=\"M18.56 5.44l.94 2.06.94-2.06 2.06-.94-2.06-.94-.94-2.06-.94 2.06-2.06.94zm-11 1L8.5 8.5l.94-2.06 2.06-.94-2.06-.94L8.5 2.5l-.94 2.06-2.06.94zm10 10l.94 2.06.94-2.06 2.06-.94-2.06-.94-.94-2.06-.94 2.06-2.06.94z\"/><path d=\"M17.41 7.96l-1.37-1.37c-.4-.4-.92-.59-1.43-.59-.52 0-1.04.2-1.43.59L10.3 9.45l-7.72 7.72c-.78.78-.78 2.05 0 2.83L4 21.41c.39.39.9.59 1.41.59.51 0 1.02-.2 1.41-.59l7.78-7.78 2.81-2.81c.8-.78.8-2.07 0-2.86zM5.41 20L4 18.59l7.72-7.72 1.47 1.35L5.41 20z\"/>\n",
              "  </svg>\n",
              "      </button>\n",
              "      \n",
              "  <style>\n",
              "    .colab-df-container {\n",
              "      display:flex;\n",
              "      flex-wrap:wrap;\n",
              "      gap: 12px;\n",
              "    }\n",
              "\n",
              "    .colab-df-convert {\n",
              "      background-color: #E8F0FE;\n",
              "      border: none;\n",
              "      border-radius: 50%;\n",
              "      cursor: pointer;\n",
              "      display: none;\n",
              "      fill: #1967D2;\n",
              "      height: 32px;\n",
              "      padding: 0 0 0 0;\n",
              "      width: 32px;\n",
              "    }\n",
              "\n",
              "    .colab-df-convert:hover {\n",
              "      background-color: #E2EBFA;\n",
              "      box-shadow: 0px 1px 2px rgba(60, 64, 67, 0.3), 0px 1px 3px 1px rgba(60, 64, 67, 0.15);\n",
              "      fill: #174EA6;\n",
              "    }\n",
              "\n",
              "    [theme=dark] .colab-df-convert {\n",
              "      background-color: #3B4455;\n",
              "      fill: #D2E3FC;\n",
              "    }\n",
              "\n",
              "    [theme=dark] .colab-df-convert:hover {\n",
              "      background-color: #434B5C;\n",
              "      box-shadow: 0px 1px 3px 1px rgba(0, 0, 0, 0.15);\n",
              "      filter: drop-shadow(0px 1px 2px rgba(0, 0, 0, 0.3));\n",
              "      fill: #FFFFFF;\n",
              "    }\n",
              "  </style>\n",
              "\n",
              "      <script>\n",
              "        const buttonEl =\n",
              "          document.querySelector('#df-a3b6867b-0464-4d25-9554-0f5a1a6f5976 button.colab-df-convert');\n",
              "        buttonEl.style.display =\n",
              "          google.colab.kernel.accessAllowed ? 'block' : 'none';\n",
              "\n",
              "        async function convertToInteractive(key) {\n",
              "          const element = document.querySelector('#df-a3b6867b-0464-4d25-9554-0f5a1a6f5976');\n",
              "          const dataTable =\n",
              "            await google.colab.kernel.invokeFunction('convertToInteractive',\n",
              "                                                     [key], {});\n",
              "          if (!dataTable) return;\n",
              "\n",
              "          const docLinkHtml = 'Like what you see? Visit the ' +\n",
              "            '<a target=\"_blank\" href=https://colab.research.google.com/notebooks/data_table.ipynb>data table notebook</a>'\n",
              "            + ' to learn more about interactive tables.';\n",
              "          element.innerHTML = '';\n",
              "          dataTable['output_type'] = 'display_data';\n",
              "          await google.colab.output.renderOutput(dataTable, element);\n",
              "          const docLink = document.createElement('div');\n",
              "          docLink.innerHTML = docLinkHtml;\n",
              "          element.appendChild(docLink);\n",
              "        }\n",
              "      </script>\n",
              "    </div>\n",
              "  </div>\n",
              "  "
            ]
          },
          "metadata": {},
          "execution_count": 24
        }
      ],
      "source": [
        "df.head()"
      ]
    },
    {
      "cell_type": "markdown",
      "metadata": {
        "id": "4yBLcssSCTcT"
      },
      "source": [
        "Переведем данные в кодировку Юникод."
      ]
    },
    {
      "cell_type": "code",
      "execution_count": 25,
      "metadata": {
        "id": "1TFt96DSCTcT"
      },
      "outputs": [],
      "source": [
        "df['text'] = df['text'].astype('U')"
      ]
    },
    {
      "cell_type": "markdown",
      "metadata": {
        "id": "ew2OvRu77g7X"
      },
      "source": [
        "### Лемматизация"
      ]
    },
    {
      "cell_type": "markdown",
      "metadata": {
        "id": "0QnmyM_hCTcU"
      },
      "source": [
        "Проведем лемматизацию комментариев [с соответствующим POS-тегом](https://webdevblog.ru/podhody-lemmatizacii-s-primerami-v-python/)."
      ]
    },
    {
      "cell_type": "code",
      "execution_count": 26,
      "metadata": {
        "id": "tnYcrtwxCTcV"
      },
      "outputs": [],
      "source": [
        "def get_wordnet_pos(word):\n",
        "    \"\"\"Map POS tag to first character lemmatize() accepts\"\"\"\n",
        "    tag = nltk.pos_tag([word])[0][1][0].upper()\n",
        "    tag_dict = {\"J\": wordnet.ADJ,\n",
        "                \"N\": wordnet.NOUN,\n",
        "                \"V\": wordnet.VERB,\n",
        "                \"R\": wordnet.ADV}\n",
        "    return tag_dict.get(tag, wordnet.NOUN)"
      ]
    },
    {
      "cell_type": "code",
      "execution_count": 27,
      "metadata": {
        "id": "_HKGAjxiCTcV"
      },
      "outputs": [],
      "source": [
        "lemmatizer = WordNetLemmatizer()"
      ]
    },
    {
      "cell_type": "code",
      "execution_count": 28,
      "metadata": {
        "colab": {
          "base_uri": "https://localhost:8080/"
        },
        "id": "yhOKgV9gCTcV",
        "outputId": "0d0c9960-f911-4b46-d379-33e656e2d47c"
      },
      "outputs": [
        {
          "output_type": "stream",
          "name": "stdout",
          "text": [
            "CPU times: user 16min 25s, sys: 1min, total: 17min 26s\n",
            "Wall time: 17min 23s\n"
          ]
        }
      ],
      "source": [
        "%%time\n",
        "df['text'] = df['text'].transform(lambda x: ' '.join([lemmatizer.lemmatize(w, get_wordnet_pos(w)) for w in x.split()]))"
      ]
    },
    {
      "cell_type": "markdown",
      "metadata": {
        "id": "kxUTiOhBXqAi"
      },
      "source": [
        "Удалим образовавшиеся пропуски в данных после удаления ссылок и/или стоп-слов.\n",
        "\n",
        "Разделим данные на тренировочный, валидационный и тестовый набор."
      ]
    },
    {
      "cell_type": "code",
      "execution_count": 29,
      "metadata": {
        "colab": {
          "base_uri": "https://localhost:8080/"
        },
        "id": "2ERP8Dja9YFP",
        "outputId": "79a6a5f3-fac4-4173-9ad7-d1d8e46101d7",
        "scrolled": true
      },
      "outputs": [
        {
          "output_type": "stream",
          "name": "stdout",
          "text": [
            "text     0\n",
            "toxic    0\n",
            "dtype: int64\n"
          ]
        }
      ],
      "source": [
        "print(df.isna().sum())\n",
        "df.dropna(inplace=True)"
      ]
    },
    {
      "cell_type": "code",
      "execution_count": 30,
      "metadata": {
        "id": "82A4N5NfXljf"
      },
      "outputs": [],
      "source": [
        "X_train_valid, X_test, target_train_valid, target_test = train_test_split(df['text'], df['toxic'], test_size=0.2, random_state=STATE, stratify=df['toxic']) \n",
        "X_train, X_valid, target_train, target_valid = train_test_split(X_train_valid, target_train_valid, test_size=0.25, random_state=STATE, stratify=target_train_valid) "
      ]
    },
    {
      "cell_type": "code",
      "execution_count": 31,
      "metadata": {
        "colab": {
          "base_uri": "https://localhost:8080/"
        },
        "id": "8A_vuVg8nFHo",
        "outputId": "2889d11b-94af-444c-f5a7-7cc3939e4ad5"
      },
      "outputs": [
        {
          "output_type": "execute_result",
          "data": {
            "text/plain": [
              "(0.10167951369305007,\n",
              " 0.10167951369305007,\n",
              " 0.10167951369305007,\n",
              " 0.10167632774557418)"
            ]
          },
          "metadata": {},
          "execution_count": 31
        }
      ],
      "source": [
        "target_train_valid.mean(), target_train.mean(), target_valid.mean(), target_test.mean()"
      ]
    },
    {
      "cell_type": "markdown",
      "metadata": {
        "id": "CyeIIP5wpqn7"
      },
      "source": [
        "### Масштабирование данных с помощью TF-IDF."
      ]
    },
    {
      "cell_type": "markdown",
      "metadata": {
        "id": "zqpB7VCeCTcU"
      },
      "source": [
        "При построении пайплайна будем проводить токенизацию комментариев с построением словаря важности известных слов, использовав стоп-слова."
      ]
    },
    {
      "cell_type": "code",
      "execution_count": 32,
      "metadata": {
        "id": "ApK2AHUC_Ooi"
      },
      "outputs": [],
      "source": [
        "stop_words = set(stopwords.words('english'))\n",
        "stop_words = set([lemmatizer.lemmatize(w, get_wordnet_pos(w)) for w in stop_words])"
      ]
    },
    {
      "cell_type": "code",
      "execution_count": 33,
      "metadata": {
        "id": "vJdj8zWApoyr"
      },
      "outputs": [],
      "source": [
        "count_tf_idf = TfidfVectorizer()"
      ]
    },
    {
      "cell_type": "code",
      "execution_count": 34,
      "metadata": {
        "colab": {
          "base_uri": "https://localhost:8080/"
        },
        "id": "aghSIXA5tUX7",
        "outputId": "86b9b77c-c604-41ca-f111-dcea65b33d99"
      },
      "outputs": [
        {
          "output_type": "execute_result",
          "data": {
            "text/plain": [
              "((95742,), (31914,), (127656,), (31915,))"
            ]
          },
          "metadata": {},
          "execution_count": 34
        }
      ],
      "source": [
        "X_train.shape, X_valid.shape, X_train_valid.shape, X_test.shape "
      ]
    },
    {
      "cell_type": "markdown",
      "metadata": {
        "id": "TWsII1KnCTcY"
      },
      "source": [
        "## Обучение"
      ]
    },
    {
      "cell_type": "markdown",
      "metadata": {
        "id": "S3jPLRaF0dyn"
      },
      "source": [
        "### Качество прогноза"
      ]
    },
    {
      "cell_type": "markdown",
      "metadata": {
        "id": "4OKsTER70fhb"
      },
      "source": [
        "Для обучения моделей нам понадобится оценить качество прогноза.\n",
        "\n",
        "У нас есть четкое требование к качеству: значение метрики качества `F1` не меньше 0.75. "
      ]
    },
    {
      "cell_type": "code",
      "execution_count": 35,
      "metadata": {
        "colab": {
          "base_uri": "https://localhost:8080/"
        },
        "id": "3IG6en4D02ve",
        "outputId": "e7d4eebf-a24f-4791-f2d0-0225ab9e42cf"
      },
      "outputs": [
        {
          "output_type": "execute_result",
          "data": {
            "text/plain": [
              "(0.10048426150121066, 0.8137494516513128)"
            ]
          },
          "metadata": {},
          "execution_count": 35
        }
      ],
      "source": [
        "dummy = DummyClassifier(\n",
        "    strategy = 'stratified', \n",
        "    random_state = STATE\n",
        "    )\n",
        "dummy.fit(X_train, target_train)\n",
        "\n",
        "f1_dummy = f1_score(target_valid, dummy.predict(X_valid))\n",
        "\n",
        "score = dummy.score(X_valid, target_valid)\n",
        "f1_dummy, score"
      ]
    },
    {
      "cell_type": "code",
      "execution_count": 36,
      "metadata": {
        "colab": {
          "base_uri": "https://localhost:8080/",
          "height": 81
        },
        "id": "Qmjmo4jz0aP3",
        "outputId": "a821889c-f7de-41cc-9366-0c5bc1b13d6d"
      },
      "outputs": [
        {
          "output_type": "execute_result",
          "data": {
            "text/plain": [
              "      valid_F1\n",
              "dummy      0.1"
            ],
            "text/html": [
              "\n",
              "  <div id=\"df-ac73eae1-bf16-4b49-9c5a-0b2055ce40ad\">\n",
              "    <div class=\"colab-df-container\">\n",
              "      <div>\n",
              "<style scoped>\n",
              "    .dataframe tbody tr th:only-of-type {\n",
              "        vertical-align: middle;\n",
              "    }\n",
              "\n",
              "    .dataframe tbody tr th {\n",
              "        vertical-align: top;\n",
              "    }\n",
              "\n",
              "    .dataframe thead th {\n",
              "        text-align: right;\n",
              "    }\n",
              "</style>\n",
              "<table border=\"1\" class=\"dataframe\">\n",
              "  <thead>\n",
              "    <tr style=\"text-align: right;\">\n",
              "      <th></th>\n",
              "      <th>valid_F1</th>\n",
              "    </tr>\n",
              "  </thead>\n",
              "  <tbody>\n",
              "    <tr>\n",
              "      <th>dummy</th>\n",
              "      <td>0.1</td>\n",
              "    </tr>\n",
              "  </tbody>\n",
              "</table>\n",
              "</div>\n",
              "      <button class=\"colab-df-convert\" onclick=\"convertToInteractive('df-ac73eae1-bf16-4b49-9c5a-0b2055ce40ad')\"\n",
              "              title=\"Convert this dataframe to an interactive table.\"\n",
              "              style=\"display:none;\">\n",
              "        \n",
              "  <svg xmlns=\"http://www.w3.org/2000/svg\" height=\"24px\"viewBox=\"0 0 24 24\"\n",
              "       width=\"24px\">\n",
              "    <path d=\"M0 0h24v24H0V0z\" fill=\"none\"/>\n",
              "    <path d=\"M18.56 5.44l.94 2.06.94-2.06 2.06-.94-2.06-.94-.94-2.06-.94 2.06-2.06.94zm-11 1L8.5 8.5l.94-2.06 2.06-.94-2.06-.94L8.5 2.5l-.94 2.06-2.06.94zm10 10l.94 2.06.94-2.06 2.06-.94-2.06-.94-.94-2.06-.94 2.06-2.06.94z\"/><path d=\"M17.41 7.96l-1.37-1.37c-.4-.4-.92-.59-1.43-.59-.52 0-1.04.2-1.43.59L10.3 9.45l-7.72 7.72c-.78.78-.78 2.05 0 2.83L4 21.41c.39.39.9.59 1.41.59.51 0 1.02-.2 1.41-.59l7.78-7.78 2.81-2.81c.8-.78.8-2.07 0-2.86zM5.41 20L4 18.59l7.72-7.72 1.47 1.35L5.41 20z\"/>\n",
              "  </svg>\n",
              "      </button>\n",
              "      \n",
              "  <style>\n",
              "    .colab-df-container {\n",
              "      display:flex;\n",
              "      flex-wrap:wrap;\n",
              "      gap: 12px;\n",
              "    }\n",
              "\n",
              "    .colab-df-convert {\n",
              "      background-color: #E8F0FE;\n",
              "      border: none;\n",
              "      border-radius: 50%;\n",
              "      cursor: pointer;\n",
              "      display: none;\n",
              "      fill: #1967D2;\n",
              "      height: 32px;\n",
              "      padding: 0 0 0 0;\n",
              "      width: 32px;\n",
              "    }\n",
              "\n",
              "    .colab-df-convert:hover {\n",
              "      background-color: #E2EBFA;\n",
              "      box-shadow: 0px 1px 2px rgba(60, 64, 67, 0.3), 0px 1px 3px 1px rgba(60, 64, 67, 0.15);\n",
              "      fill: #174EA6;\n",
              "    }\n",
              "\n",
              "    [theme=dark] .colab-df-convert {\n",
              "      background-color: #3B4455;\n",
              "      fill: #D2E3FC;\n",
              "    }\n",
              "\n",
              "    [theme=dark] .colab-df-convert:hover {\n",
              "      background-color: #434B5C;\n",
              "      box-shadow: 0px 1px 3px 1px rgba(0, 0, 0, 0.15);\n",
              "      filter: drop-shadow(0px 1px 2px rgba(0, 0, 0, 0.3));\n",
              "      fill: #FFFFFF;\n",
              "    }\n",
              "  </style>\n",
              "\n",
              "      <script>\n",
              "        const buttonEl =\n",
              "          document.querySelector('#df-ac73eae1-bf16-4b49-9c5a-0b2055ce40ad button.colab-df-convert');\n",
              "        buttonEl.style.display =\n",
              "          google.colab.kernel.accessAllowed ? 'block' : 'none';\n",
              "\n",
              "        async function convertToInteractive(key) {\n",
              "          const element = document.querySelector('#df-ac73eae1-bf16-4b49-9c5a-0b2055ce40ad');\n",
              "          const dataTable =\n",
              "            await google.colab.kernel.invokeFunction('convertToInteractive',\n",
              "                                                     [key], {});\n",
              "          if (!dataTable) return;\n",
              "\n",
              "          const docLinkHtml = 'Like what you see? Visit the ' +\n",
              "            '<a target=\"_blank\" href=https://colab.research.google.com/notebooks/data_table.ipynb>data table notebook</a>'\n",
              "            + ' to learn more about interactive tables.';\n",
              "          element.innerHTML = '';\n",
              "          dataTable['output_type'] = 'display_data';\n",
              "          await google.colab.output.renderOutput(dataTable, element);\n",
              "          const docLink = document.createElement('div');\n",
              "          docLink.innerHTML = docLinkHtml;\n",
              "          element.appendChild(docLink);\n",
              "        }\n",
              "      </script>\n",
              "    </div>\n",
              "  </div>\n",
              "  "
            ]
          },
          "metadata": {},
          "execution_count": 36
        }
      ],
      "source": [
        "results = pd.DataFrame(columns=['valid_F1'])\n",
        "results.loc['dummy', 'valid_F1'] = round(f1_dummy, 2)\n",
        "results"
      ]
    },
    {
      "cell_type": "markdown",
      "metadata": {
        "id": "U6At3rfwwJtk"
      },
      "source": [
        "### Модель логистической регрессии"
      ]
    },
    {
      "cell_type": "markdown",
      "metadata": {
        "id": "kwnCBr305jkY"
      },
      "source": [
        "Построим пайплайн для модели логистической регрессии.\n",
        "\n",
        "Для модели будем использовать только те токены, которые встречаются по крайней мере в **трех документах** (токен, который встретился только в одном-двух документах, вряд ли встретится в тестовом наборе и поэтому бесполезен). С помощью параметра `min_df` мы можем задать минимальное количество документов, в котором должен появиться токен.\n",
        "\n"
      ]
    },
    {
      "cell_type": "code",
      "execution_count": 37,
      "metadata": {
        "id": "EB8PrDQrwIxU"
      },
      "outputs": [],
      "source": [
        "pipe_lr = Pipeline([\n",
        "    ('vectorizer', count_tf_idf),\n",
        "    ('model', LogisticRegression()),\n",
        "\n",
        "])\n",
        "\n",
        "params_lr = [\n",
        "    {\n",
        "        'vectorizer__stop_words': [stop_words],\n",
        "        'vectorizer__ngram_range': [(1, 2)],\n",
        "        'vectorizer__min_df': [3],\n",
        "        'vectorizer__max_df': [\n",
        "                               0.7, \n",
        "                              #  0.8\n",
        "                               ],\n",
        "        # 'vectorizer__max_features': [80000],\n",
        "        'model': [LogisticRegression()],\n",
        "        # 'model__solver': ['saga'],\n",
        "        'model__class_weight': ['balanced'],\n",
        "        'model__n_jobs': [-1],\n",
        "        'model__random_state': [STATE],\n",
        "        # 'model__C': np.logspace(-3,3,7), # before\n",
        "        # # 'model__C': [0.01], # after\n",
        "        # 'model__penalty': [\n",
        "                          #  'elasticnet', \n",
        "                          #  'l1', \n",
        "                          #  'l2', \n",
        "                          #  'none'\n",
        "                          #  ], # before\n",
        "        # # 'model__penalty': ['l1'], # after\n",
        "        'model__max_iter': [100000]\n",
        "\n",
        "    },\n",
        "]\n",
        "\n",
        "# cv = StratifiedKFold(n_splits=3, shuffle=True, random_state=STATE)\n",
        "cv = KFold(n_splits=3, shuffle=True, random_state=STATE)"
      ]
    },
    {
      "cell_type": "code",
      "execution_count": 38,
      "metadata": {
        "id": "0Extt-tVBLKW"
      },
      "outputs": [],
      "source": [
        "grid_lr = GridSearchCV(pipe_lr, param_grid=params_lr, cv=cv, n_jobs=-1, scoring='f1', verbose=5)"
      ]
    },
    {
      "cell_type": "code",
      "execution_count": 39,
      "metadata": {
        "colab": {
          "base_uri": "https://localhost:8080/"
        },
        "id": "LdCKEP1kDb3F",
        "outputId": "ea170f7e-a247-467b-88e9-df4974c74427"
      },
      "outputs": [
        {
          "output_type": "stream",
          "name": "stdout",
          "text": [
            "Fitting 3 folds for each of 1 candidates, totalling 3 fits\n",
            "CPU times: user 11.9 s, sys: 584 ms, total: 12.5 s\n",
            "Wall time: 36.4 s\n"
          ]
        },
        {
          "output_type": "execute_result",
          "data": {
            "text/plain": [
              "GridSearchCV(cv=KFold(n_splits=3, random_state=12345, shuffle=True),\n",
              "             estimator=Pipeline(steps=[('vectorizer', TfidfVectorizer()),\n",
              "                                       ('model', LogisticRegression())]),\n",
              "             n_jobs=-1,\n",
              "             param_grid=[{'model': [LogisticRegression(class_weight='balanced',\n",
              "                                                       max_iter=100000,\n",
              "                                                       n_jobs=-1,\n",
              "                                                       random_state=12345)],\n",
              "                          'model__class_weight': ['balanced'],\n",
              "                          'model__max_iter': [100000], 'model__...\n",
              "                          'vectorizer__max_df': [0.7],\n",
              "                          'vectorizer__min_df': [3],\n",
              "                          'vectorizer__ngram_range': [(1, 2)],\n",
              "                          'vectorizer__stop_words': [{'a', 'about', 'above',\n",
              "                                                      'after', 'again',\n",
              "                                                      'against', 'ain', 'all',\n",
              "                                                      'an', 'and', 'any',\n",
              "                                                      'aren', \"aren't\", 'at',\n",
              "                                                      'be', 'because', 'before',\n",
              "                                                      'below', 'between',\n",
              "                                                      'both', 'but', 'by',\n",
              "                                                      'can', 'couldn',\n",
              "                                                      \"couldn't\", 'd', 'didn',\n",
              "                                                      \"didn't\", 'do', 'doesn', ...}]}],\n",
              "             scoring='f1', verbose=5)"
            ]
          },
          "metadata": {},
          "execution_count": 39
        }
      ],
      "source": [
        "%%time\n",
        "grid_lr.fit(X_train_valid, target_train_valid)"
      ]
    },
    {
      "cell_type": "code",
      "execution_count": 40,
      "metadata": {
        "colab": {
          "base_uri": "https://localhost:8080/"
        },
        "id": "o8Qh4X9ZHYaf",
        "outputId": "0290888c-a9c3-4400-8383-4ececd00c82e"
      },
      "outputs": [
        {
          "output_type": "stream",
          "name": "stdout",
          "text": [
            "Best Params: {'model': LogisticRegression(class_weight='balanced', max_iter=100000, n_jobs=-1,\n",
            "                   random_state=12345), 'model__class_weight': 'balanced', 'model__max_iter': 100000, 'model__n_jobs': -1, 'model__random_state': 12345, 'vectorizer__max_df': 0.7, 'vectorizer__min_df': 3, 'vectorizer__ngram_range': (1, 2), 'vectorizer__stop_words': {'that', 'herself', 'by', 'y', 'how', \"needn't\", 'or', 'when', \"you're\", 'o', 'above', \"wasn't\", 'yours', 'what', \"it's\", 'very', \"hasn't\", 'yourselves', 'aren', 'couldn', \"you've\", 'an', 'but', 'they', \"that'll\", 'd', 'out', 'should', 'such', 'he', \"wouldn't\", 'whom', 'if', 'him', 'below', 'too', 'her', 'where', 'any', 'nor', 'in', \"isn't\", \"won't\", 'while', 'at', 'just', 'have', 'here', \"haven't\", 'will', 'their', \"shouldn't\", 'more', 'mightn', 'a', 'until', 'do', 'few', 's', \"she's\", 'you', 'ourselves', 'don', 'the', 'shan', \"doesn't\", 'himself', 'yourself', 'my', 'haven', \"should've\", \"don't\", 'his', 'before', 'doesn', \"aren't\", 'over', 'ours', 'there', 'so', 'wouldn', 'theirs', 'into', 'on', 'other', 'some', \"mustn't\", 'won', 'which', \"hadn't\", 'most', \"mightn't\", 'each', 'then', 'hers', 'up', 'i', 'through', 'who', 'me', \"couldn't\", 'our', 'be', 'hasn', \"didn't\", 'them', 'ma', \"you'd\", 'isn', 'down', 'not', 'll', 'needn', 'wasn', \"you'll\", 'this', 've', 'for', 'against', 'of', \"shan't\", 'same', 'far', 'mustn', 'no', 'itself', 'shouldn', 'she', 're', 'we', 'themselves', 'ain', 'myself', 'm', 'why', 'under', 'own', 'now', 'and', 'about', 'from', 'it', 'between', 'than', 'to', \"weren't\", 'again', 'all', 'didn', 'these', 'off', 'only', 'both', 'with', 'because', 'once', 'during', 'weren', 'your', 't', 'hadn', 'after', 'can', 'those'}}\n",
            "\n",
            "Best F1 Score: 0.7519878953952732\n"
          ]
        }
      ],
      "source": [
        "lr_f1 = grid_lr.best_score_\n",
        "print('Best Params:', grid_lr.best_params_)\n",
        "print()\n",
        "print('Best F1 Score:', lr_f1)"
      ]
    },
    {
      "cell_type": "markdown",
      "metadata": {
        "id": "JVitBWFLIAL4"
      },
      "source": [
        "Кросс-валидацией нашли лучшую модель, сохраним ее."
      ]
    },
    {
      "cell_type": "code",
      "execution_count": 41,
      "metadata": {
        "colab": {
          "base_uri": "https://localhost:8080/"
        },
        "id": "GE1tbNbAH_Y0",
        "outputId": "6520d401-da70-460a-af55-0df92419659e"
      },
      "outputs": [
        {
          "output_type": "stream",
          "name": "stdout",
          "text": [
            "F1 для модели логистической регрессии равно 0.75\n",
            "CPU times: user 10.8 s, sys: 217 ms, total: 11 s\n",
            "Wall time: 15.3 s\n"
          ]
        }
      ],
      "source": [
        "%%time\n",
        "lr_model = grid_lr.best_estimator_\n",
        "\n",
        "lr_model.fit(X_train, target_train)\n",
        "lr_predicts = lr_model.predict(X_valid)\n",
        "f1_lr = f1_score(target_valid, lr_predicts)\n",
        "print(f'F1 для модели логистической регрессии равно {f1_lr:.2f}')"
      ]
    },
    {
      "cell_type": "code",
      "execution_count": 42,
      "metadata": {
        "colab": {
          "base_uri": "https://localhost:8080/",
          "height": 112
        },
        "id": "sB2WwMwjJZOE",
        "outputId": "850da6a3-a142-4c04-93e3-ddb16568f2bc"
      },
      "outputs": [
        {
          "output_type": "execute_result",
          "data": {
            "text/plain": [
              "                    valid_F1\n",
              "dummy                    0.1\n",
              "logistic regression     0.75"
            ],
            "text/html": [
              "\n",
              "  <div id=\"df-143e1ec4-4d51-48e4-a869-a98203253fe6\">\n",
              "    <div class=\"colab-df-container\">\n",
              "      <div>\n",
              "<style scoped>\n",
              "    .dataframe tbody tr th:only-of-type {\n",
              "        vertical-align: middle;\n",
              "    }\n",
              "\n",
              "    .dataframe tbody tr th {\n",
              "        vertical-align: top;\n",
              "    }\n",
              "\n",
              "    .dataframe thead th {\n",
              "        text-align: right;\n",
              "    }\n",
              "</style>\n",
              "<table border=\"1\" class=\"dataframe\">\n",
              "  <thead>\n",
              "    <tr style=\"text-align: right;\">\n",
              "      <th></th>\n",
              "      <th>valid_F1</th>\n",
              "    </tr>\n",
              "  </thead>\n",
              "  <tbody>\n",
              "    <tr>\n",
              "      <th>dummy</th>\n",
              "      <td>0.1</td>\n",
              "    </tr>\n",
              "    <tr>\n",
              "      <th>logistic regression</th>\n",
              "      <td>0.75</td>\n",
              "    </tr>\n",
              "  </tbody>\n",
              "</table>\n",
              "</div>\n",
              "      <button class=\"colab-df-convert\" onclick=\"convertToInteractive('df-143e1ec4-4d51-48e4-a869-a98203253fe6')\"\n",
              "              title=\"Convert this dataframe to an interactive table.\"\n",
              "              style=\"display:none;\">\n",
              "        \n",
              "  <svg xmlns=\"http://www.w3.org/2000/svg\" height=\"24px\"viewBox=\"0 0 24 24\"\n",
              "       width=\"24px\">\n",
              "    <path d=\"M0 0h24v24H0V0z\" fill=\"none\"/>\n",
              "    <path d=\"M18.56 5.44l.94 2.06.94-2.06 2.06-.94-2.06-.94-.94-2.06-.94 2.06-2.06.94zm-11 1L8.5 8.5l.94-2.06 2.06-.94-2.06-.94L8.5 2.5l-.94 2.06-2.06.94zm10 10l.94 2.06.94-2.06 2.06-.94-2.06-.94-.94-2.06-.94 2.06-2.06.94z\"/><path d=\"M17.41 7.96l-1.37-1.37c-.4-.4-.92-.59-1.43-.59-.52 0-1.04.2-1.43.59L10.3 9.45l-7.72 7.72c-.78.78-.78 2.05 0 2.83L4 21.41c.39.39.9.59 1.41.59.51 0 1.02-.2 1.41-.59l7.78-7.78 2.81-2.81c.8-.78.8-2.07 0-2.86zM5.41 20L4 18.59l7.72-7.72 1.47 1.35L5.41 20z\"/>\n",
              "  </svg>\n",
              "      </button>\n",
              "      \n",
              "  <style>\n",
              "    .colab-df-container {\n",
              "      display:flex;\n",
              "      flex-wrap:wrap;\n",
              "      gap: 12px;\n",
              "    }\n",
              "\n",
              "    .colab-df-convert {\n",
              "      background-color: #E8F0FE;\n",
              "      border: none;\n",
              "      border-radius: 50%;\n",
              "      cursor: pointer;\n",
              "      display: none;\n",
              "      fill: #1967D2;\n",
              "      height: 32px;\n",
              "      padding: 0 0 0 0;\n",
              "      width: 32px;\n",
              "    }\n",
              "\n",
              "    .colab-df-convert:hover {\n",
              "      background-color: #E2EBFA;\n",
              "      box-shadow: 0px 1px 2px rgba(60, 64, 67, 0.3), 0px 1px 3px 1px rgba(60, 64, 67, 0.15);\n",
              "      fill: #174EA6;\n",
              "    }\n",
              "\n",
              "    [theme=dark] .colab-df-convert {\n",
              "      background-color: #3B4455;\n",
              "      fill: #D2E3FC;\n",
              "    }\n",
              "\n",
              "    [theme=dark] .colab-df-convert:hover {\n",
              "      background-color: #434B5C;\n",
              "      box-shadow: 0px 1px 3px 1px rgba(0, 0, 0, 0.15);\n",
              "      filter: drop-shadow(0px 1px 2px rgba(0, 0, 0, 0.3));\n",
              "      fill: #FFFFFF;\n",
              "    }\n",
              "  </style>\n",
              "\n",
              "      <script>\n",
              "        const buttonEl =\n",
              "          document.querySelector('#df-143e1ec4-4d51-48e4-a869-a98203253fe6 button.colab-df-convert');\n",
              "        buttonEl.style.display =\n",
              "          google.colab.kernel.accessAllowed ? 'block' : 'none';\n",
              "\n",
              "        async function convertToInteractive(key) {\n",
              "          const element = document.querySelector('#df-143e1ec4-4d51-48e4-a869-a98203253fe6');\n",
              "          const dataTable =\n",
              "            await google.colab.kernel.invokeFunction('convertToInteractive',\n",
              "                                                     [key], {});\n",
              "          if (!dataTable) return;\n",
              "\n",
              "          const docLinkHtml = 'Like what you see? Visit the ' +\n",
              "            '<a target=\"_blank\" href=https://colab.research.google.com/notebooks/data_table.ipynb>data table notebook</a>'\n",
              "            + ' to learn more about interactive tables.';\n",
              "          element.innerHTML = '';\n",
              "          dataTable['output_type'] = 'display_data';\n",
              "          await google.colab.output.renderOutput(dataTable, element);\n",
              "          const docLink = document.createElement('div');\n",
              "          docLink.innerHTML = docLinkHtml;\n",
              "          element.appendChild(docLink);\n",
              "        }\n",
              "      </script>\n",
              "    </div>\n",
              "  </div>\n",
              "  "
            ]
          },
          "metadata": {},
          "execution_count": 42
        }
      ],
      "source": [
        "results.loc['logistic regression', 'valid_F1'] = round(f1_lr, 2)\n",
        "results"
      ]
    },
    {
      "cell_type": "markdown",
      "metadata": {
        "id": "vKYtmA5CIKSv"
      },
      "source": [
        "### Модель линейных опорных векторов\n"
      ]
    },
    {
      "cell_type": "markdown",
      "metadata": {
        "id": "-s7oFco8Pi1l"
      },
      "source": [
        "Построим пайплайн для модели линейных опорных векторов.\n",
        "\n",
        "<!-- Тут честно признаюсь, что терпения моего не хватило и воспользовалась помощью коллеги Захара с более мощным компом, спросив, что у него показали многочасовые расчеты. -->"
      ]
    },
    {
      "cell_type": "code",
      "execution_count": 43,
      "metadata": {
        "id": "qLYUhHkyPiD8"
      },
      "outputs": [],
      "source": [
        "pipe_svc = Pipeline([\n",
        "    ('vectorizer', count_tf_idf),\n",
        "    ('model', LinearSVC()),\n",
        "\n",
        "\n",
        "])\n",
        "\n",
        "params_svc = [\n",
        "    {\n",
        "        'vectorizer__stop_words': [stop_words],\n",
        "        'vectorizer__ngram_range': [(1, 2)],\n",
        "        'vectorizer__min_df': [3],\n",
        "        # 'vectorizer__max_df': [0.7, 0.8],\n",
        "        'vectorizer__max_df': [0.7],     \n",
        "        # 'vectorizer__max_features': [80000, None],\n",
        "        'vectorizer__max_features': [80000],     \n",
        "        # 'model': [SVC()],\n",
        "        'model': [LinearSVC()],\n",
        "        # 'model__class_weight': ['balanced', {0:1, 1:3}],\n",
        "        'model__class_weight': [{0:1, 1:3}],\n",
        "        # 'model__n_jobs': [-1],\n",
        "        'model__random_state': [STATE],\n",
        "        # 'model__C': np.logspace(-3,3,7),\n",
        "        'model__C': [0.1], # after\n",
        "        # 'model__penalty': ['l1', 'l2'],\n",
        "        'model__penalty': ['l2'],\n",
        "        'model__max_iter': [100000]\n",
        "\n",
        "    },\n",
        "]"
      ]
    },
    {
      "cell_type": "code",
      "execution_count": 44,
      "metadata": {
        "id": "_FU7YZvephDT"
      },
      "outputs": [],
      "source": [
        "grid_svc = GridSearchCV(pipe_svc, param_grid=params_svc, cv=cv, n_jobs=-1, scoring='f1', verbose=3)"
      ]
    },
    {
      "cell_type": "code",
      "execution_count": 45,
      "metadata": {
        "colab": {
          "base_uri": "https://localhost:8080/"
        },
        "id": "6Fi6DYZkIJSK",
        "outputId": "fb8eaf04-6276-4dd4-d4b4-70419cb44945"
      },
      "outputs": [
        {
          "output_type": "stream",
          "name": "stdout",
          "text": [
            "Fitting 3 folds for each of 1 candidates, totalling 3 fits\n",
            "CPU times: user 17.7 s, sys: 240 ms, total: 18 s\n",
            "Wall time: 37.6 s\n"
          ]
        },
        {
          "output_type": "execute_result",
          "data": {
            "text/plain": [
              "GridSearchCV(cv=KFold(n_splits=3, random_state=12345, shuffle=True),\n",
              "             estimator=Pipeline(steps=[('vectorizer', TfidfVectorizer()),\n",
              "                                       ('model', LinearSVC())]),\n",
              "             n_jobs=-1,\n",
              "             param_grid=[{'model': [LinearSVC(C=0.1, class_weight={0: 1, 1: 3},\n",
              "                                              max_iter=100000,\n",
              "                                              random_state=12345)],\n",
              "                          'model__C': [0.1],\n",
              "                          'model__class_weight': [{0: 1, 1: 3}],\n",
              "                          'model__max_iter': [100000], 'model__penalty...\n",
              "                          'vectorizer__max_features': [80000],\n",
              "                          'vectorizer__min_df': [3],\n",
              "                          'vectorizer__ngram_range': [(1, 2)],\n",
              "                          'vectorizer__stop_words': [{'a', 'about', 'above',\n",
              "                                                      'after', 'again',\n",
              "                                                      'against', 'ain', 'all',\n",
              "                                                      'an', 'and', 'any',\n",
              "                                                      'aren', \"aren't\", 'at',\n",
              "                                                      'be', 'because', 'before',\n",
              "                                                      'below', 'between',\n",
              "                                                      'both', 'but', 'by',\n",
              "                                                      'can', 'couldn',\n",
              "                                                      \"couldn't\", 'd', 'didn',\n",
              "                                                      \"didn't\", 'do', 'doesn', ...}]}],\n",
              "             scoring='f1', verbose=3)"
            ]
          },
          "metadata": {},
          "execution_count": 45
        }
      ],
      "source": [
        "%%time\n",
        "grid_svc.fit(X_train_valid, target_train_valid)"
      ]
    },
    {
      "cell_type": "code",
      "execution_count": 46,
      "metadata": {
        "colab": {
          "base_uri": "https://localhost:8080/"
        },
        "id": "LzCpkjmHqFmA",
        "outputId": "5de15de9-f6e5-4b0f-ebdb-c762b84f891c"
      },
      "outputs": [
        {
          "output_type": "stream",
          "name": "stdout",
          "text": [
            "Best Params: {'model': LinearSVC(C=0.1, class_weight={0: 1, 1: 3}, max_iter=100000, random_state=12345), 'model__C': 0.1, 'model__class_weight': {0: 1, 1: 3}, 'model__max_iter': 100000, 'model__penalty': 'l2', 'model__random_state': 12345, 'vectorizer__max_df': 0.7, 'vectorizer__max_features': 80000, 'vectorizer__min_df': 3, 'vectorizer__ngram_range': (1, 2), 'vectorizer__stop_words': {'that', 'herself', 'by', 'y', 'how', \"needn't\", 'or', 'when', \"you're\", 'o', 'above', \"wasn't\", 'yours', 'what', \"it's\", 'very', \"hasn't\", 'yourselves', 'aren', 'couldn', \"you've\", 'an', 'but', 'they', \"that'll\", 'd', 'out', 'should', 'such', 'he', \"wouldn't\", 'whom', 'if', 'him', 'below', 'too', 'her', 'where', 'any', 'nor', 'in', \"isn't\", \"won't\", 'while', 'at', 'just', 'have', 'here', \"haven't\", 'will', 'their', \"shouldn't\", 'more', 'mightn', 'a', 'until', 'do', 'few', 's', \"she's\", 'you', 'ourselves', 'don', 'the', 'shan', \"doesn't\", 'himself', 'yourself', 'my', 'haven', \"should've\", \"don't\", 'his', 'before', 'doesn', \"aren't\", 'over', 'ours', 'there', 'so', 'wouldn', 'theirs', 'into', 'on', 'other', 'some', \"mustn't\", 'won', 'which', \"hadn't\", 'most', \"mightn't\", 'each', 'then', 'hers', 'up', 'i', 'through', 'who', 'me', \"couldn't\", 'our', 'be', 'hasn', \"didn't\", 'them', 'ma', \"you'd\", 'isn', 'down', 'not', 'll', 'needn', 'wasn', \"you'll\", 'this', 've', 'for', 'against', 'of', \"shan't\", 'same', 'far', 'mustn', 'no', 'itself', 'shouldn', 'she', 're', 'we', 'themselves', 'ain', 'myself', 'm', 'why', 'under', 'own', 'now', 'and', 'about', 'from', 'it', 'between', 'than', 'to', \"weren't\", 'again', 'all', 'didn', 'these', 'off', 'only', 'both', 'with', 'because', 'once', 'during', 'weren', 'your', 't', 'hadn', 'after', 'can', 'those'}}\n",
            "\n",
            "Best F1 Score: 0.7834330943883768\n"
          ]
        }
      ],
      "source": [
        "svc_f1 = grid_svc.best_score_\n",
        "print('Best Params:', grid_svc.best_params_)\n",
        "print()\n",
        "print('Best F1 Score:', svc_f1)"
      ]
    },
    {
      "cell_type": "markdown",
      "metadata": {
        "id": "WguhrcNn3ZAW"
      },
      "source": [
        "Кросс-валидацией нашли лучшую модель, сохраним ее."
      ]
    },
    {
      "cell_type": "code",
      "execution_count": 47,
      "metadata": {
        "colab": {
          "base_uri": "https://localhost:8080/"
        },
        "id": "AFMFeEwi3Xmt",
        "outputId": "8b79129e-f93d-4f4e-8af8-8933bb210aff"
      },
      "outputs": [
        {
          "output_type": "stream",
          "name": "stdout",
          "text": [
            "F1 для модели линейных опорных векторов равно 0.78\n",
            "CPU times: user 15.3 s, sys: 240 ms, total: 15.6 s\n",
            "Wall time: 15.5 s\n"
          ]
        }
      ],
      "source": [
        "%%time\n",
        "svc_model = grid_svc.best_estimator_\n",
        "\n",
        "svc_model.fit(X_train, target_train)\n",
        "svc_predicts = svc_model.predict(X_valid)\n",
        "f1_svc = f1_score(target_valid, svc_predicts)\n",
        "print(f'F1 для модели линейных опорных векторов равно {f1_svc:.2f}')"
      ]
    },
    {
      "cell_type": "code",
      "execution_count": 48,
      "metadata": {
        "colab": {
          "base_uri": "https://localhost:8080/",
          "height": 143
        },
        "id": "ZmdemVBK34ht",
        "outputId": "fde537b1-3321-4802-a7ec-973227a25bbf"
      },
      "outputs": [
        {
          "output_type": "execute_result",
          "data": {
            "text/plain": [
              "                    valid_F1\n",
              "dummy                    0.1\n",
              "logistic regression     0.75\n",
              "linear svc              0.78"
            ],
            "text/html": [
              "\n",
              "  <div id=\"df-041bba20-f5cf-487b-8699-8367972269ff\">\n",
              "    <div class=\"colab-df-container\">\n",
              "      <div>\n",
              "<style scoped>\n",
              "    .dataframe tbody tr th:only-of-type {\n",
              "        vertical-align: middle;\n",
              "    }\n",
              "\n",
              "    .dataframe tbody tr th {\n",
              "        vertical-align: top;\n",
              "    }\n",
              "\n",
              "    .dataframe thead th {\n",
              "        text-align: right;\n",
              "    }\n",
              "</style>\n",
              "<table border=\"1\" class=\"dataframe\">\n",
              "  <thead>\n",
              "    <tr style=\"text-align: right;\">\n",
              "      <th></th>\n",
              "      <th>valid_F1</th>\n",
              "    </tr>\n",
              "  </thead>\n",
              "  <tbody>\n",
              "    <tr>\n",
              "      <th>dummy</th>\n",
              "      <td>0.1</td>\n",
              "    </tr>\n",
              "    <tr>\n",
              "      <th>logistic regression</th>\n",
              "      <td>0.75</td>\n",
              "    </tr>\n",
              "    <tr>\n",
              "      <th>linear svc</th>\n",
              "      <td>0.78</td>\n",
              "    </tr>\n",
              "  </tbody>\n",
              "</table>\n",
              "</div>\n",
              "      <button class=\"colab-df-convert\" onclick=\"convertToInteractive('df-041bba20-f5cf-487b-8699-8367972269ff')\"\n",
              "              title=\"Convert this dataframe to an interactive table.\"\n",
              "              style=\"display:none;\">\n",
              "        \n",
              "  <svg xmlns=\"http://www.w3.org/2000/svg\" height=\"24px\"viewBox=\"0 0 24 24\"\n",
              "       width=\"24px\">\n",
              "    <path d=\"M0 0h24v24H0V0z\" fill=\"none\"/>\n",
              "    <path d=\"M18.56 5.44l.94 2.06.94-2.06 2.06-.94-2.06-.94-.94-2.06-.94 2.06-2.06.94zm-11 1L8.5 8.5l.94-2.06 2.06-.94-2.06-.94L8.5 2.5l-.94 2.06-2.06.94zm10 10l.94 2.06.94-2.06 2.06-.94-2.06-.94-.94-2.06-.94 2.06-2.06.94z\"/><path d=\"M17.41 7.96l-1.37-1.37c-.4-.4-.92-.59-1.43-.59-.52 0-1.04.2-1.43.59L10.3 9.45l-7.72 7.72c-.78.78-.78 2.05 0 2.83L4 21.41c.39.39.9.59 1.41.59.51 0 1.02-.2 1.41-.59l7.78-7.78 2.81-2.81c.8-.78.8-2.07 0-2.86zM5.41 20L4 18.59l7.72-7.72 1.47 1.35L5.41 20z\"/>\n",
              "  </svg>\n",
              "      </button>\n",
              "      \n",
              "  <style>\n",
              "    .colab-df-container {\n",
              "      display:flex;\n",
              "      flex-wrap:wrap;\n",
              "      gap: 12px;\n",
              "    }\n",
              "\n",
              "    .colab-df-convert {\n",
              "      background-color: #E8F0FE;\n",
              "      border: none;\n",
              "      border-radius: 50%;\n",
              "      cursor: pointer;\n",
              "      display: none;\n",
              "      fill: #1967D2;\n",
              "      height: 32px;\n",
              "      padding: 0 0 0 0;\n",
              "      width: 32px;\n",
              "    }\n",
              "\n",
              "    .colab-df-convert:hover {\n",
              "      background-color: #E2EBFA;\n",
              "      box-shadow: 0px 1px 2px rgba(60, 64, 67, 0.3), 0px 1px 3px 1px rgba(60, 64, 67, 0.15);\n",
              "      fill: #174EA6;\n",
              "    }\n",
              "\n",
              "    [theme=dark] .colab-df-convert {\n",
              "      background-color: #3B4455;\n",
              "      fill: #D2E3FC;\n",
              "    }\n",
              "\n",
              "    [theme=dark] .colab-df-convert:hover {\n",
              "      background-color: #434B5C;\n",
              "      box-shadow: 0px 1px 3px 1px rgba(0, 0, 0, 0.15);\n",
              "      filter: drop-shadow(0px 1px 2px rgba(0, 0, 0, 0.3));\n",
              "      fill: #FFFFFF;\n",
              "    }\n",
              "  </style>\n",
              "\n",
              "      <script>\n",
              "        const buttonEl =\n",
              "          document.querySelector('#df-041bba20-f5cf-487b-8699-8367972269ff button.colab-df-convert');\n",
              "        buttonEl.style.display =\n",
              "          google.colab.kernel.accessAllowed ? 'block' : 'none';\n",
              "\n",
              "        async function convertToInteractive(key) {\n",
              "          const element = document.querySelector('#df-041bba20-f5cf-487b-8699-8367972269ff');\n",
              "          const dataTable =\n",
              "            await google.colab.kernel.invokeFunction('convertToInteractive',\n",
              "                                                     [key], {});\n",
              "          if (!dataTable) return;\n",
              "\n",
              "          const docLinkHtml = 'Like what you see? Visit the ' +\n",
              "            '<a target=\"_blank\" href=https://colab.research.google.com/notebooks/data_table.ipynb>data table notebook</a>'\n",
              "            + ' to learn more about interactive tables.';\n",
              "          element.innerHTML = '';\n",
              "          dataTable['output_type'] = 'display_data';\n",
              "          await google.colab.output.renderOutput(dataTable, element);\n",
              "          const docLink = document.createElement('div');\n",
              "          docLink.innerHTML = docLinkHtml;\n",
              "          element.appendChild(docLink);\n",
              "        }\n",
              "      </script>\n",
              "    </div>\n",
              "  </div>\n",
              "  "
            ]
          },
          "metadata": {},
          "execution_count": 48
        }
      ],
      "source": [
        "results.loc['linear svc', 'valid_F1'] = round(f1_svc, 2)\n",
        "results"
      ]
    },
    {
      "cell_type": "code",
      "execution_count": 49,
      "metadata": {
        "colab": {
          "base_uri": "https://localhost:8080/",
          "height": 295
        },
        "id": "-bnSGPil4DFx",
        "outputId": "e531152f-ee61-412f-f504-e8568eb4d4e8"
      },
      "outputs": [
        {
          "output_type": "display_data",
          "data": {
            "text/plain": [
              "<Figure size 864x288 with 1 Axes>"
            ],
            "image/png": "[encoded data removed]"
          },
          "metadata": {
            "needs_background": "light"
          }
        }
      ],
      "source": [
        "fig, ax = plt.subplots(figsize=(12, 4))\n",
        "plt.bar(results.index, results.valid_F1)\n",
        "plt.title('Проверка моделей на адекватность')\n",
        "plt.axhline(y=0.75, color='r', linestyle='--')\n",
        "plt.xlabel('Исследованные модели модели')\n",
        "plt.ylabel('Метрика качества F1')\n",
        "plt.show()"
      ]
    },
    {
      "cell_type": "markdown",
      "metadata": {
        "id": "CjF8Emp44vhC"
      },
      "source": [
        "- Модели обучаются достаточно долго, обучать некоторые модели не поднялась рука (например, случайного леса и градиентного бустинга).\n",
        "- Для финального тестирования выбрана **модель линейных опорных векторов**.\n"
      ]
    },
    {
      "cell_type": "markdown",
      "metadata": {
        "id": "1VSAY_6N5bdV"
      },
      "source": [
        "## Тестирование"
      ]
    },
    {
      "cell_type": "markdown",
      "metadata": {
        "id": "bmGP3Mo15l_V"
      },
      "source": [
        "Обучим модель линейных опорных векторов на `тренировочной + обучающая` выборках и проверим на `тестировочной`."
      ]
    },
    {
      "cell_type": "code",
      "execution_count": 50,
      "metadata": {
        "colab": {
          "base_uri": "https://localhost:8080/"
        },
        "id": "GuTHcxgs5V3R",
        "outputId": "ff7bd911-b75b-4227-f406-b5e4dd5da2e2"
      },
      "outputs": [
        {
          "output_type": "stream",
          "name": "stdout",
          "text": [
            "F1 на тестовой выборке для модели линейных опорных векторов равно 0.80\n",
            "\n",
            "CPU times: user 19.7 s, sys: 230 ms, total: 19.9 s\n",
            "Wall time: 19.8 s\n"
          ]
        }
      ],
      "source": [
        "%%time\n",
        "svc_model.fit(X_train_valid, target_train_valid)\n",
        "svc_predicts_final = svc_model.predict(X_test)\n",
        "f1_svc_final = f1_score(target_test, svc_predicts_final)\n",
        "print(f'F1 на тестовой выборке для модели линейных опорных векторов равно {f1_svc_final:.2f}')\n",
        "print()"
      ]
    },
    {
      "cell_type": "markdown",
      "metadata": {
        "id": "5TUX2bqOCTcZ"
      },
      "source": [
        "## Выводы"
      ]
    },
    {
      "cell_type": "markdown",
      "metadata": {
        "id": "vjJxu0Np6R4v"
      },
      "source": [
        "Данный проект был посвященн **поиску токсичных комментариев для интернет-магазина**. \n",
        "\n",
        "Интернет-магазин «Викишоп» запускает новый сервис. Теперь пользователи могут редактировать и дополнять описания товаров, как в вики-сообществах. То есть клиенты предлагают свои правки и комментируют изменения других. \n",
        "\n",
        "Магазину нужен инструмент, который будет искать токсичные комментарии и отправлять их на модерацию.\n",
        "\n",
        "Нашей **задачей** являлось обучить модель **классифицировать комментарии на позитивные и негативные**.\n",
        "\n",
        "Необходимым условием было построить модель со значением метрики качества **F1 не меньше 0.75**.\n",
        "\n",
        "В рамках данной работы была проведена **предобработка текста** с приведением комментариев к нижнему регистру, удалению ссылок и лемматизацией. \n",
        "\n",
        "Для обучения моделей классифицировать комментарии была применена техника масштабирования данных с помощью **TF-IDF**.\n",
        "\n",
        "В рамках проекта были обучены модели логистической регрессии и линейных опорных векторов. \n",
        "\n",
        "\n",
        "Ввиду ресурсозатратности проекта, приходилось предварительно уменьшать датасет до 5 тысяч строк и на них тестировать, работает ли всё как задуманно. Самый убийственный проект, я думала, у меня загорится комп. И даже оплата Гугл Колаба не особо ускорила процесс, хотя надеюсь, что ускорила. \n",
        "\n",
        "Для финального **тестирования** была выбрана **модель линейных опорных векторов**, лучше показавшая себя на кросс-валидации.\n",
        "\n",
        "**Метрика качества F1** на тестовой выборке равна **0.80**, что согласуется с целью исследования.\n",
        "\n"
      ]
    },
    {
      "cell_type": "markdown",
      "metadata": {
        "id": "awaZoEs-2ehN"
      },
      "source": [
        "### Комментарии\n",
        "<div class=\"alert alert-info\">\n",
        "<b>Комментарий студента 1 итерация</b>\n",
        "    \n",
        "Уважаемый ревьюер!\n",
        "\n",
        "В рамках данной работы пыталась прикрутить `StratifiedKFold`, так как у нас есть дисбаланс классов и мне показалось это хорошей идеей. Но ни одна кросс-валидация с ним не пошла (по крайней мере расчет стоял несколько часов и ничего). Можешь подсказать, когда такое используется или я может что-то не так поняла? (Я реально несколько дней думала, что это просто проект такой медленный, а оказалось, что некоторые модели просто не планируют рассчитываться, взяла самые быстрые) Буду рада любым советам, а еще если есть возможность, посоветуй пожалуйста, что хорошего можно посмотреть или почитать по данной теме.\n",
        "\n",
        "</div>"
      ]
    },
    {
      "cell_type": "markdown",
      "metadata": {
        "id": "SIJvcdzICTca"
      },
      "source": [
        "## Чек-лист проверки"
      ]
    },
    {
      "cell_type": "markdown",
      "metadata": {
        "id": "LZHMBABgCTca"
      },
      "source": [
        "- [x]  Jupyter Notebook открыт\n",
        "- [x]  Весь код выполняется без ошибок\n",
        "- [x]  Ячейки с кодом расположены в порядке исполнения\n",
        "- [x]  Данные загружены и подготовлены\n",
        "- [x]  Модели обучены\n",
        "- [x]  Значение метрики *F1* не меньше 0.75\n",
        "- [x]  Выводы написаны"
      ]
    }
  ],
  "metadata": {
    "ExecuteTimeLog": [
      {
        "duration": 7401,
        "start_time": "2022-04-30T15:31:04.203Z"
      },
      {
        "duration": 3,
        "start_time": "2022-04-30T15:32:13.089Z"
      },
      {
        "duration": 2,
        "start_time": "2022-04-30T15:34:33.191Z"
      },
      {
        "duration": 777,
        "start_time": "2022-04-30T15:36:10.751Z"
      },
      {
        "duration": 17,
        "start_time": "2022-04-30T15:36:18.908Z"
      },
      {
        "duration": 33,
        "start_time": "2022-04-30T15:36:50.821Z"
      },
      {
        "duration": 12,
        "start_time": "2022-04-30T15:38:00.248Z"
      },
      {
        "duration": 13,
        "start_time": "2022-04-30T15:38:46.823Z"
      },
      {
        "duration": 9,
        "start_time": "2022-04-30T15:38:58.647Z"
      },
      {
        "duration": 100,
        "start_time": "2022-04-30T15:41:27.708Z"
      },
      {
        "duration": 9,
        "start_time": "2022-04-30T15:41:42.929Z"
      },
      {
        "duration": 96301,
        "start_time": "2022-04-30T15:41:56.194Z"
      },
      {
        "duration": 21786,
        "start_time": "2022-04-30T15:43:37.425Z"
      },
      {
        "duration": 1300,
        "start_time": "2022-04-30T15:43:59.213Z"
      },
      {
        "duration": 3,
        "start_time": "2022-04-30T15:44:00.514Z"
      },
      {
        "duration": 839,
        "start_time": "2022-04-30T15:44:00.519Z"
      },
      {
        "duration": 15,
        "start_time": "2022-04-30T15:44:01.359Z"
      },
      {
        "duration": 38,
        "start_time": "2022-04-30T15:44:01.375Z"
      },
      {
        "duration": 7416,
        "start_time": "2022-04-30T15:44:01.415Z"
      },
      {
        "duration": 6772,
        "start_time": "2022-04-30T15:45:12.449Z"
      },
      {
        "duration": 5,
        "start_time": "2022-04-30T15:45:55.120Z"
      },
      {
        "duration": 9,
        "start_time": "2022-04-30T15:46:23.783Z"
      },
      {
        "duration": 4,
        "start_time": "2022-04-30T15:46:28.934Z"
      },
      {
        "duration": 6804,
        "start_time": "2022-04-30T15:46:41.375Z"
      },
      {
        "duration": 12,
        "start_time": "2022-04-30T15:46:53.365Z"
      },
      {
        "duration": 6714,
        "start_time": "2022-04-30T15:47:06.690Z"
      },
      {
        "duration": 26,
        "start_time": "2022-04-30T15:47:31.686Z"
      },
      {
        "duration": 232,
        "start_time": "2022-04-30T15:47:44.536Z"
      },
      {
        "duration": 209,
        "start_time": "2022-04-30T15:47:50.894Z"
      },
      {
        "duration": 212,
        "start_time": "2022-04-30T15:47:53.267Z"
      },
      {
        "duration": 56,
        "start_time": "2022-04-30T15:48:15.353Z"
      },
      {
        "duration": 12,
        "start_time": "2022-04-30T15:48:18.176Z"
      },
      {
        "duration": 6,
        "start_time": "2022-04-30T15:48:35.416Z"
      },
      {
        "duration": 17,
        "start_time": "2022-04-30T15:48:44.420Z"
      },
      {
        "duration": 12,
        "start_time": "2022-04-30T15:49:15.699Z"
      },
      {
        "duration": 8,
        "start_time": "2022-04-30T15:49:22.097Z"
      },
      {
        "duration": 46,
        "start_time": "2022-04-30T15:50:21.182Z"
      },
      {
        "duration": 14,
        "start_time": "2022-04-30T15:50:32.177Z"
      },
      {
        "duration": 58,
        "start_time": "2022-04-30T15:50:44.377Z"
      },
      {
        "duration": 57,
        "start_time": "2022-04-30T15:50:53.622Z"
      },
      {
        "duration": 58,
        "start_time": "2022-04-30T15:50:59.087Z"
      },
      {
        "duration": 61,
        "start_time": "2022-04-30T15:51:06.526Z"
      },
      {
        "duration": 58,
        "start_time": "2022-04-30T15:51:13.320Z"
      },
      {
        "duration": 59,
        "start_time": "2022-04-30T15:51:21.350Z"
      },
      {
        "duration": 71,
        "start_time": "2022-04-30T15:51:31.947Z"
      },
      {
        "duration": 10,
        "start_time": "2022-04-30T15:51:45.051Z"
      },
      {
        "duration": 50722,
        "start_time": "2022-04-30T15:54:27.007Z"
      },
      {
        "duration": 52,
        "start_time": "2022-04-30T18:20:03.970Z"
      },
      {
        "duration": 143545,
        "start_time": "2022-04-30T18:20:11.651Z"
      },
      {
        "duration": 518,
        "start_time": "2022-04-30T18:22:35.199Z"
      },
      {
        "duration": 0,
        "start_time": "2022-04-30T18:22:35.719Z"
      },
      {
        "duration": 0,
        "start_time": "2022-04-30T18:22:35.720Z"
      },
      {
        "duration": 0,
        "start_time": "2022-04-30T18:22:35.721Z"
      },
      {
        "duration": 0,
        "start_time": "2022-04-30T18:22:35.722Z"
      },
      {
        "duration": 0,
        "start_time": "2022-04-30T18:22:35.723Z"
      },
      {
        "duration": 0,
        "start_time": "2022-04-30T18:22:35.725Z"
      },
      {
        "duration": 99038,
        "start_time": "2022-04-30T18:22:54.941Z"
      },
      {
        "duration": 853,
        "start_time": "2022-04-30T18:24:55.900Z"
      },
      {
        "duration": 3,
        "start_time": "2022-04-30T18:25:02.435Z"
      },
      {
        "duration": 967,
        "start_time": "2022-04-30T18:25:03.778Z"
      },
      {
        "duration": 15,
        "start_time": "2022-04-30T18:25:05.909Z"
      },
      {
        "duration": 36,
        "start_time": "2022-04-30T18:25:06.792Z"
      },
      {
        "duration": 440,
        "start_time": "2022-04-30T18:25:25.703Z"
      },
      {
        "duration": 53,
        "start_time": "2022-04-30T18:25:45.238Z"
      },
      {
        "duration": 13,
        "start_time": "2022-04-30T18:25:53.293Z"
      },
      {
        "duration": 9,
        "start_time": "2022-04-30T18:26:05.162Z"
      },
      {
        "duration": 7427,
        "start_time": "2022-04-30T18:27:59.900Z"
      },
      {
        "duration": 3,
        "start_time": "2022-04-30T18:34:09.942Z"
      },
      {
        "duration": 7332,
        "start_time": "2022-04-30T18:34:24.989Z"
      },
      {
        "duration": 3,
        "start_time": "2022-04-30T18:35:51.502Z"
      },
      {
        "duration": 5,
        "start_time": "2022-04-30T18:35:56.096Z"
      },
      {
        "duration": 295887,
        "start_time": "2022-04-30T18:36:00.545Z"
      },
      {
        "duration": 9,
        "start_time": "2022-04-30T18:41:04.119Z"
      },
      {
        "duration": 13,
        "start_time": "2022-04-30T18:41:07.767Z"
      },
      {
        "duration": 6,
        "start_time": "2022-04-30T18:41:11.296Z"
      },
      {
        "duration": 406988,
        "start_time": "2022-04-30T18:41:13.511Z"
      },
      {
        "duration": 3,
        "start_time": "2022-04-30T18:49:22.302Z"
      },
      {
        "duration": 10,
        "start_time": "2022-04-30T18:49:42.406Z"
      },
      {
        "duration": 4,
        "start_time": "2022-04-30T18:49:54.898Z"
      },
      {
        "duration": 3,
        "start_time": "2022-04-30T18:49:58.238Z"
      },
      {
        "duration": 164074,
        "start_time": "2022-04-30T18:50:08.121Z"
      },
      {
        "duration": 90196,
        "start_time": "2022-04-30T18:53:03.938Z"
      },
      {
        "duration": 52064,
        "start_time": "2022-04-30T18:56:43.988Z"
      },
      {
        "duration": 104296,
        "start_time": "2022-04-30T18:59:02.131Z"
      },
      {
        "duration": 40,
        "start_time": "2022-04-30T19:00:46.430Z"
      },
      {
        "duration": 3,
        "start_time": "2022-04-30T19:00:46.472Z"
      },
      {
        "duration": 769,
        "start_time": "2022-04-30T19:00:46.477Z"
      },
      {
        "duration": 8,
        "start_time": "2022-04-30T19:00:47.248Z"
      },
      {
        "duration": 46,
        "start_time": "2022-04-30T19:00:47.257Z"
      },
      {
        "duration": 3,
        "start_time": "2022-04-30T19:00:47.305Z"
      },
      {
        "duration": 669113,
        "start_time": "2022-04-30T19:00:47.310Z"
      },
      {
        "duration": 14,
        "start_time": "2022-04-30T19:11:56.425Z"
      },
      {
        "duration": 40,
        "start_time": "2022-04-30T19:15:12.477Z"
      },
      {
        "duration": 3,
        "start_time": "2022-04-30T19:15:27.028Z"
      },
      {
        "duration": 7159,
        "start_time": "2022-04-30T19:15:29.042Z"
      },
      {
        "duration": 649282,
        "start_time": "2022-04-30T19:15:44.652Z"
      },
      {
        "duration": 13,
        "start_time": "2022-04-30T19:26:53.125Z"
      },
      {
        "duration": 11,
        "start_time": "2022-04-30T19:27:43.528Z"
      },
      {
        "duration": 37,
        "start_time": "2022-04-30T19:32:53.356Z"
      },
      {
        "duration": 17,
        "start_time": "2022-04-30T19:33:35.135Z"
      },
      {
        "duration": 14,
        "start_time": "2022-04-30T19:34:25.232Z"
      },
      {
        "duration": 48,
        "start_time": "2022-04-30T19:37:07.639Z"
      },
      {
        "duration": 14,
        "start_time": "2022-04-30T19:56:54.758Z"
      },
      {
        "duration": 15,
        "start_time": "2022-04-30T20:00:19.338Z"
      },
      {
        "duration": 16,
        "start_time": "2022-04-30T20:00:31.179Z"
      },
      {
        "duration": 17,
        "start_time": "2022-04-30T20:00:47.134Z"
      },
      {
        "duration": 17,
        "start_time": "2022-04-30T20:02:08.587Z"
      },
      {
        "duration": 16,
        "start_time": "2022-04-30T20:02:17.488Z"
      },
      {
        "duration": 16,
        "start_time": "2022-04-30T20:02:27.016Z"
      },
      {
        "duration": 17,
        "start_time": "2022-04-30T20:03:25.679Z"
      },
      {
        "duration": 15,
        "start_time": "2022-04-30T20:03:35.651Z"
      },
      {
        "duration": 15,
        "start_time": "2022-04-30T20:03:43.273Z"
      },
      {
        "duration": 17,
        "start_time": "2022-04-30T20:03:54.644Z"
      },
      {
        "duration": 16,
        "start_time": "2022-04-30T20:04:03.274Z"
      },
      {
        "duration": 16,
        "start_time": "2022-04-30T20:04:13.802Z"
      },
      {
        "duration": 15,
        "start_time": "2022-04-30T20:04:19.437Z"
      },
      {
        "duration": 15,
        "start_time": "2022-04-30T20:04:28.464Z"
      },
      {
        "duration": 15,
        "start_time": "2022-04-30T20:04:34.691Z"
      },
      {
        "duration": 20,
        "start_time": "2022-04-30T20:04:44.126Z"
      },
      {
        "duration": 1543,
        "start_time": "2022-04-30T20:05:03.588Z"
      },
      {
        "duration": 27,
        "start_time": "2022-04-30T20:05:15.022Z"
      },
      {
        "duration": 22,
        "start_time": "2022-04-30T20:05:34.103Z"
      },
      {
        "duration": 24,
        "start_time": "2022-04-30T20:05:37.351Z"
      },
      {
        "duration": 23,
        "start_time": "2022-04-30T20:05:47.086Z"
      },
      {
        "duration": 20,
        "start_time": "2022-04-30T20:05:55.257Z"
      },
      {
        "duration": 16,
        "start_time": "2022-04-30T20:06:04.708Z"
      },
      {
        "duration": 16,
        "start_time": "2022-04-30T20:06:08.971Z"
      },
      {
        "duration": 16,
        "start_time": "2022-04-30T20:06:14.478Z"
      },
      {
        "duration": 16,
        "start_time": "2022-04-30T20:06:22.082Z"
      },
      {
        "duration": 17,
        "start_time": "2022-04-30T20:06:30.624Z"
      },
      {
        "duration": 18,
        "start_time": "2022-04-30T20:06:39.636Z"
      },
      {
        "duration": 15,
        "start_time": "2022-04-30T20:06:50.929Z"
      },
      {
        "duration": 17,
        "start_time": "2022-04-30T20:07:01.085Z"
      },
      {
        "duration": 17,
        "start_time": "2022-04-30T20:07:17.291Z"
      },
      {
        "duration": 15,
        "start_time": "2022-04-30T20:07:26.214Z"
      },
      {
        "duration": 16,
        "start_time": "2022-04-30T20:07:34.792Z"
      },
      {
        "duration": 2,
        "start_time": "2022-04-30T20:14:29.011Z"
      },
      {
        "duration": 6,
        "start_time": "2022-04-30T20:14:36.903Z"
      },
      {
        "duration": 194,
        "start_time": "2022-04-30T20:17:45.949Z"
      },
      {
        "duration": 54492,
        "start_time": "2022-04-30T20:18:04.186Z"
      },
      {
        "duration": 1480,
        "start_time": "2022-04-30T20:18:58.681Z"
      },
      {
        "duration": 3,
        "start_time": "2022-04-30T20:19:00.163Z"
      },
      {
        "duration": 823,
        "start_time": "2022-04-30T20:19:00.172Z"
      },
      {
        "duration": 15,
        "start_time": "2022-04-30T20:19:00.998Z"
      },
      {
        "duration": 35,
        "start_time": "2022-04-30T20:19:01.015Z"
      },
      {
        "duration": 12,
        "start_time": "2022-04-30T20:19:01.052Z"
      },
      {
        "duration": 25,
        "start_time": "2022-04-30T20:19:01.074Z"
      },
      {
        "duration": 40,
        "start_time": "2022-04-30T20:19:01.101Z"
      },
      {
        "duration": 16,
        "start_time": "2022-04-30T20:19:01.142Z"
      },
      {
        "duration": 25,
        "start_time": "2022-04-30T20:19:01.160Z"
      },
      {
        "duration": 1449,
        "start_time": "2022-04-30T20:19:01.187Z"
      },
      {
        "duration": 0,
        "start_time": "2022-04-30T20:19:02.639Z"
      },
      {
        "duration": 0,
        "start_time": "2022-04-30T20:19:02.640Z"
      },
      {
        "duration": 7089,
        "start_time": "2022-04-30T20:19:07.737Z"
      },
      {
        "duration": 4,
        "start_time": "2022-04-30T20:19:20.686Z"
      },
      {
        "duration": 6,
        "start_time": "2022-04-30T20:19:20.692Z"
      },
      {
        "duration": 822,
        "start_time": "2022-04-30T20:19:20.700Z"
      },
      {
        "duration": 8,
        "start_time": "2022-04-30T20:19:21.524Z"
      },
      {
        "duration": 47,
        "start_time": "2022-04-30T20:19:21.534Z"
      },
      {
        "duration": 3,
        "start_time": "2022-04-30T20:19:21.583Z"
      },
      {
        "duration": 7,
        "start_time": "2022-04-30T20:19:21.588Z"
      },
      {
        "duration": 6,
        "start_time": "2022-04-30T20:19:21.596Z"
      },
      {
        "duration": 5,
        "start_time": "2022-04-30T20:19:21.604Z"
      },
      {
        "duration": 6,
        "start_time": "2022-04-30T20:19:21.611Z"
      },
      {
        "duration": 1250,
        "start_time": "2022-04-30T20:19:21.619Z"
      },
      {
        "duration": 0,
        "start_time": "2022-04-30T20:19:22.870Z"
      },
      {
        "duration": 36,
        "start_time": "2022-04-30T20:19:32.232Z"
      },
      {
        "duration": 4,
        "start_time": "2022-04-30T20:20:27.925Z"
      },
      {
        "duration": 40216,
        "start_time": "2022-04-30T20:20:50.453Z"
      },
      {
        "duration": 0,
        "start_time": "2022-04-30T20:21:30.671Z"
      },
      {
        "duration": 7,
        "start_time": "2022-04-30T20:21:36.673Z"
      },
      {
        "duration": 83,
        "start_time": "2022-04-30T20:21:59.672Z"
      },
      {
        "duration": 17,
        "start_time": "2022-04-30T20:22:03.004Z"
      },
      {
        "duration": 20,
        "start_time": "2022-04-30T20:22:15.401Z"
      },
      {
        "duration": 14,
        "start_time": "2022-04-30T20:22:32.669Z"
      },
      {
        "duration": 17,
        "start_time": "2022-04-30T20:22:36.690Z"
      },
      {
        "duration": 19,
        "start_time": "2022-04-30T20:22:44.342Z"
      },
      {
        "duration": 8,
        "start_time": "2022-04-30T20:22:53.575Z"
      },
      {
        "duration": 13,
        "start_time": "2022-04-30T20:23:07.297Z"
      },
      {
        "duration": 17,
        "start_time": "2022-04-30T20:23:56.342Z"
      },
      {
        "duration": 18,
        "start_time": "2022-04-30T20:24:00.938Z"
      },
      {
        "duration": 5,
        "start_time": "2022-04-30T20:24:23.616Z"
      },
      {
        "duration": 5,
        "start_time": "2022-04-30T20:24:36.664Z"
      },
      {
        "duration": 5,
        "start_time": "2022-04-30T20:24:41.378Z"
      },
      {
        "duration": 84645,
        "start_time": "2022-04-30T20:26:02.748Z"
      },
      {
        "duration": 8,
        "start_time": "2022-04-30T20:27:37.516Z"
      },
      {
        "duration": 307,
        "start_time": "2022-04-30T20:28:52.324Z"
      },
      {
        "duration": 10,
        "start_time": "2022-04-30T20:28:56.906Z"
      },
      {
        "duration": 80454,
        "start_time": "2022-04-30T20:31:36.638Z"
      },
      {
        "duration": 16,
        "start_time": "2022-04-30T20:33:06.528Z"
      },
      {
        "duration": 249,
        "start_time": "2022-04-30T20:33:19.609Z"
      },
      {
        "duration": 12,
        "start_time": "2022-04-30T20:33:22.498Z"
      },
      {
        "duration": 352,
        "start_time": "2022-04-30T20:33:39.263Z"
      },
      {
        "duration": 81619,
        "start_time": "2022-04-30T20:33:47.069Z"
      },
      {
        "duration": 12,
        "start_time": "2022-04-30T20:42:21.582Z"
      },
      {
        "duration": 599,
        "start_time": "2022-04-30T20:42:36.693Z"
      },
      {
        "duration": 4,
        "start_time": "2022-04-30T20:43:13.303Z"
      },
      {
        "duration": 156,
        "start_time": "2022-04-30T20:43:21.845Z"
      },
      {
        "duration": 3,
        "start_time": "2022-04-30T20:43:56.273Z"
      },
      {
        "duration": 145,
        "start_time": "2022-04-30T20:44:00.649Z"
      },
      {
        "duration": 141,
        "start_time": "2022-04-30T20:44:40.209Z"
      },
      {
        "duration": 146,
        "start_time": "2022-04-30T20:44:49.029Z"
      },
      {
        "duration": 13,
        "start_time": "2022-04-30T20:45:08.873Z"
      },
      {
        "duration": 6,
        "start_time": "2022-04-30T20:45:13.427Z"
      },
      {
        "duration": 16,
        "start_time": "2022-04-30T20:46:17.116Z"
      },
      {
        "duration": 558,
        "start_time": "2022-04-30T20:46:29.818Z"
      },
      {
        "duration": 12,
        "start_time": "2022-04-30T20:47:39.108Z"
      },
      {
        "duration": 3888,
        "start_time": "2022-04-30T20:48:07.704Z"
      },
      {
        "duration": 28,
        "start_time": "2022-04-30T20:48:12.449Z"
      },
      {
        "duration": 374,
        "start_time": "2022-04-30T20:50:53.419Z"
      },
      {
        "duration": 8826,
        "start_time": "2022-04-30T20:51:37.616Z"
      },
      {
        "duration": 24,
        "start_time": "2022-04-30T20:51:56.190Z"
      },
      {
        "duration": 3099,
        "start_time": "2022-04-30T20:53:33.819Z"
      },
      {
        "duration": 440,
        "start_time": "2022-04-30T20:53:43.951Z"
      },
      {
        "duration": 130815,
        "start_time": "2022-04-30T20:54:31.852Z"
      },
      {
        "duration": 5,
        "start_time": "2022-04-30T20:57:10.925Z"
      },
      {
        "duration": 25,
        "start_time": "2022-04-30T20:57:13.064Z"
      },
      {
        "duration": 356,
        "start_time": "2022-04-30T20:58:40.211Z"
      },
      {
        "duration": 7406,
        "start_time": "2022-04-30T20:58:59.188Z"
      },
      {
        "duration": 3300,
        "start_time": "2022-04-30T20:59:06.597Z"
      },
      {
        "duration": 3,
        "start_time": "2022-04-30T20:59:09.898Z"
      },
      {
        "duration": 819,
        "start_time": "2022-04-30T20:59:09.903Z"
      },
      {
        "duration": 12,
        "start_time": "2022-04-30T20:59:10.724Z"
      },
      {
        "duration": 43,
        "start_time": "2022-04-30T20:59:10.738Z"
      },
      {
        "duration": 2,
        "start_time": "2022-04-30T20:59:10.783Z"
      },
      {
        "duration": 5,
        "start_time": "2022-04-30T20:59:10.786Z"
      },
      {
        "duration": 5,
        "start_time": "2022-04-30T20:59:10.793Z"
      },
      {
        "duration": 3,
        "start_time": "2022-04-30T20:59:10.800Z"
      },
      {
        "duration": 308,
        "start_time": "2022-04-30T20:59:10.805Z"
      },
      {
        "duration": 4,
        "start_time": "2022-04-30T20:59:11.115Z"
      },
      {
        "duration": 12,
        "start_time": "2022-04-30T20:59:11.120Z"
      },
      {
        "duration": 3105,
        "start_time": "2022-04-30T20:59:11.133Z"
      },
      {
        "duration": 0,
        "start_time": "2022-04-30T20:59:14.240Z"
      },
      {
        "duration": 0,
        "start_time": "2022-04-30T20:59:14.241Z"
      },
      {
        "duration": 0,
        "start_time": "2022-04-30T20:59:14.242Z"
      },
      {
        "duration": 0,
        "start_time": "2022-04-30T20:59:14.243Z"
      },
      {
        "duration": 0,
        "start_time": "2022-04-30T20:59:14.244Z"
      },
      {
        "duration": 0,
        "start_time": "2022-04-30T20:59:14.245Z"
      },
      {
        "duration": 0,
        "start_time": "2022-04-30T20:59:14.246Z"
      },
      {
        "duration": 0,
        "start_time": "2022-04-30T20:59:14.247Z"
      },
      {
        "duration": 222,
        "start_time": "2022-04-30T20:59:42.730Z"
      },
      {
        "duration": 11,
        "start_time": "2022-04-30T20:59:52.839Z"
      },
      {
        "duration": 1413,
        "start_time": "2022-04-30T21:00:02.180Z"
      },
      {
        "duration": 13,
        "start_time": "2022-04-30T21:00:05.747Z"
      },
      {
        "duration": 45366,
        "start_time": "2022-04-30T21:00:37.375Z"
      },
      {
        "duration": 18,
        "start_time": "2022-04-30T21:01:41.129Z"
      },
      {
        "duration": 158,
        "start_time": "2022-04-30T21:11:27.064Z"
      },
      {
        "duration": 17,
        "start_time": "2022-04-30T21:11:29.549Z"
      },
      {
        "duration": 16,
        "start_time": "2022-04-30T21:12:30.789Z"
      },
      {
        "duration": 144,
        "start_time": "2022-04-30T21:14:10.654Z"
      },
      {
        "duration": 6,
        "start_time": "2022-04-30T21:15:10.382Z"
      },
      {
        "duration": 143,
        "start_time": "2022-04-30T21:15:49.122Z"
      },
      {
        "duration": 17,
        "start_time": "2022-04-30T21:15:51.245Z"
      },
      {
        "duration": 1008,
        "start_time": "2022-04-30T21:16:33.925Z"
      },
      {
        "duration": 20,
        "start_time": "2022-04-30T21:16:36.719Z"
      },
      {
        "duration": 17,
        "start_time": "2022-04-30T21:17:22.517Z"
      },
      {
        "duration": 238,
        "start_time": "2022-04-30T21:17:33.893Z"
      },
      {
        "duration": 16,
        "start_time": "2022-04-30T21:17:38.571Z"
      },
      {
        "duration": 1353,
        "start_time": "2022-04-30T21:17:52.776Z"
      },
      {
        "duration": 16,
        "start_time": "2022-04-30T21:17:58.028Z"
      },
      {
        "duration": 45635,
        "start_time": "2022-04-30T21:18:07.790Z"
      },
      {
        "duration": 18,
        "start_time": "2022-04-30T21:20:13.737Z"
      },
      {
        "duration": 849,
        "start_time": "2022-04-30T21:20:57.973Z"
      },
      {
        "duration": 748,
        "start_time": "2022-04-30T21:21:10.613Z"
      },
      {
        "duration": 1002,
        "start_time": "2022-04-30T21:21:17.208Z"
      },
      {
        "duration": 12,
        "start_time": "2022-04-30T21:21:20.450Z"
      },
      {
        "duration": 243,
        "start_time": "2022-04-30T21:21:30.242Z"
      },
      {
        "duration": 12,
        "start_time": "2022-04-30T21:21:34.107Z"
      },
      {
        "duration": 1343,
        "start_time": "2022-04-30T21:21:39.683Z"
      },
      {
        "duration": 14,
        "start_time": "2022-04-30T21:21:45.222Z"
      },
      {
        "duration": 44852,
        "start_time": "2022-04-30T21:22:22.431Z"
      },
      {
        "duration": 18,
        "start_time": "2022-04-30T21:24:51.583Z"
      },
      {
        "duration": 18,
        "start_time": "2022-04-30T21:25:17.321Z"
      },
      {
        "duration": 10,
        "start_time": "2022-04-30T21:25:24.472Z"
      },
      {
        "duration": 80,
        "start_time": "2022-04-30T21:27:04.966Z"
      },
      {
        "duration": 111,
        "start_time": "2022-04-30T21:27:22.617Z"
      },
      {
        "duration": 78,
        "start_time": "2022-04-30T21:27:42.631Z"
      },
      {
        "duration": 953,
        "start_time": "2022-04-30T21:28:18.042Z"
      },
      {
        "duration": 764,
        "start_time": "2022-04-30T21:28:24.073Z"
      },
      {
        "duration": 1092,
        "start_time": "2022-04-30T21:28:32.570Z"
      },
      {
        "duration": 11,
        "start_time": "2022-04-30T21:28:35.490Z"
      },
      {
        "duration": 218,
        "start_time": "2022-04-30T21:28:38.575Z"
      },
      {
        "duration": 12,
        "start_time": "2022-04-30T21:28:42.349Z"
      },
      {
        "duration": 8,
        "start_time": "2022-04-30T21:28:48.215Z"
      },
      {
        "duration": 9,
        "start_time": "2022-04-30T21:28:51.732Z"
      },
      {
        "duration": 1349,
        "start_time": "2022-04-30T21:29:21.062Z"
      },
      {
        "duration": 10,
        "start_time": "2022-04-30T21:29:25.115Z"
      },
      {
        "duration": 45838,
        "start_time": "2022-04-30T21:29:38.991Z"
      },
      {
        "duration": 9,
        "start_time": "2022-04-30T21:30:37.251Z"
      },
      {
        "duration": 949,
        "start_time": "2022-04-30T21:31:09.829Z"
      },
      {
        "duration": 17,
        "start_time": "2022-04-30T21:31:13.693Z"
      },
      {
        "duration": 722,
        "start_time": "2022-04-30T21:31:19.756Z"
      },
      {
        "duration": 1119,
        "start_time": "2022-04-30T21:31:24.924Z"
      },
      {
        "duration": 9,
        "start_time": "2022-04-30T21:31:27.521Z"
      },
      {
        "duration": 217,
        "start_time": "2022-04-30T21:31:31.166Z"
      },
      {
        "duration": 1331,
        "start_time": "2022-04-30T21:31:32.181Z"
      },
      {
        "duration": 6895,
        "start_time": "2022-04-30T21:33:00.170Z"
      },
      {
        "duration": 2007,
        "start_time": "2022-04-30T21:33:07.067Z"
      },
      {
        "duration": 3,
        "start_time": "2022-04-30T21:33:09.076Z"
      },
      {
        "duration": 840,
        "start_time": "2022-04-30T21:33:09.081Z"
      },
      {
        "duration": 12,
        "start_time": "2022-04-30T21:33:09.922Z"
      },
      {
        "duration": 46,
        "start_time": "2022-04-30T21:33:09.936Z"
      },
      {
        "duration": 3,
        "start_time": "2022-04-30T21:33:09.983Z"
      },
      {
        "duration": 5,
        "start_time": "2022-04-30T21:33:09.987Z"
      },
      {
        "duration": 5,
        "start_time": "2022-04-30T21:33:09.994Z"
      },
      {
        "duration": 6,
        "start_time": "2022-04-30T21:33:10.002Z"
      },
      {
        "duration": 274,
        "start_time": "2022-04-30T21:33:10.010Z"
      },
      {
        "duration": 5,
        "start_time": "2022-04-30T21:33:10.285Z"
      },
      {
        "duration": 1103,
        "start_time": "2022-04-30T21:33:10.292Z"
      },
      {
        "duration": 10,
        "start_time": "2022-04-30T21:33:11.398Z"
      },
      {
        "duration": 224,
        "start_time": "2022-04-30T21:33:11.409Z"
      },
      {
        "duration": 1354,
        "start_time": "2022-04-30T21:33:11.635Z"
      },
      {
        "duration": 44560,
        "start_time": "2022-04-30T21:33:12.991Z"
      },
      {
        "duration": 9,
        "start_time": "2022-04-30T21:33:57.553Z"
      },
      {
        "duration": 86140,
        "start_time": "2022-04-30T21:33:57.564Z"
      },
      {
        "duration": 0,
        "start_time": "2022-04-30T21:35:23.706Z"
      },
      {
        "duration": 0,
        "start_time": "2022-04-30T21:35:23.707Z"
      },
      {
        "duration": 0,
        "start_time": "2022-04-30T21:35:23.708Z"
      },
      {
        "duration": 0,
        "start_time": "2022-04-30T21:35:23.709Z"
      },
      {
        "duration": 10,
        "start_time": "2022-04-30T21:35:39.048Z"
      },
      {
        "duration": 11,
        "start_time": "2022-04-30T21:45:37.739Z"
      },
      {
        "duration": 10,
        "start_time": "2022-04-30T21:45:39.876Z"
      },
      {
        "duration": 816,
        "start_time": "2022-04-30T21:45:53.992Z"
      },
      {
        "duration": 6760,
        "start_time": "2022-04-30T21:49:19.811Z"
      },
      {
        "duration": 1584,
        "start_time": "2022-04-30T21:49:26.574Z"
      },
      {
        "duration": 2,
        "start_time": "2022-04-30T21:49:28.160Z"
      },
      {
        "duration": 831,
        "start_time": "2022-04-30T21:49:28.164Z"
      },
      {
        "duration": 13,
        "start_time": "2022-04-30T21:49:28.997Z"
      },
      {
        "duration": 39,
        "start_time": "2022-04-30T21:49:29.011Z"
      },
      {
        "duration": 2,
        "start_time": "2022-04-30T21:49:29.052Z"
      },
      {
        "duration": 18,
        "start_time": "2022-04-30T21:49:29.055Z"
      },
      {
        "duration": 2,
        "start_time": "2022-04-30T21:49:29.075Z"
      },
      {
        "duration": 6,
        "start_time": "2022-04-30T21:49:29.078Z"
      },
      {
        "duration": 268,
        "start_time": "2022-04-30T21:49:29.085Z"
      },
      {
        "duration": 4,
        "start_time": "2022-04-30T21:49:29.355Z"
      },
      {
        "duration": 1150,
        "start_time": "2022-04-30T21:49:29.361Z"
      },
      {
        "duration": 10,
        "start_time": "2022-04-30T21:49:30.515Z"
      },
      {
        "duration": 247,
        "start_time": "2022-04-30T21:49:30.527Z"
      },
      {
        "duration": 1337,
        "start_time": "2022-04-30T21:49:30.776Z"
      },
      {
        "duration": 2095,
        "start_time": "2022-04-30T21:49:32.115Z"
      },
      {
        "duration": 8,
        "start_time": "2022-04-30T21:49:34.211Z"
      },
      {
        "duration": 8592,
        "start_time": "2022-04-30T21:51:02.507Z"
      },
      {
        "duration": 1549,
        "start_time": "2022-04-30T21:51:11.101Z"
      },
      {
        "duration": 3,
        "start_time": "2022-04-30T21:51:12.652Z"
      },
      {
        "duration": 829,
        "start_time": "2022-04-30T21:51:12.657Z"
      },
      {
        "duration": 11,
        "start_time": "2022-04-30T21:51:13.489Z"
      },
      {
        "duration": 35,
        "start_time": "2022-04-30T21:51:13.502Z"
      },
      {
        "duration": 3,
        "start_time": "2022-04-30T21:51:13.538Z"
      },
      {
        "duration": 6,
        "start_time": "2022-04-30T21:51:13.542Z"
      },
      {
        "duration": 24,
        "start_time": "2022-04-30T21:51:13.549Z"
      },
      {
        "duration": 7,
        "start_time": "2022-04-30T21:51:13.575Z"
      },
      {
        "duration": 252,
        "start_time": "2022-04-30T21:51:13.584Z"
      },
      {
        "duration": 4,
        "start_time": "2022-04-30T21:51:13.837Z"
      },
      {
        "duration": 1110,
        "start_time": "2022-04-30T21:51:13.843Z"
      },
      {
        "duration": 9,
        "start_time": "2022-04-30T21:51:14.957Z"
      },
      {
        "duration": 239,
        "start_time": "2022-04-30T21:51:14.967Z"
      },
      {
        "duration": 1327,
        "start_time": "2022-04-30T21:51:15.208Z"
      },
      {
        "duration": 2094,
        "start_time": "2022-04-30T21:51:16.537Z"
      },
      {
        "duration": 9,
        "start_time": "2022-04-30T21:51:18.633Z"
      },
      {
        "duration": 6729,
        "start_time": "2022-04-30T21:52:58.273Z"
      },
      {
        "duration": 1558,
        "start_time": "2022-04-30T21:53:05.005Z"
      },
      {
        "duration": 2,
        "start_time": "2022-04-30T21:53:06.565Z"
      },
      {
        "duration": 822,
        "start_time": "2022-04-30T21:53:06.574Z"
      },
      {
        "duration": 12,
        "start_time": "2022-04-30T21:53:07.397Z"
      },
      {
        "duration": 35,
        "start_time": "2022-04-30T21:53:07.411Z"
      },
      {
        "duration": 2,
        "start_time": "2022-04-30T21:53:07.448Z"
      },
      {
        "duration": 26,
        "start_time": "2022-04-30T21:53:07.452Z"
      },
      {
        "duration": 4,
        "start_time": "2022-04-30T21:53:07.480Z"
      },
      {
        "duration": 3,
        "start_time": "2022-04-30T21:53:07.487Z"
      },
      {
        "duration": 257,
        "start_time": "2022-04-30T21:53:07.492Z"
      },
      {
        "duration": 5,
        "start_time": "2022-04-30T21:53:07.750Z"
      },
      {
        "duration": 1105,
        "start_time": "2022-04-30T21:53:07.756Z"
      },
      {
        "duration": 15,
        "start_time": "2022-04-30T21:53:08.863Z"
      },
      {
        "duration": 231,
        "start_time": "2022-04-30T21:53:08.879Z"
      },
      {
        "duration": 1327,
        "start_time": "2022-04-30T21:53:09.112Z"
      },
      {
        "duration": 36,
        "start_time": "2022-04-30T21:53:10.441Z"
      },
      {
        "duration": 43833,
        "start_time": "2022-04-30T21:53:10.479Z"
      },
      {
        "duration": 10,
        "start_time": "2022-04-30T21:53:54.314Z"
      },
      {
        "duration": 875,
        "start_time": "2022-04-30T21:53:54.325Z"
      },
      {
        "duration": 0,
        "start_time": "2022-04-30T21:53:55.202Z"
      },
      {
        "duration": 0,
        "start_time": "2022-04-30T21:53:55.203Z"
      },
      {
        "duration": 804,
        "start_time": "2022-04-30T21:58:15.898Z"
      },
      {
        "duration": 1102,
        "start_time": "2022-04-30T21:58:21.820Z"
      },
      {
        "duration": 9,
        "start_time": "2022-04-30T21:58:24.087Z"
      },
      {
        "duration": 251,
        "start_time": "2022-04-30T21:58:27.290Z"
      },
      {
        "duration": 11,
        "start_time": "2022-04-30T21:58:30.541Z"
      },
      {
        "duration": 1369,
        "start_time": "2022-04-30T21:58:35.197Z"
      },
      {
        "duration": 8,
        "start_time": "2022-04-30T21:58:39.577Z"
      },
      {
        "duration": 37,
        "start_time": "2022-04-30T21:58:44.095Z"
      },
      {
        "duration": 8,
        "start_time": "2022-04-30T21:58:47.890Z"
      },
      {
        "duration": 44959,
        "start_time": "2022-04-30T21:58:54.973Z"
      },
      {
        "duration": 14,
        "start_time": "2022-04-30T21:59:44.158Z"
      },
      {
        "duration": 10,
        "start_time": "2022-04-30T22:00:03.816Z"
      },
      {
        "duration": 7,
        "start_time": "2022-04-30T22:00:09.561Z"
      },
      {
        "duration": 9,
        "start_time": "2022-04-30T22:00:13.323Z"
      },
      {
        "duration": 8798,
        "start_time": "2022-04-30T22:54:13.837Z"
      },
      {
        "duration": 63274,
        "start_time": "2022-04-30T22:54:39.668Z"
      },
      {
        "duration": 0,
        "start_time": "2022-04-30T22:55:42.944Z"
      },
      {
        "duration": 8992,
        "start_time": "2022-04-30T22:55:44.849Z"
      },
      {
        "duration": 81007,
        "start_time": "2022-04-30T22:56:08.955Z"
      },
      {
        "duration": 873,
        "start_time": "2022-04-30T22:58:48.299Z"
      },
      {
        "duration": 95,
        "start_time": "2022-04-30T23:00:55.083Z"
      },
      {
        "duration": 74,
        "start_time": "2022-04-30T23:03:08.535Z"
      },
      {
        "duration": 212552,
        "start_time": "2022-04-30T23:04:27.306Z"
      },
      {
        "duration": 302322,
        "start_time": "2022-04-30T23:08:02.216Z"
      },
      {
        "duration": 1259,
        "start_time": "2022-04-30T23:13:21.911Z"
      },
      {
        "duration": 1256,
        "start_time": "2022-04-30T23:13:46.224Z"
      },
      {
        "duration": 2374,
        "start_time": "2022-04-30T23:14:28.566Z"
      },
      {
        "duration": 57206,
        "start_time": "2022-04-30T23:14:50.802Z"
      },
      {
        "duration": 1,
        "start_time": "2022-04-30T23:15:48.009Z"
      },
      {
        "duration": 449,
        "start_time": "2022-04-30T23:15:51.174Z"
      },
      {
        "duration": 411,
        "start_time": "2022-04-30T23:16:36.583Z"
      },
      {
        "duration": 408,
        "start_time": "2022-04-30T23:16:53.795Z"
      },
      {
        "duration": 412,
        "start_time": "2022-04-30T23:17:27.525Z"
      },
      {
        "duration": 570424,
        "start_time": "2022-04-30T23:17:48.316Z"
      },
      {
        "duration": 38,
        "start_time": "2022-04-30T23:27:18.742Z"
      },
      {
        "duration": 0,
        "start_time": "2022-04-30T23:27:18.782Z"
      },
      {
        "duration": 108433,
        "start_time": "2022-04-30T23:27:24.011Z"
      },
      {
        "duration": 139,
        "start_time": "2022-04-30T23:29:12.447Z"
      },
      {
        "duration": 4,
        "start_time": "2022-04-30T23:30:40.718Z"
      },
      {
        "duration": 36,
        "start_time": "2022-04-30T23:35:01.593Z"
      },
      {
        "duration": 196,
        "start_time": "2022-04-30T23:35:30.131Z"
      },
      {
        "duration": 3,
        "start_time": "2022-04-30T23:36:56.730Z"
      },
      {
        "duration": 788,
        "start_time": "2022-04-30T23:36:56.737Z"
      },
      {
        "duration": 10,
        "start_time": "2022-04-30T23:36:57.527Z"
      },
      {
        "duration": 48,
        "start_time": "2022-04-30T23:36:57.539Z"
      },
      {
        "duration": 4,
        "start_time": "2022-04-30T23:36:57.590Z"
      },
      {
        "duration": 17,
        "start_time": "2022-04-30T23:36:57.596Z"
      },
      {
        "duration": 12,
        "start_time": "2022-04-30T23:36:57.614Z"
      },
      {
        "duration": 4,
        "start_time": "2022-04-30T23:36:57.627Z"
      },
      {
        "duration": 151,
        "start_time": "2022-04-30T23:36:57.633Z"
      },
      {
        "duration": 4,
        "start_time": "2022-04-30T23:36:57.786Z"
      },
      {
        "duration": 1103,
        "start_time": "2022-04-30T23:36:57.793Z"
      },
      {
        "duration": 25,
        "start_time": "2022-04-30T23:36:58.898Z"
      },
      {
        "duration": 0,
        "start_time": "2022-04-30T23:36:58.925Z"
      },
      {
        "duration": 0,
        "start_time": "2022-04-30T23:36:58.926Z"
      },
      {
        "duration": 0,
        "start_time": "2022-04-30T23:36:58.927Z"
      },
      {
        "duration": 0,
        "start_time": "2022-04-30T23:36:58.928Z"
      },
      {
        "duration": 0,
        "start_time": "2022-04-30T23:36:58.930Z"
      },
      {
        "duration": 0,
        "start_time": "2022-04-30T23:36:58.931Z"
      },
      {
        "duration": 0,
        "start_time": "2022-04-30T23:36:58.931Z"
      },
      {
        "duration": 0,
        "start_time": "2022-04-30T23:36:58.932Z"
      },
      {
        "duration": 0,
        "start_time": "2022-04-30T23:36:58.933Z"
      },
      {
        "duration": 0,
        "start_time": "2022-04-30T23:36:58.934Z"
      },
      {
        "duration": 4,
        "start_time": "2022-04-30T23:37:23.242Z"
      },
      {
        "duration": 11,
        "start_time": "2022-04-30T23:37:32.310Z"
      },
      {
        "duration": 135325,
        "start_time": "2022-04-30T23:38:06.373Z"
      },
      {
        "duration": 2,
        "start_time": "2022-04-30T23:40:28.484Z"
      },
      {
        "duration": 766,
        "start_time": "2022-04-30T23:40:28.489Z"
      },
      {
        "duration": 7,
        "start_time": "2022-04-30T23:40:29.257Z"
      },
      {
        "duration": 38,
        "start_time": "2022-04-30T23:40:29.274Z"
      },
      {
        "duration": 15,
        "start_time": "2022-04-30T23:40:29.313Z"
      },
      {
        "duration": 12,
        "start_time": "2022-04-30T23:40:29.329Z"
      },
      {
        "duration": 15,
        "start_time": "2022-04-30T23:40:29.342Z"
      },
      {
        "duration": 17,
        "start_time": "2022-04-30T23:40:29.359Z"
      },
      {
        "duration": 153,
        "start_time": "2022-04-30T23:40:29.378Z"
      },
      {
        "duration": 4,
        "start_time": "2022-04-30T23:40:29.534Z"
      },
      {
        "duration": 16,
        "start_time": "2022-04-30T23:40:29.540Z"
      },
      {
        "duration": 176182,
        "start_time": "2022-04-30T23:40:29.558Z"
      },
      {
        "duration": 0,
        "start_time": "2022-04-30T23:43:25.741Z"
      },
      {
        "duration": 0,
        "start_time": "2022-04-30T23:43:25.743Z"
      },
      {
        "duration": 0,
        "start_time": "2022-04-30T23:43:25.744Z"
      },
      {
        "duration": 0,
        "start_time": "2022-04-30T23:43:25.745Z"
      },
      {
        "duration": 0,
        "start_time": "2022-04-30T23:43:25.747Z"
      },
      {
        "duration": 0,
        "start_time": "2022-04-30T23:43:25.748Z"
      },
      {
        "duration": 0,
        "start_time": "2022-04-30T23:43:25.749Z"
      },
      {
        "duration": 0,
        "start_time": "2022-04-30T23:43:25.750Z"
      },
      {
        "duration": 0,
        "start_time": "2022-04-30T23:43:25.752Z"
      },
      {
        "duration": 0,
        "start_time": "2022-04-30T23:43:25.753Z"
      },
      {
        "duration": 0,
        "start_time": "2022-04-30T23:43:25.753Z"
      },
      {
        "duration": 0,
        "start_time": "2022-04-30T23:43:25.755Z"
      },
      {
        "duration": 457,
        "start_time": "2022-04-30T23:43:34.749Z"
      },
      {
        "duration": 39,
        "start_time": "2022-04-30T23:44:07.823Z"
      },
      {
        "duration": 5,
        "start_time": "2022-04-30T23:44:22.225Z"
      },
      {
        "duration": 40,
        "start_time": "2022-04-30T23:44:29.394Z"
      },
      {
        "duration": 4,
        "start_time": "2022-04-30T23:46:59.642Z"
      },
      {
        "duration": 2,
        "start_time": "2022-04-30T23:48:32.016Z"
      },
      {
        "duration": 2,
        "start_time": "2022-04-30T23:48:47.438Z"
      },
      {
        "duration": 762,
        "start_time": "2022-04-30T23:48:59.370Z"
      },
      {
        "duration": 8,
        "start_time": "2022-04-30T23:49:03.164Z"
      },
      {
        "duration": 3,
        "start_time": "2022-04-30T23:49:22.356Z"
      },
      {
        "duration": 764,
        "start_time": "2022-04-30T23:49:28.677Z"
      },
      {
        "duration": 9,
        "start_time": "2022-04-30T23:49:30.813Z"
      },
      {
        "duration": 8,
        "start_time": "2022-04-30T23:49:35.853Z"
      },
      {
        "duration": 9,
        "start_time": "2022-04-30T23:49:48.315Z"
      },
      {
        "duration": 8,
        "start_time": "2022-04-30T23:50:00.343Z"
      },
      {
        "duration": 749,
        "start_time": "2022-04-30T23:50:16.354Z"
      },
      {
        "duration": 8,
        "start_time": "2022-04-30T23:50:18.534Z"
      },
      {
        "duration": 8,
        "start_time": "2022-04-30T23:51:20.470Z"
      },
      {
        "duration": 1132,
        "start_time": "2022-04-30T23:51:23.533Z"
      },
      {
        "duration": 9,
        "start_time": "2022-04-30T23:51:26.481Z"
      },
      {
        "duration": 242,
        "start_time": "2022-04-30T23:51:29.246Z"
      },
      {
        "duration": 1334,
        "start_time": "2022-04-30T23:51:32.996Z"
      },
      {
        "duration": 9,
        "start_time": "2022-04-30T23:51:37.701Z"
      },
      {
        "duration": 37,
        "start_time": "2022-04-30T23:51:42.237Z"
      },
      {
        "duration": 4,
        "start_time": "2022-04-30T23:51:44.724Z"
      },
      {
        "duration": 630788,
        "start_time": "2022-04-30T23:51:47.898Z"
      },
      {
        "duration": 0,
        "start_time": "2022-05-01T00:02:18.688Z"
      },
      {
        "duration": 3,
        "start_time": "2022-05-01T00:03:05.495Z"
      },
      {
        "duration": 725,
        "start_time": "2022-05-01T00:03:15.117Z"
      },
      {
        "duration": 781,
        "start_time": "2022-05-01T00:03:18.871Z"
      },
      {
        "duration": 3,
        "start_time": "2022-05-01T00:03:19.657Z"
      },
      {
        "duration": 16,
        "start_time": "2022-05-01T00:03:19.661Z"
      },
      {
        "duration": 17,
        "start_time": "2022-05-01T00:03:19.679Z"
      },
      {
        "duration": 6,
        "start_time": "2022-05-01T00:03:19.697Z"
      },
      {
        "duration": 9,
        "start_time": "2022-05-01T00:03:19.705Z"
      },
      {
        "duration": 5,
        "start_time": "2022-05-01T00:03:19.716Z"
      },
      {
        "duration": 5,
        "start_time": "2022-05-01T00:03:19.722Z"
      },
      {
        "duration": 129,
        "start_time": "2022-05-01T00:03:19.729Z"
      },
      {
        "duration": 5,
        "start_time": "2022-05-01T00:03:19.860Z"
      },
      {
        "duration": 4,
        "start_time": "2022-05-01T00:03:19.873Z"
      },
      {
        "duration": 7,
        "start_time": "2022-05-01T00:03:19.878Z"
      },
      {
        "duration": 23,
        "start_time": "2022-05-01T00:03:19.887Z"
      },
      {
        "duration": 0,
        "start_time": "2022-05-01T00:03:19.912Z"
      },
      {
        "duration": 0,
        "start_time": "2022-05-01T00:03:19.914Z"
      },
      {
        "duration": 0,
        "start_time": "2022-05-01T00:03:19.915Z"
      },
      {
        "duration": 0,
        "start_time": "2022-05-01T00:03:19.917Z"
      },
      {
        "duration": 0,
        "start_time": "2022-05-01T00:03:19.918Z"
      },
      {
        "duration": 0,
        "start_time": "2022-05-01T00:03:19.920Z"
      },
      {
        "duration": 0,
        "start_time": "2022-05-01T00:03:19.921Z"
      },
      {
        "duration": 0,
        "start_time": "2022-05-01T00:03:19.922Z"
      },
      {
        "duration": 0,
        "start_time": "2022-05-01T00:03:19.923Z"
      },
      {
        "duration": 0,
        "start_time": "2022-05-01T00:03:19.925Z"
      },
      {
        "duration": 0,
        "start_time": "2022-05-01T00:03:19.927Z"
      },
      {
        "duration": 0,
        "start_time": "2022-05-01T00:03:19.928Z"
      },
      {
        "duration": 0,
        "start_time": "2022-05-01T00:03:19.929Z"
      },
      {
        "duration": 0,
        "start_time": "2022-05-01T00:03:19.931Z"
      },
      {
        "duration": 50,
        "start_time": "2022-05-01T00:03:39.768Z"
      },
      {
        "duration": 31,
        "start_time": "2022-05-01T00:03:46.347Z"
      },
      {
        "duration": 9,
        "start_time": "2022-05-01T00:03:55.936Z"
      },
      {
        "duration": 45,
        "start_time": "2022-05-01T00:03:55.947Z"
      },
      {
        "duration": 7,
        "start_time": "2022-05-01T00:03:55.994Z"
      },
      {
        "duration": 17,
        "start_time": "2022-05-01T00:03:56.003Z"
      },
      {
        "duration": 62,
        "start_time": "2022-05-01T00:03:56.022Z"
      },
      {
        "duration": 3,
        "start_time": "2022-05-01T00:03:56.087Z"
      },
      {
        "duration": 5,
        "start_time": "2022-05-01T00:03:56.092Z"
      },
      {
        "duration": 5,
        "start_time": "2022-05-01T00:03:56.099Z"
      },
      {
        "duration": 38138,
        "start_time": "2022-05-01T00:03:56.106Z"
      },
      {
        "duration": 0,
        "start_time": "2022-05-01T00:04:34.246Z"
      },
      {
        "duration": 0,
        "start_time": "2022-05-01T00:04:34.247Z"
      },
      {
        "duration": 0,
        "start_time": "2022-05-01T00:04:34.248Z"
      },
      {
        "duration": 51722,
        "start_time": "2022-05-01T00:04:35.977Z"
      },
      {
        "duration": 0,
        "start_time": "2022-05-01T00:05:27.701Z"
      },
      {
        "duration": 0,
        "start_time": "2022-05-01T00:05:27.704Z"
      },
      {
        "duration": 0,
        "start_time": "2022-05-01T00:05:27.706Z"
      },
      {
        "duration": 782,
        "start_time": "2022-05-01T00:05:29.124Z"
      },
      {
        "duration": 0,
        "start_time": "2022-05-01T00:11:13.424Z"
      },
      {
        "duration": 109374,
        "start_time": "2022-05-01T00:11:16.094Z"
      },
      {
        "duration": 6041,
        "start_time": "2022-05-01T00:14:11.950Z"
      },
      {
        "duration": 2739,
        "start_time": "2022-05-01T00:16:33.376Z"
      },
      {
        "duration": 4,
        "start_time": "2022-05-01T00:17:07.166Z"
      },
      {
        "duration": 2540,
        "start_time": "2022-05-01T00:17:09.106Z"
      },
      {
        "duration": 4,
        "start_time": "2022-05-01T00:20:40.711Z"
      },
      {
        "duration": 4,
        "start_time": "2022-05-01T00:22:19.815Z"
      },
      {
        "duration": 3,
        "start_time": "2022-05-01T00:23:15.891Z"
      },
      {
        "duration": 3,
        "start_time": "2022-05-01T00:25:43.298Z"
      },
      {
        "duration": 810,
        "start_time": "2022-05-01T00:25:43.303Z"
      },
      {
        "duration": 2,
        "start_time": "2022-05-01T00:25:44.116Z"
      },
      {
        "duration": 13,
        "start_time": "2022-05-01T00:25:44.120Z"
      },
      {
        "duration": 17,
        "start_time": "2022-05-01T00:25:44.135Z"
      },
      {
        "duration": 20,
        "start_time": "2022-05-01T00:25:44.154Z"
      },
      {
        "duration": 14,
        "start_time": "2022-05-01T00:25:44.175Z"
      },
      {
        "duration": 9,
        "start_time": "2022-05-01T00:25:44.191Z"
      },
      {
        "duration": 6,
        "start_time": "2022-05-01T00:25:44.203Z"
      },
      {
        "duration": 119,
        "start_time": "2022-05-01T00:25:44.210Z"
      },
      {
        "duration": 5,
        "start_time": "2022-05-01T00:25:44.331Z"
      },
      {
        "duration": 6,
        "start_time": "2022-05-01T00:25:44.338Z"
      },
      {
        "duration": 28,
        "start_time": "2022-05-01T00:25:44.345Z"
      },
      {
        "duration": 17,
        "start_time": "2022-05-01T00:25:44.375Z"
      },
      {
        "duration": 46,
        "start_time": "2022-05-01T00:25:44.394Z"
      },
      {
        "duration": 32,
        "start_time": "2022-05-01T00:25:44.442Z"
      },
      {
        "duration": 11,
        "start_time": "2022-05-01T00:25:44.476Z"
      },
      {
        "duration": 45,
        "start_time": "2022-05-01T00:25:44.488Z"
      },
      {
        "duration": 7,
        "start_time": "2022-05-01T00:25:44.535Z"
      },
      {
        "duration": 14,
        "start_time": "2022-05-01T00:25:44.543Z"
      },
      {
        "duration": 53,
        "start_time": "2022-05-01T00:25:44.573Z"
      },
      {
        "duration": 3,
        "start_time": "2022-05-01T00:25:44.628Z"
      },
      {
        "duration": 1419,
        "start_time": "2022-05-01T00:25:44.633Z"
      },
      {
        "duration": 3,
        "start_time": "2022-05-01T00:25:46.054Z"
      },
      {
        "duration": 9,
        "start_time": "2022-05-01T00:25:46.059Z"
      },
      {
        "duration": 477,
        "start_time": "2022-05-01T00:25:46.073Z"
      },
      {
        "duration": 0,
        "start_time": "2022-05-01T00:25:46.552Z"
      },
      {
        "duration": 0,
        "start_time": "2022-05-01T00:25:46.553Z"
      },
      {
        "duration": 0,
        "start_time": "2022-05-01T00:25:46.555Z"
      },
      {
        "duration": 39925,
        "start_time": "2022-05-01T00:27:11.105Z"
      },
      {
        "duration": 54168,
        "start_time": "2022-05-01T00:27:52.866Z"
      },
      {
        "duration": 68944,
        "start_time": "2022-05-01T00:29:01.237Z"
      },
      {
        "duration": 0,
        "start_time": "2022-05-01T00:30:10.183Z"
      }
    ],
    "colab": {
      "name": "18 вставить ссылку.ipynb",
      "provenance": [],
      "toc_visible": true,
      "machine_shape": "hm",
      "include_colab_link": true
    },
    "kernelspec": {
      "display_name": "Python 3",
      "language": "python",
      "name": "python3"
    },
    "language_info": {
      "codemirror_mode": {
        "name": "ipython",
        "version": 3
      },
      "file_extension": ".py",
      "mimetype": "text/x-python",
      "name": "python",
      "nbconvert_exporter": "python",
      "pygments_lexer": "ipython3",
      "version": "3.8.8"
    },
    "toc": {
      "base_numbering": 1,
      "nav_menu": {},
      "number_sections": true,
      "sideBar": true,
      "skip_h1_title": true,
      "title_cell": "Содержание",
      "title_sidebar": "Contents",
      "toc_cell": true,
      "toc_position": {
        "height": "calc(100% - 180px)",
        "left": "10px",
        "top": "150px",
        "width": "165px"
      },
      "toc_section_display": true,
      "toc_window_display": true
    },
    "accelerator": "GPU"
  },
  "nbformat": 4,
  "nbformat_minor": 0
}